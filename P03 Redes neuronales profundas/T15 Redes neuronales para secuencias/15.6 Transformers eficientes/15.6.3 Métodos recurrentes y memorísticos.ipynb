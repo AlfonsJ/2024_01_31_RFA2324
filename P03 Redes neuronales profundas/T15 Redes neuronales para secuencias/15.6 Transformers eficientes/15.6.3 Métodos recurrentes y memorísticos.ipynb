{
 "cells": [
  {
   "cell_type": "markdown",
   "metadata": {},
   "source": [
    "# 15.6.3 Métodos recurrentes y memorísticos\n",
    "\n",
    "**Memorísticos:** $\\;$ introducen un módulo de memoria adicional, usualmente un algoritmo de **memoria global,** que puede acceder a varios tokens simultáneamente\n",
    "\n",
    "**Recurrence methods:** $\\;$ conectan bloques locales diferentes mediante una recurrencia\n",
    "\n",
    "**Transformer-XL:** $\\;$ clase de métodos recurrentes destacada"
   ]
  }
 ],
 "metadata": {
  "language_info": {
   "name": "python"
  },
  "orig_nbformat": 4
 },
 "nbformat": 4,
 "nbformat_minor": 2
}
