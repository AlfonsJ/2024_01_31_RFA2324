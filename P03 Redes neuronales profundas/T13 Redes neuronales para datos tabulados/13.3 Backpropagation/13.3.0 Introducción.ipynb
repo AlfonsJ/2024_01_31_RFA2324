{
 "cells": [
  {
   "cell_type": "markdown",
   "metadata": {},
   "source": [
    "# 13.3.0 Introducción\n",
    "\n",
    "**Algoritmo backpropagation (backprop):** $\\;$ calcula el gradiente de la pérdida con respecto a los parámetros de cada capa\n",
    "* Descubierto por Bryson y Ho (1969), re-descubierto por Werbos (1974); y popularizado por Rumelhart, Hinton y Williams (1986)\n",
    "* El gradiente calculado se pasa a un algoritmo de optimización\n",
    "\n",
    "**Diferenciación automática:** $\\;$ versión general de backprop aplicable a **grafos computación** arbitrarios\n",
    "* backprop es diferenciación automática para una cadena lineal simple de capas"
   ]
  }
 ],
 "metadata": {
  "kernelspec": {
   "display_name": "Python 3",
   "language": "python",
   "name": "python3"
  },
  "language_info": {
   "codemirror_mode": {
    "name": "ipython",
    "version": 3
   },
   "file_extension": ".py",
   "mimetype": "text/x-python",
   "name": "python",
   "nbconvert_exporter": "python",
   "pygments_lexer": "ipython3",
   "version": "3.10.6"
  },
  "orig_nbformat": 4
 },
 "nbformat": 4,
 "nbformat_minor": 2
}
