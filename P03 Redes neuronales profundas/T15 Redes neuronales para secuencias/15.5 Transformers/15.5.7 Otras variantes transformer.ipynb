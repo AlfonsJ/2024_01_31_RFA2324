{
 "cells": [
  {
   "cell_type": "markdown",
   "metadata": {},
   "source": [
    "# 15.5.7 Otras variantes transformer\n",
    "\n",
    "**Scaling Giant Models with Conditional Computation and Automatic Sharding (GShard):**\n",
    "* Como su nombre indica, permite escalar modelos gigantes mediante computación condicional y fragmentado automático\n",
    "* Reemplaza las capas densas hacia adelante por un módulo de regresión basado en una mixtura de expertos\n",
    "\n",
    "**Convolution-augmented Transformer for Speech Recognition (Conformer):** $\\;$ añade capas convolucionales dentro de la arquitectura transformer\n",
    "\n",
    "**SOTA:** $\\;$ ver [Transformers de Hugging Face](https://huggingface.co/docs/transformers) y [paperswithcode](https://paperswithcode.com)"
   ]
  }
 ],
 "metadata": {
  "language_info": {
   "name": "python"
  },
  "orig_nbformat": 4
 },
 "nbformat": 4,
 "nbformat_minor": 2
}
