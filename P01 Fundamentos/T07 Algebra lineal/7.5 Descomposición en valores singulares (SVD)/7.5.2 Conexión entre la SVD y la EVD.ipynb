{
 "cells": [
  {
   "attachments": {},
   "cell_type": "markdown",
   "metadata": {},
   "source": [
    "## Conexión entre la SVD y la EVD\n",
    "\n",
    "Si $\\mathbf{A}$ es una matriz cuadrada, real, simétrica y definida positiva, se cumple que:\n",
    "* Los valores singulares son los valores propios\n",
    "* Los vectores singulares izquierdos y derechos son los vectores propios (salvo cambios de signo):\n",
    "$$\\;\\mathbf{A}=\\mathbf{U}\\mathbf{S}\\mathbf{V}^t=\\mathbf{U}\\mathbf{S}\\mathbf{U}^t=\\mathbf{U}\\mathbf{S}\\mathbf{U}^{-1}$$"
   ]
  },
  {
   "attachments": {},
   "cell_type": "markdown",
   "metadata": {},
   "source": [
    "**Ejemplo:** $\\;\\mathbf{X}^t=\\begin{bmatrix}-1&0&2&3\\\\-1&2&0&3\\end{bmatrix}$"
   ]
  },
  {
   "cell_type": "code",
   "execution_count": 1,
   "metadata": {},
   "outputs": [
    {
     "name": "stdout",
     "output_type": "stream",
     "text": [
      "EVD:\n",
      " [4. 1.] \n",
      " [[ 0.70710678 -0.70710678]\n",
      " [ 0.70710678  0.70710678]] \n",
      "\n",
      "SVD:\n",
      " [[-0.70710678 -0.70710678]\n",
      " [-0.70710678  0.70710678]] \n",
      " [4. 1.] \n",
      " [[-0.70710678 -0.70710678]\n",
      " [-0.70710678  0.70710678]]\n"
     ]
    }
   ],
   "source": [
    "import numpy as np\n",
    "\n",
    "X = np.array([ [-1, -1], [0, 2], [2, 0], [3, 3] ])\n",
    "A = np.cov(X.T, bias=True)\n",
    "L, E = np.linalg.eigh(A)\n",
    "i = L.argsort()[::-1]; L = L[i]; E = E[:,i]\n",
    "print(\"EVD:\\n\", L, \"\\n\", E, \"\\n\")\n",
    "U, S, Vt = np.linalg.svd(A)\n",
    "print(\"SVD:\\n\", U, \"\\n\", S, \"\\n\", Vt)"
   ]
  }
 ],
 "metadata": {
  "kernelspec": {
   "display_name": "Python 3",
   "language": "python",
   "name": "python3"
  },
  "language_info": {
   "codemirror_mode": {
    "name": "ipython",
    "version": 3
   },
   "file_extension": ".py",
   "mimetype": "text/x-python",
   "name": "python",
   "nbconvert_exporter": "python",
   "pygments_lexer": "ipython3",
   "version": "3.10.6"
  },
  "orig_nbformat": 4
 },
 "nbformat": 4,
 "nbformat_minor": 2
}
