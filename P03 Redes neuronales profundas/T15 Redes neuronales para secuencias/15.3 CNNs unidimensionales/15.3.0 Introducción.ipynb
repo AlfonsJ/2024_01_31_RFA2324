{
 "cells": [
  {
   "cell_type": "markdown",
   "metadata": {},
   "source": [
    "# 15.3.0 Introducción\n",
    "\n",
    "* Las CNNs calculan una función de entorno local para cada entrada usando pesos ligados, y devuelven una salida\n",
    "* Aunque las CNNs se suelen usar en 2d para visión, también pueden aplicarse en 1d para secuencias\n",
    "* Las CNNs constituyen una alternativa a las RNNs, más fáciles de entrenar pues no deben mantener memoria long-term\n"
   ]
  }
 ],
 "metadata": {
  "language_info": {
   "name": "python"
  },
  "orig_nbformat": 4
 },
 "nbformat": 4,
 "nbformat_minor": 2
}
