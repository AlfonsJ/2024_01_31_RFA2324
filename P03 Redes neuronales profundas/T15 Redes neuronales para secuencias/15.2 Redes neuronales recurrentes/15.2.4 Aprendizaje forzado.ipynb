{
 "cells": [
  {
   "cell_type": "markdown",
   "metadata": {},
   "source": [
    "# 15.2.4 Aprendizaje forzado\n",
    "\n",
    "**Entrenamiento de un modelo de lenguaje:** $\\;$ máxima verosimilitud de cada secuencia de palabras $w_1,w_2,\\dotsc,w_T$\n",
    "$$p(\\boldsymbol{w}_{1:T})=\\prod_{t=1}^Tp(w_t\\mid\\boldsymbol{w}_{1:t-1})$$\n",
    "\n",
    "**Aprendizaje forzado con una RNN:** $\\;$ fija la entrada a $x_t=w_{t-1}$ y la salida a $y_t=w_t$, tomando como etiquetas del pasado, $\\boldsymbol{w}_{1:t-1}$, la **ground truth** en lugar de etiquetas generadas por el modelo\n",
    "* En la práctica no da buenos resultados en inferencia\n",
    "\n",
    "**Alternativas al aprendizaje forzado con una RNN:** $\\;$ \n",
    "* **Scheduled sampling:** $\\;$ aprendizaje forzado incluyendo muestras del modelo aleatoriamente, con probabilidad creciente\n",
    "* **Uso de otros modelos:** $\\;$ CNNs 1d y transformers"
   ]
  }
 ],
 "metadata": {
  "language_info": {
   "name": "python"
  },
  "orig_nbformat": 4
 },
 "nbformat": 4,
 "nbformat_minor": 2
}
