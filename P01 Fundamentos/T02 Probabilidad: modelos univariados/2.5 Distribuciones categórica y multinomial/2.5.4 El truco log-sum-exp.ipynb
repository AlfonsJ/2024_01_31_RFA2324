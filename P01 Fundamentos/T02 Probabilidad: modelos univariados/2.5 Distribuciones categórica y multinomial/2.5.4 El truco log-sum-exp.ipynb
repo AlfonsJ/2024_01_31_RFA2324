{
 "cells": [
  {
   "attachments": {},
   "cell_type": "markdown",
   "metadata": {},
   "source": [
    "# El truco log-sum-exp\n",
    "\n",
    "La log-sum-exp calcula de manera robusta el logaritmo de la suma de logits $\\boldsymbol{a}\\in\\mathbb{R}^C$:\n",
    "$$\\operatorname{lse}(\\boldsymbol{a})%\n",
    "=\\log\\sum_{c=1}^C \\exp(a_c)%\n",
    "=\\max_{c'} a_{c'}+\\log\\sum_{c=1}^C \\exp(a_c-\\max_{c'} a_{c'})$$"
   ]
  },
  {
   "cell_type": "code",
   "execution_count": 3,
   "metadata": {},
   "outputs": [
    {
     "name": "stdout",
     "output_type": "stream",
     "text": [
      "1.5514447139320509 1.551444713932051\n",
      "inf 1001.551444713932\n",
      "-inf -998.448555286068\n"
     ]
    },
    {
     "name": "stderr",
     "output_type": "stream",
     "text": [
      "/tmp/ipykernel_150522/703808950.py:9: RuntimeWarning: overflow encountered in exp\n",
      "  print(np.log(np.sum(np.exp(a))), logsumexp(a))\n",
      "/tmp/ipykernel_150522/703808950.py:12: RuntimeWarning: divide by zero encountered in log\n",
      "  print(np.log(np.sum(np.exp(a))), logsumexp(a))\n"
     ]
    }
   ],
   "source": [
    "import numpy as np\n",
    "from scipy.special import logsumexp\n",
    "a = 1.0 * np.array([0, 1, 0])\n",
    "print(np.log(np.sum(np.exp(a))), logsumexp(a))\n",
    "a = 1.0 * np.array([1000, 1001, 1000])\n",
    "print(np.log(np.sum(np.exp(a))), logsumexp(a))\n",
    "a = 1.0 * np.array([-1000, -999, -1000])\n",
    "print(np.log(np.sum(np.exp(a))), logsumexp(a))"
   ]
  },
  {
   "attachments": {},
   "cell_type": "markdown",
   "metadata": {},
   "source": [
    "La log-sum-exp permite calcular de manera robusta las probabilidades de una categórica (o multinomial) a partir de los logits,\n",
    "$$p(y=c\\mid\\boldsymbol{x})%\n",
    "=\\frac{\\exp(a_c)}{\\sum_{c'=1}^C \\exp(a_{c'})}%\n",
    "=\\exp\\left(\\log(\\exp(a_c))-\\log\\sum_{c'=1}^C \\exp(a_{c'})\\right)%\n",
    "=\\exp(a_c-\\operatorname{lse}(\\boldsymbol{a}))$$"
   ]
  }
 ],
 "metadata": {
  "kernelspec": {
   "display_name": "Python 3",
   "language": "python",
   "name": "python3"
  },
  "language_info": {
   "codemirror_mode": {
    "name": "ipython",
    "version": 3
   },
   "file_extension": ".py",
   "mimetype": "text/x-python",
   "name": "python",
   "nbconvert_exporter": "python",
   "pygments_lexer": "ipython3",
   "version": "3.10.6"
  },
  "orig_nbformat": 4,
  "vscode": {
   "interpreter": {
    "hash": "e7370f93d1d0cde622a1f8e1c04877d8463912d04d973331ad4851f04de6915a"
   }
  }
 },
 "nbformat": 4,
 "nbformat_minor": 2
}
