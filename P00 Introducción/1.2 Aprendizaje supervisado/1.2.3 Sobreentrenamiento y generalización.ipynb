{
 "cells": [
  {
   "attachments": {},
   "cell_type": "markdown",
   "metadata": {},
   "source": [
    "# 1.2.3 Sobre-entrenamiento y generalización\n",
    "\n",
    "Decimos que se produce **sobre-entrenamiento** de un modelo cuando su riesgo con respecto a los datos de entrenamiento es mucho menor que el mismo con respecto a datos no usados en entrenamiento. En general, todo modelo suficientemente flexible (complejo) tiende a sobre-entrenarse. Por un lado, tenemos el riesgo con respecto a los datos de entrenamiento:\n",
    "$$\\mathcal{L}(\\boldsymbol{\\theta};\\mathcal{D}_{\\text{train}})%\n",
    "=\\frac{1}{\\lvert\\mathcal{D}_{\\text{train}}\\rvert}%\n",
    "\\sum_ {(\\boldsymbol{x},\\boldsymbol{y})\\in\\mathcal{D}_{\\text{train}}} %\n",
    "\\ell(\\boldsymbol{y},f(\\boldsymbol{x};\\boldsymbol{\\theta}))$$\n",
    "Por otro lado, tenemos el **riesgo teórico (poblacional):**\n",
    "$$\\mathcal{L}(\\boldsymbol{\\theta}; p^*)%\n",
    "=\\mathbb{E}_{p^*(\\boldsymbol{x},\\boldsymbol{y})}[\\ell(\\boldsymbol{y},f(\\boldsymbol{x};\\boldsymbol{\\theta}))]$$\n",
    "donde $p^*(\\boldsymbol{x},\\boldsymbol{y})$ es la distribución conjunta real de $\\boldsymbol{x}$ e $\\boldsymbol{y}$. \n",
    "Aunque no conocemos $p^*$, podemos aproximar el riesgo teórico mediante un **conjunto de test,** esto es, de datos no usados en entrenamiento (por ejemplo, previamente separados de $\\mathcal{D}_{\\text{train}}$):\n",
    "$$\\mathcal{L}(\\boldsymbol{\\theta};\\mathcal{D}_{\\text{test}})%\n",
    "=\\frac{1}{\\lvert\\mathcal{D}_{\\text{train}}\\rvert}%\n",
    "\\sum_ {(\\boldsymbol{x},\\boldsymbol{y})\\in\\mathcal{D}_{\\text{test}}} %\n",
    "\\ell(\\boldsymbol{y},f(\\boldsymbol{x};\\boldsymbol{\\theta}))$$\n",
    "y estimar el **gap de generalización** como la diferencia entre el riesgo en test y entrenamiento, $\\mathcal{L}(\\boldsymbol{\\theta};\\mathcal{D}_{\\text{test}})-\\mathcal{L}(\\boldsymbol{\\theta};\\mathcal{D}_{\\text{train}})$. El estudio de este gap permite descartar modelos **subjustados** (demasiado sencillos) y, sobre todo, **sobreajustados** (demasiado complejos)."
   ]
  },
  {
   "attachments": {},
   "cell_type": "markdown",
   "metadata": {},
   "source": [
    "**Ejemplo (cont.):** regresión polinómica simple con datos sintéticos; MSE en training y test en función del grado\n",
    "$$p(y\\mid x,\\boldsymbol\\theta)%\n",
    "=\\mathcal{N}(y\\mid \\mu, \\sigma^2)\n",
    "\\quad\\text{con}\\quad x\\in[0, 20],\\quad\\mu=f(x)=-1.5\\,x + 1/9\\,x^2\\quad\\text{y}\\quad\\sigma^2=4$$"
   ]
  },
  {
   "cell_type": "code",
   "execution_count": 1,
   "metadata": {},
   "outputs": [
    {
     "data": {
      "image/png": "[encoded data removed]",
      "text/plain": [
       "<Figure size 432x288 with 1 Axes>"
      ]
     },
     "metadata": {
      "needs_background": "light"
     },
     "output_type": "display_data"
    }
   ],
   "source": [
    "import numpy as np\n",
    "import matplotlib.pyplot as plt\n",
    "np.random.seed(0); N = 21; w = np.array([-1.5, 1/9.]); sigma = 2\n",
    "X_train = np.linspace(0.0, 20, N)\n",
    "M = 210 # datos de test sintetizados\n",
    "X_test = np.linspace(0.0, 20, M)\n",
    "X = np.concatenate((X_train, X_test))\n",
    "y_mean = np.dot(w[0], X) + np.dot(w[1], np.square(X))\n",
    "y = y_mean + np.random.normal(0, sigma, N + M)\n",
    "X1 = np.ones((N + M, 1)); y_train = y[:N]; y_test = y[N:]\n",
    "G = 10; gg = np.arange(1, G + 1); mse = np.zeros((G + 1, 2))\n",
    "for g in gg:\n",
    "    X1 = np.hstack((X1, pow(X, g).reshape(-1, 1)))\n",
    "    X_train = X1[:N]; X_test = X1[N:]\n",
    "    w = np.linalg.lstsq(X_train, y_train, rcond=None)[0]\n",
    "    mse[g, 0] = np.square(y_train - X_train @ w).sum() / N\n",
    "    mse[g, 1] = np.square(y_test - X_test @ w).sum() / M\n",
    "plt.plot(gg, mse[1:, 0], color='b', marker='s', label='train')\n",
    "plt.plot(gg, mse[1:, 1], color='r', marker='x', label='test'); plt.legend();"
   ]
  },
  {
   "attachments": {},
   "cell_type": "markdown",
   "metadata": {},
   "source": [
    "En la práctica, la selección de un modelo adecuado no se hace con el test, sino con una fracción distinta del training que llamamos **conjunto de validación.**"
   ]
  }
 ],
 "metadata": {
  "kernelspec": {
   "display_name": "Python 3",
   "language": "python",
   "name": "python3"
  },
  "language_info": {
   "codemirror_mode": {
    "name": "ipython",
    "version": 3
   },
   "file_extension": ".py",
   "mimetype": "text/x-python",
   "name": "python",
   "nbconvert_exporter": "python",
   "pygments_lexer": "ipython3",
   "version": "3.10.6"
  },
  "orig_nbformat": 4,
  "vscode": {
   "interpreter": {
    "hash": "e7370f93d1d0cde622a1f8e1c04877d8463912d04d973331ad4851f04de6915a"
   }
  }
 },
 "nbformat": 4,
 "nbformat_minor": 2
}
