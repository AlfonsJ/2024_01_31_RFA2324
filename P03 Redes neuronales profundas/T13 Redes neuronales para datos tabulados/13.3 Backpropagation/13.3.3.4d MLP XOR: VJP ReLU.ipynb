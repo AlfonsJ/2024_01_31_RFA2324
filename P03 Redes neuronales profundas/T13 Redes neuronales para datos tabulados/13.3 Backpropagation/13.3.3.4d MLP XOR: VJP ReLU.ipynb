{
 "cells": [
  {
   "cell_type": "markdown",
   "metadata": {},
   "source": [
    "# 13.3.3.4d MLP XOR: ReLU"
   ]
  },
  {
   "cell_type": "markdown",
   "metadata": {},
   "source": [
    "**Jacobiana con respecto a $\\boldsymbol{z}$:** $\\quad\\displaystyle\\mathbf{J}_{\\boldsymbol{h}}(\\boldsymbol{z})=\\operatorname{diag}(\\varphi'(\\boldsymbol{z}))$\n",
    "\n",
    "**VJP de $\\boldsymbol{h}\\,(\\operatorname{ReLU})$ con respecto a $\\boldsymbol{z}$:** $\\qquad\\underbrace{\\mathbf{J}_{\\boldsymbol{h}}(\\boldsymbol{z})}_{m_2\\times m_1};\\;m_2=m_1=2$"
   ]
  },
  {
   "cell_type": "code",
   "execution_count": 4,
   "metadata": {},
   "outputs": [
    {
     "name": "stdout",
     "output_type": "stream",
     "text": [
      "Jz = [[0. 1.], [0. 1.], [0. 1.], [1. 1.]]\n"
     ]
    }
   ],
   "source": [
    "import numpy as np; np.set_printoptions(precision=4)\n",
    "z = np.array([[-1., 0.5], [0., 1.5], [0., 1.5], [1., 2.5]])\n",
    "Jz = np.heaviside(z, 0.0); print('Jz =', str(Jz).replace('\\n',','))"
   ]
  }
 ],
 "metadata": {
  "kernelspec": {
   "display_name": "Python 3",
   "language": "python",
   "name": "python3"
  },
  "language_info": {
   "codemirror_mode": {
    "name": "ipython",
    "version": 3
   },
   "file_extension": ".py",
   "mimetype": "text/x-python",
   "name": "python",
   "nbconvert_exporter": "python",
   "pygments_lexer": "ipython3",
   "version": "3.10.6"
  },
  "orig_nbformat": 4
 },
 "nbformat": 4,
 "nbformat_minor": 2
}
