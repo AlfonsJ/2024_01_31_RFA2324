{
 "cells": [
  {
   "cell_type": "markdown",
   "metadata": {},
   "source": [
    "# 7.8.9.3 Ejemplos"
   ]
  },
  {
   "cell_type": "markdown",
   "metadata": {},
   "source": [
    "## Entropía cruzada (tras softmax)\n",
    "\n",
    "**Entropía cruzada:** $\\;$ toma logits $\\boldsymbol{a}\\in\\mathbb{R}^{C}$ y etiquetas (one-hot) $\\boldsymbol{y}\\in\\{0,1\\}^C$; devuelve un escalar\n",
    "$$\\mathcal{L}=\\operatorname{CrossEntropy}(\\boldsymbol{y},\\boldsymbol{a})=-\\sum_cy_c\\log \\hat{y}_c%\n",
    "\\qquad\\text{con}\\qquad%\n",
    "\\hat{y}_c=\\mathcal{S}(\\boldsymbol{a})_c=\\dfrac{\\exp(a_c)}{\\sum_{c'}\\exp(a_{c'})}$$\n",
    "\n",
    "**Simplificación:** $\\;$ si $\\,\\displaystyle\\boldsymbol{y}=\\operatorname{one-hot}(c):\\;\\mathcal{L}=-\\log(\\hat{y}_c)=-\\log\\biggl[\\frac{\\exp(a_c)}{\\sum_j\\exp(a_j)}\\biggr]=\\log\\biggl[\\sum\\nolimits_j\\exp(a_j)\\biggr]-a_c$\n",
    "\n",
    "$\\displaystyle\\frac{\\partial\\mathcal{L}}{\\partial\\boldsymbol{a}}=\\begin{bmatrix}\\dfrac{\\partial\\mathcal{L}}{\\partial a_1}&\\cdots&\\dfrac{\\partial\\mathcal{L}}{\\partial a_C}\\end{bmatrix}\\in\\mathbb{R}^{1\\times C}=(\\hat{\\boldsymbol{y}}-\\boldsymbol{y})^t\\in\\mathbb{R}^{1\\times C}$\n",
    "* Para todo $i$: $\\quad\\displaystyle\\frac{\\partial \\mathcal{L}}{\\partial a_i}=\\frac{\\partial}{\\partial a_i}\\log\\sum_j\\exp(a_j)-\\frac{\\partial}{\\partial a_i}a_c=\\frac{\\exp(a_i)}{\\sum_j\\exp(a_j)}-\\mathbb{I}(i=c)=\\hat{y}_i-\\mathbb{I}(i=c)$\n"
   ]
  },
  {
   "cell_type": "markdown",
   "metadata": {},
   "source": [
    "## Transformación elemental\n",
    "\n",
    "**Transformación elemental:** $\\;$ dado $\\,\\boldsymbol{x}\\in\\mathbb{R}^{n},\\,$ obtiene $\\,\\boldsymbol{y}=(\\varphi(x_1),\\dotsc,\\varphi(x_n))\\in\\mathbb{R}^{n}\\,$ con $\\,\\varphi:\\mathbb{R}\\to\\mathbb{R}\\,$ derivable\n",
    "\n",
    "$\\displaystyle\\frac{\\partial\\boldsymbol{y}}{\\partial\\boldsymbol{x}}=\\begin{bmatrix}\\dfrac{\\partial y_1}{\\partial\\boldsymbol{x}}\\\\[1mm]\\vdots\\\\\\dfrac{\\partial y_n}{\\partial\\boldsymbol{x}}\\end{bmatrix}=\\begin{bmatrix}\\dfrac{\\partial y_1}{\\partial x_1}&\\cdots&\\dfrac{\\partial y_1}{\\partial x_n}\\\\[1mm]\\vdots&\\ddots&\\vdots\\\\\\dfrac{\\partial y_n}{\\partial x_1}&\\cdots&\\dfrac{\\partial y_n}{\\partial x_n}\\end{bmatrix}=\\begin{bmatrix}\\dfrac{\\partial\\varphi(x_1)}{\\partial x_1}&\\cdots&\\dfrac{\\partial\\varphi(x_1)}{\\partial x_n}\\\\[1mm]\\vdots&\\ddots&\\vdots\\\\\\dfrac{\\partial\\varphi(x_n)}{\\partial x_1}&\\cdots&\\dfrac{\\partial\\varphi(x_n)}{\\partial x_n}\\end{bmatrix}=\\operatorname{diag}(\\varphi'(x_1),\\dotsc,\\varphi'(x_n))\\in\\mathbb{R}^{n\\times n}$\n",
    "\n",
    "**Ejemplos:** $\\quad\\displaystyle\\varphi(x)=x\\;\\Rightarrow\\;\\frac{\\partial\\boldsymbol{y}}{\\partial\\boldsymbol{x}}=\\mathbf{I}_{n}\\qquad\\varphi(x)=\\operatorname{ReLU}(x)=\\max(x,0)\\;\\Rightarrow\\;\\frac{\\partial\\boldsymbol{y}}{\\partial\\boldsymbol{x}}=\\operatorname{diag}(\\mathbb{I}(x_1>0),\\dotsc,\\mathbb{I}(x_n>0))$"
   ]
  },
  {
   "cell_type": "markdown",
   "metadata": {},
   "source": [
    "## Transformación lineal\n",
    "\n",
    "**Transformación lineal:** $\\;$ dado $\\,\\boldsymbol{x}\\in\\mathbb{R}^{n},\\,$ obtiene $\\,\\boldsymbol{y}=\\mathbf{W}\\boldsymbol{x}\\in\\mathbb{R}^m\\,$ con $\\,\\mathbf{W}\\in\\mathbb{R}^{m\\times n}$\n",
    "\n",
    "$\\displaystyle\\frac{\\partial\\boldsymbol{y}}{\\partial\\boldsymbol{x}}=\\begin{bmatrix}\\dfrac{\\partial y_1}{\\partial\\boldsymbol{x}}\\\\[1mm]\\vdots\\\\\\dfrac{\\partial y_m}{\\partial\\boldsymbol{x}}\\end{bmatrix}=\\begin{bmatrix}\\dfrac{\\partial y_1}{\\partial x_1}&\\cdots&\\dfrac{\\partial y_1}{\\partial x_n}\\\\[1mm]\\vdots&\\ddots&\\vdots\\\\\\dfrac{\\partial y_m}{\\partial x_1}&\\cdots&\\dfrac{\\partial y_m}{\\partial x_n}\\end{bmatrix}=\\mathbf{W}\\quad$ pues $\\;\\displaystyle\\dfrac{\\partial y_i}{\\partial x_j}=\\dfrac{\\partial}{\\partial x_j}\\sum_l W_{il}x_l=\\sum_l W_{il}\\dfrac{\\partial x_l}{\\partial x_j}=W_{ij}$\n",
    "\n",
    "$\\displaystyle\\frac{\\partial\\boldsymbol{y}}{\\partial W_{ij}}=\\begin{bmatrix}\\dfrac{\\partial y_1}{\\partial W_{ij}}\\\\[1mm]\\vdots\\\\\\dfrac{\\partial y_m}{\\partial W_{ij}}\\end{bmatrix}=\\operatorname{one-hot}(i)\\,x_j\\quad$ pues $\\;\\displaystyle\\dfrac{\\partial y_k}{\\partial W_{ij}}=\\dfrac{\\partial}{\\partial W_{ij}}\\sum_l W_{kl}x_l=\\sum_l x_l\\dfrac{\\partial W_{kl}}{\\partial W_{ij}}=x_j\\mathbb{I}(i=k)$\n",
    "\n",
    "$\\displaystyle\\frac{\\partial\\boldsymbol{y}}{\\partial\\mathbf{W}}=\\begin{bmatrix}\\dfrac{\\partial y_1}{\\partial\\mathbf{W}}\\\\[1mm]\\vdots\\\\\\dfrac{\\partial y_m}{\\partial\\mathbf{W}}\\end{bmatrix}\\in\\mathbb{R}^{m\\times (n\\times m)}\\quad$ tensor con $\\;\\displaystyle\\dfrac{\\partial y_k}{\\partial\\mathbf{W}}=\\begin{bmatrix}\\dfrac{\\partial y_k}{\\partial W_{11}}&\\cdots&\\dfrac{\\partial y_k}{\\partial W_{m1}}\\\\[1mm]\\vdots&\\ddots&\\vdots\\\\\\dfrac{\\partial y_k}{\\partial W_{1n}}&\\cdots&\\dfrac{\\partial y_k}{\\partial W_{mn}}\\end{bmatrix}\\in\\mathbb{R}^{n\\times m}$\n",
    "\n",
    "**Productor vector-Jacobiana (VJP):** $\\;$ sea $\\,\\boldsymbol{u}\\in\\mathbb{R}^m$\n",
    "\n",
    "$\\displaystyle\\boldsymbol{u}^t\\frac{\\partial\\boldsymbol{y}}{\\partial\\mathbf{W}}=\\sum_{k=1}^m u_k\\dfrac{\\partial y_k}{\\partial\\mathbf{W}}=\\begin{bmatrix}\\sum_ku_k\\dfrac{\\partial y_k}{\\partial W_{11}}&\\cdots&\\sum_ku_k\\dfrac{\\partial y_k}{\\partial W_{m1}}\\\\[1mm]\\vdots&\\ddots&\\vdots\\\\\\sum_ku_k\\dfrac{\\partial y_k}{\\partial W_{1n}}&\\cdots&\\sum_ku_k\\dfrac{\\partial y_k}{\\partial W_{mn}}\\end{bmatrix}=\\begin{bmatrix}u_1x_1&\\cdots&u_mx_1\\\\[1mm]\\vdots&\\ddots&\\vdots\\\\u_1x_n&\\cdots&u_mx_n\\end{bmatrix}=\\boldsymbol{x}\\boldsymbol{u}^t$"
   ]
  }
 ],
 "metadata": {
  "language_info": {
   "name": "python"
  },
  "orig_nbformat": 4
 },
 "nbformat": 4,
 "nbformat_minor": 2
}
