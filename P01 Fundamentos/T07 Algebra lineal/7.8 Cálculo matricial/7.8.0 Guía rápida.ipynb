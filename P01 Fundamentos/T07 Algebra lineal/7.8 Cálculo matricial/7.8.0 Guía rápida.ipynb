{
 "cells": [
  {
   "cell_type": "markdown",
   "metadata": {},
   "source": [
    "# 7.8.0 Guía rápida\n",
    "\n",
    "**Cálculo vectorial:** $\\;$ análisis real multivariable de vectores en dos o más dimensiones\n",
    "\n",
    "**Cálculo matricial:** $\\;$ notación especializada para manejar derivadas parciales de una única función con respecto a muchas variables, o de una función multivariable con respecto a una única variable\n",
    "\n",
    "**Tipos de derivadas matriciales:** $\\;x, y\\in\\mathbb{R}^{1\\times 1},\\,\\boldsymbol{x}\\in\\mathbb{R}^{n\\times 1},\\,\\boldsymbol{y}\\in\\mathbb{R}^{m\\times 1},\\,\\mathbf{X}\\in\\mathbb{R}^{p\\times q},\\,\\mathbf{Y}\\in\\mathbb{R}^{m\\times n}$\n",
    "\n",
    "<center>\n",
    "\n",
    "|Tipos|Escalar|Vector|Matriz|\n",
    "|:-|:-:|:-:|:-:|\n",
    "|**Escalar**|$\\dfrac{\\partial y}{\\partial x}$|$\\dfrac{\\partial\\boldsymbol{y}}{\\partial x}=\\begin{bmatrix}\\dfrac{\\partial y_1}{\\partial x}\\\\[1mm]\\dfrac{\\partial y_2}{\\partial x}\\\\\\vdots\\\\\\dfrac{\\partial y_m}{\\partial x}\\end{bmatrix}$|$\\dfrac{\\partial\\mathbf{Y}}{\\partial x}=\\begin{bmatrix}\\dfrac{\\partial y_{11}}{\\partial x}&\\dfrac{\\partial y_{12}}{\\partial x}&\\cdots&\\dfrac{\\partial y_{1n}}{\\partial x}\\\\[1mm]\\dfrac{\\partial y_{21}}{\\partial x}&\\dfrac{\\partial y_{22}}{\\partial x}&\\cdots&\\dfrac{\\partial y_{2n}}{\\partial x}\\\\[1mm]\\vdots&\\vdots&\\ddots&\\vdots\\\\\\dfrac{\\partial y_{m1}}{\\partial x}&\\dfrac{\\partial y_{m2}}{\\partial x}&\\cdots&\\dfrac{\\partial y_{mn}}{\\partial x}\\end{bmatrix}$|\n",
    "|**Vector**|$\\dfrac{\\partial y}{\\partial\\boldsymbol{x}}=\\begin{bmatrix}\\dfrac{\\partial y}{\\partial x_1}&\\dfrac{\\partial y}{\\partial x_2}&\\cdots&\\dfrac{\\partial y}{\\partial x_n}\\end{bmatrix}$|$\\dfrac{\\partial\\boldsymbol{y}}{\\partial\\boldsymbol{x}}=\\begin{bmatrix}\\dfrac{\\partial y_1}{\\partial x_1}&\\dfrac{\\partial y_1}{\\partial x_2}&\\cdots&\\dfrac{\\partial y_1}{\\partial x_n}\\\\[1mm]\\dfrac{\\partial y_2}{\\partial x_1}&\\dfrac{\\partial y_2}{\\partial x_2}&\\cdots&\\dfrac{\\partial y_2}{\\partial x_n}\\\\[1mm]\\vdots&\\vdots&\\ddots&\\vdots\\\\\\dfrac{\\partial y_m}{\\partial x_1}&\\dfrac{\\partial y_m}{\\partial x_2}&\\cdots&\\dfrac{\\partial y_m}{\\partial x_n}\\end{bmatrix}$||\n",
    "|**Matriz**|$\\dfrac{\\partial y}{\\partial\\mathbf{X}}=\\begin{bmatrix}\\dfrac{\\partial y}{\\partial x_{11}}&\\dfrac{\\partial y}{\\partial x_{21}}&\\cdots&\\dfrac{\\partial y}{\\partial x_{p1}}\\\\[1mm]\\dfrac{\\partial y}{\\partial x_{12}}&\\dfrac{\\partial y}{\\partial x_{22}}&\\cdots&\\dfrac{\\partial y}{\\partial x_{p2}}\\\\[1mm]\\vdots&\\vdots&\\ddots&\\vdots\\\\\\dfrac{\\partial y}{\\partial x_{1q}}&\\dfrac{\\partial y}{\\partial x_{2q}}&\\cdots&\\dfrac{\\partial y}{\\partial x_{pq}}\\end{bmatrix}$|||\n",
    "\n",
    "</center>\n"
   ]
  },
  {
   "cell_type": "markdown",
   "metadata": {},
   "source": [
    "\n",
    "Ver entrada sobre [cálculo matricial en Wikipedia](https://en.wikipedia.org/wiki/Matrix_calculus) para más detalles"
   ]
  }
 ],
 "metadata": {
  "language_info": {
   "name": "python"
  },
  "orig_nbformat": 4
 },
 "nbformat": 4,
 "nbformat_minor": 2
}
