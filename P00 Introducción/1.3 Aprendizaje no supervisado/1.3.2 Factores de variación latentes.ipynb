{
 "cells": [
  {
   "attachments": {},
   "cell_type": "markdown",
   "metadata": {},
   "source": [
    "# 1.3.2 Descubriendo \"factores de variación\" latentes\n",
    "\n",
    "**Reducción de la dimensión:** $\\;$ cuando trabajamos con datos de alta dimensión, por lo general resulta útil reducirla mediante una proyección en un espacio de dimensión reducida que capture la \"esencia\" de los datos\n",
    "\n",
    "**Factores latentes:** $\\;$ asumimos que cada observación $\\boldsymbol{x}_n\\in\\mathbb{R}^D$ se genera a partir de $K\\ll D$, factores latentes ocultos, $\\boldsymbol{z}_n\\in\\mathbb{R}^K$\n",
    "* Como los factores latentes $\\boldsymbol{z}_n$ no se conocen, adoptamos un modelo probabilístico sencillo para $p(\\boldsymbol{z}_n)$ como, por ejemplo, una Gaussiana\n",
    "\n",
    "**Análisis factorial:** $\\;$ modelo lineal similar a regresión lineal, salvo que solo observamos las salidas $\\boldsymbol{x}_n$; no las entradas $\\boldsymbol{z}_n$:\n",
    "$$p(\\boldsymbol{x}_n\\mid\\boldsymbol{z}_n;\\boldsymbol{\\theta})%\n",
    "=\\mathcal{N}(\\boldsymbol{x}_n\\mid \\mathbf{W}\\boldsymbol{z}_n+\\boldsymbol{\\mu},\\mathbf{\\Sigma})$$\n",
    "\n",
    "**Análisis de componentes principales probabilístico (PPCA):** $\\;$ análisis factorial particularizado a $\\mathbf{\\Sigma}$ proporcional a la identidad\n",
    "$$\\mathbf{\\Sigma}=\\sigma^2\\mathbf{I}%\n",
    "\\qquad\\text{cumpliéndose que}\\qquad%\n",
    "\\lim_{\\sigma^2\\to 0}\\operatorname{PPCA}(\\sigma^2)=\\operatorname{PCA}$$\n",
    "\n",
    "**Modelos no lineales:** $\\;$ el mapping de $\\boldsymbol{z}_n$ a $\\boldsymbol{x}_n$ puede generalizarse mediante un modelo no lineal $f(\\boldsymbol{z};\\boldsymbol{\\theta})$ como, por ejemplo, una DNN:\n",
    "$$p(\\boldsymbol{x}_n\\mid\\boldsymbol{z}_n;\\boldsymbol{\\theta})%\n",
    "=\\mathcal{N}(\\boldsymbol{x}_n\\mid f(\\boldsymbol{z};\\boldsymbol{\\theta}),\\sigma^2\\mathbf{I})$$\n",
    "* El aprendizaje de $\\boldsymbol{\\theta}$ no es sencillo ya que las entradas de la DNN deben inferirse\n",
    "* **Autoencoder variacional (VAE, variational autoencoder):** $\\;$ método aproximado muy popular"
   ]
  }
 ],
 "metadata": {
  "kernelspec": {
   "display_name": "Python 3",
   "language": "python",
   "name": "python3"
  },
  "language_info": {
   "codemirror_mode": {
    "name": "ipython",
    "version": 3
   },
   "file_extension": ".py",
   "mimetype": "text/x-python",
   "name": "python",
   "nbconvert_exporter": "python",
   "pygments_lexer": "ipython3",
   "version": "3.10.6"
  },
  "orig_nbformat": 4,
  "vscode": {
   "interpreter": {
    "hash": "e7370f93d1d0cde622a1f8e1c04877d8463912d04d973331ad4851f04de6915a"
   }
  }
 },
 "nbformat": 4,
 "nbformat_minor": 2
}
