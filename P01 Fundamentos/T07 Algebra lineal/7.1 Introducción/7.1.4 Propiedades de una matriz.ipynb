{
 "cells": [
  {
   "attachments": {},
   "cell_type": "markdown",
   "metadata": {},
   "source": [
    "# Propiedades de una matriz"
   ]
  },
  {
   "attachments": {},
   "cell_type": "markdown",
   "metadata": {},
   "source": [
    "## Traza de una matriz cuadrada\n",
    "\n",
    "**Traza de $\\mathbf{A}\\in\\mathbb{R}^{n\\times n}$:** $\\quad\\operatorname{tr}(\\mathbf{A})=\\sum_{i=1}^nA_{ii}$\n",
    "\n",
    "**Propiedades:** $\\quad c\\in\\mathbb{R}\\quad\\mathbf{A},\\mathbf{B}\\in\\mathbb{R}^{n\\times n}$\n",
    "$$\\begin{align*}\n",
    "\\operatorname{tr}(\\mathbf{A})&=\\operatorname{tr}(\\mathbf{A}^t)\\\\%\n",
    "\\operatorname{tr}(\\mathbf{A}+\\mathbf{B})&=\\operatorname{tr}(\\mathbf{A})+\\operatorname{tr}(\\mathbf{B})\\\\%\n",
    "\\operatorname{tr}(c\\mathbf{A})&=c\\operatorname{tr}(\\mathbf{A})\\\\%\n",
    "\\operatorname{tr}(\\mathbf{A}\\mathbf{B})&=\\operatorname{tr}(\\mathbf{B}\\mathbf{A})\\\\%\n",
    "\\operatorname{tr}(\\mathbf{A})&=\\sum_{i=1}^n\\lambda_i~~~(\\text{suma de valores propios})%\n",
    "\\end{align*}$$\n",
    "\n",
    "**Propiedad de la permutación cíclica:** $\\quad\\operatorname{tr}(\\mathbf{A}\\mathbf{B}\\mathbf{C})=\\operatorname{tr}(\\mathbf{B}\\mathbf{C}\\mathbf{A})=\\operatorname{tr}(\\mathbf{C}\\mathbf{A}\\mathbf{B})\\qquad\\mathbf{A}\\mathbf{B}\\mathbf{C}\\,$ cuadrada\n",
    "\n",
    "**Truco de la traza:** $\\quad\\boldsymbol{x}^t\\mathbf{A}\\boldsymbol{x}=\\operatorname{tr}(\\boldsymbol{x}^t\\mathbf{A}\\boldsymbol{x})=\\operatorname{tr}(\\boldsymbol{x}\\boldsymbol{x}^t\\mathbf{A})$\n",
    "\n",
    "**Estimador traza de Hutchinson:** $\\;$ aproximación Monte Carlo a $\\operatorname{tr}(\\mathbf{A})$ con vectores aleatorios $\\boldsymbol{v}$ tal que $\\mathbb{E}[\\boldsymbol{v}\\boldsymbol{v}^t]=\\mathbf{I}$\n",
    "$$\\operatorname{tr}(\\mathbf{A})=\\operatorname{tr}(\\mathbf{A}\\mathbb{E}[\\boldsymbol{v}\\boldsymbol{v}^t])=\\mathbb{E}[\\operatorname{tr}(\\mathbf{A}\\boldsymbol{v}\\boldsymbol{v}^t)]=\\mathbb{E}[\\operatorname{tr}(\\boldsymbol{v}^t\\mathbf{A}\\boldsymbol{v})]%$$"
   ]
  },
  {
   "cell_type": "code",
   "execution_count": 1,
   "metadata": {},
   "outputs": [
    {
     "name": "stdout",
     "output_type": "stream",
     "text": [
      "4\n"
     ]
    }
   ],
   "source": [
    "import numpy as np\n",
    "A = np.array([[2, 1], [1, 2]])\n",
    "print(np.trace(A))"
   ]
  },
  {
   "attachments": {},
   "cell_type": "markdown",
   "metadata": {},
   "source": [
    "## Determinante de una matriz cuadrada\n",
    "\n",
    "**Determinante de $\\mathbf{A}\\in\\mathbb{R}^{n\\times n}$:** $\\;\\lvert{\\mathbf{A}}\\rvert$ mide cuánto cambia un volumen unitario viendo $\\mathbf{A}$ como una transformación lineal\n",
    "\n",
    "**Propiedades:** $\\quad\\mathbf{A},\\mathbf{B}\\in\\mathbb{R}^{n\\times n}$\n",
    "$$\\begin{align*}\n",
    "\\lvert{\\mathbf{A}}\\rvert&=\\lvert{\\mathbf{A}^t}\\rvert\\\\%\n",
    "\\lvert{c\\mathbf{A}}\\rvert&=c^n\\lvert{\\mathbf{A}}\\rvert\\\\%\n",
    "\\lvert{\\mathbf{A}\\mathbf{B}}\\rvert&=\\lvert{\\mathbf{A}}\\rvert\\lvert{\\mathbf{B}}\\rvert\\\\%\n",
    "\\lvert{\\mathbf{A}\\rvert}&=0\\quad\\text{sii $\\quad\\mathbf{A}$ es singular}\\\\%\n",
    "\\lvert{\\mathbf{A}^{-1}}\\rvert&=\\frac{1}{\\lvert{\\mathbf{A}}\\rvert}\\quad\\text{si $\\quad\\mathbf{A}$ es no singular}\\\\%\n",
    "\\lvert{\\mathbf{A}}\\rvert&=\\prod_{i=1}^n\\lambda_i\\qquad\\{\\lambda_i\\}\\;\\text{valores propios de $\\mathbf{A}$}%\n",
    "\\end{align*}$$\n",
    "\n",
    "Si $\\mathbf{A}$ es definida positiva, su **descomposición de Cholesky** es $\\mathbf{A}=\\mathbf{L}\\mathbf{L}^t$ con $\\mathbf{L}$ triangular inferior y:\n",
    "$$\\begin{align*}\n",
    "\\lvert{\\mathbf{A}}\\rvert%\n",
    "&=\\lvert{\\mathbf{L}}\\rvert\\lvert{\\mathbf{L}^t}\\rvert%\n",
    "=\\lvert{\\mathbf{L}}\\rvert^2=\\biggl(\\prod_iL_{ii}\\biggr)^2\\\\%\n",
    "\\log\\lvert{\\mathbf{A}}\\rvert=2\\log\\lvert{\\mathbf{L}}\\rvert%\n",
    "&=2\\log\\prod_iL_{ii}=2\\operatorname{tr}(\\log(\\operatorname{diag}(\\mathbf{L})))\n",
    "\\end{align*}$$\n",
    "\n",
    "\n"
   ]
  },
  {
   "cell_type": "code",
   "execution_count": 2,
   "metadata": {},
   "outputs": [
    {
     "name": "stdout",
     "output_type": "stream",
     "text": [
      "3\n"
     ]
    }
   ],
   "source": [
    "import numpy as np\n",
    "A = np.array([[2, 1], [1, 2]])\n",
    "print(round(np.linalg.det(A)))"
   ]
  },
  {
   "attachments": {},
   "cell_type": "markdown",
   "metadata": {},
   "source": [
    "## Rango de una matriz"
   ]
  },
  {
   "cell_type": "code",
   "execution_count": 4,
   "metadata": {},
   "outputs": [
    {
     "name": "stdout",
     "output_type": "stream",
     "text": [
      "4\n",
      "3\n",
      "1\n",
      "0\n"
     ]
    }
   ],
   "source": [
    "# %load '7.1.2.rank.py'\n",
    "import numpy as np\n",
    "A = np.eye(4)\n",
    "print(np.linalg.matrix_rank(A))\n",
    "A[-1, -1] = 0.\n",
    "print(np.linalg.matrix_rank(A))\n",
    "A = np.ones((4,))\n",
    "print(np.linalg.matrix_rank(A))\n",
    "A = np.zeros((4,))\n",
    "print(np.linalg.matrix_rank(A))\n"
   ]
  },
  {
   "cell_type": "code",
   "execution_count": null,
   "metadata": {},
   "outputs": [],
   "source": [
    "print(np.linalg.matrix_rank(A))\n",
    "print(round(np.linalg.cond(A)))\n"
   ]
  }
 ],
 "metadata": {
  "kernelspec": {
   "display_name": "Python 3",
   "language": "python",
   "name": "python3"
  },
  "language_info": {
   "codemirror_mode": {
    "name": "ipython",
    "version": 3
   },
   "file_extension": ".py",
   "mimetype": "text/x-python",
   "name": "python",
   "nbconvert_exporter": "python",
   "pygments_lexer": "ipython3",
   "version": "3.10.6"
  },
  "orig_nbformat": 4
 },
 "nbformat": 4,
 "nbformat_minor": 2
}
