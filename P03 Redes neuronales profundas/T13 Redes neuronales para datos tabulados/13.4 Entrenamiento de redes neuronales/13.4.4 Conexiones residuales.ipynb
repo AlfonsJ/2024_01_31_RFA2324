{
 "cells": [
  {
   "cell_type": "markdown",
   "metadata": {},
   "source": [
    "# 13.4.4 Conexiones residuales\n",
    "\n",
    "**Residual network (ResNet):** $\\;$ cada capa es un **bloque residual** $\\;\\mathcal{F}_l^\\prime=\\mathcal{F}_l(\\boldsymbol{x})+\\boldsymbol{x},\\;$ donde $\\mathcal{F}_l$ es una transformación no lineal estándar (afinidad, no-linealidad, afinidad) que halla el término residual o delta a añadir a la entrada (perturbada) para generar la salida deseada\n",
    "\n",
    "<div align=\"center\">\n",
    "\n",
    "<img src=\"Figure_13.17_A.png\" width=\"600\"/>\n",
    "\n",
    "</div>\n",
    "\n",
    "**Facilitan el entrenamiento sin añadir parámetros:** $\\;$ un modelo con conexiones residuales tiene el mismo número de parámetros que sin ellas, pero es más fácil de entrenar ya que los gradientes fluyen directamente de la salida a las primeras capas\n",
    "\n",
    "<div align=\"center\">\n",
    "\n",
    "<img src=\"Figure_13.17_B.png\" width=\"600\"/>\n",
    "\n",
    "</div>"
   ]
  },
  {
   "cell_type": "markdown",
   "metadata": {},
   "source": [
    "Formalmente, tenemos que las activaciones de la capa de salida pueden expresarse en función de las de cualquier capa previa $l$ como:\n",
    "$$\\boldsymbol{z}_L=\\boldsymbol{z}_l+\\sum_{i=l}^{L-1}\\mathcal{F}_i(\\boldsymbol{z}_i;\\boldsymbol{\\theta}_i)$$ \n",
    "de donde se deduce que el gradiente de la capa $l$ depende del de la capa $L$ directamente:\n",
    "$$\\frac{\\partial\\mathcal{L}}{\\partial\\boldsymbol{\\theta}_l}%\n",
    "=\\frac{\\partial\\boldsymbol{z}_l}{\\partial\\boldsymbol{\\theta}_l}%\n",
    "\\frac{\\partial\\mathcal{L}}{\\partial\\boldsymbol{z}_l}%\n",
    "=\\frac{\\partial\\boldsymbol{z}_l}{\\partial\\boldsymbol{\\theta}_l}%\n",
    "\\frac{\\partial\\mathcal{L}}{\\partial\\boldsymbol{z}_L}%\n",
    "\\frac{\\partial\\boldsymbol{z}_L}{\\partial\\boldsymbol{z}_l}%\n",
    "=\\frac{\\partial\\boldsymbol{z}_l}{\\partial\\boldsymbol{\\theta}_l}%\n",
    "\\frac{\\partial\\mathcal{L}}{\\partial\\boldsymbol{z}_L}\\left(\\mathbf{I}+\\sum_{i=l}^{L-1}\\frac{\\partial\\mathcal{F}_i(\\boldsymbol{z}_i;\\boldsymbol{\\theta}_i)}{\\partial\\boldsymbol{z}_l}\\right)%\n",
    "=\\frac{\\partial\\boldsymbol{z}_l}{\\partial\\boldsymbol{\\theta}_l}%\n",
    "\\frac{\\partial\\mathcal{L}}{\\partial\\boldsymbol{z}_L}+\\text{otros términos}$$\n"
   ]
  }
 ],
 "metadata": {
  "kernelspec": {
   "display_name": "Python 3",
   "language": "python",
   "name": "python3"
  },
  "language_info": {
   "codemirror_mode": {
    "name": "ipython",
    "version": 3
   },
   "file_extension": ".py",
   "mimetype": "text/x-python",
   "name": "python",
   "nbconvert_exporter": "python",
   "pygments_lexer": "ipython3",
   "version": "3.11.4"
  },
  "orig_nbformat": 4
 },
 "nbformat": 4,
 "nbformat_minor": 2
}
