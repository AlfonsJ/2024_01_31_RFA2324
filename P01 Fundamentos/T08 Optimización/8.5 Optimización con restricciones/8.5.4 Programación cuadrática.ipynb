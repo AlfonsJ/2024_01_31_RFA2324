{
 "cells": [
  {
   "cell_type": "markdown",
   "metadata": {},
   "source": [
    "# 8.5.4 Programación cuadrática\n",
    "\n",
    "**Programa cuadrático (QP):** $\\;$ minimización de un objetivo cuadrático sujeto a restricciones lineales de igualdad y desigualdad\n",
    "$$\\min_{\\boldsymbol{\\theta}}\\;\\frac{1}{2}\\,\\boldsymbol{\\theta}^t\\mathbf{H}\\boldsymbol{\\theta}+\\boldsymbol{c}^t\\boldsymbol{\\theta}%\n",
    "\\qquad\\text{sujeto a}\\quad%\n",
    "\\mathbf{A}\\boldsymbol{\\theta}\\leq\\boldsymbol{b},\\quad\\mathbf{A}_{\\text{eq}}\\boldsymbol{\\theta}=\\boldsymbol{b}_{\\text{eq}}$$\n",
    "\n",
    "**Convexidad:** $\\;$ si $\\,\\mathbf{H}\\succeq 0,\\,$ QP es un problema de optimización convexo\n",
    "\n",
    "**Aplicaciones en ML:** $\\;$ regresión lineal dispersa y SVMs"
   ]
  },
  {
   "cell_type": "markdown",
   "metadata": {},
   "source": [
    "## Ejemplo: objetivo cuadrático 2d con restricciones lineales de desigualdad\n",
    "\n",
    "**Objetivo:** $\\quad\\displaystyle\\mathcal{L}(\\boldsymbol{\\theta})=\\left(\\theta_1-\\frac{3}{2}\\right)^2+\\left(\\theta_2-\\frac{1}{8}\\right)^2=\\frac{1}{2}\\boldsymbol{\\theta}^t\\mathbf{H}\\boldsymbol{\\theta}+\\boldsymbol{c}^t\\boldsymbol{\\theta}+\\operatorname{const}\\qquad\\text{con}\\quad \\mathbf{H}=2\\mathbf{I}\\quad\\text{y}\\quad\\boldsymbol{c}=-(3,1/4)$\n",
    "\n",
    "<div><table border-collapse: collapse><tr>\n",
    "<td style=\"border: none; text-align:left; vertical-align:top; padding:0; margin:0;\" width=500>\n",
    "\n",
    "**Restricciones:** $\\quad \\lvert{\\theta_1}\\rvert+\\lvert{\\theta_2}\\rvert\\leq 1$\n",
    "$$\\begin{align*}\n",
    "g_1&:\\theta_1+\\theta_2\\leq 1\\\\%\n",
    "g_2&:\\theta_1-\\theta_2\\leq 1\\\\%\n",
    "g_3&:-\\theta_1+\\theta_2\\leq 1\\\\%\n",
    "g_4&:-\\theta_1-\\theta_2\\leq 1%\n",
    "\\end{align*}$$\n",
    "\n",
    "**Restricciones en forma estándar:**\n",
    "$$\\mathbf{A}\\boldsymbol{\\theta}-\\boldsymbol{b}\\leq\\boldsymbol{0}%\n",
    "\\quad\\text{con}\\quad%\n",
    "\\boldsymbol{b}=\\mathbf{1}%\n",
    "\\quad\\text{y}\\quad\\mathbf{A}=\\begin{pmatrix}1&1\\\\1&-1\\\\-1&1\\\\-1&-1\\\\\\end{pmatrix}$$\n",
    "\n",
    "</td>\n",
    "<td style=\"border: none; text-align:left; vertical-align:top; padding:0; margin:0;\" width=500>\n",
    "\n",
    "<center><img src=\"Figure_8.22_B.png\" width=500></center>\n",
    "\n",
    "</td></tr></table></div>\n",
    "\n",
    "**Condiciones KKT:**\n",
    "\n",
    "* **$g_3$ y $g_4$ inactivas por geometría del problema:** $\\quad g_3(\\boldsymbol{\\theta}^*)>0,\\;$ $g_4(\\boldsymbol{\\theta}^*)>0\\;$ y $\\;\\mu_3^*=\\mu_4^*=0\\;$ por complementariedad\n",
    "\n",
    "* **Estacionaridad:** $\\quad\\mathbf{H}\\boldsymbol{\\theta}+\\boldsymbol{c}+\\mathbf{A}^t\\boldsymbol{\\mu}=\\boldsymbol{0}$\n",
    "\n",
    "* **Estacionaridad ignorando inactivas:**\n",
    "$$\\begin{pmatrix}2&0&1&1\\\\0&2&1&-1\\\\1&1&0&0\\\\1&-1&0&0\\end{pmatrix}%\n",
    "\\begin{pmatrix}\\theta_1\\\\\\theta_2\\\\\\mu_1\\\\\\mu_2\\end{pmatrix}%\n",
    "=\\begin{pmatrix}3\\\\1/4\\\\1\\\\1\\end{pmatrix}$$\n",
    "\n",
    "* **Solución:** $\\quad\\boldsymbol{\\theta}^*=(1,0)^t\\qquad \\mu^*=(0.625,0.375,0,0)^t$"
   ]
  }
 ],
 "metadata": {
  "language_info": {
   "name": "python"
  },
  "orig_nbformat": 4
 },
 "nbformat": 4,
 "nbformat_minor": 2
}
