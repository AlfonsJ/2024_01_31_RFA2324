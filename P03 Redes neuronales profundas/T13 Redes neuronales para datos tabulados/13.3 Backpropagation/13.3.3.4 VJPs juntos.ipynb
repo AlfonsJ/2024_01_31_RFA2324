{
 "cells": [
  {
   "cell_type": "markdown",
   "metadata": {},
   "source": [
    "## 13.3.3.4 Todo junto\n",
    "\n",
    "**MLP con una capa oculta de $K$ unidades para clasificación en $C$ clases:**\n",
    "$$\\begin{align*}\n",
    "\\boldsymbol{x}&=\\text{entrada}\\in\\mathbb{R}^D\\\\%\n",
    "\\boldsymbol{z}&=\\mathbf{W}\\boldsymbol{x}+\\boldsymbol{b}_1\\in\\mathbb{R}^K%\n",
    "&&\\text{donde}\\quad\\mathbf{W}\\in\\mathbb{R}^{K\\times D}\\;\\text{y}\\;\\boldsymbol{b}_1\\in\\mathbb{R}^K\\\\%\n",
    "\\boldsymbol{h}&=\\operatorname{ReLU}(\\boldsymbol{z})\\in\\mathbb{R}^K\\\\%\n",
    "\\boldsymbol{a}&=\\mathbf{V}\\boldsymbol{h}+\\boldsymbol{b}_2\\in\\mathbb{R}^C%\n",
    "&&\\text{donde}\\quad\\mathbf{V}\\in\\mathbb{R}^{C\\times K}\\;\\text{y}\\;\\boldsymbol{b}_2\\in\\mathbb{R}^C\\\\%\n",
    "\\mathcal{L}&=\\operatorname{CrossEntropy}(\\boldsymbol{y},\\mathcal{S}(\\boldsymbol{a}))\\in\\mathbb{R}%\n",
    "\\end{align*}$$\n",
    "\n",
    "**Cálculo de gradientes:**\n",
    "$$\\begin{align*}\n",
    "\\boldsymbol{u}_2=\\boldsymbol{\\nabla}_{\\boldsymbol{a}}\\mathcal{L}%\n",
    "&=\\biggl(\\frac{\\partial\\mathcal{L}}{\\partial\\boldsymbol{a}}\\biggr)^t%\n",
    "=(\\boldsymbol{p}-\\boldsymbol{y})^t\\in\\mathbb{R}^{1\\times C}\\\\%\n",
    "\\boldsymbol{\\nabla}_{\\mathbf{V}}\\mathcal{L}%\n",
    "&=\\biggl[\\frac{\\partial\\mathcal{L}}{\\partial\\mathbf{V}}\\biggr]_{1,:}%\n",
    "=\\boldsymbol{u}_2\\boldsymbol{h}^t\\in\\mathbb{R}^{C\\times K}\\\\%\n",
    "\\boldsymbol{\\nabla}_{\\boldsymbol{b}_2}\\mathcal{L}%\n",
    "&=\\biggl(\\frac{\\partial\\mathcal{L}}{\\partial\\boldsymbol{b}_2}\\biggr)^t%\n",
    "=\\boldsymbol{u}_2\\in\\mathbb{R}^C\\\\%\n",
    "\\boldsymbol{u}_1=\\boldsymbol{\\nabla}_{\\boldsymbol{z}}\\mathcal{L}%\n",
    "&=\\biggl(\\frac{\\partial\\mathcal{L}}{\\partial\\boldsymbol{z}}\\biggr)^t%\n",
    "=(\\mathbf{V}^t\\boldsymbol{u}_2)\\odot H(\\boldsymbol{z})\\in\\mathbb{R}^K\\\\%\n",
    "\\boldsymbol{\\nabla}_{\\mathbf{W}}\\mathcal{L}%\n",
    "&=\\biggl[\\frac{\\partial\\mathcal{L}}{\\partial\\mathbf{W}}\\biggr]_{1,:}%\n",
    "=\\boldsymbol{u}_1\\boldsymbol{x}^t\\in\\mathbb{R}^{K\\times D}\\\\%\n",
    "\\boldsymbol{\\nabla}_{\\boldsymbol{b}_1}\\mathcal{L}%\n",
    "&=\\biggl(\\frac{\\partial\\mathcal{L}}{\\partial\\boldsymbol{b}_1}\\biggr)^t%\n",
    "=\\boldsymbol{u}_1\\in\\mathbb{R}^K\\\\%\n",
    "\\boldsymbol{\\nabla}_{\\boldsymbol{x}}\\mathcal{L}%\n",
    "&=\\biggl(\\frac{\\partial\\mathcal{L}}{\\partial\\boldsymbol{x}}\\biggr)^t%\n",
    "=\\mathbf{W}^t\\boldsymbol{u}_1\\in\\mathbb{R}^D%\n",
    "\\end{align*}$$"
   ]
  }
 ],
 "metadata": {
  "kernelspec": {
   "display_name": "Python 3",
   "language": "python",
   "name": "python3"
  },
  "language_info": {
   "codemirror_mode": {
    "name": "ipython",
    "version": 3
   },
   "file_extension": ".py",
   "mimetype": "text/x-python",
   "name": "python",
   "nbconvert_exporter": "python",
   "pygments_lexer": "ipython3",
   "version": "3.10.6"
  },
  "orig_nbformat": 4
 },
 "nbformat": 4,
 "nbformat_minor": 2
}
