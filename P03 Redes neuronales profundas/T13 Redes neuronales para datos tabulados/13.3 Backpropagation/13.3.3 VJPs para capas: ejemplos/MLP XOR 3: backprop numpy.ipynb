{
 "cells": [
  {
   "cell_type": "markdown",
   "metadata": {},
   "source": [
    "# MLP XOR: backprop numpy"
   ]
  },
  {
   "cell_type": "code",
   "execution_count": 1,
   "metadata": {},
   "outputs": [],
   "source": [
    "import numpy as np; np.set_printoptions(precision=4)\n",
    "X = np.array([[0, 0], [0, 1], [1, 0], [1, 1]])\n",
    "y = np.array([[1, 0], [0, 1], [0, 1], [1, 0]])\n",
    "W = np.array([[1, 1], [1, 1]]); b1 = np.array([-1,  .5])\n",
    "V = np.array([[1, -1], [-1, 1]]); b2 = np.array([ 1, -1])"
   ]
  },
  {
   "cell_type": "markdown",
   "metadata": {},
   "source": [
    "## Forward: $\\small\\quad\\boldsymbol{x}\\to\\boldsymbol{z}(\\mathbf{W},\\boldsymbol{b}_1)\\to\\boldsymbol{h}\\to\\boldsymbol{a}(\\mathbf{V},\\boldsymbol{b}_2)\\to\\mathcal{L}$"
   ]
  },
  {
   "cell_type": "code",
   "execution_count": 2,
   "metadata": {},
   "outputs": [
    {
     "name": "stdout",
     "output_type": "stream",
     "text": [
      "z = [[-1.   0.5], [ 0.   1.5], [ 0.   1.5], [ 1.   2.5]]\n",
      "h = [[0.  0.5], [0.  1.5], [0.  1.5], [1.  2.5]]\n",
      "a = [[ 0.5 -0.5], [-0.5  0.5], [-0.5  0.5], [-0.5  0.5]]\n",
      "y_pred = [[0.7311 0.2689], [0.2689 0.7311], [0.2689 0.7311], [0.2689 0.7311]]\n",
      "Ln = [[ 0.3133 -0.    ], [-0.      0.3133], [-0.      0.3133], [ 1.3133 -0.    ]] \n",
      "L = 0.5632616875182226\n"
     ]
    }
   ],
   "source": [
    "z = X @ W + b1; print('z =', str(z).replace('\\n',','))\n",
    "h = np.maximum(0, z); print('h =', str(h).replace('\\n',','))\n",
    "a = h @ V + b2; print('a =', str(a).replace('\\n',','))\n",
    "y_pred = np.exp(a); y_pred = np.transpose(y_pred.T / y_pred.sum(axis=1))\n",
    "print('y_pred =', str(y_pred).replace('\\n',','))\n",
    "Ln = -y * np.log(y_pred)\n",
    "print('Ln =', str(Ln).replace('\\n',','), '\\nL =', np.sum(Ln)/4.)"
   ]
  },
  {
   "cell_type": "markdown",
   "metadata": {},
   "source": [
    "## Backward $\\small\\quad\\mathcal{L}\\to\\boldsymbol{a}(\\mathbf{V},\\boldsymbol{b}_2)\\to\\boldsymbol{h}\\to\\boldsymbol{z}(\\mathbf{W},\\boldsymbol{b}_1)\\to\\boldsymbol{x}$"
   ]
  },
  {
   "cell_type": "code",
   "execution_count": 3,
   "metadata": {},
   "outputs": [
    {
     "name": "stdout",
     "output_type": "stream",
     "text": [
      "uJLa = [[-0.2689  0.2689]]\n",
      "gV = [[-0.     -0.1345], [ 0.      0.1345]]\n",
      "gb2 = [[-0.2689], [ 0.2689]]\n",
      "uJLaJah = [[-0.5379  0.5379]]\n",
      "Jhz = [[0. 0.], [0. 1.]]\n",
      "uJLaJahJhz = [[0.     0.5379]]\n",
      "gW = [[0. 0.], [0. 0.]]\n",
      "gb1 = [[0.    ], [0.5379]]\n",
      "uJLaJahJhzJzx = [[0.5379 0.5379]] \n",
      "\n"
     ]
    }
   ],
   "source": [
    "n = 0; ut = (y_pred[n] - y[n]).reshape(1, -1); print('uJLa =', str(ut).replace('\\n',','))\n",
    "gV = np.kron(h[n].reshape(1, -1), ut.T); print('gV =', str(gV).replace('\\n',','))\n",
    "gb2 = ut.T; print('gb2 =', str(gb2).replace('\\n',','))\n",
    "ut = ut @ V; print('uJLaJah =', str(ut).replace('\\n',','))\n",
    "Jhz = np.diag(np.heaviside(z[n], 0.0)); print('Jhz =', str(Jhz).replace('\\n',','))\n",
    "ut = ut @ Jhz; print('uJLaJahJhz =', str(ut).replace('\\n',','))\n",
    "gW = np.kron(X[n, :], ut.T); print('gW =', str(gW).replace('\\n',','))\n",
    "gb1 = ut.T; print('gb1 =', str(gb1).replace('\\n',','))\n",
    "ut = ut @ W; print('uJLaJahJhzJzx =', str(ut).replace('\\n',','), '\\n')"
   ]
  }
 ],
 "metadata": {
  "kernelspec": {
   "display_name": "Python 3",
   "language": "python",
   "name": "python3"
  },
  "language_info": {
   "codemirror_mode": {
    "name": "ipython",
    "version": 3
   },
   "file_extension": ".py",
   "mimetype": "text/x-python",
   "name": "python",
   "nbconvert_exporter": "python",
   "pygments_lexer": "ipython3",
   "version": "3.11.4"
  },
  "orig_nbformat": 4
 },
 "nbformat": 4,
 "nbformat_minor": 2
}
