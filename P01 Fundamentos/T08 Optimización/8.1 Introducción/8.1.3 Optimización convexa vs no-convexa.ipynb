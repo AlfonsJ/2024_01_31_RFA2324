{
 "cells": [
  {
   "attachments": {},
   "cell_type": "markdown",
   "metadata": {},
   "source": [
    "## Optimización convexa vs no-convexa\n",
    "\n",
    "**Optimización convexa** asume que el objetivo es una función convexa definida sobre un conjunto de soluciones convexo. Formalmente, $\\mathcal{S}$ es un **conjunto convexo** si, para todo par de puntos de $\\mathcal{S}$, todo punto del segmento lineal que los une también pertenece a $\\mathcal{S}$; esto es,\n",
    "$$\\lambda\\boldsymbol{x}+(1-\\lambda)\\boldsymbol{y}\\in\\mathcal{S}%\n",
    "\\quad\\text{para todo}\\;\\boldsymbol{x}, \\boldsymbol{y}\\in\\mathcal{S},\\;\\lambda\\in[0, 1]$$\n",
    "Por otro lado, $f$ es una **función convexa** si su epigrafo es conjunto convexo. Equivalentemente, $f$ es convexa si se define sobre un conjunto convexo $\\mathcal{S}$ y, para todo par de puntos $\\boldsymbol{x}, \\boldsymbol{y}\\in\\mathcal{S}$, todo punto de la cuerda que une $(\\boldsymbol{x},f(\\boldsymbol{x}))$ con $(\\boldsymbol{y},f(\\boldsymbol{y}))$ yace sobre $f$; esto es,\n",
    "$$f(\\lambda\\boldsymbol{x}+(1-\\lambda)\\boldsymbol{y})\\leq%\n",
    "\\lambda f(\\boldsymbol{x})+(1-\\lambda)f(\\boldsymbol{y})%\n",
    "\\quad\\text{para todo}\\;\\boldsymbol{x}, \\boldsymbol{y}\\in\\mathcal{S},\\;\\lambda\\in[0, 1]$$\n",
    "Un resultado muy importante es que toda función $f$ doblemente diferenciable en su dominio es convexa sii su Hessiana es semi-definida positiva en todo su dominio; intuitivamente, $f$ es convexa si tiene forma de bol. \n",
    "\n",
    "La caracterización de problemas convexos tiene gran interés pues garantizan que todo mínimo local también es global. Así pues, dado un problema de optimización, una de las primeras preguntas que conviene hacerse es si es convexo o no. Asimismo, dado un problema de aprendizaje para el que se quiere diseñar un modelo, también conviene preguntarse si podemos optar o no por un modelo resoluble mediante optimización convexa."
   ]
  }
 ],
 "metadata": {
  "kernelspec": {
   "display_name": "Python 3",
   "language": "python",
   "name": "python3"
  },
  "language_info": {
   "codemirror_mode": {
    "name": "ipython",
    "version": 3
   },
   "file_extension": ".py",
   "mimetype": "text/x-python",
   "name": "python",
   "nbconvert_exporter": "python",
   "pygments_lexer": "ipython3",
   "version": "3.10.6"
  },
  "orig_nbformat": 4
 },
 "nbformat": 4,
 "nbformat_minor": 2
}
