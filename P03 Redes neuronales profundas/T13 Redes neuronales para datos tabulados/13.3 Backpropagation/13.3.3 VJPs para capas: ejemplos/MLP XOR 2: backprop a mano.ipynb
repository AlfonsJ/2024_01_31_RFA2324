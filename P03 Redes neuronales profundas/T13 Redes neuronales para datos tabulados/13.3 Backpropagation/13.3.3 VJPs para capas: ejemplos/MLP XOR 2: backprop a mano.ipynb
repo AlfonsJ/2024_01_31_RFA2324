{
 "cells": [
  {
   "cell_type": "markdown",
   "metadata": {},
   "source": [
    "# MLP XOR: backprop a mano"
   ]
  },
  {
   "cell_type": "markdown",
   "metadata": {},
   "source": [
    "$$\\begin{align*}\n",
    "\\boldsymbol{x}&=(x_1,x_2)\\in\\{0, 1\\}^n%\n",
    "&&\\text{donde}\\quad n=2\\\\%\n",
    "\\boldsymbol{z}&=\\mathbf{W}\\boldsymbol{x}+\\boldsymbol{b}_1\\in\\mathbb{R}^{m_1}%\n",
    "&&\\text{donde}\\quad m_1=2,\\,\\mathbf{W}\\in\\mathbb{R}^{m_1\\times n}\\;\\text{y}\\;\\boldsymbol{b}_1\\in\\mathbb{R}^{m_1}\\\\%\n",
    "\\boldsymbol{h}&=\\operatorname{ReLU}(\\boldsymbol{z})\\in\\mathbb{R}^{m_2}%\n",
    "&&\\text{donde}\\quad m_2=2\\\\%\n",
    "\\boldsymbol{a}&=\\mathbf{V}\\boldsymbol{h}+\\boldsymbol{b}_2\\in\\mathbb{R}^{m_3}%\n",
    "&&\\text{donde}\\quad m_3=2,\\,\\mathbf{V}\\in\\mathbb{R}^{m_3\\times m_2}\\;\\text{y}\\;\\boldsymbol{b}_2\\in\\mathbb{R}^{m_3}\\\\%\n",
    "\\hat{\\boldsymbol{y}}&=\\mathcal{S}(\\boldsymbol{a})\\in[0,1]^{m_3}%\n",
    "&&\\text{probabilidades de las clases $0$ y $1$}\\\\%\n",
    "\\mathcal{L}&=\\operatorname{CrossEntropy}(\\boldsymbol{y},\\hat{\\boldsymbol{y}})\\in\\mathbb{R}%\n",
    "&&\\text{salida escalar}\\quad m=1%\n",
    "\\end{align*}$$\n",
    "\n",
    "$$\\mathbf{W}=\\begin{pmatrix}1&1\\\\1&1\\end{pmatrix}\\quad \\boldsymbol{b}_1=\\begin{pmatrix}-1\\\\0.5\\end{pmatrix}\\quad \\mathbf{V}=\\begin{pmatrix}1&-1\\\\-1&1\\end{pmatrix}\\quad\\boldsymbol{b}_2=\\begin{pmatrix}1\\\\-1\\end{pmatrix}$$"
   ]
  },
  {
   "cell_type": "markdown",
   "metadata": {},
   "source": [
    "## Forward: $\\small\\quad\\boldsymbol{x}\\to\\boldsymbol{z}(\\mathbf{W},\\boldsymbol{b}_1)\\to\\boldsymbol{h}\\to\\boldsymbol{a}(\\mathbf{V},\\boldsymbol{b}_2)\\to\\mathcal{L}$"
   ]
  },
  {
   "cell_type": "markdown",
   "metadata": {},
   "source": [
    "<div align=\"center\">\n",
    "\n",
    "|$x_1$|$x_2$|$\\boldsymbol{z}=\\mathbf{W}\\boldsymbol{x}+\\boldsymbol{b}_1$|$\\boldsymbol{h}=\\operatorname{ReLU}(\\boldsymbol{z})$|$\\boldsymbol{a}=\\mathbf{V}\\boldsymbol{h}+\\boldsymbol{b}_2$|$\\hat{\\boldsymbol{y}}=\\mathcal{S}(\\boldsymbol{a})$|$-\\boldsymbol{y}^t\\log(\\hat{\\boldsymbol{y}})$|\n",
    "|:-:|:-:|:-:|:-:|:-:|:-:|:-:|\n",
    "|$0$|$0$|$(-1, 0.5)^t$|$(0, 0.5)^t$|$(0.5, -0.5)^t$|$(0.7311, 0.2689)^t$|$(0.3133, 0)^t$|\n",
    "|$0$|$1$|$(0, 1.5)^t$ |$(0, 1.5)^t$|$(-0.5, 0.5)^t$|$(0.2689, 0.7311)^t$|$(0, 0.3133)^t$|\n",
    "|$1$|$0$|$(0, 1.5)^t$ |$(0, 1.5)^t$|$(-0.5, 0.5)^t$|$(0.2689, 0.7311)^t$|$(0, 0.3133)^t$|\n",
    "|$1$|$1$|$(1, 2.5)^t$ |$(1, 2.5)^t$|$(-0.5, 0.5)^t$|$(0.2689, 0.7311)^t$|$(1.3133, 0)^t$|\n",
    "\n",
    "</div>"
   ]
  },
  {
   "cell_type": "markdown",
   "metadata": {},
   "source": [
    "## Backward $\\small\\quad\\mathcal{L}\\to\\boldsymbol{a}(\\mathbf{V},\\boldsymbol{b}_2)\\to\\boldsymbol{h}\\to\\boldsymbol{z}(\\mathbf{W},\\boldsymbol{b}_1)\\to\\boldsymbol{x}$\n",
    "\n",
    "**Paso backward para $\\boldsymbol{x}=(0,0)^t$:** $\\qquad\\boldsymbol{u}_{K+1}=\\boldsymbol{1};\\qquad$**para** $\\;k=K:1:\\quad\\boldsymbol{g}_k=\\boldsymbol{u}_{k+1}^t\\dfrac{\\partial\\boldsymbol{f}(\\boldsymbol{x}_k,\\boldsymbol{\\theta}_k)}{\\partial\\boldsymbol{\\theta}_k}\\quad\\boldsymbol{u}_k^t=\\boldsymbol{u}_{k+1}^t\\dfrac{\\partial\\boldsymbol{f}(\\boldsymbol{x}_k,\\boldsymbol{\\theta}_k)}{\\partial\\boldsymbol{x}_k}$\n",
    "$$\\begin{align*}\n",
    "\\boldsymbol{u}^t%\n",
    "&=1^t\\frac{\\partial\\mathcal{L}}{\\partial\\boldsymbol{a}}%\n",
    "=(\\hat{\\boldsymbol{y}}-\\boldsymbol{y})^t=(0.7311, 0.2689)-(1, 0)=(-0.2689, 0.2689)\\\\%\n",
    "%\n",
    "\\frac{\\partial\\boldsymbol{a}}{\\partial\\mathbf{V}}%\n",
    "&=\\left[\\frac{\\partial a_1}{\\partial\\mathbf{V}}, \\frac{\\partial a_2}{\\partial\\mathbf{V}}\\right]^t%\n",
    "=\\left[\\begin{pmatrix}\\frac{\\partial a_1}{\\partial V_{11}}&\\frac{\\partial a_1}{\\partial V_{12}}\\\\%\n",
    "\\frac{\\partial a_1}{\\partial V_{21}}&\\frac{\\partial a_1}{\\partial V_{22}}\\end{pmatrix},\n",
    "\\begin{pmatrix}\\frac{\\partial a_2}{\\partial V_{11}}&\\frac{\\partial a_2}{\\partial V_{12}}\\\\%\n",
    "\\frac{\\partial a_2}{\\partial V_{21}}&\\frac{\\partial a_2}{\\partial V_{22}}\\end{pmatrix}\\right]^t%\n",
    "=\\left[\\begin{pmatrix}h_1&h_2\\\\0&0\\end{pmatrix},\\begin{pmatrix}0&0\\\\h_1&h_2\\end{pmatrix}\\right]^t\\\\\n",
    "%\n",
    "\\frac{\\partial\\boldsymbol{a}}{\\partial\\boldsymbol{b}_2}%\n",
    "&=\\left[\\frac{\\partial a_1}{\\partial\\boldsymbol{b}_2}, \\frac{\\partial a_2}{\\partial\\boldsymbol{b}_2}\\right]^t%\n",
    "=\\left[\\begin{pmatrix}\\frac{\\partial a_1}{\\partial b_{21}}\\\\\\frac{\\partial a_1}{\\partial b_{22}}\\end{pmatrix},\n",
    "\\begin{pmatrix}\\frac{\\partial a_2}{\\partial b_{21}}\\\\\\frac{\\partial a_2}{\\partial b_{22}}\\end{pmatrix}\\right]^t%\n",
    "=\\left[\\begin{pmatrix}1\\\\0\\end{pmatrix},\\begin{pmatrix}0\\\\1\\end{pmatrix}\\right]^t\\\\\n",
    "%\n",
    "\\boldsymbol{g}_{\\mathbf{V}}%\n",
    "&=\\boldsymbol{u}^t\\frac{\\partial\\boldsymbol{a}}{\\partial\\mathbf{V}}%\n",
    "=(-0.2689, 0.2689)\\left[\\begin{pmatrix}0&0.5\\\\0&0\\end{pmatrix},\\begin{pmatrix}0&0\\\\0&0.5\\end{pmatrix}\\right]^t%\n",
    "=\\begin{pmatrix}0&-0.1345\\\\0&0.1345\\end{pmatrix}\\\\%\n",
    "%\n",
    "\\boldsymbol{g}_{\\boldsymbol{b}_2}%\n",
    "&=\\boldsymbol{u}^t\\frac{\\partial\\boldsymbol{a}}{\\partial\\boldsymbol{b}_2}%\n",
    "=(-0.2689, 0.2689)\\left[\\begin{pmatrix}1\\\\0\\end{pmatrix},\\begin{pmatrix}0\\\\1\\end{pmatrix}\\right]^t%\n",
    "=\\begin{pmatrix}-0.2689\\\\0.2689\\end{pmatrix}\\\\%\n",
    "%\n",
    "\\boldsymbol{u}^t%\n",
    "&=\\boldsymbol{u}^t\\frac{\\partial\\boldsymbol{a}}{\\partial\\boldsymbol{h}}%\n",
    "=(-0.2689, 0.2689)\\mathbf{V}=(-0.5378, 0.5378)\\\\%\n",
    "%\n",
    "\\frac{\\partial\\boldsymbol{h}}{\\partial\\boldsymbol{z}}%\n",
    "&=\\operatorname{diag}(H(\\boldsymbol{z}))%\n",
    "=\\operatorname{diag}(H(-1), H(0.5))%\n",
    "=\\begin{pmatrix}0&0\\\\0&1\\end{pmatrix}\\\\%\n",
    "%\n",
    "\\boldsymbol{u}^t%\n",
    "&=\\boldsymbol{u}^t\\frac{\\partial\\boldsymbol{h}}{\\partial\\boldsymbol{z}}%\n",
    "=(-0.5378, 0.5378)\\begin{pmatrix}0&0\\\\0&1\\end{pmatrix}%\n",
    "=(0, 0.5378)\\\\%\n",
    "%\n",
    "\\frac{\\partial\\boldsymbol{z}}{\\partial\\mathbf{W}}%\n",
    "&=\\left[\\frac{\\partial z_1}{\\partial\\mathbf{W}}, \\frac{\\partial z_2}{\\partial\\mathbf{W}}\\right]^t%\n",
    "=\\left[\\begin{pmatrix}\\frac{\\partial z_1}{\\partial W_{11}}&\\frac{\\partial z_1}{\\partial W_{12}}\\\\%\n",
    "\\frac{\\partial z_1}{\\partial W_{21}}&\\frac{\\partial z_1}{\\partial W_{22}}\\end{pmatrix},\n",
    "\\begin{pmatrix}\\frac{\\partial z_2}{\\partial W_{11}}&\\frac{\\partial z_2}{\\partial W_{12}}\\\\%\n",
    "\\frac{\\partial z_2}{\\partial W_{21}}&\\frac{\\partial z_2}{\\partial W_{22}}\\end{pmatrix}\\right]^t%\n",
    "=\\left[\\begin{pmatrix}x_1&x_2\\\\0&0\\end{pmatrix},\\begin{pmatrix}0&0\\\\x_1&x_2\\end{pmatrix}\\right]^t\\\\%\n",
    "%\n",
    "\\frac{\\partial\\boldsymbol{z}}{\\partial\\boldsymbol{b}_1}%\n",
    "&=\\left[\\frac{\\partial z_1}{\\partial\\boldsymbol{b}_1}, \\frac{\\partial z_2}{\\partial\\boldsymbol{b}_1}\\right]^t%\n",
    "=\\left[\\begin{pmatrix}\\frac{\\partial z_1}{\\partial b_{11}}\\\\\\frac{\\partial z_1}{\\partial b_{12}}\\end{pmatrix},\n",
    "\\begin{pmatrix}\\frac{\\partial z_2}{\\partial b_{11}}\\\\\\frac{\\partial z_2}{\\partial b_{12}}\\end{pmatrix}\\right]^t%\n",
    "=\\left[\\begin{pmatrix}1\\\\0\\end{pmatrix},\\begin{pmatrix}0\\\\1\\end{pmatrix}\\right]^t\\\\%\n",
    "%\n",
    "\\boldsymbol{g}_{\\mathbf{W}}%\n",
    "&=\\boldsymbol{u}^t\\frac{\\partial\\boldsymbol{z}}{\\partial\\mathbf{W}}%\n",
    "=(0, 0.5378)\\left[\\begin{pmatrix}0&0\\\\0&0\\end{pmatrix},\\begin{pmatrix}0&0\\\\0&0\\end{pmatrix}\\right]^t%\n",
    "=\\begin{pmatrix}0&0\\\\0&0\\end{pmatrix}\\\\%\n",
    "%\n",
    "\\boldsymbol{g}_{\\boldsymbol{b}_1}%\n",
    "&=\\boldsymbol{u}^t\\frac{\\partial\\boldsymbol{z}}{\\partial\\boldsymbol{b}_1}%\n",
    "=(0, 0.5378)\\left[\\begin{pmatrix}1\\\\0\\end{pmatrix},\\begin{pmatrix}0\\\\1\\end{pmatrix}\\right]^t%\n",
    "=\\begin{pmatrix}0\\\\0.5378\\end{pmatrix}\\\\%\n",
    "%\n",
    "\\boldsymbol{u}^t%\n",
    "&=\\boldsymbol{u}^t\\frac{\\partial\\boldsymbol{z}}{\\partial\\boldsymbol{x}}%\n",
    "=(0, 0.5378)\\mathbf{W}=(0.5378, 0.5378)%\n",
    "\\end{align*}$$"
   ]
  }
 ],
 "metadata": {
  "kernelspec": {
   "display_name": "Python 3",
   "language": "python",
   "name": "python3"
  },
  "language_info": {
   "codemirror_mode": {
    "name": "ipython",
    "version": 3
   },
   "file_extension": ".py",
   "mimetype": "text/x-python",
   "name": "python",
   "nbconvert_exporter": "python",
   "pygments_lexer": "ipython3",
   "version": "3.11.4"
  },
  "orig_nbformat": 4
 },
 "nbformat": 4,
 "nbformat_minor": 2
}
