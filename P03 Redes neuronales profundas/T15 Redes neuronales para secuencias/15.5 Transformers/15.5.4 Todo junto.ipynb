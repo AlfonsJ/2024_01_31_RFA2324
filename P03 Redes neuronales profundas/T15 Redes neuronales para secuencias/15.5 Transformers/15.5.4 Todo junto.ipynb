{
 "cells": [
  {
   "cell_type": "markdown",
   "metadata": {},
   "source": [
    "# 15.5.4 Todo junto\n",
    "\n",
    "**Vanilla Transformer:** $\\;N=6\\,$ módulos MHA-FF en encoder y otros $\\,6\\,$ MHA-MHA-FF en decoder\n",
    "\n",
    "<div align=center><img src=\"Figure_15.26.png\" width=1000></td></tr></table></div>"
   ]
  }
 ],
 "metadata": {
  "language_info": {
   "name": "python"
  },
  "orig_nbformat": 4
 },
 "nbformat": 4,
 "nbformat_minor": 2
}
