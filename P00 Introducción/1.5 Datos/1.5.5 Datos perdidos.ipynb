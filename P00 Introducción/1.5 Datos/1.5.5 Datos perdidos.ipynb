{
 "cells": [
  {
   "attachments": {},
   "cell_type": "markdown",
   "metadata": {},
   "source": [
    "# 1.5.5 Datos perdidos\n",
    "\n",
    "**Mecanismos que producen datos perdidos:** $\\;$ condicionan el tratamiento de los mismos en una matriz de datos\n",
    "* **Missing completely at random (MCAR):** $\\;$ completamente al azar\n",
    "* **Missing at random (MAR):** $\\;$ condicionados por los observados\n",
    "* **Missing not at random (MNAR):** $\\;$ no aleatorios; dependientes tanto de observados como perdidos\n",
    "\n",
    "**MAR y MCAR más sencillos que MNAR:**\n",
    "* En MAR y MCAR podemos ignorar el mecanismo que origina los datos perdidos pues no aporta información relevante sobre sus valores\n",
    "* En MNAR conviene establecer un modelo del mecanismo pues la pérdida de datos está relacionada con sus posibles valores\n",
    "* Por simplicidad, en ML solemos asumir un mecanismo MAR o, más simplemente, MCAR\n",
    "\n",
    "**Eliminación de entradas con datos perdidos:** $\\;$ si se tienen pocas entradas con datos perdidos, la opción más sencilla es descartarlas\n",
    "\n",
    "**Imputación del valor medio:** $\\;$ el heurístico más común para completar (rellenar) un dato perdido consiste en imputar el valor medio de su característica correspondiente; este heurístico resulta especialmente apropiado en MCAR\n",
    "    \n",
    "**Modelos condicionales generativos:** $\\;$ podemos ajustar un modelo generativo a las entradas que capture correlaciones entre características y usarlo para completar los datos perdidos; esta técnica tiene interés en MAR, esto es, cuando los datos perdidos están correlacionados con los observados"
   ]
  }
 ],
 "metadata": {
  "kernelspec": {
   "display_name": "Python 3",
   "language": "python",
   "name": "python3"
  },
  "language_info": {
   "codemirror_mode": {
    "name": "ipython",
    "version": 3
   },
   "file_extension": ".py",
   "mimetype": "text/x-python",
   "name": "python",
   "nbconvert_exporter": "python",
   "pygments_lexer": "ipython3",
   "version": "3.10.6"
  },
  "orig_nbformat": 4,
  "vscode": {
   "interpreter": {
    "hash": "e7370f93d1d0cde622a1f8e1c04877d8463912d04d973331ad4851f04de6915a"
   }
  }
 },
 "nbformat": 4,
 "nbformat_minor": 2
}
