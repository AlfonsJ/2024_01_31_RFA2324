{
 "cells": [
  {
   "attachments": {},
   "cell_type": "markdown",
   "metadata": {},
   "source": [
    "# Multiplicación de matrices"
   ]
  },
  {
   "attachments": {},
   "cell_type": "markdown",
   "metadata": {},
   "source": [
    "## Definición y propiedades\n",
    "\n",
    "**Producto de dos matrices:** $\\;\\mathbf{A}\\in\\mathbb{R}^{m\\times n}\\;$ y $\\;\\mathbf{B}\\in\\mathbb{R}^{n\\times p}$\n",
    "$$\\mathbf{C}=\\mathbf{A}\\mathbf{B}\\in\\mathbb{R}^{m\\times p}\n",
    "\\qquad\\text{con}\\qquad%\n",
    "C_{ij}=\\sum\\nolimits_{k=1}^nA_{ik}B_{kj}$$\n",
    "\n",
    "**Coste:** $\\;O(mnp)$, aunque mucho menor con GPUs\n",
    "\n",
    "**Propiedad asociativa:** $\\quad(\\mathbf{A}\\mathbf{B})\\mathbf{C}=\\mathbf{A}(\\mathbf{B}\\mathbf{C})$\n",
    "\n",
    "**Propiedad distributiva:** $\\quad\\mathbf{A}(\\mathbf{B}+\\mathbf{C})=\\mathbf{A}\\mathbf{B}+\\mathbf{A}\\mathbf{C}$\n",
    "\n",
    "**No propiedad commutativa:** $\\quad\\mathbf{A}\\mathbf{B}\\neq\\mathbf{B}\\mathbf{A}$\n"
   ]
  }
 ],
 "metadata": {
  "kernelspec": {
   "display_name": "Python 3",
   "language": "python",
   "name": "python3"
  },
  "language_info": {
   "codemirror_mode": {
    "name": "ipython",
    "version": 3
   },
   "file_extension": ".py",
   "mimetype": "text/x-python",
   "name": "python",
   "nbconvert_exporter": "python",
   "pygments_lexer": "ipython3",
   "version": "3.10.6"
  },
  "orig_nbformat": 4
 },
 "nbformat": 4,
 "nbformat_minor": 2
}
