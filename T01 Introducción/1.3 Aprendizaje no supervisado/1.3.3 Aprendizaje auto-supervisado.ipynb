{
 "cells": [
  {
   "attachments": {},
   "cell_type": "markdown",
   "metadata": {},
   "source": [
    "# Aprendizaje auto-supervisado\n",
    "\n",
    "El **aprendizaje auto-supervisado o auto-supervisión** es una área emergente del aprendizaje no supervisado que propone la inferencia de \"factores latentes\" mediante la creación de tareas supervisadas indirectas (proxy) a partir de datos no supervisados. Algunos ejemplos populares de auto-supervisión son la predicción de una imagen a color a partir de grises, o el ocultamiento de palabras en un texto con el fin de predecirlas a partir de su contexto."
   ]
  }
 ],
 "metadata": {
  "kernelspec": {
   "display_name": "Python 3",
   "language": "python",
   "name": "python3"
  },
  "language_info": {
   "codemirror_mode": {
    "name": "ipython",
    "version": 3
   },
   "file_extension": ".py",
   "mimetype": "text/x-python",
   "name": "python",
   "nbconvert_exporter": "python",
   "pygments_lexer": "ipython3",
   "version": "3.10.6"
  },
  "orig_nbformat": 4,
  "vscode": {
   "interpreter": {
    "hash": "e7370f93d1d0cde622a1f8e1c04877d8463912d04d973331ad4851f04de6915a"
   }
  }
 },
 "nbformat": 4,
 "nbformat_minor": 2
}
