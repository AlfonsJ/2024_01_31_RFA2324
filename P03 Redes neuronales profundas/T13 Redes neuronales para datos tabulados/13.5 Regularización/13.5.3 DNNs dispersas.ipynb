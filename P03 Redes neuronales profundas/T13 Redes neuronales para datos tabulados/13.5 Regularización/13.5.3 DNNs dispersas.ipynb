{
 "cells": [
  {
   "cell_type": "markdown",
   "metadata": {},
   "source": [
    "# 13.5.3 DNNs dispersas\n",
    "\n",
    "**Técnicas para obtener DNNs dispersas:** $\\;$ regularización L1, automatic relevancy determination (ARD) y otros métodos\n",
    "\n",
    "**Ejemplo:** $\\;$ regresión 1d con un MLP de 5 capas y regularización L1 para obtener una topología dispersa\n",
    "\n",
    "<div align=\"center\">\n",
    "\n",
    "<img src=\"Figure_13.20_A.png\" width=\"300\"/>\n",
    "\n",
    "</div>\n",
    "\n",
    "**Poco usadas en la práctica:** $\\;$ las técnicas para obtener DNNs dispersas no se usan mucho ya que las GPUs están pensadas para multiplicación de matrices densa, por lo que el uso de matrices dispersas aporta poco ahorro computacional\n",
    "\n",
    "**Dispersión grupal por bloques:** $ \\;$ sí se han obtenido mejoras computacionales importantes mediante el uso de matrices con dispersión grupal por bloques que permiten podar capas enteras"
   ]
  }
 ],
 "metadata": {
  "language_info": {
   "name": "python"
  },
  "orig_nbformat": 4
 },
 "nbformat": 4,
 "nbformat_minor": 2
}
