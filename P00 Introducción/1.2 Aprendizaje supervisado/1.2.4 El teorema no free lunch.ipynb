{
 "cells": [
  {
   "attachments": {},
   "cell_type": "markdown",
   "metadata": {},
   "source": [
    "# 1.2.4 El teorema *no free lunch*\n",
    "\n",
    "**Teorema *no free lunch* (nadie da un duro a cuatro pesetas):** $\\;$ no existe un único mejor modelo para todo tipo de problemas\n",
    "* Esto se debe a que un conjunto de asunciones que funciona bien en un dominio puede no funcionar bien en otro\n",
    "* Conviene disponer de diversos modelos y técnicas asociadas con las que abordar cada problema nuevo que se presente\n",
    "\n",
    "**Selección de modelos para un nuevo problema:** $\\;$ deberá basarse en conocimiento del dominio, así como en técnicas de estimación del riesgo teórico como **validación cruzada** o **selección de modelos Bayesiana**"
   ]
  }
 ],
 "metadata": {
  "kernelspec": {
   "display_name": "Python 3",
   "language": "python",
   "name": "python3"
  },
  "language_info": {
   "codemirror_mode": {
    "name": "ipython",
    "version": 3
   },
   "file_extension": ".py",
   "mimetype": "text/x-python",
   "name": "python",
   "nbconvert_exporter": "python",
   "pygments_lexer": "ipython3",
   "version": "3.10.6"
  },
  "orig_nbformat": 4,
  "vscode": {
   "interpreter": {
    "hash": "e7370f93d1d0cde622a1f8e1c04877d8463912d04d973331ad4851f04de6915a"
   }
  }
 },
 "nbformat": 4,
 "nbformat_minor": 2
}
