{
 "cells": [
  {
   "cell_type": "markdown",
   "metadata": {},
   "source": [
    "# 15.4.5 Seq2Seq con atención\n",
    "\n",
    "**Clasificación de secuencias con atención:** $\\;$ registros de salud\n",
    "\n",
    "<div><table align=center><tr>\n",
    "<td style=\"border: none;\"><img src=\"Figure_15.20.png\"/></td>\n",
    "</tr></table></div>"
   ]
  }
 ],
 "metadata": {
  "language_info": {
   "name": "python"
  },
  "orig_nbformat": 4
 },
 "nbformat": 4,
 "nbformat_minor": 2
}
