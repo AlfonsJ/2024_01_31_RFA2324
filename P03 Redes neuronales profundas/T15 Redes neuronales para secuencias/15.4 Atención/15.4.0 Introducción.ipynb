{
 "cells": [
  {
   "cell_type": "markdown",
   "metadata": {},
   "source": [
    "# 15.4.0 Introducción\n",
    "\n",
    "**Activaciones ocultas en las redes clásicas:** $\\;$ transformación lineal de una entrada (oculta) $\\boldsymbol{v}\\in\\mathbb{R}^v$ con un conjunto de pesos aprendido $\\mathbf{W}\\in\\mathbb{R}^{v'\\times v}$, seguida de una no-linealidad, $\\;\\boldsymbol{z}=\\varphi(\\mathbf{W}\\boldsymbol{v})$\n",
    "\n",
    "**Mecanismo de atención:** $\\;$ disponemos de $m$ **valores** de entrada $\\boldsymbol{v}\\in\\mathbb{R}^{m\\times v}$ y el modelo escoge (dinámicamente) un valor de entrada por similitud entre una **consulta (query)** $\\,\\boldsymbol{q}\\in\\mathbb{R}^q$ y $m$ **claves (keys)** $\\;\\mathbf{K}\\in\\mathbb{R}^{m\\times k}$\n",
    "\n",
    "**Atención como modelo de regresión no paramétrico:** $\\;$ disponemos de $m$ datos supervisados o pares **clave-valor** y, dada una muestra (clave) de test o **consulta**, predecimos su valor asociado a partir de los valores asociados a los datos, prestando mayor atención (dando más peso) a los datos cuyas claves se parecen a la consulta"
   ]
  }
 ],
 "metadata": {
  "language_info": {
   "name": "python"
  },
  "orig_nbformat": 4
 },
 "nbformat": 4,
 "nbformat_minor": 2
}
