{
 "cells": [
  {
   "cell_type": "markdown",
   "metadata": {},
   "source": [
    "# 8.5.0 Introducción\n",
    "\n",
    "<div><table border-collapse: collapse><tr>\n",
    "<td style=\"border: none; text-align:left; vertical-align:top; padding:0; margin:0;\" width=500>\n",
    "\n",
    "**Optimización con restricciones:** $\\quad\\boldsymbol{\\theta}^*\\in\\operatorname*{argmin}\\limits_{\\boldsymbol{\\theta}\\in\\mathcal{C}}\\;\\mathcal{L}(\\boldsymbol{\\theta})$\n",
    "\n",
    "**Conjunto de soluciones posibles:**\n",
    "$$\\mathcal{C}=\\{\\boldsymbol{\\theta}:\\;g_j(\\boldsymbol{\\theta})\\leq 0:j\\in\\mathcal{I},\\;h_k(\\boldsymbol{\\theta})=0:k\\in\\mathcal{E}\\}\\in\\mathbb{R}^D$$\n",
    "\n",
    "**Restricciones de desigualdad:** $\\quad g_j(\\boldsymbol{\\theta})\\leq 0:j\\in\\mathcal{I}$\n",
    "\n",
    "**Restricciones de igualdad:** $\\quad h_k(\\boldsymbol{\\theta})=0:k\\in\\mathcal{E}$\n",
    "\n",
    "**Ejemplo:**\n",
    "$$\\mathcal{L}(\\boldsymbol{\\theta})=\\theta_1^2+\\theta_2^2$$\n",
    "\n",
    "$$h(\\boldsymbol{\\theta})=1-\\theta_1-\\theta_2=0$$\n",
    "\n",
    "$$\\boldsymbol{\\theta}^*=(0.5,0.5)$$\n",
    "\n",
    "</td>\n",
    "<td style=\"border: none; text-align:left; vertical-align:top; padding:0; margin:0;\" width=500>\n",
    "\n",
    "<center><img src=\"Figure_8.22_A.png\" width=400></center>\n",
    "\n",
    "</td></tr></table></div>"
   ]
  }
 ],
 "metadata": {
  "language_info": {
   "name": "python"
  },
  "orig_nbformat": 4
 },
 "nbformat": 4,
 "nbformat_minor": 2
}
