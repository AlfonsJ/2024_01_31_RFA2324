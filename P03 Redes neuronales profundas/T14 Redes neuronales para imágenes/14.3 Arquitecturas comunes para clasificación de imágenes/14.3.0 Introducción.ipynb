{
 "cells": [
  {
   "cell_type": "markdown",
   "metadata": {},
   "source": [
    "# 14.3.0 Introducción\n",
    "\n",
    "* **Clasificación de imágenes:** $\\;$ estimamos $f:\\mathbb{R}^{H\\times W\\times K}\\to\\{0,1\\}^C$ donde $K$ es el número de canales y $C$ el número de clases"
   ]
  }
 ],
 "metadata": {
  "language_info": {
   "name": "python"
  },
  "orig_nbformat": 4
 },
 "nbformat": 4,
 "nbformat_minor": 2
}
