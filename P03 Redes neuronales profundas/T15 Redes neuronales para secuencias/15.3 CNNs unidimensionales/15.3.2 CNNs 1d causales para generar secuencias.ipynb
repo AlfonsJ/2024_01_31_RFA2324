{
 "cells": [
  {
   "cell_type": "markdown",
   "metadata": {},
   "source": [
    "# 15.3.2 CNNs 1d causales para generar secuencias\n",
    "\n",
    "**CNN causal o modelo de Markov convolucional:** $\\;$ cada variable de salida solo depende de variables previamente generadas\n",
    "* Con un filtro convolucional $\\boldsymbol{w}$ de talla $k$ y asumiendo, por simplicidad, una única no-linealidad $\\varphi$ y salida categórica:\n",
    "$$p(\\boldsymbol{y})=\\prod_{t=1}^Tp(y_t\\mid\\boldsymbol{y}_{1\\,:\\,t-1})=\\prod_{t=1}^T\\operatorname{Cat}(y_t\\mid\\mathcal{S}(\\varphi(\\sum_{\\tau=1}^{t-k}\\boldsymbol{w}^t\\boldsymbol{y}_{\\tau\\,:\\,\\tau+k})))$$\n",
    "\n",
    "**Wavenet (TTS):** $\\;$ 10 capas convolucionales causales 1d para características lingüísticas, con ratios de dilatación $1,\\dotsc,512$\n",
    "<div><table align=\"center\"><tr><td style=\"border: none;\"><img src=\"Figure_15.15.png\" width=\"700\"/></td></tr></table></div>"
   ]
  }
 ],
 "metadata": {
  "language_info": {
   "name": "python"
  },
  "orig_nbformat": 4
 },
 "nbformat": 4,
 "nbformat_minor": 2
}
