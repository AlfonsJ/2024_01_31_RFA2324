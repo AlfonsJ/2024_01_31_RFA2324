{
 "cells": [
  {
   "cell_type": "markdown",
   "metadata": {},
   "source": [
    "# 15.4.7 Atención blanda y dura\n",
    "\n",
    "**Atención dura:**\n",
    "* Fuerza mapas de calor de atención dispersos; cada salida solo atiende una entrada en lugar de una combinación lineal de todas\n",
    "* Conduce a un objetivo no diferenciable, por lo que require métodos como aprendizaje por refuerzo para ajustar el modelo\n",
    "* La interpretabilidad de la atención es controvertida\n",
    "\n",
    "**Ejemplo:** $\\;$ blanda genera `a woman is throwing a frisbee in a park` y dura `a man and a woman playing frisbee in a field`\n",
    "<div><table align=center><tr>\n",
    "<td style=\"border: none;\"><img src=\"Figure_15.22_A.png\" width=\"500\"/></td>\n",
    "<td style=\"border: none;\"><img src=\"Figure_15.22_B.png\" width=\"500\"/></td>\n",
    "</tr></table></div>"
   ]
  }
 ],
 "metadata": {
  "language_info": {
   "name": "python"
  },
  "orig_nbformat": 4
 },
 "nbformat": 4,
 "nbformat_minor": 2
}
