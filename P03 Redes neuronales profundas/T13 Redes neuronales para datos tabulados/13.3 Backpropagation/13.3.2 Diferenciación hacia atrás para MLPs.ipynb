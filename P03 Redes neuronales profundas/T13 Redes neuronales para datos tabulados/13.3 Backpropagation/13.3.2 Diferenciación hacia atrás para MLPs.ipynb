{
 "cells": [
  {
   "cell_type": "markdown",
   "metadata": {},
   "source": [
    "# 13.3.2 Diferenciación hacia atrás para MLPs\n",
    "\n",
    "**Pérdida cuadrática para un MLP con una capa oculta:** $\\quad\\mathcal{L}((\\boldsymbol{x}, \\boldsymbol{y}),\\boldsymbol{\\theta})%\n",
    "=\\frac{1}{2}\\lVert\\boldsymbol{y}-\\mathbf{W}_2\\varphi(\\mathbf{W}_1\\boldsymbol{x})\\rVert^2$\n",
    "\n",
    "**Composición de $K=4$ funciones:** $\\;\\boldsymbol{f}_k(\\boldsymbol{x},\\boldsymbol{\\theta}_k),\\,\\boldsymbol{\\theta}_k\\in\\mathbb{R}^{D_k},\\,$ denota la función compuesta $k$\n",
    "$$\\begin{align*}\n",
    "\\boldsymbol{x}_2&=\\boldsymbol{f}_1(\\boldsymbol{x},\\boldsymbol{\\theta}_1)=\\mathbf{W}_1\\boldsymbol{x}\\\\%\n",
    "\\boldsymbol{x}_3&=\\boldsymbol{f}_2(\\boldsymbol{x}_2,\\emptyset)=\\varphi(\\boldsymbol{x}_2)\\\\%\n",
    "\\boldsymbol{x}_4&=\\boldsymbol{f}_3(\\boldsymbol{x}_3,\\boldsymbol{\\theta}_3)=\\mathbf{W}_2\\boldsymbol{x}_3\\\\%\n",
    "\\mathcal{L}&=\\boldsymbol{f}_4(\\boldsymbol{x}_4, \\boldsymbol{y})=\\frac{1}{2}\\lVert\\boldsymbol{x}_4-\\boldsymbol{y}\\rVert^2%\n",
    "\\end{align*}$$\n",
    "\n",
    "**Cálculo de gradientes:** $\\quad\\displaystyle\\frac{\\partial\\mathcal{L}}{\\partial\\boldsymbol{\\theta}_k}=(\\nabla_{\\boldsymbol{\\theta}_k}\\mathcal{L})^t\\in\\mathbb{R}^{1\\times D_k}\\;$ con $\\;\\boldsymbol{\\theta}_k\\in\\mathbb{R}^{D_k}$\n"
   ]
  }
 ],
 "metadata": {
  "kernelspec": {
   "display_name": "Python 3",
   "language": "python",
   "name": "python3"
  },
  "language_info": {
   "codemirror_mode": {
    "name": "ipython",
    "version": 3
   },
   "file_extension": ".py",
   "mimetype": "text/x-python",
   "name": "python",
   "nbconvert_exporter": "python",
   "pygments_lexer": "ipython3",
   "version": "3.10.6"
  },
  "orig_nbformat": 4
 },
 "nbformat": 4,
 "nbformat_minor": 2
}
