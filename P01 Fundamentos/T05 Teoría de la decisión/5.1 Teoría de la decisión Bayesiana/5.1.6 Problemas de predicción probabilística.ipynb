{
 "cells": [
  {
   "attachments": {},
   "cell_type": "markdown",
   "metadata": {},
   "source": [
    "# Problemas de predicción probabilística\n",
    "\n",
    "En los problemas de predicción probabilística asumimos que los estados de la naturaleza y acciones son distribuciones de probabilidad. Suponemos $h=p(Y\\mid \\boldsymbol{x})$ y queremos escoger $a=q(Y\\mid \\boldsymbol{x})$ tal que $q$ minimice $\\mathbb{E}[\\ell(p,q)]$ para un $\\boldsymbol{x}$ dado."
   ]
  },
  {
   "attachments": {},
   "cell_type": "markdown",
   "metadata": {},
   "source": [
    "## KL, entropía cruzada y log-pérdida\n",
    "\n",
    "La función de pérdida más popular es la **divergencia de Kullback-Leibler (KL):**\n",
    "$$\\mathbb{KL}(p\\Vert q)=-\\mathbb{H}(p)+\\mathbb{H}(p,q)$$\n",
    "donde $\\mathbb{H}(p)$ es la entropía de $p$ y $\\mathbb{H}(p,q)$ la entropía cruzada entre $p$ y $q$. Su minimización equivale a minimizar la **entropía cruzada:**\n",
    "$$\\begin{align*}\n",
    "q^*(Y\\mid \\boldsymbol{x})%\n",
    "&=\\operatorname*{argmin}_q\\;\\mathbb{KL}(p(Y\\Vert\\boldsymbol{x}),q(Y\\mid\\boldsymbol{x}))\\\\%\n",
    "&=\\operatorname*{argmin}_q\\;-\\mathbb{H}(p) + \\mathbb{H}(p(Y\\mid \\boldsymbol{x}),q(Y\\mid\\boldsymbol{x}))\\\\%\n",
    "&=\\operatorname*{argmin}_q\\;\\mathbb{H}(p(Y\\mid\\boldsymbol{x}),q(Y\\mid \\boldsymbol{x}))\\\\%\n",
    "&=\\operatorname*{argmin}_q\\;-\\sum_{y\\in\\mathcal{Y}} p(y\\mid\\boldsymbol{x})\\log q(y\\mid\\boldsymbol{x})%\n",
    "\\end{align*}$$\n",
    "En particular, si $h$ es one-hot, $h=p(Y\\mid\\boldsymbol{x})=\\delta(Y=c)$, obtenemos la **log-pérdida:**\n",
    "$$\\mathbb{H}(\\delta(Y=c),q)=-\\sum_{y\\in\\mathcal{Y}} \\delta(y=c)\\log q(y\\mid\\boldsymbol{x})=-\\log q(c\\mid\\boldsymbol{x})$$"
   ]
  },
  {
   "attachments": {},
   "cell_type": "markdown",
   "metadata": {},
   "source": [
    "## Reglas de puntuación propias\n",
    "\n",
    "Decimos que una pérdida $\\ell(p, q)$ es una **regla de puntuación propia** si su minimización en $q$ converge a $p$. Aunque la entropía cruzada es propia, puede resultar demasiado sensible a eventos raros. Una regla propia menos sensible a dichos eventos es la **puntuación de Brier:**\n",
    "$$\\ell(p,q)=\\frac{1}{C}\\sum_{c=1}^C\\;(q(y=c\\mid \\boldsymbol{x})-p(y=c\\mid \\boldsymbol{x}))^2$$"
   ]
  }
 ],
 "metadata": {
  "kernelspec": {
   "display_name": "Python 3",
   "language": "python",
   "name": "python3"
  },
  "language_info": {
   "codemirror_mode": {
    "name": "ipython",
    "version": 3
   },
   "file_extension": ".py",
   "mimetype": "text/x-python",
   "name": "python",
   "nbconvert_exporter": "python",
   "pygments_lexer": "ipython3",
   "version": "3.10.6"
  },
  "orig_nbformat": 4
 },
 "nbformat": 4,
 "nbformat_minor": 2
}
