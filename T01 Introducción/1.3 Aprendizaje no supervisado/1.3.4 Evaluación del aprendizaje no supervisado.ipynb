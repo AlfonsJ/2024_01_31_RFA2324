{
 "cells": [
  {
   "attachments": {},
   "cell_type": "markdown",
   "metadata": {},
   "source": [
    "# Evaluación del aprendizaje no supervisado\n",
    "\n",
    "Una aproximación directa a la evaluación del aprendizaje no supervisado consiste en tratarlo **como problema de estimación de densidad.** La bondad de un modelo $p(\\boldsymbol{x}\\mid\\boldsymbol{\\theta})$ puede evaluarse mediante la probabilidad asignada a un conjunto de test (datos no vistos) $\\mathcal{D}$. Formalmente, podemos calcular la neg-log-verosimilitud (incondicional) del test,\n",
    "$$\\mathcal{L}(\\boldsymbol{\\theta};\\mathcal{D})%\n",
    "=-\\frac{1}{\\mathcal{D}}\\sum_{\\boldsymbol{x}\\in\\mathcal{D}}\\log p(\\boldsymbol{x}\\mid \\boldsymbol{\\theta})$$\n",
    "Un buen modelo no se \"sorprenderá\" con datos reales no vistos; esto es, les asignará alta probabilidad y, por tanto, baja $\\mathcal{L}$.\n",
    "\n",
    "Una aproximación indirecta a la evaluación del aprendizaje no supervisado consiste en considerarlo **en una tarea de aprendizaje supervisado marco (downstream).** La representación no supervisada aprendida puede usarse como entrada para un método de aprendizaje supervisado marco y, si es útil, el método supervisado aprenderá con menos datos supervisados de los que requeriría sin ella, esto es, con mayor **eficiencia muestral.** Por ejemplo, iris con $4$ características (en lugar de fotos) y reconocimiento del habla con modelos de lenguaje externos son ejemplos de tareas supervisadas que se benefician de aprendizaje no supervisado previo.\n",
    "\n",
    "Aparte de las aproximaciones anteriores y en línea con el objetivo clásico del clustering, el aprendizaje no supervisado suele verse como una herramienta de análisis exploratorio de datos basada en modelos de fácil **interpretabilidad.** De esta manera, la interpretación de resultados ayuda a comprender mejor la estructura subyacente a los datos."
   ]
  }
 ],
 "metadata": {
  "kernelspec": {
   "display_name": "Python 3",
   "language": "python",
   "name": "python3"
  },
  "language_info": {
   "codemirror_mode": {
    "name": "ipython",
    "version": 3
   },
   "file_extension": ".py",
   "mimetype": "text/x-python",
   "name": "python",
   "nbconvert_exporter": "python",
   "pygments_lexer": "ipython3",
   "version": "3.10.6"
  },
  "orig_nbformat": 4,
  "vscode": {
   "interpreter": {
    "hash": "e7370f93d1d0cde622a1f8e1c04877d8463912d04d973331ad4851f04de6915a"
   }
  }
 },
 "nbformat": 4,
 "nbformat_minor": 2
}
