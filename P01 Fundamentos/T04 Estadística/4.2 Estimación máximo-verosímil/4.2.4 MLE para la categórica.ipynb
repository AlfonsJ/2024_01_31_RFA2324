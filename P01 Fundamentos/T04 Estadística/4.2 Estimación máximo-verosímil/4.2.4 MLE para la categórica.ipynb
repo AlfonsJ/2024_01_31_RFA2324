{
 "cells": [
  {
   "attachments": {},
   "cell_type": "markdown",
   "metadata": {},
   "source": [
    "# MLE para la categórica (incondicional)\n",
    "\n",
    "Si $\\;p(\\boldsymbol{y}_n\\mid\\boldsymbol{x}_n, \\boldsymbol{\\theta})%\n",
    "=p(y_n\\mid\\boldsymbol{\\theta})=\\operatorname{Cat}(y\\mid\\boldsymbol{\\theta})$, entonces \n",
    "$\\;\\hat{\\theta}_c=\\dfrac{N_c}{N}$ con $\\;N_c=\\mathbb{I}(y_n=c)$."
   ]
  },
  {
   "cell_type": "code",
   "execution_count": 2,
   "metadata": {},
   "outputs": [
    {
     "name": "stdout",
     "output_type": "stream",
     "text": [
      "[0.3, 0.2, 0.5] [0.3015 0.1995 0.499 ]\n"
     ]
    }
   ],
   "source": [
    "from scipy.stats import multinomial\n",
    "\n",
    "t, N = [0.3, 0.2, 0.5], 100\n",
    "Y = multinomial(N, t).rvs(N)\n",
    "ht = Y.mean(axis=0) / N\n",
    "print(t, ht)"
   ]
  }
 ],
 "metadata": {
  "kernelspec": {
   "display_name": "Python 3",
   "language": "python",
   "name": "python3"
  },
  "language_info": {
   "codemirror_mode": {
    "name": "ipython",
    "version": 3
   },
   "file_extension": ".py",
   "mimetype": "text/x-python",
   "name": "python",
   "nbconvert_exporter": "python",
   "pygments_lexer": "ipython3",
   "version": "3.10.6"
  },
  "orig_nbformat": 4
 },
 "nbformat": 4,
 "nbformat_minor": 2
}
