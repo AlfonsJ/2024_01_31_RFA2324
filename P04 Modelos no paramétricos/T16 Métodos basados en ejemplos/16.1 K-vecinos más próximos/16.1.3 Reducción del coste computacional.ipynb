{
 "cells": [
  {
   "attachments": {},
   "cell_type": "markdown",
   "metadata": {},
   "source": [
    "# Reducción del coste computacional\n",
    "\n",
    "**Elevado coste computacional de KNN:** $\\;$ espacial y temporal, debido al mantenimiento de (todos) los datos en inferencia\n",
    "\n",
    "**Técnicas de reducción del coste espacial:** $\\;$ eliminan prototipos que no afectan a las fronteras de decisión\n",
    "\n",
    "**Técnicas de reducción del coste temporal:** $\\;$ búsqueda eficiente de K vecinos, exacta y aproximada (para $D>10$)\n",
    "* **K-d tree:** divide el espacio en regiones de lados paralelos a los ejes, o con algún método de clustering basado en puntos ancla\n",
    "* **Locality sensitive hashing (LSH):** técnica popular de 1999; más recientemente se aprende la función de hashing\n",
    "\n",
    "**Librería popular para la búsqueda eficiente de vecinos:** $\\;$ [FAISS](https://github.com/facebookresearch/faiss)"
   ]
  }
 ],
 "metadata": {
  "kernelspec": {
   "display_name": "Python 3",
   "language": "python",
   "name": "python3"
  },
  "language_info": {
   "codemirror_mode": {
    "name": "ipython",
    "version": 3
   },
   "file_extension": ".py",
   "mimetype": "text/x-python",
   "name": "python",
   "nbconvert_exporter": "python",
   "pygments_lexer": "ipython3",
   "version": "3.10.6"
  },
  "orig_nbformat": 4,
  "vscode": {
   "interpreter": {
    "hash": "e7370f93d1d0cde622a1f8e1c04877d8463912d04d973331ad4851f04de6915a"
   }
  }
 },
 "nbformat": 4,
 "nbformat_minor": 2
}
