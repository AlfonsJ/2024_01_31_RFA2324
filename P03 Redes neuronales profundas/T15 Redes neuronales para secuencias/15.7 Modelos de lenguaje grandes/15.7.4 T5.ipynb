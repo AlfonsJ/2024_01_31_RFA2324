{
 "cells": [
  {
   "cell_type": "markdown",
   "metadata": {},
   "source": [
    "# 15.7.4 T5\n",
    "\n",
    "**Text-to-text Transfer Transformer (T5):** $\\;$ transformer seq2seq\n",
    "* Pre-entrenado con pares no supervisados $(\\boldsymbol{x}',\\boldsymbol{x}'')$\n",
    "    * $\\boldsymbol{x}$ es la frase original, $\\;$ p.e. `Thank you for inviting me to your party last week`\n",
    "    * $\\boldsymbol{x}'$ es una versión enmascarada de $\\boldsymbol{x}$, $\\;$ p.e. `Thank you <X> me to your party <Y> week`\n",
    "    * $\\boldsymbol{x}''$ son los tokens perdidos a predecir, $\\;$ p.e. `<X> for inviting <Y> last <EOS>`\n",
    "* Fine-tuned con pares supervisados $(\\boldsymbol{x},\\boldsymbol{y})$ que se obtienen manualmente\n",
    "\n",
    "**Colossal Clean Crawled Corpus (C4):** $\\;$ 750Gb de texto web para entrenar T5 con un objetivo tipo BERT\n",
    "\n",
    "<div><table border-collapse: collapse><tr>\n",
    "<td style=\"border: none; text-align:left; vertical-align:top; padding:0; margin:0;\" width=300>\n",
    "\n",
    "**Tareas:**\n",
    "* Traducción de inglés a alemán\n",
    "* Corpus of Linguistic Acceptability (CoLA): validez lingüística\n",
    "* Semantic Textual Similarity Benchmark (STBS): grado de similitud semántica\n",
    "* Resumen abstractivo\n",
    "\n",
    "</td>\n",
    "<td style=\"border: none; text-align:left; vertical-align:top; padding:0; margin:0;\" width=700>\n",
    "\n",
    "<center><img src=\"Figure_15.36.png\" width=700></center>\n",
    "\n",
    "</td></tr></table></div>"
   ]
  }
 ],
 "metadata": {
  "language_info": {
   "name": "python"
  },
  "orig_nbformat": 4
 },
 "nbformat": 4,
 "nbformat_minor": 2
}
