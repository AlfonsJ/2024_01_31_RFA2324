{
 "cells": [
  {
   "cell_type": "markdown",
   "metadata": {},
   "source": [
    "# 3.5.0 Introducción\n",
    "\n",
    "**Idea básica:** $\\;$ crear modelos probabilísticos complejos mediante combinación convexa de distribuciones simples\n",
    "\n",
    "**Modelo de mixtura:** $\\;$ combinación lineal ponderada de modelos\n",
    "$$p(\\boldsymbol{y}\\mid\\boldsymbol{\\theta})=\\sum_{k=1}^K\\pi_k\\,p_k(\\boldsymbol{y})$$\n",
    "* **Coeficientes de la mixtura:** $\\;\\{\\pi_k\\},\\,$ satisfacen $\\,0\\leq \\pi_k\\leq 1\\,$ y $\\,\\sum_k \\pi_k=1$\n",
    "* **Componentes de la mixtura:** $\\;\\{p_k(\\boldsymbol{y})\\},\\,$ ponderados por los coeficientes\n",
    "\n",
    "**Interpretación como modelo jerárquico:**\n",
    "* Una variable latente $z\\in\\{1,2,\\dotsc,K\\}$ indica qué componente genera $\\boldsymbol{y}$\n",
    "* El prior sobre la variable latente es $p(z=k)=\\pi_k,\\,$ por lo que se trata de una categórica $\\,p(z\\mid\\boldsymbol{\\theta})=\\operatorname{Cat}(z\\mid\\boldsymbol{\\pi})$\n",
    "* La condicional es $\\,p(\\boldsymbol{y}\\mid z=k)=p_k(\\boldsymbol{y})=p(\\boldsymbol{y}\\mid\\boldsymbol{\\theta}_k)$\n",
    "* $\\boldsymbol{\\theta}$ incluye coeficientes y parámetros de cada componente $\\,\\boldsymbol{\\theta}=(\\pi_1,\\dotsc,\\pi_K,\\boldsymbol{\\theta}_1,\\dotsc,\\boldsymbol{\\theta}_K)$\n",
    "* Interpretación generativa: $\\;$ primero se genera $z$ y luego $\\boldsymbol{y}$\n",
    "* Marginalizando $z$ recuperamos el modelo original:\n",
    "$$p(\\boldsymbol{y}\\mid\\boldsymbol{\\theta})%\n",
    "  =\\sum_{k=1}^K p(z=k\\mid\\boldsymbol{\\theta})p(\\boldsymbol{y}\\mid z=k,\\boldsymbol{\\theta})%\n",
    "  =\\sum_{k=1}^K\\pi_k\\,p_k(\\boldsymbol{y}\\mid\\boldsymbol{\\theta}_k)$$"
   ]
  }
 ],
 "metadata": {
  "language_info": {
   "name": "python"
  }
 },
 "nbformat": 4,
 "nbformat_minor": 2
}
