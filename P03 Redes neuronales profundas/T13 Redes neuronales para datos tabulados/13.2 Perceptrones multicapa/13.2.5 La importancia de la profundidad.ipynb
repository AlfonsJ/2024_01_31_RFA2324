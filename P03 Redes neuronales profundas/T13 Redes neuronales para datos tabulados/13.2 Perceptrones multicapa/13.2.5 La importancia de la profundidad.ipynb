{
 "cells": [
  {
   "cell_type": "markdown",
   "metadata": {},
   "source": [
    "# 13.2.5 La importancia de la profundidad\n",
    "\n",
    "**No necesidad de más de una capa oculta:** $\\;$ un MLP de **una sola capa oculta** con suficientes unidades es una **aproximador de funciones universal** ya que puede aproximar toda función (mínimamente suave) tanto como se quiera\n",
    "\n",
    "**Importancia de la profundidad:** $\\;$ las redes profundas, definidas de manera composicional o jerárquica, suelen ofrecer mejores resultados ya que las últimas capas aprovechan las características aprendidas en las primeras capas"
   ]
  }
 ],
 "metadata": {
  "kernelspec": {
   "display_name": "Python 3",
   "language": "python",
   "name": "python3"
  },
  "language_info": {
   "codemirror_mode": {
    "name": "ipython",
    "version": 3
   },
   "file_extension": ".py",
   "mimetype": "text/x-python",
   "name": "python",
   "nbconvert_exporter": "python",
   "pygments_lexer": "ipython3",
   "version": "3.10.6"
  },
  "orig_nbformat": 4
 },
 "nbformat": 4,
 "nbformat_minor": 2
}
