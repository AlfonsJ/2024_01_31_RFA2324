{
 "cells": [
  {
   "attachments": {},
   "cell_type": "markdown",
   "metadata": {},
   "source": [
    "# Modelado aditivo por etapas hacia adelante\n",
    "\n",
    "**Forward stagewise additive modeling (FSAM):** $\\;$ optimiza la empı́rica con pérdida genérica y $f$ modelo aditivo\n",
    "\n",
    "**Objetivo FSAM (para el modelo base $m$):** $\\;$ empírica con pérdida genérica, $\\,\\ell(y, \\hat{y})$\n",
    "$$L_m(\\beta,\\boldsymbol{\\theta})%\n",
    "=\\sum_{i=1}^N\\ell(y_i, f_{m-1}(\\boldsymbol{x}_i)+\\beta F(\\boldsymbol{x}_i;\\boldsymbol{\\theta}))$$\n",
    "\n",
    "**Minimización del objetivo y reajuste del modelo:** $\\quad(\\beta_m,\\boldsymbol{\\theta}_m)=\\operatorname*{argmin}_{\\beta,\\boldsymbol{\\theta}}\\;L_m(\\beta,\\boldsymbol{\\theta})$\n",
    "$$f_m(\\boldsymbol{x})=f_{m-1}(\\boldsymbol{x})+\\beta_m F_m(\\boldsymbol{x})%\n",
    "\\qquad\\text{con}\\qquad%\n",
    "F_m(\\boldsymbol{x})=F(\\boldsymbol{x};\\boldsymbol{\\theta}_m)$$"
   ]
  }
 ],
 "metadata": {
  "kernelspec": {
   "display_name": "Python 3",
   "language": "python",
   "name": "python3"
  },
  "language_info": {
   "codemirror_mode": {
    "name": "ipython",
    "version": 3
   },
   "file_extension": ".py",
   "mimetype": "text/x-python",
   "name": "python",
   "nbconvert_exporter": "python",
   "pygments_lexer": "ipython3",
   "version": "3.10.6"
  },
  "orig_nbformat": 4,
  "vscode": {
   "interpreter": {
    "hash": "e7370f93d1d0cde622a1f8e1c04877d8463912d04d973331ad4851f04de6915a"
   }
  }
 },
 "nbformat": 4,
 "nbformat_minor": 2
}
