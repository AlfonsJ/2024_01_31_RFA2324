{
 "cells": [
  {
   "cell_type": "markdown",
   "metadata": {},
   "source": [
    "# 14.2.3 Todo junto\n",
    "\n",
    "* **Arquitectura usual de las CNNs:** $\\;$ inspiradas en el **Neocognitron** de Fukushima (1975) y **LeNet** de Yann LeCun (1998), alternan capas convolucionales con max pooling, más una capa de clasificación lineal al final\n",
    "\n",
    "<div align=\"center\">\n",
    "<table><tr><td style=\"border: none;\"><img src=\"Figure_14.13.png\"/></td></tr></table>\n",
    "</div>"
   ]
  }
 ],
 "metadata": {
  "language_info": {
   "name": "python"
  },
  "orig_nbformat": 4
 },
 "nbformat": 4,
 "nbformat_minor": 2
}
