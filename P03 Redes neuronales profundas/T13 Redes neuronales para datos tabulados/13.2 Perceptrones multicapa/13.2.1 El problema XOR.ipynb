{
 "cells": [
  {
   "cell_type": "markdown",
   "metadata": {},
   "source": [
    "# 13.2.1 El problema XOR"
   ]
  },
  {
   "cell_type": "markdown",
   "metadata": {},
   "source": [
    "## Problema XOR\n",
    "\n",
    "Problema famoso del libro Perceptrons con datos 2d no linealmente separables"
   ]
  },
  {
   "cell_type": "code",
   "execution_count": 1,
   "metadata": {},
   "outputs": [
    {
     "name": "stdout",
     "output_type": "stream",
     "text": [
      "[[0. 0. 0.]\n",
      " [0. 1. 1.]\n",
      " [1. 0. 1.]\n",
      " [1. 1. 0.]]\n"
     ]
    }
   ],
   "source": [
    "import numpy as np\n",
    "import matplotlib.pyplot as plt\n",
    "X = np.array([[0, 0], [0, 1], [1, 0], [1, 1]]).astype(float)\n",
    "y = np.array([0, 1, 1, 0]).astype(int)\n",
    "print(np.c_[X, y])"
   ]
  },
  {
   "cell_type": "code",
   "execution_count": 2,
   "metadata": {},
   "outputs": [
    {
     "data": {
      "image/png": "[encoded data removed]",
      "text/plain": [
       "<Figure size 360x288 with 2 Axes>"
      ]
     },
     "metadata": {
      "needs_background": "light"
     },
     "output_type": "display_data"
    }
   ],
   "source": [
    "w = np.array([1, 1]); b = -0.5\n",
    "P = lambda x: np.heaviside(w @ x + b, 0.0)\n",
    "fig, ax = plt.subplots(1, 1, figsize=(5, 4)); ax.grid()\n",
    "x1, x2 = np.meshgrid(np.linspace(-.03, 1.03, 50), np.linspace(-.03, 1.03, 50))\n",
    "XX = np.c_[np.ravel(x1), np.ravel(x2)]\n",
    "yy = np.apply_along_axis(P, 1, XX)\n",
    "ax.contour(x1, x2, yy.reshape(x1.shape), 1, colors='orange', linestyles='solid')\n",
    "cp = ax.contourf(x1, x2, yy.reshape(x1.shape), 1, cmap='Blues')\n",
    "plt.colorbar(cp, ax=ax, shrink=0.5); ax.scatter(*X.T, c=y, s=100);"
   ]
  },
  {
   "cell_type": "markdown",
   "metadata": {},
   "source": [
    "## Resolución de XOR con un MLP\n",
    "\n",
    "XOR se resuelve con tres Perceptrones correspondientes a dos **unidades ocultas,** $h_1$ y $h_2$, y la salida $y$"
   ]
  },
  {
   "cell_type": "code",
   "execution_count": 3,
   "metadata": {},
   "outputs": [],
   "source": [
    "import graphviz; graphviz.Source('''digraph { rankdir=BT\n",
    "yb [label=\"1\"] yb -> y [label=\"-0.5\"] h1 -> y [label=\"-1\"] h2 -> y [label=\"+1\"]\n",
    "h1b [label=\"1\"] h1b -> h1 [label=\"-1.5\"] x1 -> h1 [label=\"+1\"] x2 -> h1 [label=\"+1\"]\n",
    "h2b [label=\"1\"] h2b -> h2 [label=\"-0.5\"] x1 -> h2 [label=\"+1\"] x2 -> h2 [label=\"+1\"]\n",
    "}''').render(filename='13.2.1 MLPXOR', format='svg');"
   ]
  },
  {
   "cell_type": "markdown",
   "metadata": {},
   "source": [
    "<div align=\"center\">\n",
    "<table><tr><td style=\"border: none;\"><img src=\"13.2.1 MLPXOR.svg\" width=\"350\"/></td><td style=\"border: none;\">\n",
    "\n",
    "|$x_1$|$x_2$|$\\boldsymbol{w}_1^t\\boldsymbol{x}+b_1$|$h_1$|$\\boldsymbol{w}_2^t\\boldsymbol{x}+b_2$|$h_2$|$\\boldsymbol{w}_y^t\\boldsymbol{h}+b_y$|$y$|\n",
    "|-----|-----|--------------------------------------|-----|--------------------------------------|-----|--------------------------------------|---|\n",
    "| $0$ | $0$ |                               $-1.5$ | $0$ |                               $-0.5$ | $0$ |                               $-0.5$ |$0$|\n",
    "| $0$ | $1$ |                               $-0.5$ | $0$ |                               $+0.5$ | $1$ |                               $+0.5$ |$1$|\n",
    "| $1$ | $0$ |                               $-0.5$ | $0$ |                               $+0.5$ | $1$ |                               $+0.5$ |$1$|\n",
    "| $1$ | $1$ |                               $+0.5$ | $1$ |                               $+1.5$ | $1$ |                               $-0.5$ |$0$|\n",
    "\n",
    "$$y=\\neg h_1\\wedge h_2=\\neg(x_1\\wedge x_2)\\wedge(x_1\\vee x_2)$$\n",
    "\n",
    "</td><tr></table>\n",
    "</div>"
   ]
  },
  {
   "cell_type": "code",
   "execution_count": 4,
   "metadata": {},
   "outputs": [
    {
     "data": {
      "image/png": "[encoded data removed]",
      "text/plain": [
       "<Figure size 360x288 with 2 Axes>"
      ]
     },
     "metadata": {
      "needs_background": "light"
     },
     "output_type": "display_data"
    }
   ],
   "source": [
    "w1 = np.array([1, 1]); b1 = -1.5; w2 = np.array([1, 1]); b2 = -0.5; wy = np.array([-1, 1]); by = -0.5\n",
    "P = lambda x, w, b: np.heaviside(w @ x + b, 0.0)\n",
    "MLPXOR = lambda x: P(np.array([P(x, w1, b1), P(x, w2, b2)]), wy, by)\n",
    "fig, ax = plt.subplots(1, 1, figsize=(5, 4)); ax.grid()\n",
    "x1, x2 = np.meshgrid(np.linspace(-.03, 1.03, 50), np.linspace(-.03, 1.03, 50))\n",
    "XX = np.c_[np.ravel(x1), np.ravel(x2)]\n",
    "yy = np.apply_along_axis(MLPXOR, 1, XX)\n",
    "ax.contour(x1, x2, yy.reshape(x1.shape), 1, colors='orange', linestyles='solid')\n",
    "cp = ax.contourf(x1, x2, yy.reshape(x1.shape), 1, cmap='Blues')\n",
    "plt.colorbar(cp, ax=ax, shrink=0.5); ax.scatter(*X.T, c=y, s=100);"
   ]
  }
 ],
 "metadata": {
  "kernelspec": {
   "display_name": "Python 3",
   "language": "python",
   "name": "python3"
  },
  "language_info": {
   "codemirror_mode": {
    "name": "ipython",
    "version": 3
   },
   "file_extension": ".py",
   "mimetype": "text/x-python",
   "name": "python",
   "nbconvert_exporter": "python",
   "pygments_lexer": "ipython3",
   "version": "3.11.2"
  },
  "orig_nbformat": 4
 },
 "nbformat": 4,
 "nbformat_minor": 2
}
