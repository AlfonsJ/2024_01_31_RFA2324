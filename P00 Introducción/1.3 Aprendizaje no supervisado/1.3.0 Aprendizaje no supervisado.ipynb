{
 "cells": [
  {
   "attachments": {},
   "cell_type": "markdown",
   "metadata": {},
   "source": [
    "# 1.3.0 Aprendizaje no supervisado\n",
    "\n",
    "El **aprendizaje no supervisado** trata de \"explicar\" los datos cuando solo tenemos un conjunto de \"entradas\", $\\mathcal{D}=\\{\\boldsymbol{x}_n\\}_{n=1}^N$, sin sus correspondientes \"salidas\" $\\{\\boldsymbol{y}_n\\}$.\n",
    "\n",
    "La **aproximación probabilística** ajusta un modelo incondicional $p(\\boldsymbol{x})$, en lugar de uno condicional $p(\\boldsymbol{y}\\mid\\boldsymbol{x})$ como en supervisado.\n",
    "\n",
    "En comparación con el aprendizaje supervisado, el no supervisado destaca por **mayor aplicabilidad.** Esta mayor aplicabilidad se debe a que los datos no supervisados son fáciles de conseguir; no así la supervisión. Además, el aprendizaje no supervisado puede aplicarse a tareas mal definidas, pues en principio no requiere disponer de un conjunto de categorías dado, ni siquiera asumir que los datos se agrupan en un cierto número de categorías dado."
   ]
  }
 ],
 "metadata": {
  "kernelspec": {
   "display_name": "Python 3",
   "language": "python",
   "name": "python3"
  },
  "language_info": {
   "codemirror_mode": {
    "name": "ipython",
    "version": 3
   },
   "file_extension": ".py",
   "mimetype": "text/x-python",
   "name": "python",
   "nbconvert_exporter": "python",
   "pygments_lexer": "ipython3",
   "version": "3.10.6"
  },
  "orig_nbformat": 4,
  "vscode": {
   "interpreter": {
    "hash": "e7370f93d1d0cde622a1f8e1c04877d8463912d04d973331ad4851f04de6915a"
   }
  }
 },
 "nbformat": 4,
 "nbformat_minor": 2
}
