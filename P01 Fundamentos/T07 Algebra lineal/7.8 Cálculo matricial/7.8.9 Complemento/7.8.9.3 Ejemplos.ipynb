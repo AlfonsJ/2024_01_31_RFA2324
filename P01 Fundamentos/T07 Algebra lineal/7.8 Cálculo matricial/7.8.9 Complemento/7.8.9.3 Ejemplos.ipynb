{
 "cells": [
  {
   "cell_type": "markdown",
   "metadata": {},
   "source": [
    "# 7.8.9.3 Ejemplos"
   ]
  },
  {
   "cell_type": "markdown",
   "metadata": {},
   "source": [
    "## Entropía cruzada (tras softmax)\n",
    "\n",
    "**Entropía cruzada:** $\\;$ toma logits $\\boldsymbol{a}\\in\\mathbb{R}^{C}$ y etiquetas (one-hot) $\\boldsymbol{y}\\in\\{0,1\\}^C$; devuelve un escalar\n",
    "$$\\mathcal{L}=\\operatorname{CrossEntropy}(\\boldsymbol{y},\\boldsymbol{a})=-\\sum_cy_c\\log \\hat{y}_c%\n",
    "\\qquad\\text{con}\\qquad%\n",
    "\\hat{y}_c=\\mathcal{S}(\\boldsymbol{a})_c=\\dfrac{\\exp(a_c)}{\\sum_{c'}\\exp(a_{c'})}$$\n",
    "\n",
    "**Simplificación:** $\\;$ si $\\,\\displaystyle\\boldsymbol{y}=\\operatorname{one-hot}(c):\\;\\mathcal{L}=-\\log(\\hat{y}_c)=-\\log\\biggl[\\frac{\\exp(a_c)}{\\sum_j\\exp(a_j)}\\biggr]=\\log\\biggl[\\sum\\nolimits_j\\exp(a_j)\\biggr]-a_c$\n",
    "\n",
    "**Derivadas:** $\\quad\\displaystyle\\frac{\\partial\\mathcal{L}}{\\partial\\boldsymbol{a}}=\\begin{bmatrix}\\dfrac{\\partial\\mathcal{L}}{\\partial a_1}&\\cdots&\\dfrac{\\partial\\mathcal{L}}{\\partial a_C}\\end{bmatrix}\\in\\mathbb{R}^{1\\times C}=(\\hat{\\boldsymbol{y}}-\\boldsymbol{y})^t\\in\\mathbb{R}^{1\\times C}$\n",
    "* Para todo $i$: $\\quad\\displaystyle\\frac{\\partial \\mathcal{L}}{\\partial a_i}=\\frac{\\partial}{\\partial a_i}\\log\\sum_j\\exp(a_j)-\\frac{\\partial}{\\partial a_i}a_c=\\frac{\\exp(a_i)}{\\sum_j\\exp(a_j)}-\\mathbb{I}(i=c)=\\hat{y}_i-\\mathbb{I}(i=c)$\n"
   ]
  },
  {
   "cell_type": "markdown",
   "metadata": {},
   "source": [
    "## Transformación elemental\n",
    "\n",
    "**Transformación elemental:** $\\;$ dado $\\,\\boldsymbol{x}\\in\\mathbb{R}^{n},\\,$ obtiene $\\,\\boldsymbol{y}=(\\varphi(x_1),\\dotsc,\\varphi(x_n))\\in\\mathbb{R}^{n}\\,$ con $\\,\\varphi:\\mathbb{R}\\to\\mathbb{R}\\,$ derivable\n",
    "\n",
    "**Derivadas:** $\\quad\\displaystyle\\frac{\\partial\\boldsymbol{y}}{\\partial\\boldsymbol{x}}=\\begin{bmatrix}\\dfrac{\\partial y_1}{\\partial\\boldsymbol{x}}\\\\[1mm]\\vdots\\\\\\dfrac{\\partial y_n}{\\partial\\boldsymbol{x}}\\end{bmatrix}=\\begin{bmatrix}\\dfrac{\\partial y_1}{\\partial x_1}&\\cdots&\\dfrac{\\partial y_1}{\\partial x_n}\\\\[1mm]\\vdots&\\ddots&\\vdots\\\\\\dfrac{\\partial y_n}{\\partial x_1}&\\cdots&\\dfrac{\\partial y_n}{\\partial x_n}\\end{bmatrix}=\\begin{bmatrix}\\dfrac{\\partial\\varphi(x_1)}{\\partial x_1}&\\cdots&\\dfrac{\\partial\\varphi(x_1)}{\\partial x_n}\\\\[1mm]\\vdots&\\ddots&\\vdots\\\\\\dfrac{\\partial\\varphi(x_n)}{\\partial x_1}&\\cdots&\\dfrac{\\partial\\varphi(x_n)}{\\partial x_n}\\end{bmatrix}=\\operatorname{diag}(\\varphi'(x_1),\\dotsc,\\varphi'(x_n))\\in\\mathbb{R}^{n\\times n}$\n",
    "\n",
    "**Ejemplos:** $\\quad\\displaystyle\\varphi(x)=x\\;\\Rightarrow\\;\\frac{\\partial\\boldsymbol{y}}{\\partial\\boldsymbol{x}}=\\mathbf{I}_{n}\\qquad\\varphi(x)=\\operatorname{ReLU}(x)=\\max(x,0)\\;\\Rightarrow\\;\\frac{\\partial\\boldsymbol{y}}{\\partial\\boldsymbol{x}}=\\operatorname{diag}(\\mathbb{I}(x_1>0),\\dotsc,\\mathbb{I}(x_n>0))$"
   ]
  }
 ],
 "metadata": {
  "language_info": {
   "name": "python"
  },
  "orig_nbformat": 4
 },
 "nbformat": 4,
 "nbformat_minor": 2
}
