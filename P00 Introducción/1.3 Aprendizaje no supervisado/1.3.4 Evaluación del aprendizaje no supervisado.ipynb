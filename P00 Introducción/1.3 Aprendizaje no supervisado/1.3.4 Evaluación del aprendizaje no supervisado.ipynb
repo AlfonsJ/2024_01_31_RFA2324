{
 "cells": [
  {
   "attachments": {},
   "cell_type": "markdown",
   "metadata": {},
   "source": [
    "# 1.3.4 Evaluación del aprendizaje no supervisado\n",
    "\n",
    "**Como problema de estimación de densidad:** $\\;$ la bondad de $p(\\boldsymbol{x}\\mid\\boldsymbol{\\theta})$ se mide como la probabilidad asignada a un conjunto de test $\\mathcal{D}$\n",
    "* Formalmente, podemos calcular la neg-log-verosimilitud (incondicional) del test:\n",
    "$$\\mathcal{L}(\\boldsymbol{\\theta};\\mathcal{D})%\n",
    "=-\\frac{1}{\\mathcal{D}}\\sum_{\\boldsymbol{x}\\in\\mathcal{D}}\\log p(\\boldsymbol{x}\\mid \\boldsymbol{\\theta})$$\n",
    "* Un buen modelo no se \"sorprenderá\" con datos reales no vistos; esto es, les asignará alta probabilidad y, por tanto, baja $\\mathcal{L}$\n",
    "\n",
    "**En una tarea de aprendizaje supervisado marco (downstream):** $\\;$ la representación no supervisada aprendida puede usarse como entrada para un método de aprendizaje supervisado marco y, si es útil, el método supervisado aprenderá con menos datos supervisados de los que requeriría sin ella, esto es, con mayor **eficiencia muestral**\n",
    "* *Ejemplo:* $\\;$ iris con $4$ características (en lugar de fotos)\n",
    "* *Otro ejemplo:* $\\;$ reconocimiento del habla con modelos de lenguaje externos\n",
    "\n",
    "**Interpretabilidad:** $\\;$ aparte de las aproximaciones anteriores y en línea con el objetivo clásico del clustering, el aprendizaje no supervisado suele verse como una herramienta de análisis exploratorio de datos basada en modelos fácilmente interpretables\n",
    "* La interpretación de resultados ayuda a comprender mejor la estructura subyacente a los datos"
   ]
  }
 ],
 "metadata": {
  "kernelspec": {
   "display_name": "Python 3",
   "language": "python",
   "name": "python3"
  },
  "language_info": {
   "codemirror_mode": {
    "name": "ipython",
    "version": 3
   },
   "file_extension": ".py",
   "mimetype": "text/x-python",
   "name": "python",
   "nbconvert_exporter": "python",
   "pygments_lexer": "ipython3",
   "version": "3.10.6"
  },
  "orig_nbformat": 4,
  "vscode": {
   "interpreter": {
    "hash": "e7370f93d1d0cde622a1f8e1c04877d8463912d04d973331ad4851f04de6915a"
   }
  }
 },
 "nbformat": 4,
 "nbformat_minor": 2
}
