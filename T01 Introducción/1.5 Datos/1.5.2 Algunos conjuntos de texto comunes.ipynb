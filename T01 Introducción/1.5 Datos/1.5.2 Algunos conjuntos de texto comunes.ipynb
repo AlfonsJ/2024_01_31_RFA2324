{
 "cells": [
  {
   "attachments": {},
   "cell_type": "markdown",
   "metadata": {},
   "source": [
    "# Algunos conjuntos de texto comunes\n",
    "\n",
    "El **procesamiento del lenguaje natural (NLP, natural language processing)** incluye gran variedad de tareas sobre texto en las que el aprendizaje automático obtiene grandes resultados."
   ]
  },
  {
   "attachments": {},
   "cell_type": "markdown",
   "metadata": {},
   "source": [
    "## Clasificación de texto\n",
    "\n",
    "La **clasificación de texto** es una tarea sencilla para aplicaciones como el **filtrado de correo spam** y el **análisis de sentimiento,** esto es, de la polaridad positiva o negativa de la opinión expresada en un texto."
   ]
  },
  {
   "attachments": {},
   "cell_type": "markdown",
   "metadata": {},
   "source": [
    "**Ejemplo:** el **IMDB movie review dataset** contiene 50K revisiones (+ o -) de películas; mitad para entrenamiento y mitad de test:\n",
    "* this film was just brilliant casting location... (+)\n",
    "* big hair big boobs bad music and a giant safety... (-)"
   ]
  },
  {
   "attachments": {},
   "cell_type": "markdown",
   "metadata": {},
   "source": [
    "## Traducción automática\n",
    "\n",
    "La **traducción automática (MT, machine translation)** estudia la automatización de la traducción de textos (o habla) entre idiomas. Los sistemas más avanzados emplean DNNs entrenadas con **textos paralelos,** esto es, colecciones de pares ejemplos de traducción."
   ]
  },
  {
   "attachments": {},
   "cell_type": "markdown",
   "metadata": {},
   "source": [
    "**Ejemplo:** el corpus [Europarl v10](https://www.statmt.org/europarl/v10/training) con ejemplos EsPt, DeEn, FrEn, etc.\n",
    "\n",
    "| Lengua fuente                                                                  | Lengua destino                                                                     |\n",
    "|--------------------------------------------------------------------------------|------------------------------------------------------------------------------------|\n",
    "| Ratificación y ampliación de los convenios actualizados de la OIT (votación)   | Ratificação e aplicação das convenções que a OIT considerou actualizadas (votação) |\n",
    "| Ratifizierung und Umsetzung der aktualisierten IAO-Übereinkommen (Abstimmung)  | The ratification and implementation of the updated ILO conventions (vote)          |\n",
    "| Ratification et mise en œuvre des conventions de l'OIT mises à jour (vote)     | The ratification and implementation of the updated ILO conventions (vote)          |"
   ]
  }
 ],
 "metadata": {
  "kernelspec": {
   "display_name": "Python 3",
   "language": "python",
   "name": "python3"
  },
  "language_info": {
   "codemirror_mode": {
    "name": "ipython",
    "version": 3
   },
   "file_extension": ".py",
   "mimetype": "text/x-python",
   "name": "python",
   "nbconvert_exporter": "python",
   "pygments_lexer": "ipython3",
   "version": "3.10.6"
  },
  "orig_nbformat": 4,
  "vscode": {
   "interpreter": {
    "hash": "e7370f93d1d0cde622a1f8e1c04877d8463912d04d973331ad4851f04de6915a"
   }
  }
 },
 "nbformat": 4,
 "nbformat_minor": 2
}
