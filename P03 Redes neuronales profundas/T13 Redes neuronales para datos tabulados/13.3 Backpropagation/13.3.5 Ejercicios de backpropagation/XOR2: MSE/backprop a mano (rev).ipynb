{
 "cells": [
  {
   "cell_type": "markdown",
   "metadata": {},
   "source": [
    "# XOR: backprop a mano para MLP MSE"
   ]
  },
  {
   "cell_type": "markdown",
   "metadata": {},
   "source": [
    "$$\\begin{align*}\n",
    "\\boldsymbol{x}&=(x_1,x_2)\\in\\{0, 1\\}^n%\n",
    "&&\\text{donde}\\quad n=2\\\\%\n",
    "\\boldsymbol{z}&=\\mathbf{W}\\boldsymbol{x}+\\boldsymbol{b}_1\\in\\mathbb{R}^{m_1}%\n",
    "&&\\text{donde}\\quad m_1=2,\\,\\mathbf{W}\\in\\mathbb{R}^{m_1\\times n}\\;\\text{y}\\;\\boldsymbol{b}_1\\in\\mathbb{R}^{m_1}\\\\%\n",
    "\\boldsymbol{h}&=\\operatorname{ReLU}(\\boldsymbol{z})\\in\\mathbb{R}^{m_2}%\n",
    "&&\\text{donde}\\quad m_2=2\\\\%\n",
    "\\hat{y}&=\\mathbf{V}\\boldsymbol{h}+b_2\\in\\mathbb{R}^{m_3}%\n",
    "&&\\text{donde}\\quad m_3=1,\\,\\mathbf{V}\\in\\mathbb{R}^{m_3\\times m_2}\\;\\text{y}\\;b_2\\in\\mathbb{R}^{m_3}\\\\%\n",
    "\\mathcal{L}&=(y-\\hat{y})^2\\in\\mathbb{R}%\n",
    "&&\\text{salida escalar}\\quad m=1,\\quad y\\in\\{-1,1\\}%\n",
    "\\end{align*}$$\n",
    "\n",
    "$$\\quad\\mathbf{W}=\\begin{pmatrix}1&1\\\\1&1\\end{pmatrix}\\quad \\boldsymbol{b}_1=\\begin{pmatrix}0\\\\-1\\end{pmatrix}\\quad \\mathbf{V}=\\begin{pmatrix}1&-1\\end{pmatrix}\\quad b_2=0$$"
   ]
  },
  {
   "cell_type": "markdown",
   "metadata": {},
   "source": [
    "## Forward: $\\small\\quad\\boldsymbol{x}\\to\\boldsymbol{z}(\\mathbf{W},\\boldsymbol{b}_1)\\to\\boldsymbol{h}\\to\\hat{y}(\\mathbf{V},b_2)\\to\\mathcal{L}$"
   ]
  },
  {
   "cell_type": "markdown",
   "metadata": {},
   "source": [
    "<div align=\"center\">\n",
    "\n",
    "|$x_1$|$x_2$|$y$|$\\boldsymbol{z}=\\mathbf{W}\\boldsymbol{x}+\\boldsymbol{b}_1$|$\\boldsymbol{h}=\\operatorname{ReLU}(\\boldsymbol{z})$|$\\hat{y}=\\mathbf{V}\\boldsymbol{h}+b_2$|$\\mathcal{L}_{\\boldsymbol{x}}=(y-\\hat{y})^2$|\n",
    "|:-:|:-:|:-:|:-:|:-:|:-:|:-:|\n",
    "|$0$|$0$|$-1$|$(0,-1)^t$|$(0,0)^t$|$0$|$1$|\n",
    "|$0$|$1$|$1$|$(1,0)^t$ |$(1,0)^t$|$1$|$0$|\n",
    "|$1$|$0$|$1$|$(1,0)^t$ |$(1,0)^t$|$1$|$0$|\n",
    "|$1$|$1$|$-1$|$(2,1)^t$ |$(2,1)^t$|$1$|$4$|\n",
    "\n",
    "$$\\mathcal{L}=\\frac{1}{4}\\sum_{\\boldsymbol{x}}\\mathcal{L}_{\\boldsymbol{x}}=1.25$$\n",
    "\n",
    "</div>"
   ]
  },
  {
   "cell_type": "markdown",
   "metadata": {},
   "source": [
    "## Backward: $\\small\\quad\\mathcal{L}\\to\\hat{y}(\\mathbf{V},b_2)\\to\\boldsymbol{h}\\to\\boldsymbol{z}(\\mathbf{W},\\boldsymbol{b}_1)\\to\\boldsymbol{x}\\;$ (ver sec. 7.8.9)"
   ]
  },
  {
   "cell_type": "markdown",
   "metadata": {},
   "source": [
    "**Error cuadrático:** $\\displaystyle\\quad u^t=1^t\\frac{\\partial\\mathcal{L}}{\\partial\\hat{y}}=2\\,(\\hat{y}-y)$\n",
    "\n",
    "**Capa capa lineal previa a la salida:** $\\displaystyle\\qquad\\boldsymbol{g}_{\\mathbf{V}}=u^t\\frac{\\partial\\hat{y}}{\\partial\\mathbf{V}^t}=\\boldsymbol{h}u^t\\qquad g_{b_2}=u^t\\frac{\\partial\\hat{y}}{\\partial b_2}=u^t\\qquad \\boldsymbol{u}^t=u^t\\frac{\\partial\\hat{y}}{\\partial\\boldsymbol{h}}=u^t\\mathbf{V}$\n",
    "\n",
    "**Capas ReLU y lineal tras la entrada:** $\\quad$ igual que en el caso de MLP CrossEntropy"
   ]
  },
  {
   "cell_type": "markdown",
   "metadata": {},
   "source": [
    "<div align=\"center\">\n",
    "\n",
    "|$x_1$|$x_2$|$y$|$u^t=2(\\hat{y}-y)$|$\\boldsymbol{g}_{\\mathbf{V}}^t=u\\boldsymbol{h}^t$|$g_{b_2}^t=u$|$\\boldsymbol{u}^t=u^t\\mathbf{V}$|$\\boldsymbol{u}^t=\\boldsymbol{u}^t\\operatorname{diag}(H(\\boldsymbol{z}))$|$\\boldsymbol{g}_{\\mathbf{W}}^t=\\boldsymbol{u}\\boldsymbol{x}^t$|$\\boldsymbol{g}_{\\boldsymbol{b}_1}^t=\\boldsymbol{u}$|\n",
    "|:-:|:-:|:-:|:-:|:-:|:-:|:-:|:-:|:-:|:-:|\n",
    "|$0$|$0$|$-1$|$2$|$(0, 0)$|$2$|$(2,-2)$|$(0,0)$|$\\begin{pmatrix}0&0\\\\0&0\\end{pmatrix}$|$\\begin{pmatrix}0\\\\0\\end{pmatrix}$|\n",
    "|$0$|$1$|$1$|$0$|$(0,0)$|$0$|$(0,0)$|$(0,0)$|$\\begin{pmatrix}0&0\\\\0&0\\end{pmatrix}$|$\\begin{pmatrix}0\\\\0\\end{pmatrix}$|\n",
    "|$1$|$0$|$1$|$0$|$(0,0)$|$0$|$(0,0)$|$(0,0)$|$\\begin{pmatrix}0&0\\\\0&0\\end{pmatrix}$|$\\begin{pmatrix}0\\\\0\\end{pmatrix}$|\n",
    "|$1$|$1$|$-1$|$4$|$(8,4)$|$4$|$(4,-4)$|$(4,-4)$|$\\begin{pmatrix}4&4\\\\-4&-4\\end{pmatrix}$|$\\begin{pmatrix}4\\\\-4\\end{pmatrix}$|\n",
    "\n",
    "</div>"
   ]
  },
  {
   "cell_type": "markdown",
   "metadata": {},
   "source": [
    "### Gradiente promedio:\n",
    "\n",
    "$$\\begin{align*}\n",
    "\\bar{\\boldsymbol{g}}_{\\mathbf{V}}^t&=\\frac{1}{4}\\left((0,0)+(0,0)+(0,0)+(8,4)\\right)=(2,1)\\\\%\n",
    "\\bar{g}_{b_2}^t&=\\frac{1}{4}(2+0+0+4)=1.5\\\\%\n",
    "\\bar{\\boldsymbol{g}}_{\\mathbf{W}}^t&=\\frac{1}{4}\\left(\\begin{pmatrix}0&0\\\\0&0\\end{pmatrix}+\\begin{pmatrix}0&0\\\\0&0\\end{pmatrix}+\\begin{pmatrix}0&0\\\\0&0\\end{pmatrix}+\\begin{pmatrix}4&4\\\\-4&-4\\end{pmatrix}\\right)=\\begin{pmatrix}1&1\\\\-1&-1\\end{pmatrix}\\\\%\n",
    "\\bar{\\boldsymbol{g}}_{\\boldsymbol{b}_1}^t&=\\frac{1}{4}\\left(\\begin{pmatrix}0\\\\0\\end{pmatrix}+\\begin{pmatrix}0\\\\0\\end{pmatrix}+\\begin{pmatrix}0\\\\0\\end{pmatrix}+\\begin{pmatrix}4\\\\-4\\end{pmatrix}\\right)=\\begin{pmatrix}1\\\\-1\\end{pmatrix}%\n",
    "\\end{align*}$$"
   ]
  },
  {
   "cell_type": "markdown",
   "metadata": {},
   "source": [
    "## SGD: $\\small\\quad\\boldsymbol{\\theta}=\\boldsymbol{\\theta}'-\\eta\\frac{\\partial\\mathcal{L}}{\\partial\\boldsymbol{\\theta}}\\quad$ con $\\quad\\eta=0.1$"
   ]
  },
  {
   "cell_type": "markdown",
   "metadata": {},
   "source": [
    "$$\\begin{align*}\n",
    "\\mathbf{V}&=\\mathbf{V}-0.1\\,(2,1)=(1,-1)-(0.2,0.1)=(0.8,-1.1)\\\\%\n",
    "b_2&=b_2-0.1 \\,1.5=0-0.15=-0.15\\\\%\n",
    "\\mathbf{W}&=\\mathbf{W}-0.1\\begin{pmatrix}1&1\\\\-1&-1\\end{pmatrix}%\n",
    "=\\begin{pmatrix}1&1\\\\1&1\\end{pmatrix}-\\begin{pmatrix}0.1&0.1\\\\-0.1&-0.1\\end{pmatrix}%\n",
    "=\\begin{pmatrix}0.9&0.9\\\\1.1&1.1\\end{pmatrix}\\\\%\n",
    "\\boldsymbol{b}_1&=\\boldsymbol{b}_1-0.1\\begin{pmatrix}1\\\\-1\\end{pmatrix}%\n",
    "=\\begin{pmatrix}0\\\\-1\\end{pmatrix}-\\begin{pmatrix}0.1\\\\-0.1\\end{pmatrix}%\n",
    "=\\begin{pmatrix}-0.1\\\\-0.9\\end{pmatrix}%\n",
    "\\end{align*}$$"
   ]
  }
 ],
 "metadata": {
  "kernelspec": {
   "display_name": "Python 3",
   "language": "python",
   "name": "python3"
  },
  "language_info": {
   "codemirror_mode": {
    "name": "ipython",
    "version": 3
   },
   "file_extension": ".py",
   "mimetype": "text/x-python",
   "name": "python",
   "nbconvert_exporter": "python",
   "pygments_lexer": "ipython3",
   "version": "3.11.4"
  },
  "orig_nbformat": 4
 },
 "nbformat": 4,
 "nbformat_minor": 2
}
