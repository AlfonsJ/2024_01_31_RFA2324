{
 "cells": [
  {
   "cell_type": "markdown",
   "metadata": {},
   "source": [
    "# 15.7.3 GPT"
   ]
  },
  {
   "cell_type": "markdown",
   "metadata": {},
   "source": [
    "<div><table border-collapse: collapse><tr>\n",
    "<td style=\"border: none; text-align:left; vertical-align:top; padding:0; margin:0;\" width=500>\n",
    "\n",
    "**Generative Pre-training Transformer (GPT):** $\\;$ modelo causal que usa un transformer enmascarado como decoder\n",
    "\n",
    "**Objetivo:** $\\;$ optimización conjunta sobre un conjunto no supervisado grande $\\mathcal{D}_U$ y otro supervisado pequeño $\\mathcal{D}_L$\n",
    "\n",
    "**Objetivo para clasificación:**\n",
    "$$\\begin{align*}\n",
    "\\mathcal{L} &= \\mathcal{L}_\\text{cls}+\\lambda\\mathcal{L}_\\text{LM}\\\\%\n",
    "\\mathcal{L}_\\text{cls} &= -\\sum_{(\\boldsymbol{x},y)\\in\\mathcal{D}_L}\\log p(y\\mid\\boldsymbol{x})\\\\%\n",
    "\\mathcal{L}_\\text{LM} &= %\n",
    "-\\sum_{\\boldsymbol{x}\\in\\mathcal{D}_U}\\sum_tp(x_t\\mid\\boldsymbol{x}_{1:t-1})%\n",
    "\\end{align*}$$\n",
    "\n",
    "**Objetivo de GPT-2:** $\\;$ solo el modelo de lenguaje\n",
    "\n",
    "**GPT-3:** $\\;$ GPT-2 más grande\n",
    "\n",
    "</td><td style=\"border: none; text-align:left; vertical-align:top; padding:0; margin:0;\" width=500>\n",
    "\n",
    "<center><img src=\"Figure_15.33_B.png\" width=450></center>\n",
    "\n",
    "</td></tr></table></div>\n",
    "\n",
    "\n",
    "\n",
    "\n"
   ]
  },
  {
   "cell_type": "markdown",
   "metadata": {},
   "source": [
    "## 15.7.3.1 Aplicaciones de GPT\n",
    "\n",
    "**Zero-shot task transfer:** $\\;$ GPT genera texto a partir de un **prompt** de entrada inicial que especifica la tarea; sin más\n",
    "\n",
    "**(Zero-shot) abstractive summarization:** $\\;$ resumen abstractivo de una entrada $\\boldsymbol{x}_{1:T}$; muestreamos\n",
    "$$p(\\boldsymbol{x}_{T+1:T+100}\\mid [\\boldsymbol{x}_{1:T};\\text{TL};\\text{DR}])$$\n",
    "donde `TL;DR` (too long; didn't read) es un token especial, añadido al final del texto de entrada"
   ]
  }
 ],
 "metadata": {
  "language_info": {
   "name": "python"
  },
  "orig_nbformat": 4
 },
 "nbformat": 4,
 "nbformat_minor": 2
}
