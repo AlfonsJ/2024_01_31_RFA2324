{
 "cells": [
  {
   "cell_type": "markdown",
   "metadata": {},
   "source": [
    "# 14.3.2 AlexNet\n",
    "\n",
    "**AlexNet (2012):** $\\;$ CNN de Alex Krizhevsky para ImageNet\n",
    "* Redujo el error del $26\\%$ al $15\\%$ (en top-5 para 1000 clases)\n",
    "* Comparación con LeNet:\n",
    "    * Más profunda: 8 capas de parámetros ajustables en lugar de 5\n",
    "    * Función de activación: ReLU en lugar de tanh\n",
    "    * Regularización: dropout en lugar de weight decay\n",
    "    * Apila varias capas convolucionales sin alternarlas con pooling\n",
    "<div align=\"center\">\n",
    "<table><tr>\n",
    "<td style=\"border: none;\"><img src=\"LeNetAlexNet.png\" width=800/></td>\n",
    "</tr></table>\n",
    "</div>"
   ]
  }
 ],
 "metadata": {
  "language_info": {
   "name": "python"
  },
  "orig_nbformat": 4
 },
 "nbformat": 4,
 "nbformat_minor": 2
}
