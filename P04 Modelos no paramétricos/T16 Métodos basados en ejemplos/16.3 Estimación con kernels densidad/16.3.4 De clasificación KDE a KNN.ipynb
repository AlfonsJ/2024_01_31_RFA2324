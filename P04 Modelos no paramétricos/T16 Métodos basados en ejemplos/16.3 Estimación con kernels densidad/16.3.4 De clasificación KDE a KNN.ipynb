{
 "cells": [
  {
   "attachments": {},
   "cell_type": "markdown",
   "metadata": {},
   "source": [
    "# De clasificación KDE a KNN\n",
    "\n",
    "**Problema de clasificación:** $\\;$ sea $\\boldsymbol{x}$ una muestra a clasificar con base en conjunto de datos $\\mathcal{D}$ y sea $K\\geq 1$\n",
    "\n",
    "**Densidad de una clase $c$ en $\\boldsymbol{x}$ estimada con KDE balloon:** $\\;$ hacemos crecer un volumen alrededor de $\\boldsymbol{x}$, $V(\\boldsymbol{x})$, hasta encontrar $K$ datos\n",
    "$$p(\\boldsymbol{x}\\mid y=c,\\mathcal{D})=\\dfrac{\\dfrac{N_c(\\boldsymbol{x})}{N_c}}{V(\\boldsymbol{x})}$$\n",
    "donde $N_c(\\boldsymbol{x})$ es el número de datos de la clase $c$ en $V(\\boldsymbol{x})$ y $N_c$ es el total de datos de la clase $c$ (en $\\mathcal{D}$)\n",
    "\n",
    "**Posterior de una clase $c$ en $\\boldsymbol{x}$:** $\\;$ con priors de las clases estimadas como frecuencias relativas, coincide con la estimación KNN\n",
    "$$p(y=c\\mid\\boldsymbol{x},\\mathcal{D})%\n",
    "=\\dfrac{\\dfrac{N_c(\\boldsymbol{x})}{N_cV(\\boldsymbol{x})}\\dfrac{N_c}{N}}{\\sum_{c'}\\dfrac{N_{c'}(\\boldsymbol{x})}{N_{c'}V(\\boldsymbol{x})}\\dfrac{N_{c'}}{N}}%\n",
    "=\\dfrac{N_c(\\boldsymbol{x})}{\\sum_{c'}N_{c'}(\\boldsymbol{x})}%\n",
    "=\\dfrac{N_c(\\boldsymbol{x})}{K}%\n",
    "=\\dfrac{1}{K}\\sum_{n\\in N_K(\\boldsymbol{x},\\mathcal{D})}\\mathbb{I}(y_n=c)$$\n",
    "\n",
    "**Clasificador KNN:** $\\;$ puede verse como un clasificador generativo en el que las densidades condicionales se estiman con KDE balloon"
   ]
  }
 ],
 "metadata": {
  "kernelspec": {
   "display_name": "Python 3",
   "language": "python",
   "name": "python3"
  },
  "language_info": {
   "codemirror_mode": {
    "name": "ipython",
    "version": 3
   },
   "file_extension": ".py",
   "mimetype": "text/x-python",
   "name": "python",
   "nbconvert_exporter": "python",
   "pygments_lexer": "ipython3",
   "version": "3.10.6"
  },
  "orig_nbformat": 4,
  "vscode": {
   "interpreter": {
    "hash": "e7370f93d1d0cde622a1f8e1c04877d8463912d04d973331ad4851f04de6915a"
   }
  }
 },
 "nbformat": 4,
 "nbformat_minor": 2
}
