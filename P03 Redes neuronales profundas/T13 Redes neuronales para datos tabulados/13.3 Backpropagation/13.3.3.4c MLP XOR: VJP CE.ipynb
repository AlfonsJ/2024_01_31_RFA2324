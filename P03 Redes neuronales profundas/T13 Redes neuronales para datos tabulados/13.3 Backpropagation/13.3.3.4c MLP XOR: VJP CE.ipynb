{
 "cells": [
  {
   "cell_type": "markdown",
   "metadata": {},
   "source": [
    "# 13.3.3.4c MLP XOR: VJP CE"
   ]
  },
  {
   "cell_type": "markdown",
   "metadata": {},
   "source": [
    "**VJP:** $\\qquad\\boldsymbol{u}^t\\mathbf{J}_{\\mathcal{L}}(\\boldsymbol{x})=\\underbrace{\\boldsymbol{u}^t}_{1\\times m}\\underbrace{\\mathbf{J}_{\\mathcal{L}}(\\boldsymbol{a})}_{m\\times m_3}\\underbrace{\\mathbf{J}_{\\boldsymbol{a}}(\\boldsymbol{h})}_{m_3\\times m_2}\\underbrace{\\mathbf{J}_{\\boldsymbol{h}}(\\boldsymbol{z})}_{m_2\\times m_1}\\underbrace{\\mathbf{J}_{\\boldsymbol{z}}(\\boldsymbol{x})}_{m_1\\times n}\\in\\mathbb{R}^{1\\times n}$\n",
    "\n",
    "**VJP con respecto a $\\boldsymbol{a}$:** $\\qquad\\underbrace{\\boldsymbol{u}^t}_{1\\times m}\\underbrace{\\mathbf{J}_{\\mathcal{L}}(\\boldsymbol{a})}_{m\\times m_3}=\\underbrace{\\mathbf{J}_{\\mathcal{L}}(\\boldsymbol{a})}_{1\\times m_3}\\quad$ ya que $m=1$ e, inicialmente, $u=1;\\; m_3=2$"
   ]
  },
  {
   "cell_type": "code",
   "execution_count": 1,
   "metadata": {},
   "outputs": [
    {
     "name": "stdout",
     "output_type": "stream",
     "text": [
      "Ja = [[-0.2689  0.2689], [ 0.2689 -0.2689], [ 0.2689 -0.2689], [-0.7311  0.7311]]\n"
     ]
    }
   ],
   "source": [
    "import numpy as np; np.set_printoptions(precision=4)\n",
    "p = np.array([[0.7311, 0.2689], [0.2689, 0.7311], [0.2689, 0.7311], [0.2689, 0.7311]])\n",
    "y = np.array([[1, 0], [0, 1], [0, 1], [1, 0]])\n",
    "Ja = p - y; print('Ja =', str(Ja).replace('\\n',','))"
   ]
  }
 ],
 "metadata": {
  "kernelspec": {
   "display_name": "Python 3",
   "language": "python",
   "name": "python3"
  },
  "language_info": {
   "codemirror_mode": {
    "name": "ipython",
    "version": 3
   },
   "file_extension": ".py",
   "mimetype": "text/x-python",
   "name": "python",
   "nbconvert_exporter": "python",
   "pygments_lexer": "ipython3",
   "version": "3.11.4"
  },
  "orig_nbformat": 4
 },
 "nbformat": 4,
 "nbformat_minor": 2
}
