{
 "cells": [
  {
   "cell_type": "markdown",
   "metadata": {},
   "source": [
    "# 14.5.4 Segmentación semántica\n",
    "\n",
    "**Semantic segmentation:** $\\;$ produce una etiqueta de clase por cada píxel (sin diferenciar objetos como segmentación de instancias)\n",
    "\n",
    "**Arquitectura encoder-decoder:**\n",
    "* **Encoder:** $\\;$ transforma la entrada en un cuello de botella 2d mediante convoluciones (dilatadas) estándar para capturar características de alto nivel a baja resolución espacial\n",
    "* **Decoder:** $\\;$ devuelve el cuello de botella 2d a una imagen de salida de tamaño completo mediante convoluciones transpuestas\n",
    "* Se añaden conexiones de salto de las capas de entrada a las de salida ya que el cuello de botella pierde información\n",
    "\n",
    "**Ejemplo:** $\\;$ CNN encoder-decoder para segmentación semántica\n",
    "<div align=\"center\">\n",
    "<table><tr>\n",
    "<td style=\"border: none;\"><img src=\"Figure_14.29.png\" width=800/></td>\n",
    "</tr></table>\n",
    "</div>\n",
    "\n",
    "**U-net:** arquitectura encoder-decoder representada en forma de U\n",
    "<div align=\"center\">\n",
    "<table><tr>\n",
    "<td style=\"border: none;\"><img src=\"Figure_14.30.png\" width=600/></td>\n",
    "</tr></table>\n",
    "</div>\n",
    "\n",
    "**Aplicaciones U-net:** $\\;$ **dense prediction** o **image-to-image** como **depth prediction** y **surface normal prediction**\n",
    "<div align=\"center\">\n",
    "<table><tr>\n",
    "<td style=\"border: none;\"><img src=\"Figure_14.31.png\" width=600/></td>\n",
    "</tr></table>\n",
    "</div>\n",
    "\n",
    "**Panoptic segmentation:** $\\;$ combina segmentación semántica y de instancias de manera coherente"
   ]
  }
 ],
 "metadata": {
  "language_info": {
   "name": "python"
  },
  "orig_nbformat": 4
 },
 "nbformat": 4,
 "nbformat_minor": 2
}
