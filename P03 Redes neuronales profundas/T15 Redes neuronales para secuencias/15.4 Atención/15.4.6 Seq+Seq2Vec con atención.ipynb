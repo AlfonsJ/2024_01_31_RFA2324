{
 "cells": [
  {
   "cell_type": "markdown",
   "metadata": {},
   "source": [
    "# 15.4.6 Seq+Seq2Vec con atención"
   ]
  },
  {
   "cell_type": "markdown",
   "metadata": {},
   "source": [
    "## Textual entailment o inferencia en lenguaje natural\n",
    "\n",
    "Dados dos textos, una premisa y una hipótesis, decimos que\n",
    "* la premisa **implica (entails)** la hipótesis si la hipótesis es verosímil dada la premisa\n",
    "* la premisa **contradice** la hipótesis si la hipótesis no es verosímil dada la premisa\n",
    "* la relación entre ambas es **neutra** si la hipótesis puede darse o no, dada la premisa\n",
    "\n",
    "**Stanford Natural Language Inference (SNLI):** $\\;$ 550K pares de frases etiquetados según las tres categorías anteriores"
   ]
  },
  {
   "cell_type": "markdown",
   "metadata": {},
   "source": [
    "## Modelo de 2016 para textual entailment\n",
    "\n",
    "**Representación:** $\\;$ clasificación de $\\,$ `I do not sleep` $\\,$ **implica** $\\,$ `I am tired`\n",
    "<div><table align=center><tr>\n",
    "<td style=\"border: none;\"><img src=\"Figure_15.21.png\" width=600/></td>\n",
    "</tr></table></div>\n",
    "\n",
    "**Entrada:** $\\;$ premisa $\\,\\mathbf{A}=(\\boldsymbol{a}_1,\\dotsc,\\boldsymbol{a}_m)\\,$ e hipótesis $\\,\\mathbf{B}=(\\boldsymbol{b}_1,\\dotsc,\\boldsymbol{b}_n)$; $\\;\\boldsymbol{a}_i,\\boldsymbol{b}_j\\in\\mathbb{R}^E$ son vectores de embedding de palabras\n",
    "\n",
    "**Paso 1:** $\\;$ comparación de la premisa con la hipótesis\n",
    "\n",
    "Cada $\\,\\boldsymbol{a}_i\\,$ atiende a cada $\\,\\boldsymbol{b}_j\\,$ para calcular un peso de atención con un MLP $\\,f:\\mathbb{R}^E\\to\\mathbb{R}^D,$ \n",
    "$$e_{ij}=f(\\boldsymbol{a}_i)^tf(\\boldsymbol{b}_j)$$ \n",
    "y obtener un promedio ponderado de las palabras que encajan en la hipótesis\n",
    "$$\\boldsymbol{\\beta}_i=\\sum_{j=1}^n\\frac{\\exp(e_{ij})}{\\sum_{k=1}^m\\exp(e_{ik})}\\boldsymbol{b}_j$$\n",
    "\n",
    "Luego, se compara $\\boldsymbol{a}_i$ con $\\boldsymbol{\\beta}_i$ mediante transformación de su concatenación a un espacio oculto con un MLP $g:\\mathbb{R}^{2E}\\to\\mathbb{R}^H$\n",
    "$$\\boldsymbol{v}_{A,i}=g([\\boldsymbol{a}_i,\\boldsymbol{\\beta}_i])\\qquad(i=1,\\dotsc,m)$$\n",
    "y se suman las comparaciones para obtener una similitud global de la premisa a la hipótesis:\n",
    "$$\\boldsymbol{v}_A=\\sum\\nolimits_{i=1}^m\\boldsymbol{v}_{A,i}$$\n",
    "\n",
    "**Paso 2:** $\\;$ comparación de la hipótesis con la premisa de forma análoga\n",
    "$$\\begin{align}\n",
    "  \\boldsymbol{\\alpha}_j&=\\sum_{i=1}^n\\frac{\\exp(e_{ij})}{\\sum_{k=1}^m\\exp(e_{kj})}\\boldsymbol{a}_i\\\\%\n",
    "  \\boldsymbol{v}_{B,j}&=g([\\boldsymbol{b}_j,\\boldsymbol{\\alpha}_j])\\qquad(j=1,\\dotsc,n)\\\\%\n",
    "  \\boldsymbol{v}_B&=\\sum_{j=1}^n\\boldsymbol{v}_{B,j}%\n",
    "\\end{align}$$\n",
    "\n",
    "**Paso 3:** $\\;$ se clasifica la salida con otro MLP, $\\,h:\\mathbb{R}^{2H}\\to\\mathbb{R}^3$\n",
    "$$\\hat{y}=h([\\boldsymbol{v}_A,\\boldsymbol{v}_B])$$"
   ]
  },
  {
   "cell_type": "markdown",
   "metadata": {},
   "source": [
    "## Semantic textual similarity\n",
    "\n",
    "Tarea relacionada; se trata de predecir el grado de similitud semántica entre dos frases; p.e., en el **benchmark STS** se mide de 0 a 5"
   ]
  }
 ],
 "metadata": {
  "language_info": {
   "name": "python"
  },
  "orig_nbformat": 4
 },
 "nbformat": 4,
 "nbformat_minor": 2
}
