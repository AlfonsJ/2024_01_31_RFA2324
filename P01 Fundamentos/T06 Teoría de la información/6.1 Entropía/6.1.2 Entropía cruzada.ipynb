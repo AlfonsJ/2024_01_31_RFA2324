{
 "cells": [
  {
   "attachments": {},
   "cell_type": "markdown",
   "metadata": {},
   "source": [
    "# Entropía cruzada\n",
    "\n",
    "La **entropía cruzada** entre una distribución $p$ y otra $q$ es:\n",
    "$$\\mathbb{H}(p,q)=-\\sum_k\\;p_k\\log q_k$$\n",
    "Se puede ver como el número esperado de bits necesario para comprimir muestras de $p$ mediante un cuantificador basado en $q$.\n",
    "\n",
    "Alcanza su mínimo con $q=p$, cumpliéndose $\\mathbb{H}(p,p)=\\mathbb{H}(p)$."
   ]
  }
 ],
 "metadata": {
  "kernelspec": {
   "display_name": "Python 3",
   "language": "python",
   "name": "python3"
  },
  "language_info": {
   "name": "python",
   "version": "3.10.6"
  },
  "orig_nbformat": 4
 },
 "nbformat": 4,
 "nbformat_minor": 2
}
