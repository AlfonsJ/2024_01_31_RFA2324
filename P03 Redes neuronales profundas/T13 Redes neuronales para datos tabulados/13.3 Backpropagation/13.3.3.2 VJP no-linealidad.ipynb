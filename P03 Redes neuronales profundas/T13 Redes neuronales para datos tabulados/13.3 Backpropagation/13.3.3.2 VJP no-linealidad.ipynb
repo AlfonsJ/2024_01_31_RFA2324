{
 "cells": [
  {
   "cell_type": "markdown",
   "metadata": {},
   "source": [
    "# 13.3.3.2 Capa de no-linealidad elemental"
   ]
  },
  {
   "cell_type": "markdown",
   "metadata": {},
   "source": [
    "**Capa de no-linealidad elemental:** $\\qquad\\boldsymbol{z}=\\boldsymbol{f}(\\boldsymbol{x})=\\varphi(\\boldsymbol{x})$\n",
    "\n",
    "**Jacobiana con respecto a $\\boldsymbol{x}$:** $\\qquad\\displaystyle\\mathbf{J}=\\frac{\\partial\\boldsymbol{z}}{\\partial\\boldsymbol{x}}=\\operatorname{diag}(\\varphi'(\\boldsymbol{x}))$\n",
    "\n",
    "* Para toda fila $i$ y columna $j$: $\\qquad\\displaystyle\\frac{\\partial z_i}{\\partial x_j}=\\mathbb{I}(i=j)\\,\\frac{d}{dx_i}\\varphi(x_i)=\\mathbb{I}(i=j)\\,\\varphi'(x_i)$\n",
    "\n",
    "* Si $\\;\\varphi(a)=\\operatorname{ReLU}(a)=\\max(a,0):\\qquad \\varphi'(a)=H(a)=\\mathbb{I}(a>0)$"
   ]
  },
  {
   "cell_type": "markdown",
   "metadata": {},
   "source": [
    "## Modelo XOR inicial"
   ]
  }
 ],
 "metadata": {
  "kernelspec": {
   "display_name": "Python 3",
   "language": "python",
   "name": "python3"
  },
  "language_info": {
   "codemirror_mode": {
    "name": "ipython",
    "version": 3
   },
   "file_extension": ".py",
   "mimetype": "text/x-python",
   "name": "python",
   "nbconvert_exporter": "python",
   "pygments_lexer": "ipython3",
   "version": "3.10.6"
  },
  "orig_nbformat": 4
 },
 "nbformat": 4,
 "nbformat_minor": 2
}
