{
 "cells": [
  {
   "attachments": {},
   "cell_type": "markdown",
   "metadata": {},
   "source": [
    "# Pérdidas de ranking\n",
    "\n",
    "**Objetivo:** $\\;$ garantizar que ejemplos similares estén más cerca que ejemplos diferentes\n",
    "\n",
    "**Gran aplicabilidad:** $\\;$ la mayorı́a de métodos propuestos no requieren etiquetas de clase"
   ]
  },
  {
   "attachments": {},
   "cell_type": "markdown",
   "metadata": {},
   "source": [
    "## Pérdida (contrastiva) de pares y redes siamesas\n",
    "\n",
    "**Pérdida de pares:** $\\;$ criterio pionero de aprendizaje de representaciones a partir de pares similares/diferentes\n",
    "$$\\mathcal{L}(\\boldsymbol{\\theta};\\boldsymbol{x}_i,\\boldsymbol{x}_j)%\n",
    "=\\mathbb{I}(y_i=y_j)d(\\boldsymbol{x}_i,\\boldsymbol{x}_j)^2%\n",
    "+\\mathbb{I}(y_i\\neq y_j)[m-d(\\boldsymbol{x}_i,\\boldsymbol{x}_j)]_+^2%\n",
    "\\quad\\text{donde}\\;[z]_+=\\max(z, 0)\\;\\text{y}\\;m>0$$\n",
    "\n",
    "**Minimización:** $\\;$ se realiza sobre todos los pares de datos, aunque con positivos y negativos por separado\n",
    "* Los positivos (con la misma etiqueta) deben estar cerca\n",
    "* Los negativos (con distintas etiquetas) deben estar alejados con al menos un margen de seguridad mı́nimo, $m$\n",
    "* La minimización separada dificulta la comparación de magnitudes positivas y negativas entre si\n",
    "\n",
    "**Red siamesa:** $\\;$ minimiza la pérdida de pares usando el mismo extractor de caracterı́sticas para ambas entradas, $\\boldsymbol{x}_i$ y $\\boldsymbol{x}_j$\n",
    "\n",
    "<p align=\"center\"><img width=\"500\" src=\"Figure_16.5_A.png\"></p>"
   ]
  },
  {
   "attachments": {},
   "cell_type": "markdown",
   "metadata": {},
   "source": [
    "## Pérdida triplete\n",
    "\n",
    "**Pérdida triplete:** $\\;$ cada ejemplo o **ancla** $\\boldsymbol{x}_i$ forma un triplete junto con un ejemplo similar (positivo) $\\boldsymbol{x}_i^+$ y otro diferente (negativo) $\\boldsymbol{x}_i^-$\n",
    "$$\\mathcal{L}(\\boldsymbol{\\theta};\\boldsymbol{x}_i,\\boldsymbol{x}_i^+,\\boldsymbol{x}_i^-)%\n",
    "=[d(\\boldsymbol{x}_i,\\boldsymbol{x}_i^+)^2-d(\\boldsymbol{x}_i,\\boldsymbol{x}_i^-)^2+m]_+$$\n",
    "\n",
    "**Minimización:** $\\;$ se realiza sobre todos los tripletes\n",
    "* Persigue que (el cuadrado de) la distancia al positivo sea menor que al negativo, en al menos un margen $m$\n",
    "* A diferencia de la pérdida de pares, la minimización de pares positivos y negativos es interdependiente, no independiente\n",
    "* El coste temporal de su minimización directa es muy elevado, $O(N^3)$\n",
    "\n",
    "**Red triplete:** $\\;$ minimiza la pérdida triplete con minibatches que incluyan al menos un ejemplo positivo y otro negativo de cada ancla\n",
    "\n",
    "<p align=\"center\"><img width=\"500\" src=\"Figure_16.5_B.png\"></p>"
   ]
  }
 ],
 "metadata": {
  "kernelspec": {
   "display_name": "Python 3",
   "language": "python",
   "name": "python3"
  },
  "language_info": {
   "codemirror_mode": {
    "name": "ipython",
    "version": 3
   },
   "file_extension": ".py",
   "mimetype": "text/x-python",
   "name": "python",
   "nbconvert_exporter": "python",
   "pygments_lexer": "ipython3",
   "version": "3.10.6"
  },
  "orig_nbformat": 4,
  "vscode": {
   "interpreter": {
    "hash": "e7370f93d1d0cde622a1f8e1c04877d8463912d04d973331ad4851f04de6915a"
   }
  }
 },
 "nbformat": 4,
 "nbformat_minor": 2
}
