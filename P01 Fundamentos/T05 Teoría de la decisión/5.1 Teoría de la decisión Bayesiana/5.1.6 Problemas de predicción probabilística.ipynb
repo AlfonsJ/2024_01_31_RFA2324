{
 "cells": [
  {
   "attachments": {},
   "cell_type": "markdown",
   "metadata": {},
   "source": [
    "# Problemas de predicción probabilística\n",
    "\n",
    "En los problemas de predicción probabilística asumimos que los estados de la naturaleza y acciones son distribuciones de probabilidad. Suponemos $h=p(Y\\mid x)$ y queremos escoger $a=q(Y\\mid x)$ tal que $q$ minimice $\\mathbb{E}[\\ell(p,q)]$ para un $x$ dado."
   ]
  },
  {
   "attachments": {},
   "cell_type": "markdown",
   "metadata": {},
   "source": [
    "## KL, entropía cruzada y log-pérdida\n",
    "\n",
    "La función de pérdida más popular es la **divergencia de Kullback-Leibler (KL):**\n",
    "$$\\mathbb{KL}(p\\Vert q)=-\\mathbb{H}(p)+\\mathbb{H}(p,q)$$\n",
    "donde $\\mathbb{H}(p)$ es la entropía de $p$ y $\\mathbb{H}(p,q)$ la entropía cruzada entre $p$ y $q$. Su minimización equivale a minimizar la **entropía cruzada:**\n",
    "$$\\begin{align*}\n",
    "q^*(Y\\mid x)%\n",
    "&=\\operatorname*{argmin}_q\\;\\mathbb{KL}(p(Y\\Vert x),q(Y\\mid x))\\\\%\n",
    "&=\\operatorname*{argmin}_q\\;-\\mathbb{H}(p) + \\mathbb{H}(p(Y\\mid x),q(Y\\mid x))\\\\%\n",
    "&=\\operatorname*{argmin}_q\\;\\mathbb{H}(p(Y\\mid x),q(Y\\mid x))%\n",
    "\\end{align*}$$\n"
   ]
  }
 ],
 "metadata": {
  "kernelspec": {
   "display_name": "Python 3",
   "language": "python",
   "name": "python3"
  },
  "language_info": {
   "codemirror_mode": {
    "name": "ipython",
    "version": 3
   },
   "file_extension": ".py",
   "mimetype": "text/x-python",
   "name": "python",
   "nbconvert_exporter": "python",
   "pygments_lexer": "ipython3",
   "version": "3.10.6"
  },
  "orig_nbformat": 4
 },
 "nbformat": 4,
 "nbformat_minor": 2
}
