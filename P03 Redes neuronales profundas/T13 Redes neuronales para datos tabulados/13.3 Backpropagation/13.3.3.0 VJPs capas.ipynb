{
 "cells": [
  {
   "cell_type": "markdown",
   "metadata": {},
   "source": [
    "# 13.3.3 Productos vector-Jacobiana para las capas"
   ]
  },
  {
   "cell_type": "markdown",
   "metadata": {},
   "source": [
    "**Recordatorio sobre la Jacobiana de $\\boldsymbol{f}$:** $\\quad\\mathbf{J}_{\\boldsymbol{f}}(\\boldsymbol{x})\\in\\mathbf{R}^{m\\times n}$\n",
    "$$\\mathbf{J}_{\\boldsymbol{f}}(\\boldsymbol{x})%\n",
    "=\\frac{\\partial\\boldsymbol{f}(\\boldsymbol{x})}{\\partial\\boldsymbol{x}}%\n",
    "=\\begin{bmatrix}%\n",
    "\\frac{\\partial f_1}{\\partial x_1}&\\cdots&\\frac{\\partial f_1}{\\partial x_n}\\\\%\n",
    "\\vdots&\\ddots&\\vdots\\\\%\n",
    "\\frac{\\partial f_m}{\\partial x_1}&\\cdots&\\frac{\\partial f_m}{\\partial x_n}%\n",
    "\\end{bmatrix}%\n",
    "=\\begin{bmatrix}\n",
    "\\mathbf{\\nabla} f_1(\\boldsymbol{x})^t\\\\%\n",
    "\\vdots\\\\%\n",
    "\\mathbf{\\nabla} f_m(\\boldsymbol{x})^t%\n",
    "\\end{bmatrix}%\n",
    "=\\begin{bmatrix}\n",
    "\\frac{\\partial\\boldsymbol{f}}{\\partial x_1},\\ldots,\\frac{\\partial\\boldsymbol{f}}{\\partial x_n}%\n",
    "\\end{bmatrix}$$"
   ]
  }
 ],
 "metadata": {
  "kernelspec": {
   "display_name": "Python 3",
   "language": "python",
   "name": "python3"
  },
  "language_info": {
   "codemirror_mode": {
    "name": "ipython",
    "version": 3
   },
   "file_extension": ".py",
   "mimetype": "text/x-python",
   "name": "python",
   "nbconvert_exporter": "python",
   "pygments_lexer": "ipython3",
   "version": "3.10.6"
  },
  "orig_nbformat": 4
 },
 "nbformat": 4,
 "nbformat_minor": 2
}
