{
 "cells": [
  {
   "cell_type": "markdown",
   "metadata": {},
   "source": [
    "# MLP XOR: backprop a mano"
   ]
  },
  {
   "cell_type": "markdown",
   "metadata": {},
   "source": [
    "## Forward: $\\small\\quad\\boldsymbol{x}\\to\\boldsymbol{z}(\\mathbf{W},\\boldsymbol{b}_1)\\to\\boldsymbol{h}\\to\\boldsymbol{a}(\\mathbf{V},\\boldsymbol{b}_2)\\to\\mathcal{L}$"
   ]
  },
  {
   "cell_type": "markdown",
   "metadata": {},
   "source": [
    "### Paso forward para un $\\boldsymbol{x}$ genérico:\n",
    "$$\\begin{align*}\n",
    "\\boldsymbol{x}&=(x_1,x_2)\\in\\{0, 1\\}^n%\n",
    "&&\\text{donde}\\quad n=2\\\\%\n",
    "\\boldsymbol{z}&=\\mathbf{W}\\boldsymbol{x}+\\boldsymbol{b}_1\\in\\mathbb{R}^{m_1}%\n",
    "&&\\text{donde}\\quad m_1=2,\\,\\mathbf{W}\\in\\mathbb{R}^{m_1\\times n}\\;\\text{y}\\;\\boldsymbol{b}_1\\in\\mathbb{R}^{m_1}\\\\%\n",
    "\\boldsymbol{h}&=\\operatorname{ReLU}(\\boldsymbol{z})\\in\\mathbb{R}^{m_2}%\n",
    "&&\\text{donde}\\quad m_2=2\\\\%\n",
    "\\boldsymbol{a}&=\\mathbf{V}\\boldsymbol{h}+\\boldsymbol{b}_2\\in\\mathbb{R}^{m_3}%\n",
    "&&\\text{donde}\\quad m_3=2,\\,\\mathbf{V}\\in\\mathbb{R}^{m_3\\times m_2}\\;\\text{y}\\;\\boldsymbol{b}_2\\in\\mathbb{R}^{m_3}\\\\%\n",
    "\\hat{\\boldsymbol{y}}&=\\mathcal{S}(\\boldsymbol{a})\\in[0,1]^{m_3}%\n",
    "&&\\text{probabilidades de las clases $0$ y $1$}\\\\%\n",
    "\\mathcal{L}&=\\operatorname{CrossEntropy}(\\boldsymbol{y},\\hat{\\boldsymbol{y}})\\in\\mathbb{R}%\n",
    "&&\\text{salida escalar}\\quad m=1%\n",
    "\\end{align*}$$\n",
    "\n",
    "$$\\mathbf{W}=\\begin{pmatrix}1&1\\\\1&1\\end{pmatrix}\\quad \\boldsymbol{b}_1=\\begin{pmatrix}-1\\\\0.5\\end{pmatrix}\\quad \\mathbf{V}=\\begin{pmatrix}1&-1\\\\-1&1\\end{pmatrix}\\quad\\boldsymbol{b}_2=\\begin{pmatrix}1\\\\-1\\end{pmatrix}$$"
   ]
  },
  {
   "cell_type": "markdown",
   "metadata": {},
   "source": [
    "### Paso forward para cada $\\boldsymbol{x}$:\n",
    "<div align=\"center\">\n",
    "\n",
    "|$x_1$|$x_2$|$\\boldsymbol{z}=\\mathbf{W}\\boldsymbol{x}+\\boldsymbol{b}_1$|$\\boldsymbol{h}=\\operatorname{ReLU}(\\boldsymbol{z})$|$\\boldsymbol{a}=\\mathbf{V}\\boldsymbol{h}+\\boldsymbol{b}_2$|$\\hat{\\boldsymbol{y}}=\\mathcal{S}(\\boldsymbol{a})$|$-\\boldsymbol{y}^t\\log(\\hat{\\boldsymbol{y}})$|\n",
    "|:-:|:-:|:-:|:-:|:-:|:-:|:-:|\n",
    "|$0$|$0$|$(-1, 0.5)^t$|$(0, 0.5)^t$|$(0.5, -0.5)^t$|$(0.7311, 0.2689)^t$|$(0.3133, 0)^t$|\n",
    "|$0$|$1$|$(0, 1.5)^t$ |$(0, 1.5)^t$|$(-0.5, 0.5)^t$|$(0.2689, 0.7311)^t$|$(0, 0.3133)^t$|\n",
    "|$1$|$0$|$(0, 1.5)^t$ |$(0, 1.5)^t$|$(-0.5, 0.5)^t$|$(0.2689, 0.7311)^t$|$(0, 0.3133)^t$|\n",
    "|$1$|$1$|$(1, 2.5)^t$ |$(1, 2.5)^t$|$(-0.5, 0.5)^t$|$(0.2689, 0.7311)^t$|$(1.3133, 0)^t$|\n",
    "\n",
    "</div>"
   ]
  },
  {
   "cell_type": "markdown",
   "metadata": {},
   "source": [
    "## Backward: $\\small\\quad\\mathcal{L}\\to\\boldsymbol{a}(\\mathbf{V},\\boldsymbol{b}_2)\\to\\boldsymbol{h}\\to\\boldsymbol{z}(\\mathbf{W},\\boldsymbol{b}_1)\\to\\boldsymbol{x}$"
   ]
  },
  {
   "cell_type": "markdown",
   "metadata": {},
   "source": [
    "### Paso backward para un $\\boldsymbol{x}$ genérico:\n",
    "$$\\boldsymbol{u}_{K+1}=\\boldsymbol{1};\\qquad\\text{para}\\;k=K:1:\\quad\\boldsymbol{g}_k=\\boldsymbol{u}_{k+1}^t\\dfrac{\\partial\\boldsymbol{f}(\\boldsymbol{x}_k,\\boldsymbol{\\theta}_k)}{\\partial\\boldsymbol{\\theta}_k}\\quad\\boldsymbol{u}_k^t=\\boldsymbol{u}_{k+1}^t\\dfrac{\\partial\\boldsymbol{f}(\\boldsymbol{x}_k,\\boldsymbol{\\theta}_k)}{\\partial\\boldsymbol{x}_k}$$"
   ]
  },
  {
   "cell_type": "markdown",
   "metadata": {},
   "source": [
    "**Capa de entropía cruzada:** $\\quad\\boldsymbol{u}^t=(u_1, u_2)\\;$ es un vector $1\\times 2$ a partir de aquí\n",
    "$$\\boldsymbol{u}^t=1^t\\frac{\\partial\\mathcal{L}}{\\partial\\boldsymbol{a}}=(\\hat{\\boldsymbol{y}}-\\boldsymbol{y})^t$$"
   ]
  },
  {
   "cell_type": "markdown",
   "metadata": {},
   "source": [
    "**Capa lineal previa a la softmax:**\n",
    "$$\\begin{align*}\n",
    "\\frac{\\partial\\boldsymbol{a}}{\\partial\\mathbf{V}}%\n",
    "&=\\left[\\frac{\\partial a_1}{\\partial\\mathbf{V}}, \\frac{\\partial a_2}{\\partial\\mathbf{V}}\\right]^t%\n",
    "=\\left[\\begin{pmatrix}\\frac{\\partial a_1}{\\partial V_{11}}&\\frac{\\partial a_1}{\\partial V_{12}}\\\\%\n",
    "\\frac{\\partial a_1}{\\partial V_{21}}&\\frac{\\partial a_1}{\\partial V_{22}}\\end{pmatrix},\n",
    "\\begin{pmatrix}\\frac{\\partial a_2}{\\partial V_{11}}&\\frac{\\partial a_2}{\\partial V_{12}}\\\\%\n",
    "\\frac{\\partial a_2}{\\partial V_{21}}&\\frac{\\partial a_2}{\\partial V_{22}}\\end{pmatrix}\\right]^t%\n",
    "=\\left[\\begin{pmatrix}h_1&h_2\\\\0&0\\end{pmatrix},\\begin{pmatrix}0&0\\\\h_1&h_2\\end{pmatrix}\\right]^t\\\\\n",
    "%\n",
    "\\frac{\\partial\\boldsymbol{a}}{\\partial\\boldsymbol{b}_2}%\n",
    "&=\\left[\\frac{\\partial a_1}{\\partial\\boldsymbol{b}_2}, \\frac{\\partial a_2}{\\partial\\boldsymbol{b}_2}\\right]^t%\n",
    "=\\left[\\begin{pmatrix}\\frac{\\partial a_1}{\\partial b_{21}}\\\\\\frac{\\partial a_1}{\\partial b_{22}}\\end{pmatrix},\n",
    "\\begin{pmatrix}\\frac{\\partial a_2}{\\partial b_{21}}\\\\\\frac{\\partial a_2}{\\partial b_{22}}\\end{pmatrix}\\right]^t%\n",
    "=\\left[\\begin{pmatrix}1\\\\0\\end{pmatrix},\\begin{pmatrix}0\\\\1\\end{pmatrix}\\right]^t\\\\\n",
    "%\n",
    "\\boldsymbol{g}_{\\mathbf{V}}%\n",
    "&=\\boldsymbol{u}^t\\frac{\\partial\\boldsymbol{a}}{\\partial\\mathbf{V}}%\n",
    "=u_1\\begin{pmatrix}h_1&h_2\\\\0&0\\end{pmatrix}+u_2\\begin{pmatrix}0&0\\\\h_1&h_2\\end{pmatrix}%\n",
    "=\\begin{pmatrix}u_1\\boldsymbol{h}^t\\\\u_2\\boldsymbol{h}^t\\end{pmatrix}%\n",
    "=\\boldsymbol{u}\\otimes\\boldsymbol{h}^t\\\\%\n",
    "%\n",
    "\\boldsymbol{g}_{\\boldsymbol{b}_2}%\n",
    "&=\\boldsymbol{u}^t\\frac{\\partial\\boldsymbol{a}}{\\partial\\boldsymbol{b}_2}%\n",
    "=u_1\\begin{pmatrix}1\\\\0\\end{pmatrix}+u_2\\begin{pmatrix}0\\\\1\\end{pmatrix}%\n",
    "=\\begin{pmatrix}u_1\\\\u_2\\end{pmatrix}=\\boldsymbol{u}\\\\%\n",
    "%\n",
    "\\boldsymbol{u}^t%\n",
    "&=\\boldsymbol{u}^t\\frac{\\partial\\boldsymbol{a}}{\\partial\\boldsymbol{h}}=\\boldsymbol{u}^t\\mathbf{V}%\n",
    "\\end{align*}$$"
   ]
  },
  {
   "cell_type": "markdown",
   "metadata": {},
   "source": [
    "**Capa de no-linealidad elemental:**\n",
    "$$\\begin{align*}\n",
    "\\frac{\\partial\\boldsymbol{h}}{\\partial\\boldsymbol{z}}%\n",
    "&=\\operatorname{diag}(H(\\boldsymbol{z}))%\n",
    "=\\begin{pmatrix}H(z_1)&0\\\\0&H(z_2)\\end{pmatrix}\\\\%\n",
    "\\boldsymbol{u}^t%\n",
    "&=\\boldsymbol{u}^t\\frac{\\partial\\boldsymbol{h}}{\\partial\\boldsymbol{z}}%\n",
    "=(u_1H(z_1), u_2H(z_2))\n",
    "\\end{align*}$$"
   ]
  },
  {
   "cell_type": "markdown",
   "metadata": {},
   "source": [
    "**Capa lineal tras la entrada:**\n",
    "$$\\begin{align*}\n",
    "\\frac{\\partial\\boldsymbol{z}}{\\partial\\mathbf{W}}%\n",
    "&=\\left[\\frac{\\partial z_1}{\\partial\\mathbf{W}}, \\frac{\\partial z_2}{\\partial\\mathbf{W}}\\right]^t%\n",
    "=\\left[\\begin{pmatrix}\\frac{\\partial z_1}{\\partial W_{11}}&\\frac{\\partial z_1}{\\partial W_{12}}\\\\%\n",
    "\\frac{\\partial z_1}{\\partial W_{21}}&\\frac{\\partial z_1}{\\partial W_{22}}\\end{pmatrix},\n",
    "\\begin{pmatrix}\\frac{\\partial z_2}{\\partial W_{11}}&\\frac{\\partial z_2}{\\partial W_{12}}\\\\%\n",
    "\\frac{\\partial z_2}{\\partial W_{21}}&\\frac{\\partial z_2}{\\partial W_{22}}\\end{pmatrix}\\right]^t%\n",
    "=\\left[\\begin{pmatrix}x_1&x_2\\\\0&0\\end{pmatrix},\\begin{pmatrix}0&0\\\\x_1&x_2\\end{pmatrix}\\right]^t\\\\%\n",
    "%\n",
    "\\frac{\\partial\\boldsymbol{z}}{\\partial\\boldsymbol{b}_1}%\n",
    "&=\\left[\\frac{\\partial z_1}{\\partial\\boldsymbol{b}_1}, \\frac{\\partial z_2}{\\partial\\boldsymbol{b}_1}\\right]^t%\n",
    "=\\left[\\begin{pmatrix}\\frac{\\partial z_1}{\\partial b_{11}}\\\\\\frac{\\partial z_1}{\\partial b_{12}}\\end{pmatrix},\n",
    "\\begin{pmatrix}\\frac{\\partial z_2}{\\partial b_{11}}\\\\\\frac{\\partial z_2}{\\partial b_{12}}\\end{pmatrix}\\right]^t%\n",
    "=\\left[\\begin{pmatrix}1\\\\0\\end{pmatrix},\\begin{pmatrix}0\\\\1\\end{pmatrix}\\right]^t\\\\%\n",
    "%\n",
    "\\boldsymbol{g}_{\\mathbf{W}}%\n",
    "&=\\boldsymbol{u}^t\\frac{\\partial\\boldsymbol{z}}{\\partial\\mathbf{W}}\n",
    "=u_1\\begin{pmatrix}x_1&x_2\\\\0&0\\end{pmatrix}+u_2\\begin{pmatrix}0&0\\\\x_1&x_2\\end{pmatrix}%\n",
    "=\\begin{pmatrix}u_1\\boldsymbol{x}^t\\\\u_2\\boldsymbol{x}^t\\end{pmatrix}%\n",
    "=\\boldsymbol{u}\\otimes\\boldsymbol{x}^t\\\\%\n",
    "%\n",
    "\\boldsymbol{g}_{\\boldsymbol{b}_1}%\n",
    "&=\\boldsymbol{u}^t\\frac{\\partial\\boldsymbol{z}}{\\partial\\boldsymbol{b}_1}%\n",
    "=u_1\\begin{pmatrix}1\\\\0\\end{pmatrix}+u_2\\begin{pmatrix}0\\\\1\\end{pmatrix}%\n",
    "=\\begin{pmatrix}u_1\\\\u_2\\end{pmatrix}=\\boldsymbol{u}\\\\%\n",
    "%\n",
    "\\boldsymbol{u}^t%\n",
    "&=\\boldsymbol{u}^t\\frac{\\partial\\boldsymbol{z}}{\\partial\\boldsymbol{x}}=\\boldsymbol{u}^t\\mathbf{W}%\n",
    "\\end{align*}$$"
   ]
  },
  {
   "cell_type": "markdown",
   "metadata": {},
   "source": [
    "### Paso backward para cada $\\boldsymbol{x}$:\n",
    "<div align=\"center\">\n",
    "\n",
    "|$x_1$|$x_2$|$\\boldsymbol{u}^t=(\\hat{\\boldsymbol{y}}-\\boldsymbol{y})^t$|$\\boldsymbol{g}_{\\mathbf{V}}=\\boldsymbol{u}\\otimes\\boldsymbol{h}^t$|$\\boldsymbol{g}_{\\boldsymbol{b}_2}=\\boldsymbol{u}$|$\\boldsymbol{u}^t=\\boldsymbol{u}^t\\mathbf{V}$|$\\boldsymbol{u}^t=\\boldsymbol{u}^t\\operatorname{diag}(H(\\boldsymbol{z}))$|$\\boldsymbol{g}_{\\mathbf{W}}=\\boldsymbol{u}\\otimes\\boldsymbol{x}^t$|$\\boldsymbol{g}_{\\boldsymbol{b}_1}=\\boldsymbol{u}$|$\\boldsymbol{u}^t=\\boldsymbol{u}^t\\mathbf{W}$|\n",
    "|:-:|:-:|:-:|:-:|:-:|:-:|:-:|:-:|:-:|:-:|\n",
    "|$0$|$0$|$(-0.2689, 0.2689)$|$\\begin{pmatrix}     0&-0.1345\\\\      0& 0.1345\\end{pmatrix}$|$\\begin{pmatrix}-0.2689\\\\0.2689\\end{pmatrix}$|$(-0.5378, 0.5378)$|$(0, 0.5378)$|$\\begin{pmatrix}0&0\\\\0&0\\end{pmatrix}$|$\\begin{pmatrix}0\\\\0.5378\\end{pmatrix}$|$(0.5378,0.5378)$|\n",
    "|$0$|$1$|$(0.2689, -0.2689)$|$\\begin{pmatrix}     0& 0.4034\\\\      0&-0.4034\\end{pmatrix}$|$\\begin{pmatrix}-0.2689\\\\0.2689\\end{pmatrix}$|$( 0.5378,-0.5378)$|$(0.5378, 0)$|$\\begin{pmatrix}0&0.5378\\\\0&0\\end{pmatrix}$|$\\begin{pmatrix}0.5378\\\\0\\end{pmatrix}$|$(0.5378,0.5378)$|\n",
    "|$1$|$0$|$(0.2689, -0.2689)$|$\\begin{pmatrix}     0& 0.4034\\\\      0&-0.4034\\end{pmatrix}$|$\\begin{pmatrix}-0.2689\\\\0.2689\\end{pmatrix}$|$( 0.5378,-0.5378)$|$(0.5378, 0)$|$\\begin{pmatrix}0.5378&0\\\\0&0\\end{pmatrix}$|$\\begin{pmatrix}0.5378\\\\0\\end{pmatrix}$|$(0.5378,0.5378)$|\n",
    "|$1$|$1$|$(-0.7311, 0.7311)$|$\\begin{pmatrix}-0.7311&-1.8278\\\\0.7311&1.8278\\end{pmatrix}$|$\\begin{pmatrix}-0.7311\\\\0.7311\\end{pmatrix}$|$(-1.4622,1.4622)$|$(-1.4622,1.4622)$|$\\begin{pmatrix}-1.4622&-1.4622\\\\1.4622&1.4622\\end{pmatrix}$|$\\begin{pmatrix}-1.4622\\\\1.4622\\end{pmatrix}$|$(0,0)$|\n",
    "\n",
    "</div>"
   ]
  }
 ],
 "metadata": {
  "kernelspec": {
   "display_name": "Python 3",
   "language": "python",
   "name": "python3"
  },
  "language_info": {
   "codemirror_mode": {
    "name": "ipython",
    "version": 3
   },
   "file_extension": ".py",
   "mimetype": "text/x-python",
   "name": "python",
   "nbconvert_exporter": "python",
   "pygments_lexer": "ipython3",
   "version": "3.11.4"
  },
  "orig_nbformat": 4
 },
 "nbformat": 4,
 "nbformat_minor": 2
}
