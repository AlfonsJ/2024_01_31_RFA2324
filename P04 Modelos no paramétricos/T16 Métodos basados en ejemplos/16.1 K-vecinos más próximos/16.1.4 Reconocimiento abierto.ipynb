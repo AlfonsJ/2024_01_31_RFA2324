{
 "cells": [
  {
   "attachments": {},
   "cell_type": "markdown",
   "metadata": {},
   "source": [
    "# Reconocimiento (de conjunto) abierto\n",
    "\n",
    "**Closed world assumption:** $\\;$ asunción tı́pica según la cual el conjunto de clases en un problema de clasificación se halla prefijado\n",
    "\n",
    "**Open set recognition:** $\\;$ posibilidad de de ampliar el conjunto de clases con muestras de test provinientes de nuevas categorías\n",
    "\n",
    "**KNN y open set recognition:** $\\;$ en contraste con otras técnicas, los clasificadores KNN pueden adaptarse con relativa facilidad\n",
    "\n",
    "**Tareas típicas de open set recognition:**\n",
    "* **Novelty detection:** el sistema detecta que la muestra de test es de una clase no vista antes; por ejemplo una cara desconocida\n",
    "* **Incremental learning, online learning, life-long learning o continual learning:** si el sistema detecta una nueva clase con éxito, pregunta por el id de la nueva clase y la añade a las existentes\n",
    "* **Out-of-distribution (OOD) detection:** se detecta que la muestra de test no es de clase conocida ni desconocida, sino que procede de una distribución enteramente distinta; p.e., una foto sin cara\n",
    "* **Few-shot classification:** tenemos pocos ejemplos (tal vez uno solo) de cada clase; caso muy adecuado para KNN y tı́pico en online\n",
    "* **Person re-identification o face verification:** se comprueba si la persona o cara de test es, con seguridad, de clase conocida\n",
    "* **Entity resolution o linking:** se trata de determinar si cadenas diferentes (p.e. \"John Smith\" y \"Jon Smith\") se refieren a la misma entidad o no\n",
    "* **Multi-object tracking:** cuando un sistema de radar detecta un nuevo \"blip\", debe decidir si se trata de un objeto ya en seguimiento o un nuevo objeto que ha entrado en el espacio aéreo"
   ]
  }
 ],
 "metadata": {
  "kernelspec": {
   "display_name": "Python 3",
   "language": "python",
   "name": "python3"
  },
  "language_info": {
   "codemirror_mode": {
    "name": "ipython",
    "version": 3
   },
   "file_extension": ".py",
   "mimetype": "text/x-python",
   "name": "python",
   "nbconvert_exporter": "python",
   "pygments_lexer": "ipython3",
   "version": "3.10.6"
  },
  "orig_nbformat": 4,
  "vscode": {
   "interpreter": {
    "hash": "e7370f93d1d0cde622a1f8e1c04877d8463912d04d973331ad4851f04de6915a"
   }
  }
 },
 "nbformat": 4,
 "nbformat_minor": 2
}
