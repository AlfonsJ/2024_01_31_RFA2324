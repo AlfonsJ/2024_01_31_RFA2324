{
 "cells": [
  {
   "cell_type": "markdown",
   "metadata": {},
   "source": [
    "# 13.4.0 Introducción\n",
    "\n",
    "**Aproximación convencional al entrenamiento:** $\\;$ minimización de la NLL\n",
    "$$\\mathcal{L}(\\boldsymbol{\\theta})=-\\log p(\\mathcal{D}\\mid\\boldsymbol{\\theta})%\n",
    "=-\\sum_{n=1}^N\\log p(\\boldsymbol{y}_n\\mid\\boldsymbol{x}_n;\\boldsymbol{\\theta})$$\n",
    "* Es usual añadir un regularizador como la log-prior negativa\n",
    "* Calculamos el gradiente de la pérdida con backprop y se lo pasamos a un optimizador estándar; Adam es muy popular\n",
    "* En la práctica se suelen presentar algunos problemas para lo cuales se tienen soluciones más o menos populares"
   ]
  }
 ],
 "metadata": {
  "kernelspec": {
   "display_name": "Python 3",
   "language": "python",
   "name": "python3"
  },
  "language_info": {
   "codemirror_mode": {
    "name": "ipython",
    "version": 3
   },
   "file_extension": ".py",
   "mimetype": "text/x-python",
   "name": "python",
   "nbconvert_exporter": "python",
   "pygments_lexer": "ipython3",
   "version": "3.10.6"
  },
  "orig_nbformat": 4
 },
 "nbformat": 4,
 "nbformat_minor": 2
}
