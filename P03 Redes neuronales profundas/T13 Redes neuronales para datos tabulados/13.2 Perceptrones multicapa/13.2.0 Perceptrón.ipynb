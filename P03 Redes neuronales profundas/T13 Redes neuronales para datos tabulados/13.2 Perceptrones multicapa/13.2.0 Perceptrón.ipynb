{
 "cells": [
  {
   "cell_type": "markdown",
   "metadata": {},
   "source": [
    "# Perceptrón\n",
    "\n",
    "**Perceptrón:** $\\;$ versión determinista de regresión logística binaria\n",
    "$$f(\\boldsymbol{x};\\boldsymbol{\\theta})=\\mathbb{I}(\\boldsymbol{w}^t\\boldsymbol{x}+b\\geq 0)=H(\\boldsymbol{w}^t\\boldsymbol{x}+b)$$\n",
    "\n",
    "**Libro Perceptrons:** $\\;$ publicado en 1969 por Marvin Minsky y Seymour Papert, proporcionó numerosos ejemplos de problemas de clasificación que los perceptrones no resuelven"
   ]
  }
 ],
 "metadata": {
  "language_info": {
   "name": "python"
  },
  "orig_nbformat": 4
 },
 "nbformat": 4,
 "nbformat_minor": 2
}
