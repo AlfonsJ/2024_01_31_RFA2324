{
 "cells": [
  {
   "cell_type": "markdown",
   "metadata": {},
   "source": [
    "# 8.3.3 Métodos en regiones de confianza\n",
    "\n",
    "**Región de confianza:** $\\;$ región $\\,\\mathcal{R}_t\\,$ alrededor de $\\boldsymbol{\\theta}_t$ donde el objetivo se aproxima bien con un modelo $M_t(\\boldsymbol{\\delta})$, $\\,\\boldsymbol{\\delta}=\\boldsymbol{\\theta}-\\boldsymbol{\\theta}_t$\n",
    "\n",
    "**Región de confianza usual:** $\\;$ bola Euclídea de radio $r$, $\\,\\mathcal{R}_t=\\{\\boldsymbol{\\delta}:\\lVert{\\boldsymbol{\\delta}}\\rVert_2\\leq r\\}$\n",
    "\n",
    "**Modelo usual:** $\\;$ cuadrático con gradiente $\\,\\boldsymbol{g}_t=\\nabla_{\\boldsymbol{\\theta}}\\mathcal{L}(\\boldsymbol{\\theta})\\rvert_{\\boldsymbol{\\theta}_t}\\,$ y Hessiana $\\,\\mathbf{H}_t=\\nabla_{\\boldsymbol{\\theta}}^2\\mathcal{L}(\\boldsymbol{\\theta})\\rvert_{\\boldsymbol{\\theta}_t}$\n",
    "$$M_t(\\boldsymbol{\\delta})=\\mathcal{L}(\\boldsymbol{\\theta}_t)+\\boldsymbol{g}_t^t\\boldsymbol{\\delta}+\\frac{1}{2}\\boldsymbol{\\delta}^t\\mathbf{H}_t\\boldsymbol{\\delta}$$\n",
    "\n",
    "**Problema de optimización en región de confianza:** $\\;$ hallar una dirección óptima en $\\mathcal{R}_t$\n",
    "$$\\begin{align*}\n",
    "\\boldsymbol{\\delta}_t^*%\n",
    "&=\\operatorname*{argmin}\\limits_{\\boldsymbol{\\delta}\\in\\mathcal{R}_t}\\;M_t(\\boldsymbol{\\delta})\\\\%\n",
    "&=\\operatorname*{argmin}\\limits_{\\boldsymbol{\\delta}:\\lVert{\\boldsymbol{\\delta}}\\rVert_2\\leq r}\\;%\n",
    "M_t(\\boldsymbol{\\delta})%\n",
    "&&(\\text{con región usual})\\\\%\n",
    "&=\\operatorname*{argmin}\\limits_{\\boldsymbol{\\delta}}\\;%\n",
    "M_t(\\boldsymbol{\\delta})+\\lambda\\lVert\\boldsymbol{\\delta}\\rVert_2^2%\n",
    "&&(\\text{$\\lambda\\,$ multiplicador de Lagrange dependiente de $\\,r$})\\\\%\n",
    "&=\\operatorname*{argmin}\\limits_{\\boldsymbol{\\delta}}\\;%\n",
    "\\boldsymbol{g}_t^t\\boldsymbol{\\delta}+\\frac{1}{2}\\boldsymbol{\\delta}^t(\\mathbf{H}_t+\\lambda\\mathbf{I})\\boldsymbol{\\delta}%\n",
    "&&(\\text{con modelo usual})%%\n",
    "\\end{align*}$$\n",
    "\n",
    "**Regularización de Tikhonov:** $\\;$ resuelve el problema con $\\,\\boldsymbol{\\delta}^*=-(\\mathbf{H}+\\lambda\\mathbf{I})^{-1}\\boldsymbol{g}_t$\n",
    "* La adición de un $\\,\\lambda\\mathbf{I}\\,$ suficientemente grande a $\\mathbf{H}$ garantiza que la matriz resultante sea definida positiva\n",
    "* Con $\\,\\lambda\\to 0\\,$ converge a Newton\n",
    "* Con un $\\lambda$ suficientemente grande, positiviza los valores propios negativos (y hace $\\lambda$ los nulos)\n",
    "\n",
    "**Ilustración:** $\\;$ objetivo con líneas discontinuas y aproximaciones cuadráticas con círculos\n",
    "\n",
    "<center><img src=\"Figure_8.15.png\" width=500></center>"
   ]
  }
 ],
 "metadata": {
  "language_info": {
   "name": "python"
  },
  "orig_nbformat": 4
 },
 "nbformat": 4,
 "nbformat_minor": 2
}
