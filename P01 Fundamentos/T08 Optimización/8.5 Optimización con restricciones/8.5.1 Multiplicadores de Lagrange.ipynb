{
 "cells": [
  {
   "cell_type": "markdown",
   "metadata": {},
   "source": [
    "# 8.5.1 Multiplicadores de Lagrange"
   ]
  },
  {
   "cell_type": "markdown",
   "metadata": {},
   "source": [
    "## Caso de una única restricción y de igualdad, $h(\\boldsymbol{\\theta})=0$\n",
    "\n",
    "**$\\nabla h(\\boldsymbol{\\theta})$ es ortogonal a la superfície de la restricción:**\n",
    "* Consideremos otro punto cercano en la superfície: $\\quad\\boldsymbol{\\theta}+\\boldsymbol{\\epsilon}$\n",
    "* Aproximación de $h$ alrededor de $\\boldsymbol{\\theta}$ con una serie de Taylor de primer orden: $\\quad h(\\boldsymbol{\\theta}+\\boldsymbol{\\epsilon})\\approx h(\\boldsymbol{\\theta})+\\boldsymbol{\\epsilon}^t\\nabla h(\\boldsymbol{\\theta})$\n",
    "* Como $\\boldsymbol{\\theta}$ y $\\boldsymbol{\\theta}+\\boldsymbol{\\epsilon}$ están en la superfície: $\\quad h(\\boldsymbol{\\theta})=h(\\boldsymbol{\\theta}+\\boldsymbol{\\epsilon})\\quad$ y $\\quad\\boldsymbol{\\epsilon}^t\\nabla h(\\boldsymbol{\\theta})\\approx 0$\n",
    "* $\\nabla h(\\boldsymbol{\\theta})$ es ortogonal a la superfície ya que $\\,\\boldsymbol{\\epsilon}\\,$ es paralelo y $\\,\\quad\\boldsymbol{\\epsilon}^t\\nabla h(\\boldsymbol{\\theta})\\approx 0$\n",
    "\n",
    "**Si $\\boldsymbol{\\theta}^*$ es un punto en la superfície de la restricción que minimiza $\\mathcal{L}(\\boldsymbol{\\theta})$, existe un $\\lambda^*\\in\\mathbb{R}$ tal que $\\nabla\\mathcal{L}(\\boldsymbol{\\theta}^*)=\\lambda^*\\nabla h(\\boldsymbol{\\theta}^*)$:**\n",
    "* $\\nabla\\mathcal{L}(\\boldsymbol{\\theta})$ es ortogonal a la superfície en $\\boldsymbol{\\theta}^*$ ya que, si no, $\\mathcal{L}(\\boldsymbol{\\theta})$ decrecería moviéndonos a pequeña distancia por la superfície\n",
    "* Como $\\nabla h(\\boldsymbol{\\theta})$ y $\\nabla\\mathcal{L}(\\boldsymbol{\\theta})$ son ortogonales a la superfície en $\\boldsymbol{\\theta}^*$, son paralelos (o anti-paralelos) y existe un $\\lambda^*\\in\\mathbb{R}$ tal que\n",
    "$$\\nabla\\mathcal{L}(\\boldsymbol{\\theta}^*)=\\lambda^*\\nabla h(\\boldsymbol{\\theta}^*)$$\n",
    "\n",
    "**Multiplicador de Lagrange:** $\\;$ es la constante $\\lambda^*$; puede ser positiva, negativa, o cero si $\\,\\nabla\\mathcal{L}(\\boldsymbol{\\theta}^*)=0$\n",
    "\n",
    "**Lagrangiana:** $\\quad L(\\boldsymbol{\\theta},\\lambda)=\\mathcal{L}(\\boldsymbol{\\theta})+\\lambda h(\\boldsymbol{\\theta})\\quad$ (convierte $\\,\\nabla\\mathcal{L}(\\boldsymbol{\\theta}^*)=\\lambda^*\\nabla h(\\boldsymbol{\\theta}^*)\\,$ en objetivo)\n",
    "\n",
    "**Punto crítico o estacionario:** $\\quad\\nabla_{\\boldsymbol{\\theta},\\lambda}L(\\boldsymbol{\\theta},\\lambda)=\\boldsymbol{0}\\quad\\Leftrightarrow\\quad\\lambda\\nabla_{\\boldsymbol{\\theta}}h(\\boldsymbol{\\theta})=\\nabla\\mathcal{L}(\\boldsymbol{\\theta}),\\quad h(\\boldsymbol{\\theta})=0$"
   ]
  },
  {
   "cell_type": "markdown",
   "metadata": {},
   "source": [
    "## Ejemplo 2D cuadrático con una restricción\n",
    "\n",
    "<div><table border-collapse: collapse><tr>\n",
    "<td style=\"border: none; text-align:left; vertical-align:top; padding:0; margin:0;\" width=500>\n",
    "\n",
    "**Minimización de $\\;\\mathcal{L}(\\boldsymbol{\\theta})=\\theta_1^2+\\theta_2^2\\;$ sujeto a $\\;\\theta_1+\\theta_2=1$**\n",
    "\n",
    "**Lagrangiana:** $\\;L(\\theta_1,\\theta_2,\\lambda)=\\theta_1^2+\\theta_2^2+\\lambda(\\theta_1+\\theta_2-1)$\n",
    "\n",
    "**Condiciones para un punto estacionario:**\n",
    "$$\\begin{align*}\n",
    "\\frac{\\partial}{\\partial\\theta_1}L(\\theta_1,\\theta_2,\\lambda)&=2\\theta_1+\\lambda=0\\\\%\n",
    "\\frac{\\partial}{\\partial\\theta_2}L(\\theta_1,\\theta_2,\\lambda)&=2\\theta_2+\\lambda=0\\\\%\n",
    "\\frac{\\partial}{\\partial\\lambda}L(\\theta_1,\\theta_2,\\lambda)&=\\theta_1+\\theta_2-1=0%\n",
    "\\end{align*}$$\n",
    "\n",
    "* De las dos primeras obtenemos: $\\;\\theta_1=\\theta_2$\n",
    "* De la tercera: $\\;2\\theta_1=1$\n",
    "* $\\boldsymbol{\\theta}^*=(0.5,0.5)\\;$ es mínimo global ya que el objetivo es convexo y la restricción afín\n",
    "\n",
    "</td>\n",
    "<td style=\"border: none; text-align:left; vertical-align:top; padding:0; margin:0;\" width=500>\n",
    "\n",
    "<center><img src=\"Figure_8.22_A.png\" width=400></center>\n",
    "\n",
    "</td></tr></table></div>"
   ]
  },
  {
   "cell_type": "markdown",
   "metadata": {},
   "source": [
    "## Caso de $m>1$ restricciones de igualdad\n",
    "$$L(\\boldsymbol{\\theta},\\boldsymbol{\\lambda})=\\mathcal{L}(\\boldsymbol{\\theta})+\\sum_{i=1}^m\\lambda_i h_i(\\boldsymbol{\\theta})$$\n",
    "\n",
    "**$D+m$ ecuaciones com $D+m$ incógnitas:** $\\;$ podemos emplear optimización sin restricciones para hallar un punto estacionario"
   ]
  }
 ],
 "metadata": {
  "language_info": {
   "name": "python"
  },
  "orig_nbformat": 4
 },
 "nbformat": 4,
 "nbformat_minor": 2
}
