{
 "cells": [
  {
   "cell_type": "markdown",
   "metadata": {},
   "source": [
    "# 15.7.5 Discusión\n",
    "\n",
    "**Large Language Models (LLM):** $\\;$ gran popularidad; $\\;$ ver [Wikipedia](https://en.wikipedia.org/wiki/Large_language_model) y [competición en HF](https://huggingface.co/spaces/HuggingFaceH4/open_llm_leaderboard)\n",
    "\n",
    "**Debate:** $\\;$ \"entienden\" el (significado del) lenguaje? $\\;$ cómo regular su desarrollo y usos?\n",
    "\n",
    "**Gemini (Otoño de 2023):** $\\;$ serie de modelos de Google en competencia con GPT-4 para generar texto, imágenes y vídeos (sencillos)"
   ]
  }
 ],
 "metadata": {
  "language_info": {
   "name": "python"
  },
  "orig_nbformat": 4
 },
 "nbformat": 4,
 "nbformat_minor": 2
}
