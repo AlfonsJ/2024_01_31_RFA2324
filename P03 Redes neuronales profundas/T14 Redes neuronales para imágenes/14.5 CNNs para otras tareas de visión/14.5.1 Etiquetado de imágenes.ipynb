{
 "cells": [
  {
   "cell_type": "markdown",
   "metadata": {},
   "source": [
    "# 14.5.1 Etiquetado de imágenes\n",
    "\n",
    "**Image tagging:** $\\;$ clasificación multi-etiqueta de imágenes según los objetos presentes"
   ]
  }
 ],
 "metadata": {
  "language_info": {
   "name": "python"
  },
  "orig_nbformat": 4
 },
 "nbformat": 4,
 "nbformat_minor": 2
}
