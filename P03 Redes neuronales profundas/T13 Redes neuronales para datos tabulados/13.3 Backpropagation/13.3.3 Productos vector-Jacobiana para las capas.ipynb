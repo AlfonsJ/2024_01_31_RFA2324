{
 "cells": [
  {
   "cell_type": "markdown",
   "metadata": {},
   "source": [
    "# 13.3.3 Productos vector-Jacobiana para las capas"
   ]
  },
  {
   "cell_type": "markdown",
   "metadata": {},
   "source": [
    "**Recordatorio sobre la Jacobiana de $\\boldsymbol{f}$:** $\\quad\\mathbf{J}_{\\boldsymbol{f}}(\\boldsymbol{x})\\in\\mathbf{R}^{m\\times n}$\n",
    "$$\\mathbf{J}_{\\boldsymbol{f}}(\\boldsymbol{x})%\n",
    "=\\frac{\\partial\\boldsymbol{f}(\\boldsymbol{x})}{\\partial\\boldsymbol{x}}%\n",
    "=\\begin{bmatrix}%\n",
    "\\frac{\\partial f_1}{\\partial x_1}&\\cdots&\\frac{\\partial f_1}{\\partial x_n}\\\\%\n",
    "\\vdots&\\ddots&\\vdots\\\\%\n",
    "\\frac{\\partial f_m}{\\partial x_1}&\\cdots&\\frac{\\partial f_m}{\\partial x_n}%\n",
    "\\end{bmatrix}%\n",
    "=\\begin{bmatrix}\n",
    "\\mathbf{\\nabla} f_1(\\boldsymbol{x})^t\\\\%\n",
    "\\vdots\\\\%\n",
    "\\mathbf{\\nabla} f_m(\\boldsymbol{x})^t%\n",
    "\\end{bmatrix}%\n",
    "=\\begin{bmatrix}\n",
    "\\frac{\\partial\\boldsymbol{f}}{\\partial x_1},\\ldots,\\frac{\\partial\\boldsymbol{f}}{\\partial x_n}%\n",
    "\\end{bmatrix}$$"
   ]
  },
  {
   "cell_type": "markdown",
   "metadata": {},
   "source": [
    "## 13.3.3.1 Capa de entropía cruzada"
   ]
  },
  {
   "cell_type": "markdown",
   "metadata": {},
   "source": [
    "**Capa de entropía cruzada:** $\\;$ toma logits $\\boldsymbol{x}$ y etiquetas (one-hot) $\\boldsymbol{y}\\in\\{0,1\\}^C$; devuelve un escalar\n",
    "$$z=\\operatorname{CrossEntropy}(\\boldsymbol{y},\\boldsymbol{x})=-\\sum_cy_c\\log p_c%\n",
    "\\qquad\\text{con}\\qquad%\n",
    "p_c=\\mathcal{S}(\\boldsymbol{x})_c=\\dfrac{\\exp(x_c)}{\\sum_{c'}\\exp(x_{c'})}$$\n",
    "\n",
    "**Jacobiana con respecto a $\\boldsymbol{x}$:** $\\quad\\displaystyle\\mathbf{J}=\\frac{\\partial z}{\\partial\\boldsymbol{x}}=(\\boldsymbol{p}-\\boldsymbol{y})^t\\in\\mathbb{R}^{1\\times C}$\n",
    "\n",
    "* Si $\\,\\boldsymbol{y}=\\operatorname{one-hot}(c):\\qquad\\displaystyle z=-\\log(p_c)=-\\log\\biggl[\\frac{\\exp(x_c)}{\\sum_j\\exp(x_j)}\\biggr]=\\log\\biggl[\\sum\\nolimits_j\\exp(x_j)\\biggr]-x_c$\n",
    "\n",
    "* Para todo $i:\\qquad\\displaystyle \\frac{\\partial z}{\\partial x_i}=\\frac{\\partial}{\\partial x_i}\\log\\sum_j\\exp(x_j)-\\frac{\\partial}{\\partial x_i}x_c=\\frac{\\exp(x_i)}{\\sum_j\\exp(x_j)}-\\mathbb{I}(i=c)=p_i-\\mathbb{I}(i=c)$"
   ]
  },
  {
   "cell_type": "markdown",
   "metadata": {},
   "source": [
    "## 13.3.3.2 Capa de no-linealidad elemental"
   ]
  },
  {
   "cell_type": "markdown",
   "metadata": {},
   "source": [
    "**Capa de no-linealidad elemental:** $\\qquad\\boldsymbol{z}=\\boldsymbol{f}(\\boldsymbol{x})=\\varphi(\\boldsymbol{x})$\n",
    "\n",
    "**Jacobiana con respecto a $\\boldsymbol{x}$:** $\\qquad\\displaystyle\\mathbf{J}=\\frac{\\partial\\boldsymbol{z}}{\\partial\\boldsymbol{x}}=\\operatorname{diag}(\\varphi'(\\boldsymbol{x}))$\n",
    "\n",
    "* Para toda fila $i$ y columna $j$: $\\qquad\\displaystyle\\frac{\\partial z_i}{\\partial x_j}=\\mathbb{I}(i=j)\\,\\frac{d}{dx_i}\\varphi(x_i)=\\mathbb{I}(i=j)\\,\\varphi'(x_i)$\n",
    "\n",
    "* Si $\\;\\varphi(a)=\\operatorname{ReLU}(a)=\\max(a,0):\\qquad \\varphi'(a)=H(a)=\\mathbb{I}(a>0)$"
   ]
  },
  {
   "cell_type": "markdown",
   "metadata": {},
   "source": [
    "## 13.3.3.3 Capa lineal"
   ]
  },
  {
   "cell_type": "markdown",
   "metadata": {},
   "source": [
    "**Capa lineal:** $\\qquad\\boldsymbol{z}=\\boldsymbol{f}(\\boldsymbol{x},\\mathbf{W})=\\mathbf{W}\\boldsymbol{x}\\quad\\text{donde}\\quad\\boldsymbol{x}\\in\\mathbb{R}^n,\\;\\mathbf{W}\\in\\mathbb{R}^{m\\times n},\\;\\boldsymbol{z}\\in\\mathbb{R}^m$\n",
    "\n",
    "**Jacobiana con respecto a $\\boldsymbol{x}$:** $\\qquad\\displaystyle\\mathbf{J}=\\frac{\\partial\\boldsymbol{z}}{\\partial\\boldsymbol{x}}=\\mathbf{W}$\n",
    "\n",
    "* Para todo $i:\\qquad\\displaystyle z_i=\\sum_{k=1}^nW_{ik}x_k$\n",
    "\n",
    "* Para toda fila $i$ y columna $j$: $\\qquad\\displaystyle\\frac{\\partial z_i}{\\partial x_j}=\\frac{\\partial}{\\partial x_j}\\sum_{k=1}^nW_{ik}x_k=\\sum_{k=1}^nW_{ik}\\frac{\\partial x_k}{\\partial x_j}=\\sum_{k=1}^nW_{ik}\\mathbb{I}(k=j)=W_{ij}$\n",
    "\n",
    "**VJP de $\\boldsymbol{u}^t\\in\\mathbb{R}^{1\\times m}$ y la Jacobiana con respecto a $\\boldsymbol{x}$:** $\\qquad\\displaystyle\\boldsymbol{u}^t\\frac{\\partial\\boldsymbol{z}}{\\partial\\boldsymbol{x}}=\\boldsymbol{u}^t\\mathbf{W}\\in\\mathbb{R}^{1\\times n}$\n",
    "\n",
    "**Jacobiana con respecto a $\\mathbf{W}$:**  $\\qquad\\displaystyle\\mathbf{J}=\\frac{\\partial\\boldsymbol{z}}{\\partial\\mathbf{W}}\\in\\mathbb{R}^{m\\times(m\\times n)}\\qquad$ (difícil de manejar en notación matricial)\n",
    "\n",
    "**Gradiente de $\\boldsymbol{z}$ con respecto a un peso $W_{ij}$:** $\\qquad\\displaystyle\\frac{\\partial\\boldsymbol{z}}{\\partial W_{ij}}=(0\\;\\cdots\\;0\\;x_j\\;0\\;\\cdots\\;0)\\qquad$ ($x_j$ en la posición $i$)\n",
    "\n",
    "* Para todo $k:\\qquad\\displaystyle z_k=\\sum_{l=1}^mW_{kl}x_l$\n",
    "\n",
    "* Para toda fila $i$ y columna $j$: $\\qquad\\displaystyle\\frac{\\partial z_k}{\\partial W_{ij}}=\\frac{\\partial}{\\partial W_{ij}}\\sum_{l=1}^mx_lW_{kl}=\\sum_{l=1}^mx_l\\frac{\\partial W_{kl}}{\\partial W_{ij}}=\\sum_{l=1}^mx_l\\mathbb{I}(i=k)\\mathbb{I}(j=l)$\n",
    "\n",
    "**VJP de $\\boldsymbol{u}^t\\in\\mathbb{R}^{1\\times m}$ y la Jacobiana con respecto a $\\mathbf{W}$:** $\\qquad\\displaystyle\\biggl[\\boldsymbol{u}^t\\frac{\\partial\\boldsymbol{z}}{\\partial\\mathbf{W}}\\biggr]_{1,:}=\\boldsymbol{u}\\boldsymbol{x}^t\\in\\mathbb{R}^{m\\times n}$\n",
    "\n",
    "* Para toda fila $i$ y columna $j$: $\\qquad\\displaystyle\\boldsymbol{u}^t\\frac{\\partial\\boldsymbol{z}}{\\partial W_{ij}}=\\sum_{k=1}^mu_k\\frac{\\partial z_k}{\\partial W_{ij}}=u_ix_j$"
   ]
  }
 ],
 "metadata": {
  "kernelspec": {
   "display_name": "Python 3",
   "language": "python",
   "name": "python3"
  },
  "language_info": {
   "codemirror_mode": {
    "name": "ipython",
    "version": 3
   },
   "file_extension": ".py",
   "mimetype": "text/x-python",
   "name": "python",
   "nbconvert_exporter": "python",
   "pygments_lexer": "ipython3",
   "version": "3.10.6"
  },
  "orig_nbformat": 4
 },
 "nbformat": 4,
 "nbformat_minor": 2
}
