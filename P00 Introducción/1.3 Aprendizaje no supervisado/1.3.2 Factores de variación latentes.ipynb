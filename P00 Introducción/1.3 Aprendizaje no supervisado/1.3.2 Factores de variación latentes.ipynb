{
 "cells": [
  {
   "attachments": {},
   "cell_type": "markdown",
   "metadata": {},
   "source": [
    "# 1.3.2 Descubriendo \"factores de variación\" latentes\n",
    "\n",
    "Cuando trabajamos con datos de alta dimensión, por lo general resulta útil **reducir la dimensión** mediante una proyección en un espacio de dimensión reducida que capture la \"esencia\" de los datos. Asumimos que cada observación $\\boldsymbol{x}_n\\in\\mathbb{R}^D$ viene generada por $K\\ll D$, **factores latentes** ocultos (no observados), $\\boldsymbol{z}_n\\in\\mathbb{R}^K$. Como los factores latentes $\\boldsymbol{z}_n$ no se conocen, adoptamos un modelo probabilístico sencillo para $p(\\boldsymbol{z}_n)$ como, por ejemplo, una Gaussiana.\n",
    "\n",
    "**Análisis factorial** es un modelo lineal similar a regresión lineal, salvo que solo observamos las salidas $\\boldsymbol{x}_n$; no las entradas $\\boldsymbol{z}_n$:\n",
    "$$p(\\boldsymbol{x}_n\\mid\\boldsymbol{z}_n;\\boldsymbol{\\theta})%\n",
    "=\\mathcal{N}(\\boldsymbol{x}_n\\mid \\mathbf{W}\\boldsymbol{z}_n+\\boldsymbol{\\mu},\\mathbf{\\Sigma})$$\n",
    "\n",
    "**Análisis de componentes principales (PCA, principal component analysis) probabilístico** es análisis factorial particularizado al caso en el que $\\mathbf{\\Sigma}$ es proporcional a la identidad:\n",
    "$$\\mathbf{\\Sigma}=\\sigma^2\\mathbf{I}$$\n",
    "En el límite $\\sigma^2\\to 0$, PCA probabilístico converge a PCA (sin más), una de las técnicas de reducción de la dimensión más populares. Por otro lado, el mapping de $\\boldsymbol{z}_n$ a $\\boldsymbol{x}_n$ puede generalizarse mediante un modelo no lineal $f(\\boldsymbol{z};\\boldsymbol{\\theta})$ como, por ejemplo, una DNN:\n",
    "$$p(\\boldsymbol{x}_n\\mid\\boldsymbol{z}_n;\\boldsymbol{\\theta})%\n",
    "=\\mathcal{N}(\\boldsymbol{x}_n\\mid f(\\boldsymbol{z};\\boldsymbol{\\theta}),\\sigma^2\\mathbf{I})$$\n",
    "El aprendizaje de $\\boldsymbol{\\theta}$ no es sencillo ya que las entradas de la DNN deben inferirse. No obstante, pueden aplicarse varios métodos aproximados como el **autoencoder variacional (VAE, variational autoencoder).**"
   ]
  }
 ],
 "metadata": {
  "kernelspec": {
   "display_name": "Python 3",
   "language": "python",
   "name": "python3"
  },
  "language_info": {
   "codemirror_mode": {
    "name": "ipython",
    "version": 3
   },
   "file_extension": ".py",
   "mimetype": "text/x-python",
   "name": "python",
   "nbconvert_exporter": "python",
   "pygments_lexer": "ipython3",
   "version": "3.10.6"
  },
  "orig_nbformat": 4,
  "vscode": {
   "interpreter": {
    "hash": "e7370f93d1d0cde622a1f8e1c04877d8463912d04d973331ad4851f04de6915a"
   }
  }
 },
 "nbformat": 4,
 "nbformat_minor": 2
}
