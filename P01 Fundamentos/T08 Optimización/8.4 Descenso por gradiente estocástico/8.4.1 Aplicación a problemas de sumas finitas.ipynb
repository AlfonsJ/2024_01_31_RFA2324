{
 "cells": [
  {
   "cell_type": "markdown",
   "metadata": {},
   "source": [
    "# 8.4.1 Aplicación a problemas de sumas finitas\n",
    "\n",
    "**Problema de sumas finitas:** $\\;$ por ejemplo, minimizar el riesgo empírico\n",
    "$$\\mathcal{L}(\\boldsymbol{\\theta}_t)=\\frac{1}{N}\\sum_{n=1}^N\\ell(\\boldsymbol{y}_n,f(\\boldsymbol{x}_n;\\boldsymbol{\\theta}_t))%\n",
    "=\\frac{1}{N}\\sum_{n=1}^N\\mathcal{L}_n(\\boldsymbol{\\theta}_t)$$\n",
    "\n",
    "**Gradiente del riesgo empírico:**\n",
    "$$\\boldsymbol{g}_t=\\frac{1}{N}\\sum_{n=1}^N\\nabla_{\\boldsymbol{\\theta}}\\mathcal{L}_n(\\boldsymbol{\\theta}_t)%\n",
    "=\\frac{1}{N}\\sum_{n=1}^N\\nabla_{\\boldsymbol{\\theta}}\\ell(\\boldsymbol{y}_n,f(\\boldsymbol{x}_n;\\boldsymbol{\\theta}_t))$$\n",
    "\n",
    "**Minibatch:** $\\;\\mathcal{B}_t$, muestreo de $B\\ll N$ muestras en la iteración $t$, a partir del cual obtenemos un estimador insesgado de $\\boldsymbol{g}_t$\n",
    "$$\\boldsymbol{g}_t%\n",
    "\\approx\\frac{1}{\\lvert{\\mathcal{B}_t}\\rvert}\\sum_{n\\in\\mathcal{B}_t}\\nabla_{\\boldsymbol{\\theta}}\\mathcal{L}_n(\\boldsymbol{\\theta}_t)%\n",
    "=\\frac{1}{\\lvert{\\mathcal{B}_t}\\rvert}\\sum_{n\\in\\mathcal{B}_t}\\nabla_{\\boldsymbol{\\theta}}\\ell(\\boldsymbol{y}_n,f(\\boldsymbol{x}_n;\\boldsymbol{\\theta}_t))$$"
   ]
  }
 ],
 "metadata": {
  "language_info": {
   "name": "python"
  },
  "orig_nbformat": 4
 },
 "nbformat": 4,
 "nbformat_minor": 2
}
