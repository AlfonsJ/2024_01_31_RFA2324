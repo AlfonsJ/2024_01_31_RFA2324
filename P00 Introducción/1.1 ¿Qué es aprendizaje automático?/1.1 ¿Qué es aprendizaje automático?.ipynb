{
 "cells": [
  {
   "attachments": {},
   "cell_type": "markdown",
   "metadata": {},
   "source": [
    "# ¿Qué es aprendizaje automático?"
   ]
  },
  {
   "attachments": {},
   "cell_type": "markdown",
   "metadata": {},
   "source": [
    "## Tom Mitchell (1997)\n",
    "\n",
    "Un sistema aprende de la experiencia E respecto a una clase de tareas T y una medida de rendimiento R, si su rendimiento en T, medido por R, mejora con E."
   ]
  },
  {
   "attachments": {},
   "cell_type": "markdown",
   "metadata": {},
   "source": [
    "## Kevin Murphy (2022)\n",
    "\n",
    "Tomando como referencia la definición de Mitchel, hay muchos tipos de ML, dependiendo de la naturaleza de T(areas), (medida de) R(endimiento) y E(experiencia). Los tipos usuales de ML pueden tratarse convenientemente desde una perspectiva probabilística (estadística). La aproximación probabilística es óptima para la toma de decisiones bajo incertidumbre y enmarca formalmente el ML junto con muchas otras áreas científicas e ingenieriles."
   ]
  }
 ],
 "metadata": {
  "kernelspec": {
   "display_name": "Python 3",
   "language": "python",
   "name": "python3"
  },
  "language_info": {
   "codemirror_mode": {
    "name": "ipython",
    "version": 3
   },
   "file_extension": ".py",
   "mimetype": "text/x-python",
   "name": "python",
   "nbconvert_exporter": "python",
   "pygments_lexer": "ipython3",
   "version": "3.10.6"
  },
  "orig_nbformat": 4,
  "vscode": {
   "interpreter": {
    "hash": "e7370f93d1d0cde622a1f8e1c04877d8463912d04d973331ad4851f04de6915a"
   }
  }
 },
 "nbformat": 4,
 "nbformat_minor": 2
}
