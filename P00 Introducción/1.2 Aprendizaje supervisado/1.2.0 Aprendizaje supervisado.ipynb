{
 "cells": [
  {
   "attachments": {},
   "cell_type": "markdown",
   "metadata": {},
   "source": [
    "# 1.2.0 Aprendizaje supervisado\n",
    "\n",
    "**Aprendizaje supervisado:** $\\;$ forma de ML más común\n",
    "\n",
    "**Tarea T:** $\\;$ consiste en aprender una transformación $f:\\mathcal{X}\\to\\mathcal{Y}$ donde\n",
    "* **Entradas $\\boldsymbol{x}\\in\\mathcal{X}$:** $\\;$ suelen ser un vector de $D$ características reales $\\mathcal{X}=\\mathbb{R}^D$\n",
    "* **Salidas $\\boldsymbol{y}\\in\\mathcal{Y}$:** $\\;$ suelen ser etiquetas de clase o reales\n",
    "\n",
    "**Experiencia E:** $\\;$ dada por un **conjunto de entrenamiento** $\\,\\mathcal{D}=\\{(\\boldsymbol{x}_n,\\boldsymbol{y}_n)\\}_{n=1}^N$\n",
    "* $N$ es el **tamaño de la muestra**\n",
    "* También es usual referirnos a cada par $(\\boldsymbol{x}_n,\\boldsymbol{y}_n)$ como **muestra (de entrenamiento)**\n",
    "\n",
    "**Medida de rendimiento P:** $\\;$ depende del tipo de salida"
   ]
  },
  {
   "attachments": {},
   "cell_type": "markdown",
   "metadata": {},
   "source": [
    "**Estructura de la sección:**\n",
    "- Clasificación\n",
    "    - Ejemplo: clasificación de flores iris\n",
    "    - Análisis explotario de datos\n",
    "    - Aprendizaje de un clasificador\n",
    "    - Minimización del riesgo empírico\n",
    "    - Incertidumbre\n",
    "    - Estimación por máxima verosimilitud\n",
    "- Regresión\n",
    "- Sobreentrenamiento y generalización\n",
    "- El teorema *no free lunch*"
   ]
  }
 ],
 "metadata": {
  "kernelspec": {
   "display_name": "Python 3",
   "language": "python",
   "name": "python3"
  },
  "language_info": {
   "codemirror_mode": {
    "name": "ipython",
    "version": 3
   },
   "file_extension": ".py",
   "mimetype": "text/x-python",
   "name": "python",
   "nbconvert_exporter": "python",
   "pygments_lexer": "ipython3",
   "version": "3.10.6"
  },
  "orig_nbformat": 4,
  "vscode": {
   "interpreter": {
    "hash": "e7370f93d1d0cde622a1f8e1c04877d8463912d04d973331ad4851f04de6915a"
   }
  }
 },
 "nbformat": 4,
 "nbformat_minor": 2
}
