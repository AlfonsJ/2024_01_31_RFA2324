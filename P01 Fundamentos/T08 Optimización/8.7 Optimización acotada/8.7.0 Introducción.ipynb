{
 "cells": [
  {
   "cell_type": "markdown",
   "metadata": {},
   "source": [
    "# 8.7.0 Introducción\n",
    "\n",
    "**Optimización acotada o MM (majorize-minimize):** $\\;$ clase de algoritmos de optimización de gran interés en ML\n",
    "\n",
    "**Algoritmo expectation-maximization (EM):** $\\;$ caso especial de algoritmo MM muy usado en ML"
   ]
  }
 ],
 "metadata": {
  "language_info": {
   "name": "python"
  },
  "orig_nbformat": 4
 },
 "nbformat": 4,
 "nbformat_minor": 2
}
