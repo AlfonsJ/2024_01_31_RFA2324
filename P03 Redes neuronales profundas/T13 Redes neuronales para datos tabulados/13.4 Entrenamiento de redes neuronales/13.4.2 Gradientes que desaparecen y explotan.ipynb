{
 "cells": [
  {
   "cell_type": "markdown",
   "metadata": {},
   "source": [
    "# 13.4.2 Gradientes que desaparecen y explotan\n",
    "\n",
    "**Vanishing and exploding gradients:** $\\;$ al entrenar modelos muy profundos, el gradiente suele hacerse muy pequeño (desaparece) o muy grande (explota)\n",
    "\n",
    "**Importancia de los radios espectrales de las Jacobianas:** $\\;$ Dado un MLP de $L$ capas (sin contar la pérdida) y una entrada $\\boldsymbol{x}=\\boldsymbol{x}_1$, si las Jacobianas de las capas son aproximadamente constantes, digamos $\\mathbf{J}$, el gradiente de la pérdida (Jacobiana de la capa $L+1$) es\n",
    "$$\\frac{\\partial\\mathcal{L}}{\\partial\\boldsymbol{x}}%\n",
    "=\\frac{\\partial\\mathcal{L}}{\\partial\\boldsymbol{x}_{L+1}}%\n",
    "\\prod_{l=1}^L\\frac{\\partial\\boldsymbol{x}_{l+1}}{\\partial\\boldsymbol{x}_l}%\n",
    "\\approx\\frac{\\partial\\mathcal{L}}{\\partial\\boldsymbol{x}_{L+1}}\\mathbf{J}^L$$\n",
    "Por tanto, el gradiente de la pérdida depende en gran medida del radio espectral de $\\mathbf{J}$, $\\lambda$; esto es, del máximo de los valores propios de $\\mathbf{J}$ en valor absoluto. Si $\\lambda>1$, el gradiente puede explotar; si no, si $\\lambda<1$, puede desaparecer. Análogamente, los gradientes de la pérdida en los parámetros de las distintas capas pueden explotar o desaparecer en función de $\\lambda$.\n",
    "\n",
    "**Gradient clipping:** $\\;$ evita la explosión de gradientes recortándolos de acuerdo con una norma máxima y valores absolutos máximos\n",
    "\n",
    "**Soluciones para los gradientes que desaparecen:**\n",
    "* Modificar las funciones de activación para evitar que el gradiente sea demasiado pequeño (o grande)\n",
    "* Modificar la arquitectura para que las actualizaciones sean aditivas en lugar de multiplicativas\n",
    "* Modificar la arquitectura para estandarizar las activaciones de cada capa, de manera que la distribución de las activaciones sobre los datos se mantenga contante durante el entrenamiento\n",
    "* Escoger los valores iniciales de los parámetros cuidadosamente"
   ]
  }
 ],
 "metadata": {
  "kernelspec": {
   "display_name": "Python 3",
   "language": "python",
   "name": "python3"
  },
  "language_info": {
   "codemirror_mode": {
    "name": "ipython",
    "version": 3
   },
   "file_extension": ".py",
   "mimetype": "text/x-python",
   "name": "python",
   "nbconvert_exporter": "python",
   "pygments_lexer": "ipython3",
   "version": "3.11.4"
  },
  "orig_nbformat": 4
 },
 "nbformat": 4,
 "nbformat_minor": 2
}
