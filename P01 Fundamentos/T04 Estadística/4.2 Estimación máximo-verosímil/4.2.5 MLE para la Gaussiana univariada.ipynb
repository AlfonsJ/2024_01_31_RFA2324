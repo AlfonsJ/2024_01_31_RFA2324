{
 "cells": [
  {
   "attachments": {},
   "cell_type": "markdown",
   "metadata": {},
   "source": [
    "# MLE para la Gaussiana univariada (incondicional)\n",
    "\n",
    "Si $\\;p(\\boldsymbol{y}_n\\mid\\boldsymbol{x}_n, \\boldsymbol{\\theta})%\n",
    "=p(y_n\\mid\\boldsymbol{\\theta})=\\mathcal{N}(y\\mid\\mu, \\sigma^2)$, entonces \n",
    "$\\;\\hat{\\mu}=\\bar{y}\\;$ y $\\;\\hat{\\sigma}^2=s^2-\\bar{y}^2,\\;$ donde $\\bar{y}$ es la media empírica y $s^2$ es la media de cuadrados empírica."
   ]
  },
  {
   "cell_type": "code",
   "execution_count": 3,
   "metadata": {},
   "outputs": [
    {
     "name": "stdout",
     "output_type": "stream",
     "text": [
      "m=0.0000 v=1.0000 hm=0.0016 hv=1.1327\n"
     ]
    }
   ],
   "source": [
    "import numpy as np\n",
    "from scipy.stats import norm\n",
    "\n",
    "m, v, N = 0.0, 1.0, 100\n",
    "Y = norm(m, v).rvs(N)\n",
    "hm = Y.mean(axis=0) / N\n",
    "s2 = np.dot(Y, Y.T) / N\n",
    "hv = s2 - hm * hm\n",
    "print('m={:.4f} v={:.4f} hm={:.4f} hv={:.4f}'.format(m, v, hm, hv))"
   ]
  }
 ],
 "metadata": {
  "kernelspec": {
   "display_name": "Python 3",
   "language": "python",
   "name": "python3"
  },
  "language_info": {
   "codemirror_mode": {
    "name": "ipython",
    "version": 3
   },
   "file_extension": ".py",
   "mimetype": "text/x-python",
   "name": "python",
   "nbconvert_exporter": "python",
   "pygments_lexer": "ipython3",
   "version": "3.10.6"
  },
  "orig_nbformat": 4
 },
 "nbformat": 4,
 "nbformat_minor": 2
}
