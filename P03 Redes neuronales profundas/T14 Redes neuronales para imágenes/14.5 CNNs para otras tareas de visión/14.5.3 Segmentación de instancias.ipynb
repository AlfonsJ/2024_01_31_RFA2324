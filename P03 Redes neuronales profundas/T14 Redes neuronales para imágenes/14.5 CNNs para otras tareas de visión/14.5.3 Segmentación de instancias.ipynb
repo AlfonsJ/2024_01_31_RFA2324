{
 "cells": [
  {
   "cell_type": "markdown",
   "metadata": {},
   "source": [
    "# 14.5.3 Segmentación de instancias\n",
    "\n",
    "**Instance segmentation:** $\\;$ produce una **máscara 2d** y una etiqueta de clase por cada instancia de objeto\n",
    "\n",
    "<div align=\"center\">\n",
    "<table><tr>\n",
    "<td style=\"border: none;\"><img src=\"Figure_14.28.png\" width=600/></td>\n",
    "</tr></table>\n",
    "</div>"
   ]
  }
 ],
 "metadata": {
  "language_info": {
   "name": "python"
  },
  "orig_nbformat": 4
 },
 "nbformat": 4,
 "nbformat_minor": 2
}
