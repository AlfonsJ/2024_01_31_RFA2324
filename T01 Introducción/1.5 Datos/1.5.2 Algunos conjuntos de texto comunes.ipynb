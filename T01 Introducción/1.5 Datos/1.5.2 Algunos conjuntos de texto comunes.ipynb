{
 "cells": [
  {
   "attachments": {},
   "cell_type": "markdown",
   "metadata": {},
   "source": [
    "# Algunos conjuntos de texto comunes\n",
    "\n",
    "El **procesamiento del lenguaje natural (NLP, natural language processing)** incluye gran variedad de tareas sobre texto en las que el aprendizaje automático obtiene grandes resultados."
   ]
  },
  {
   "attachments": {},
   "cell_type": "markdown",
   "metadata": {},
   "source": [
    "## Clasificación de texto\n",
    "\n",
    "La **clasificación de texto** es una tarea sencilla para aplicaciones como el **filtrado de correo spam** y el **análisis de sentimiento,** esto es, de la polaridad positiva o negativa de la opinión expresada en un texto."
   ]
  },
  {
   "attachments": {},
   "cell_type": "markdown",
   "metadata": {},
   "source": [
    "**Ejemplo:** el **IMDB movie review dataset** contiene 50K revisiones (+ o -) de películas; mitad para entrenamiento y mitad de test:\n",
    "* this film was just brilliant casting location... (+)\n",
    "* big hair big boobs bad music and a giant safety... (-)"
   ]
  },
  {
   "attachments": {},
   "cell_type": "markdown",
   "metadata": {},
   "source": [
    "## Traducción automática\n",
    "\n",
    "La **traducción automática (MT, machine translation)** estudia la automatización de la traducción de textos (o habla) entre idiomas. Los sistemas más avanzados emplean DNNs entrenadas con **textos paralelos,** esto es, colecciones de pares ejemplos de traducción."
   ]
  },
  {
   "attachments": {},
   "cell_type": "markdown",
   "metadata": {},
   "source": [
    "**Ejemplo:** el corpus [Europarl v10](https://www.statmt.org/europarl/v10/training) con ejemplos EsPt, DeEn, FrEn, etc.\n",
    "\n",
    "| Lengua fuente                                                                  | Lengua destino                                                                     |\n",
    "|--------------------------------------------------------------------------------|------------------------------------------------------------------------------------|\n",
    "| Ratificación y ampliación de los convenios actualizados de la OIT (votación)   | Ratificação e aplicação das convenções que a OIT considerou actualizadas (votação) |\n",
    "| Ratifizierung und Umsetzung der aktualisierten IAO-Übereinkommen (Abstimmung)  | The ratification and implementation of the updated ILO conventions (vote)          |\n",
    "| Ratification et mise en œuvre des conventions de l'OIT mises à jour (vote)     | The ratification and implementation of the updated ILO conventions (vote)          |"
   ]
  },
  {
   "attachments": {},
   "cell_type": "markdown",
   "metadata": {},
   "source": [
    "## Otras tareas seq2seq\n",
    "\n",
    "**seq2seq** puede verse como una generalización de MT que estudia el aprendizaje de una transformación desde una secuencia (de entrada) $\\boldsymbol{x}$ a cualquier otra secuencia (de salida) $\\boldsymbol{y}$. Esta generalización incluye tareas como el **resumen (automático) de documentos** y la **búsqueda de respuestas (question answering).**"
   ]
  },
  {
   "attachments": {},
   "cell_type": "markdown",
   "metadata": {},
   "source": [
    "**Ejemplo:** el corpus **Stanford Question Answering Dataset (SQuAD)** incluye 100K preguntas sobre pasajes (texto) de Wikipedia\n",
    "\n",
    "> T: In meteorology, precipitation is any product of the condensation of atmospheric water vapor that falls under <span style=\"color:blue\">gravity</span>. The\n",
    "> main forms of precipitation include drizzle, rain, sleet, snow, <span style=\"color:red\">graupel</span> and hail... Precipitation forms as smaller droplets\n",
    "> coalesce via collision with other rain drops or ice crystals <span style=\"color:orange\">within a cloud</span>. Short, intense periods of rain in scattered\n",
    "> locations are called “showers”.\n",
    "\n",
    "> Q1: What causes precipitation to fall? A1: <span style=\"color:blue\">gravity</span>\n",
    "\n",
    "> Q2: What is another main form of precipitation besides drizzle, rain, snow, sleet and hail? A2: <span style=\"color:red\">graupel</span>\n",
    "\n",
    "> Q3: Where do water droplets collide with ice crystals to form precipitation? A3: <span style=\"color:orange\">within a cloud</span>"
   ]
  },
  {
   "attachments": {},
   "cell_type": "markdown",
   "metadata": {},
   "source": [
    "## Modelado del lenguaje\n",
    "\n",
    "El **language modeling (LM)** estudia cómo aprender un modelo incondicional, $p(\\boldsymbol{x})$, siendo $\\boldsymbol{x}$ un texto de entrada sin salida correspondiente, por lo que puede decirse que se trata de una tarea de aprendizaje no supervisado. Al igual que en muchas otras tareas de aprendizaje no supervisado, los datos no supervisados son fáciles de conseguir; en este caso es frecuente el uso grandes colecciones de **textos monolíngües.**  Durante décadas, los modelos de lenguaje dominantes eran de tipo estadístico; en particular, los populares modelos de **n-gramas** se limitaban a estimar $p(\\boldsymbol{x})$ a partir de tablas de cuentas de secuencias de $n$ palabras. Más recientemente, los **modelos de lenguaje neuronales** obtienen mejores resultados mediante grandes redes entrenadas con el mayor número posible de ejemplos.\n",
    "\n",
    "Si el modelo de lenguaje genera una salida en respuesta a una entrada dada, como en seq2seq, podemos verlo como un modelo generativo condicional. La aplicación de este tipo de modelos en diversas tareas de **comprensión del lenguaje natural (NLU, natural language understanding)** está recibiendo gran atención en los últimos años. "
   ]
  }
 ],
 "metadata": {
  "kernelspec": {
   "display_name": "Python 3",
   "language": "python",
   "name": "python3"
  },
  "language_info": {
   "codemirror_mode": {
    "name": "ipython",
    "version": 3
   },
   "file_extension": ".py",
   "mimetype": "text/x-python",
   "name": "python",
   "nbconvert_exporter": "python",
   "pygments_lexer": "ipython3",
   "version": "3.10.6"
  },
  "orig_nbformat": 4,
  "vscode": {
   "interpreter": {
    "hash": "e7370f93d1d0cde622a1f8e1c04877d8463912d04d973331ad4851f04de6915a"
   }
  }
 },
 "nbformat": 4,
 "nbformat_minor": 2
}
