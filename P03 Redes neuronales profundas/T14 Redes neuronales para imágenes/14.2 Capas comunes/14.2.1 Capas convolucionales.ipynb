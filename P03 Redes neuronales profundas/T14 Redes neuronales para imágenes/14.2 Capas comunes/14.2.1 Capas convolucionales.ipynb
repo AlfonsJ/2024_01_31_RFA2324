{
 "cells": [
  {
   "cell_type": "markdown",
   "metadata": {},
   "source": [
    "# 14.2.1 Capas convolucionales"
   ]
  },
  {
   "cell_type": "markdown",
   "metadata": {},
   "source": [
    "## 14.2.1.1 Convolución en 1d\n",
    "\n",
    "**Convolución continua:**\n",
    "* Convolución de dos funciones, $f,g:\\mathbb{R}^D\\to\\mathbb{R}$:\n",
    "$$[f\\circledast g](\\boldsymbol{z})=\\int_{\\mathbb{R}^D}f(\\boldsymbol{u})g(\\boldsymbol{z}-\\boldsymbol{u})d\\boldsymbol{u}$$\n",
    "* Aplicamos el **filtro** o **kernel** $f$ a $g$ en $\\boldsymbol{z}$, esto es, hallamos una \"media\" de $g$ según $f$ centrado en $\\boldsymbol{z}$\n",
    "\n",
    "**Convolución discreta:**\n",
    "* Reemplazamos las funciones por vectores de longitud finita, esto es, funciones definidas sobre un conjunto finito de puntos\n",
    "* $f$ se evalúa en ${-L,-L+1,\\dotsc,0,1,\\dotsc,L}$, dando lugar al vector de pesos de $w_{-L}=f(-L)$ a $w_L=f(L)$\n",
    "* $g$ se evalúa en los puntos $\\{-N,\\dotsc,N\\}$, dando lugar al vector de características de $x_{-N}=g(-N)$ a $x_N=g(N)$\n",
    "* Salvando condiciones de contorno (efectos arista), la convolución de $g$ con $f$ es:\n",
    "$$[\\boldsymbol{w}\\circledast\\boldsymbol{x}](i)=w_{-L}x_{i+L}+\\cdots+w_{-1}x_{i+1}+w_0x_i+w_1x_{i-1}+\\cdots+w_Lx_{i-L}$$\n",
    "* El vector de pesos $\\boldsymbol{w}$ se invierte (ya que sus índices se invierten) y se desplaza sobre $\\boldsymbol{x}$, sumando variables locales en cada punto\n",
    "* **Ejemplo:** $\\;$ convolución discreta de $\\boldsymbol{x}=[1,2,3,4]$ con $\\boldsymbol{w}=[5,6,7]$, para dar lugar a $\\boldsymbol{z}=[5,16,34,52,45,28]$:\n",
    "  * $i=0: z_0=[\\boldsymbol{w}\\circledast\\boldsymbol{x}](0)=w_{-1}x_{0+1}+w_0x_{0}+w_1x_{0-1}=x_0w_0$\n",
    "  * $i=1: z_1=[\\boldsymbol{w}\\circledast\\boldsymbol{x}](1)=w_{-1}x_{1+1}+w_0x_{1}+w_1x_{1-1}=x_0w_1+x_1w_0$\n",
    "  * $i=2: z_2=[\\boldsymbol{w}\\circledast\\boldsymbol{x}](2)=w_{-1}x_{2+1}+w_0x_{2}+w_1x_{2-1}=x_0w_2+x_1w_1+x_2w_0$\n",
    "  * ...\n",
    "<div align=\"center\">\n",
    "\n",
    "| - | - | 1 | 2 | 3 | 4 | - | - |  |\n",
    "|:-:|:-:|:-:|:-:|:-:|:-:|:-:|:-:|:-|\n",
    "| 7 | 6 | 5 | - | - | - | - | - | $z_0=x_0w_0=5$ |\n",
    "| - | 7 | 6 | 5 | - | - | - | - | $z_1=x_0w_1+x_1w_0=16$ |\n",
    "| - | - | 7 | 6 | 5 | - | - | - | $z_2=x_0w_2+x_1w_1+x_2w_0=34$ |\n",
    "| - | - | - | 7 | 6 | 5 | - | - | $z_3=x_1w_2+x_2w_1+x_3w_0=52$ |\n",
    "| - | - | - | - | 7 | 6 | 5 | - | $z_4=x_2w_2+x_3w_1=45$ |\n",
    "| - | - | - | - | - | 7 | 6 | 5 | $z_5=x_3w_2=28$ |\n",
    "\n",
    "</div>\n",
    "\n",
    "**Correlación cruzada:**\n",
    "* Convolución sin invertir $\\boldsymbol{w}$:\n",
    "$$[\\boldsymbol{w}\\ast\\boldsymbol{x}](i)=w_{-L}x_{i-L}+\\cdots+w_{-1}x_{i-1}+w_0x_i+w_1x_{i+1}+\\cdots+w_Lx_{i+L}$$\n",
    "* En aprendizaje automático, convolución suele referirse a correlación cruzada; de hecho, coinciden si $\\boldsymbol{w}$ es simétrico\n",
    "* Si $\\boldsymbol{w}$ se evalúa en $\\{0,1,\\dotsc,L-1\\}$ y $\\boldsymbol{x}$ en $\\{0,1,\\dotsc,N-1\\}$ para evitar índices negativos, entonces:\n",
    "$$[\\boldsymbol{w}\\circledast\\boldsymbol{x}](i)=\\sum_{u=0}^{L-1}w_ux_{i+u}$$\n",
    "\n",
    "<div align=\"center\">\n",
    "<table><tr><td style=\"border: none;\"><img src=\"Figure_14.4.png\" width=\"800\"/></td></tr></table>\n",
    "</div>"
   ]
  },
  {
   "cell_type": "markdown",
   "metadata": {},
   "source": [
    "## 14.2.1.2 Convolución en 2d\n",
    "\n",
    "* **Definición:** $\\;$ la convolución (cruzada) en 2d, dado un filtro $\\mathbf{W}$ $H\\times W$, es\n",
    "$$[\\mathbf{W}\\circledast\\mathbf{X}](i,j)=\\sum_{u=0}^{H-1}\\sum_{v=0}^{W-1}w_{u,v}\\,x_{i+u,j+v}$$\n",
    "\n",
    "* **Ejemplo:** $\\;$ convolución de una entrada $\\mathbf{X}$ $3\\times 3$ con un kernel $\\mathbf{W}$ $2\\times 2$ que resulta en una salida $\\mathbf{Y}$ $2\\times 2$\n",
    "$$\\mathbf{Y}=\\begin{bmatrix}w_1&w_2\\\\w_3&w_4\\end{bmatrix}%\n",
    "\\circledast%\n",
    "\\begin{bmatrix}x_1&x_2&x_3\\\\x_4&x_5&x_6\\\\x_7&x_8&x_9\\end{bmatrix}%\n",
    "=\\begin{bmatrix}\n",
    "  (w_1x_1+w_2x_2+w_3x_4+w_4x_5)&(w_1x_2+w_2x_3+w_3x_5+w_4x_6)\\\\%\n",
    "  (w_1x_4+w_2x_5+w_3x_7+w_4x_8)&(w_1x_5+w_2x_6+w_3x_8+w_4x_9)%\n",
    "\\end{bmatrix}$$\n",
    "\n",
    "<div align=\"center\">\n",
    "<table><tr><td style=\"border: none;\"><img src=\"Figure_14.5.png\" width=\"600\"/></td></tr></table>\n",
    "</div>\n",
    "\n",
    "* **Interpretación:**\n",
    "  * **Template matching:** $\\;$ la salida en $(i,j)$ será grande si el correspondiente trozo de imagen centrado en $(i,j)$ es similar a $\\boldsymbol{w}$\n",
    "  * **Heat map** caliente en las regiones que contengan aristas que encajen con la arista orientada dada por plantilla $\\boldsymbol{w}$\n",
    "  * **Feature map:** $\\;$ llamamos así a $\\mathbf{Y}=\\boldsymbol{w}\\circledast\\mathbf{X}$ ya que la convolución puede verse como una forma de **feature detection**\n",
    "\n",
    "<div align=\"center\">\n",
    "<table><tr><td style=\"border: none;\"><img src=\"Figure_14.6.png\" width=\"600\"/></td></tr></table>\n",
    "</div>"
   ]
  },
  {
   "cell_type": "markdown",
   "metadata": {},
   "source": [
    "## 14.2.1.3 Convolución como producto matriz-vector\n",
    "\n",
    "* Dado que la convolución es un operador lineal, puede representarse mediante multiplicación matricial\n",
    "\n",
    "* **Ejemplo (cont.):** $\\;$ obtenemos $\\boldsymbol{y}$ ($\\mathbf{Y}$ aplanada) multiplicando una matriz $\\mathbf{C}$ (derivada del kernel $\\mathbf{W}$) por $\\boldsymbol{x}$ ($\\mathbf{X}$ aplanada)\n",
    "$$\\boldsymbol{y}=\\mathbf{C}\\boldsymbol{x}%\n",
    "=\\left(\\begin{array}{ccc|ccc|ccc}%\n",
    "  w_1&w_2&0&w_3&w_4&0&0&0&0\\\\%\n",
    "  0&w_1&w_2&0&w_3&w_4&0&0&0\\\\%\n",
    "  0&0&0&w_1&w_2&0&w_3&w_4&0\\\\%\n",
    "  0&0&0&0&w_1&w_2&0&w_3&w_4%\n",
    "\\end{array}\\right)%\n",
    "\\begin{pmatrix}x_1\\\\x_2\\\\x_3\\\\x_4\\\\x_5\\\\x_6\\\\x_7\\\\x_8\\\\x_9\\end{pmatrix}%\n",
    "=\\begin{pmatrix}\n",
    "w_1x_1+w_2x_2+w_3x_4+w_4x_5\\\\%\n",
    "w_1x_2+w_2x_3+w_3x_5+w_4x_6\\\\%\n",
    "w_1x_4+w_2x_5+w_3x_7+w_4x_8\\\\%\n",
    "w_1x_5+w_2x_6+w_3x_8+w_4x_9%\n",
    "\\end{pmatrix}$$\n",
    "* **Las CNNs son MLPs con matrices de pesos de estructura dispersa especial y elementos ligados en diferentes posiciones**"
   ]
  },
  {
   "cell_type": "markdown",
   "metadata": {},
   "source": [
    "## 14.2.1.4 Condiciones de contorno y relleno\n",
    "\n",
    "* **Valid convolution:** $\\;$ convolución de un filtro $f_h\\times f_w$ con una imagen $x_h\\times x_w$ que produce una salida\n",
    "$$(x_h-f_h+1)\\times (x_w-f_w+1)$$ \n",
    "* **Same convolution:** $\\;$ añade **relleno cero (zero-padding)** (bordes a cero) para que la salida sea del mismo tamaño que la entrada\n",
    "* **Caso general:** $\\;$ con entrada $x_h\\times x_w$, kernel $f_h\\times f_w$, y padding $p_h$ y $p_w$, el tamaño de la salida es\n",
    "$$(x_h+2p_h-f_h+1)\\times (x_w+2p_w-f_w+1)$$\n",
    "* **Ejemplo:** $\\;$ same convolution con zero-padding\n",
    "\n",
    "<div align=\"center\">\n",
    "<table><tr><td style=\"border: none;\"><img src=\"Figure_14.7.png\" width=\"600\"/></td></tr></table>\n",
    "</div>\n",
    "\n",
    "* **Ejemplo:** $\\;$ same convolution con zero-padding; $\\;2p=f-1$ para que la salida tenga el mismo tamaño que la entrada\n",
    "$$p=1, f=3, x_h=5, x_w=7 ~\\to~ (5+2-3+1)\\times (7+2-3+1)=5\\times 7$$\n",
    "\n",
    "<div align=\"center\">\n",
    "<table><tr><td style=\"border: none;\"><img src=\"Figure_14.8_A.png\" width=\"600\"/></td></tr></table>\n",
    "</div>"
   ]
  },
  {
   "cell_type": "markdown",
   "metadata": {},
   "source": [
    "## 14.2.1.5 Convolución a saltos\n",
    "\n",
    "* Dado que cada píxel de salida es una combinación ponderada de entradas en su **campo receptivo,** los píxeles de salida vecinos tendrán valores similares ya que sus entradas se solapan\n",
    "* **Strided convolution:** $\\;$ elimina redundancias y acelera cálculos saltándose cada $s$-ésima entrada\n",
    "* **Tamaño de la salida con saltos:** $\\;$ con entrada $x_h\\times x_w$, kernel $f_h\\times f_w$, padding $p_h$ y $p_w$, y strides $s_h$ y $s_w$, la salida es\n",
    "$$\\left\\lfloor\\frac{x_h+2p_h-f_h+s_h}{s_h}\\right\\rfloor\\times\\left\\lfloor\\frac{x_w+2p_w-f_w+s_w}{s_w}\\right\\rfloor$$\n",
    "* **Ejemplo:** $\\;p=1$, $f=3$, $x_h=5$, $x_w=7$ y $s=2$\n",
    "$$\\left\\lfloor\\frac{5+2-3+2}{2}\\right\\rfloor\\times\\left\\lfloor\\frac{7+2-3+2}{2}\\right\\rfloor=3\\times 4$$\n",
    "\n",
    "<div align=\"center\">\n",
    "<table><tr><td style=\"border: none;\"><img src=\"Figure_14.8_B.png\" width=\"600\"/></td></tr></table>\n",
    "</div>"
   ]
  },
  {
   "cell_type": "markdown",
   "metadata": {},
   "source": [
    "## 14.2.1.6 Múltiples canales de entrada y salida\n",
    "\n",
    "* **Múltiples canales de entrada:** $\\;$ con un kernel por cada canal de entrada, $\\boldsymbol{w}$ es una matriz de pesos 3d o **tensor** y la salida se obtiene convolucionando el canal $c$ de la entrada con el kernel $\\boldsymbol{w}_{:,:,c}$ y sumando para todos los canales (con sesgo $b$ y salto $s$):\n",
    "$$z_{i,j}=b+\\sum_{u=0}^{H-1}\\sum_{v=0}^{W-1}\\sum_{c=0}^{C-1}x_{si+u,sj+v,c}\\,w_{u,v,c}$$\n",
    "\n",
    "<div align=\"center\">\n",
    "<table><tr><td style=\"border: none;\"><img src=\"Figure_14.9.png\" width=\"600\"/></td></tr></table>\n",
    "</div>\n",
    "\n",
    "* **Múltiples canales de salida:** $\\;$ con un kernel para cada **tipo de característica** $d$ a detectar en cada canal de entrada $c$, $\\boldsymbol{w}$ es una matriz de pesos 4d con un filtro $\\boldsymbol{w}_{:,:,c,d}$ por cada $d$ y $c$:\n",
    "$$z_{i,j,d}=b_d+\\sum_{u=0}^{H-1}\\sum_{v=0}^{W-1}\\sum_{c=0}^{C-1} x_{si+u,sj+v,c}\\,w_{u,v,c,d}$$\n",
    "  * **Hipercolumna:** $\\;$ cada columna cilíndrica vertical denota un conjunto de características de salida $\\boldsymbol{z}_{i,j,1:D}$\n",
    "\n",
    "<div align=\"center\">\n",
    "<table><tr><td style=\"border: none;\"><img src=\"Figure_14.10.png\" width=\"600\"/></td></tr></table>\n",
    "</div>"
   ]
  },
  {
   "cell_type": "markdown",
   "metadata": {},
   "source": [
    "## 14.2.1.7 Convolución 1x1 (punto a punto)\n",
    "\n",
    "* **Convolución 1x1 (punto a punto):** $\\;$ combinación ponderada de características en una posición dada, no en varias, por lo que pasamos de $C$ a $D$ canales sin alterar las dimensiones espaciales\n",
    "$$z_{i,j,d}=b_d+\\sum_{c=0}^{C-1}x_{i,j,c}\\,w_{0,0,c,d}$$\n",
    "* **Ejemplo:** $\\;$ de 3 a 2 canales por convolución con filtro $1\\times 1\\times 3\\times 2$\n",
    "\n",
    "<div align=\"center\">\n",
    "<table><tr><td style=\"border: none;\"><img src=\"Figure_14.11.png\" width=\"600\"/></td></tr></table>\n",
    "</div>"
   ]
  }
 ],
 "metadata": {
  "language_info": {
   "name": "python"
  },
  "orig_nbformat": 4
 },
 "nbformat": 4,
 "nbformat_minor": 2
}
