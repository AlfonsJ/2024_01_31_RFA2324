{
 "cells": [
  {
   "attachments": {},
   "cell_type": "markdown",
   "metadata": {},
   "source": [
    "# Problemas de regresión\n",
    "\n",
    "En los problemas de regresión asumimos que los estados de la naturaleza y acciones son reales:\n",
    "$$\\mathcal{H}=\\mathcal{Y}=\\{1,\\dotsc,C\\}\\qquad\\text{y}\\qquad\\mathcal{A}=\\mathcal{Y}$$"
   ]
  }
 ],
 "metadata": {
  "language_info": {
   "name": "python"
  },
  "orig_nbformat": 4
 },
 "nbformat": 4,
 "nbformat_minor": 2
}
