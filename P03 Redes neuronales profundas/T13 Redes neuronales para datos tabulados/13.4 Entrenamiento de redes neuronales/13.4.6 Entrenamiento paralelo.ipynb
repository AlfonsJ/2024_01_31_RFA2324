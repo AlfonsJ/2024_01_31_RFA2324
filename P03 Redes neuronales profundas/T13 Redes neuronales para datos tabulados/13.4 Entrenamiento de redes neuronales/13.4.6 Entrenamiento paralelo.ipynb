{
 "cells": [
  {
   "cell_type": "markdown",
   "metadata": {},
   "source": [
    "# 13.4.6 Entrenamiento paralelo\n",
    "\n",
    "**Graphics processing units (GPUs):** $\\;$ muy eficientes para multiplicar matrices; actualmente se emplean múltiples GPUs para entrenar\n",
    "\n",
    "**Paralelismo de modelo:** $\\;$ partimos el modelo entre diferentes màquinas; en general resulta demasiado complicado\n",
    "\n",
    "**Paralelismo de datos:** $\\;$ partimos los datos entre diferentes máquinas, cada una con una copia del modelo\n",
    "\n",
    "**Paso $t$ de entrenamiento con paralelismo de datos:**\n",
    "* Partimos el minibatch en $K$ máquinas para obtener $\\,\\mathcal{D}_t^k\\,$ para cada $k$\n",
    "* Cada máquina $k$ calcula su propio gradiente, $\\,\\boldsymbol{g}_t^k=\\boldsymbol{\\nabla}_{\\boldsymbol{\\theta}}\\mathcal{L}(\\boldsymbol{\\theta};\\mathcal{D}_t^k)$\n",
    "* **all-reduce:** $\\;$ combina dos pasos\n",
    "    * Recuperamos todos los gradientes locales en una máquina central y los sumamos, $\\,\\boldsymbol{g}_t=\\sum_{k=1}^K\\boldsymbol{g}_t^k$\n",
    "    * Difundimos el gradiente sumado a todas las máquinas, $\\,\\tilde{\\boldsymbol{g}}_t^k=\\boldsymbol{g}_t$\n",
    "* Cada máquina actualiza su copia de parámetros, $\\,\\boldsymbol{\\theta}_t^k=\\boldsymbol{\\theta}_t^k-\\eta_t\\tilde{\\boldsymbol{g}}_t^k$\n",
    "\n",
    "<div align=\"center\">\n",
    "\n",
    "<img src=\"Figure_13.19.png\" width=\"600\"/>\n",
    "\n",
    "</div>\n",
    "\n",
    "**Entrenamiento síncrono:** $\\;$ como se indica arriba, cada máquina se bloquea hasta tener el gradiente sumado\n",
    "\n",
    "**Entrenamiento asíncrono o hogwild (glotón salvaje):** $\\;$ si una máquina actualiza un subconjunto de parámetros distinto del resto, puede actualizar su gradiente local sin esperar al gradiente sumado"
   ]
  }
 ],
 "metadata": {
  "kernelspec": {
   "display_name": "Python 3",
   "language": "python",
   "name": "python3"
  },
  "language_info": {
   "codemirror_mode": {
    "name": "ipython",
    "version": 3
   },
   "file_extension": ".py",
   "mimetype": "text/x-python",
   "name": "python",
   "nbconvert_exporter": "python",
   "pygments_lexer": "ipython3",
   "version": "3.11.4"
  },
  "orig_nbformat": 4
 },
 "nbformat": 4,
 "nbformat_minor": 2
}
