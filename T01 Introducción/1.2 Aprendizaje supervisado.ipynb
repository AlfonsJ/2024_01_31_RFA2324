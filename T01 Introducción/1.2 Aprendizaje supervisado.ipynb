{
 "cells": [
  {
   "attachments": {},
   "cell_type": "markdown",
   "metadata": {},
   "source": [
    "# Aprendizaje supervisado\n",
    "\n",
    "El aprendizaje supervisado es la forma de ML más común.\n",
    "\n",
    "La **tarea T** consiste en aprender una transformación $f:\\mathcal{X}\\to\\mathcal{Y}$ donde:\n",
    "* Las **entradas** $\\boldsymbol{x}\\in\\mathcal{X}$, **características, covariables o predictores** suelen ser un vector numérico de dimensión fija; por ejemplo, $\\mathcal{X}=\\mathbb{R}^D$, donde $D$ es la dimensión del vector.\n",
    "* Las **salidas** $\\boldsymbol{y}\\in\\mathcal{Y}$, **etiquetas, objetivos o respuestas** suelen ser etiquetas de clase o reales.\n",
    "\n",
    "La **experiencia E** viene dada por un **conjunto de entrenamiento,** esto es, un conjunto de $N$ pares entrada-salida\n",
    "$$\\mathcal{D}=\\{(\\boldsymbol{x}_n,\\boldsymbol{y}_n)\\}_{n=1}^N$$\n",
    "donde $N$ es el **tamaño de la muestra**; también es usual referirnos a cada par $(\\boldsymbol{x}_n,\\boldsymbol{y}_n)$ como **muestra (de entrenamiento).**\n",
    "\n",
    "La **medida de rendimiento P** depende del tipo de salida."
   ]
  },
  {
   "attachments": {},
   "cell_type": "markdown",
   "metadata": {},
   "source": [
    "## Clasificación\n",
    "\n",
    "En los problemas de **clasificación,** el espacio de salida es un conjunto de $C$ etiquetas mútuamente exclusivas y desordenadas que llamamos **clases,** $\\mathcal{Y}=\\{1,2,\\dotsc,C\\}$. La predicción de la etiqueta de clase de una entrada dada se conoce como **reconocimiento de formas (pattern recognition).** La **clasificación binaria** es un caso particular de gran interés académico y práctico en el que solo tenemos dos clases, las cuales se suelen denotar como $y\\in\\{0,1\\}$ o $y\\in\\{-1,+1\\}$.\n"
   ]
  },
  {
   "attachments": {},
   "cell_type": "markdown",
   "metadata": {},
   "source": [
    "### Ejemplo: clasificación de flores iris\n",
    "\n",
    "La clasificación de flores iris de las especies setosa, versicolor y virgínica es un ejemplo clásico en clasificación estadística:\n",
    "<figure style=\"text-align:center\">\n",
    "<img width=\"100\" src=\"Figure_1.1_A.png\" alt=\"setosa\" />\n",
    "<img width=\"100\" src=\"Figure_1.1_B.png\" alt=\"versicolor\" />\n",
    "<img width=\"100\" src=\"Figure_1.1_C.png\" alt=\"virginica\" />\n",
    "<figcaption>De izquierda a derecha: ejemplos de setosa, versicolor y virgínica.</figcaption>\n",
    "</figure>\n",
    "\n",
    "El espacio de entrada $\\mathcal{X}$ es un conjunto de imágenes que, por lo general, es de dimensión muy elevada. Por ejemplo, para una imagen a color con $C=3$ canales y $D_1\\times D_2$ píxeles, tenemos $\\mathcal{X}=\\mathbb{R}^D$ con $D=C\\times D_1\\times D_2$. Así pues, el aprendizaje de $f:\\mathcal{X}\\to\\mathcal{Y}$ es muy difícil, si bien ciertos modelos avanzados como las **redes neuronales convolucionales (CNNs)** consiguen aprender $f$ en algunas tareas. En el caso de iris, no trataremos las imágenes directamente."
   ]
  }
 ],
 "metadata": {
  "kernelspec": {
   "display_name": "Python 3",
   "language": "python",
   "name": "python3"
  },
  "language_info": {
   "codemirror_mode": {
    "name": "ipython",
    "version": 3
   },
   "file_extension": ".py",
   "mimetype": "text/x-python",
   "name": "python",
   "nbconvert_exporter": "python",
   "pygments_lexer": "ipython3",
   "version": "3.10.6"
  },
  "orig_nbformat": 4,
  "vscode": {
   "interpreter": {
    "hash": "e7370f93d1d0cde622a1f8e1c04877d8463912d04d973331ad4851f04de6915a"
   }
  }
 },
 "nbformat": 4,
 "nbformat_minor": 2
}
