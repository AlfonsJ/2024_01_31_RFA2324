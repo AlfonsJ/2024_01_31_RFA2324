{
 "cells": [
  {
   "attachments": {},
   "cell_type": "markdown",
   "metadata": {},
   "source": [
    "# 1.6.3 Consideraciones\n",
    "\n",
    "**Pirateo de recompensas (reward hacking):** $\\;$ problema que se plantea cuando, tras entrenar un sistema de ML con una función de recompensa dada, nos damos cuenta que dicha función no incluye varias restricciones o preferencias que debíamos haber especificado\n",
    "\n",
    "**Problema del alineamiento (alignment problem):** $\\;$ el reward hacking es un ejemplo de un problema mucho mayor que, en términos generales, podemos describir como la discrepancia entre lo que pedimos a nuestros algoritmos que optimicen y lo que en realidad queremos que hagan por nosotros\n",
    "\n",
    "**Ética y seguridad de la IA:** $\\;$ el extraordinario avance de la IA en los últimos años ha provocado gran preocupación tanto por la eticidad de los sistemas desarrollados (lo que queremos que hagan y posibles usos) como por su seguridad (lo que realmente les hemos pedido y usos no deseados)\n",
    "\n",
    "**Aprendizaje por refuerzo inverso:** $\\;$ propone no especificar una función de recompensa explícita para atacar el problema del alineamiento; en su lugar, el sistema debe inferir la recompensa observando el comportamiento humano; un incoveniente obvio es que emular el comportamiento humano también puede conducir a usos no deseados\n",
    "\n",
    "**Inteligencia artificial general (AGI, artificial general intelligence):** $\\;$ la visión clásica de la IA establece que llegaremos a sistemas AGI mediante el desarrollo de sistemas cada vez más avanzados, que tomen decisiones por su cuenta, sin intervención humana\n",
    "\n",
    "**Inteligencia aumentada (augmented intelligence):** $\\;$ visión alternativa de la IA según la cual los sistemas IA son herramientas inteligentes que mantienen el control humano en la toma de decisiones; aunque las herramientas IA sean cada vez más autonómas, el objetivo es facilitar el trabajo de las personas, no emularlas o superarlas\n",
    "\n",
    "**Regulación de la IA:** $\\;$ desde junio de 2023, el uso de la IA en la UE está regulado por la Ley de Inteligencia Artificial, la cual establece obligaciones para proveedores y usuarios en función del nivel de riesgo de la IA (inaceptable, alto y limitado)"
   ]
  }
 ],
 "metadata": {
  "kernelspec": {
   "display_name": "Python 3",
   "language": "python",
   "name": "python3"
  },
  "language_info": {
   "codemirror_mode": {
    "name": "ipython",
    "version": 3
   },
   "file_extension": ".py",
   "mimetype": "text/x-python",
   "name": "python",
   "nbconvert_exporter": "python",
   "pygments_lexer": "ipython3",
   "version": "3.10.6"
  },
  "orig_nbformat": 4,
  "vscode": {
   "interpreter": {
    "hash": "e7370f93d1d0cde622a1f8e1c04877d8463912d04d973331ad4851f04de6915a"
   }
  }
 },
 "nbformat": 4,
 "nbformat_minor": 2
}
