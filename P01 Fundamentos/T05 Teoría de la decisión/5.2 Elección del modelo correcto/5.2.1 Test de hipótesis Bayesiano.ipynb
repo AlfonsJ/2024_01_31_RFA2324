{
 "cells": [
  {
   "attachments": {},
   "cell_type": "markdown",
   "metadata": {},
   "source": [
    "# Elección del modelo correcto\n",
    "\n",
    "Dados varios modelos (paramétricos) candidatos (p.e. redes con distintas arquitecturas), queremos escoger el modelo \"correcto\". Este problema puede abordarse con herramientas de la teoría de la decisión Bayesiana.\n"
   ]
  }
 ],
 "metadata": {
  "language_info": {
   "name": "python"
  },
  "orig_nbformat": 4
 },
 "nbformat": 4,
 "nbformat_minor": 2
}
