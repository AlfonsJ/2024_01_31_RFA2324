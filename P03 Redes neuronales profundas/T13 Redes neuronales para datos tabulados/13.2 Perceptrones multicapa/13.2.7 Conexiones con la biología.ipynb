{
 "cells": [
  {
   "cell_type": "markdown",
   "metadata": {},
   "source": [
    "# 13.2.7 Conexiones con la biología\n",
    "\n",
    "**Modelo McCulloch-Pitts:** $\\;$ primer modelo computacional de una neurona biológica\n",
    "* $h_k\\in\\{0,1\\}$ denota el estado, activo o no, de una neurona $k$\n",
    "* $h_k$ depende de las entradas de la neurona, $\\boldsymbol{x}\\in\\mathbb{R}^D$\n",
    "* $h_k$ también depende de la fuerza de sus conexiones de entrada correspondientes, $\\boldsymbol{w}_k\\in\\mathbb{R}^D$\n",
    "* Si la actividad (total) de entrada, $a_k=\\boldsymbol{w}_k^t\\boldsymbol{x}$, supera cierto umbral de activación $b_k$, la neurona se activa\n",
    "$$h_k(\\boldsymbol{x})=H(\\boldsymbol{h}_k^t\\boldsymbol{x}-b_k)$$\n",
    "\n",
    "**Diferencias entre redes neuronales artificiales y biológicas:**\n",
    "* Las artificiales suelen modificar la fuerza de sus conexiones de entrada con retropropagación, cosa imposible en las biológicas pues no pueden enviar información hacia atrás por los axones\n",
    "* Las artificiales suelen ser hacia adelante, pero las biológicas tienen numerosas conexiones de retroalimentación\n",
    "* Las artificiales suelen usar neuronas simples, que aplican una función no-lineal sencilla a una suma ponderada, mientras que las biológicas tienen estructuras dendríticas complejas\n",
    "* Las artificiales son mucho más pequeñas que las biológicas\n",
    "* Las artificiales se diseñan para modelar una única tarea, mientras que las biológicas implementan múltiples tareas\n",
    "\n",
    "**Las redes y \"el problema de la IA\":** $\\;$ no se sabe si modelos más realistas del cerebro pueden resolver mejor \"el problema de la IA\"\n",
    "\n",
    "**Número de neuronas de las redes artificiales desde los años 1950 y comparación con el de algunos seres vivos:**\n",
    "* Modelo 1: Perceptrón de Rosenblatt (1958)\n",
    "* Modelo 2: ADALINE de Widrow y Hoff (1960)\n",
    "* Modelo 3: Neocognitron de Fukushima (1980)\n",
    "* Modelo 4: MLP de Rumelhart, Hinton y Williams (1986)\n",
    "\n",
    "<div align=\"center\"><img src=\"Figure_13.11.png\"/></div>\n",
    "\n"
   ]
  }
 ],
 "metadata": {
  "kernelspec": {
   "display_name": "Python 3",
   "language": "python",
   "name": "python3"
  },
  "language_info": {
   "codemirror_mode": {
    "name": "ipython",
    "version": 3
   },
   "file_extension": ".py",
   "mimetype": "text/x-python",
   "name": "python",
   "nbconvert_exporter": "python",
   "pygments_lexer": "ipython3",
   "version": "3.10.6"
  },
  "orig_nbformat": 4
 },
 "nbformat": 4,
 "nbformat_minor": 2
}
