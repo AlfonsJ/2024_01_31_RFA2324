{
 "cells": [
  {
   "attachments": {},
   "cell_type": "markdown",
   "metadata": {},
   "source": [
    "# Algunos conjuntos de imágenes comunes\n",
    "\n",
    "* **MNIST:** 60K+10K imágenes $28\\times 28$ de los 10 dígitos\n",
    "* **EMNIST:** 698K+116K imágenes $28\\times 28$ de $62$ caracteres\n",
    "* **Fashion-MNIST:** 60K+10K imágenes $28\\times 28$ de 10 clases\n",
    "* **CIFAR:** 50K+10K imágenes $32\\times 32\\times 3$ (RGB) de 10 clases\n",
    "* **ImageNet:** 14M imágenes $256\\times 256\\times 3$ de objetos de 20K clases\n"
   ]
  }
 ],
 "metadata": {
  "kernelspec": {
   "display_name": "Python 3",
   "language": "python",
   "name": "python3"
  },
  "language_info": {
   "codemirror_mode": {
    "name": "ipython",
    "version": 3
   },
   "file_extension": ".py",
   "mimetype": "text/x-python",
   "name": "python",
   "nbconvert_exporter": "python",
   "pygments_lexer": "ipython3",
   "version": "3.10.6"
  },
  "orig_nbformat": 4,
  "vscode": {
   "interpreter": {
    "hash": "e7370f93d1d0cde622a1f8e1c04877d8463912d04d973331ad4851f04de6915a"
   }
  }
 },
 "nbformat": 4,
 "nbformat_minor": 2
}
