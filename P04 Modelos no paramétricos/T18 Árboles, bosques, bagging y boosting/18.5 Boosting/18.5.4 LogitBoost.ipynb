{
 "cells": [
  {
   "attachments": {},
   "cell_type": "markdown",
   "metadata": {},
   "source": [
    "## LogitBoost\n",
    "\n",
    "**Predicción probabilística:** $\\;$ usamos el modelo aditivo para predecir la mitad de la log-odds\n",
    "$$p(\\tilde{y}\\mid\\boldsymbol{x};\\boldsymbol{\\theta})%\n",
    "=\\sigma(\\tilde{y}a)\\qquad\\text{con}\\qquad a=2f(\\boldsymbol{x};\\boldsymbol{\\theta})$$\n",
    "\n",
    "**Objetivo FSAM con log-pérdida y $\\beta=1$:** $\\quad\\ell(\\tilde{y},\\boldsymbol{\\theta};\\boldsymbol{x})=-\\log p(\\tilde{y}\\mid\\boldsymbol{x};\\boldsymbol{\\theta})$\n",
    "$$\\begin{align*}\n",
    "L_m(\\boldsymbol{\\theta})%\n",
    "&=-\\sum_{i=1}^N \\log(\\sigma(\\tilde{y}_i2[f_{m-1}(\\boldsymbol{x}_i)+ F(\\boldsymbol{x}_i;\\boldsymbol{\\theta})]))\\\\%\n",
    "&=\\sum_{i=1}^N \\log(1+\\exp(-2\\tilde{y}_i[f_{m-1}(\\boldsymbol{x}_i)+ F(\\boldsymbol{x}_i;\\boldsymbol{\\theta})]))\n",
    "\\end{align*}$$\n",
    "\n",
    "**LogitBoost:** $\\;$ algoritmo de Newton para minimizar este objetivo directamente"
   ]
  }
 ],
 "metadata": {
  "kernelspec": {
   "display_name": "Python 3",
   "language": "python",
   "name": "python3"
  },
  "language_info": {
   "codemirror_mode": {
    "name": "ipython",
    "version": 3
   },
   "file_extension": ".py",
   "mimetype": "text/x-python",
   "name": "python",
   "nbconvert_exporter": "python",
   "pygments_lexer": "ipython3",
   "version": "3.10.6"
  },
  "orig_nbformat": 4,
  "vscode": {
   "interpreter": {
    "hash": "e7370f93d1d0cde622a1f8e1c04877d8463912d04d973331ad4851f04de6915a"
   }
  }
 },
 "nbformat": 4,
 "nbformat_minor": 2
}
