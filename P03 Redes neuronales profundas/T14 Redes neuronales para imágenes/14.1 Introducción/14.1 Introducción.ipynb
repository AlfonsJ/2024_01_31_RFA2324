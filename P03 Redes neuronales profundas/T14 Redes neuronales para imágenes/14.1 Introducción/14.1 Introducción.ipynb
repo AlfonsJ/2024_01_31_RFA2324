{
 "cells": [
  {
   "cell_type": "markdown",
   "metadata": {},
   "source": [
    "# 14.1 Introducción\n",
    "\n",
    "**De datos \"desestructurados\" a estructurados:**\n",
    "* Los MLPs convencionales aprenden a transformar vectores de entrada \"desestructurados\", $\\boldsymbol{x}\\in\\mathbb{R}^D$, en salidas\n",
    "* Queremos extender los MLPs al caso en el que la entrada $\\boldsymbol{x}$ tiene estructura espacial 2d\n",
    "* Se pueden aplicar ideas similares en el caso de una estructura temporal 1d, o de una estructura espacio-temporal 3d\n",
    "\n",
    "**Los MLPs no se aplican directamente a imágenes:**\n",
    "* **La operación básica puede verse como un matching:**\n",
    "    * Cada activación $\\,z_j=\\varphi(\\boldsymbol{w}_j^t\\boldsymbol{x}),\\,$ viene a ser un matching entre $\\boldsymbol{x}$ y un template aprendido $\\boldsymbol{w}_j$\n",
    "    * Si el matching es bueno ($\\boldsymbol{w}_j^t\\boldsymbol{x}$ elevado), su activación también lo es, lo que indica que el patrón $j$ se halla en $\\boldsymbol{x}$\n",
    "* **Número de parámetros prohibitivo:** $\\;$ no es factible aprender un $\\mathbf{W}$ independiente por cada posible tamaño (ni siquiera con uno solo)\n",
    "* **Falta de invarianza a la traslación:** $\\;$ un patrón localizado en una cierta posición puede no ser localizado en otra distinta\n",
    "\n",
    "<!-- la figura no esta bé; veure la figura 7.16 de deep learning with pytorch >\n",
    "<!-- <div align=\"center\">\n",
    "<table><tr><td style=\"border: none;\"><img src=\"Figure_14.1.png\" width=\"800\"/></td></tr></table>\n",
    "</div> -->\n",
    "\n",
    "**Convolutional neural networks (CNNs):**\n",
    "* El producto matricial se sustituye por una convolución\n",
    "* La imagen se divide en pedazos o **patches** solapados y cada uno se compara con un conjunto de matrices de pesos pequeñas, o **filtros**, que representan partes de un objeto\n",
    "* Se puede ver como una forma de **template matching**\n",
    "* Los filtros suelen ser pequeños (3x3 o 5x5) y se aprenden a partir de los datos, por lo que vienen a ser una extracción de características invariante a traslaciones integrada en el modelo\n",
    "\n",
    "**Ejemplo:** $\\;$ dígito clasificado mediante patrones locales\n",
    "\n",
    "<div align=\"center\">\n",
    "<table><tr><td style=\"border: none;\"><img src=\"Figure_14.2.png\" width=\"400\"/></td></tr></table>\n",
    "</div>"
   ]
  }
 ],
 "metadata": {
  "language_info": {
   "name": "python"
  },
  "orig_nbformat": 4
 },
 "nbformat": 4,
 "nbformat_minor": 2
}
