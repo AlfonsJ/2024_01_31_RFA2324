{
 "cells": [
  {
   "attachments": {},
   "cell_type": "markdown",
   "metadata": {},
   "source": [
    "# Entropía para variables aleatorias discretas"
   ]
  },
  {
   "attachments": {},
   "cell_type": "markdown",
   "metadata": {},
   "source": [
    "## Definición\n",
    "\n",
    "La **entropía de una variable aleatoria discreta $X$** con distribución $p$ sobre $K$ estados es:\n",
    "$$\\mathbb{H}(X)=-\\sum_kp(X=k)\\log_2p(X=k)=-\\mathbb{E}_X[\\log p(X)]$$\n",
    "Se mide en **bits** si usamos logaritmos binarios; **nats** si usamos logaritmos naturales.\n",
    "\n",
    "**Ejemplo:** si $X\\in\\{1,\\dotsc,5\\}$ con $p=[0.25,0.25,0.2,0.15,0.15]$\n",
    "$$\\begin{align*}\n",
    "\\mathbb{H}(X)%\n",
    "&=-2\\frac{1}{4}\\log_2\\frac{1}{4}-\\frac{1}{5}\\log_2\\frac{1}{5}-2\\frac{3}{20}\\log_2\\frac{3}{20}\\\\%\n",
    "&=-\\frac{1}{2}(-2)+\\frac{1}{5}\\log_25 -\\frac{3}{10}(\\log_23-\\log_220)\\\\%\n",
    "&=1+0.2\\cdot 2.3219-0.3\\,(1.5850-4.3219)\\\\%\n",
    "&=2.29 \\;\\text{bits}%\n",
    "\\end{align*}$$"
   ]
  },
  {
   "attachments": {},
   "cell_type": "markdown",
   "metadata": {},
   "source": [
    "## Distribución de máxima entropía\n",
    "\n",
    "La **distribución de máxima entropía** es la uniforme:\n",
    "$$p(X=k)=\\frac{1}{K}\\qquad\\text{para $X$ $K$-aria}$$\n",
    "Su entropía es:\n",
    "$$\\mathbb{H}(X)=-\\sum_{k=1}^K\\frac{1}{K}\\log\\frac{1}{K}=-\\log\\frac{1}{K}=\\log K$$"
   ]
  },
  {
   "attachments": {},
   "cell_type": "markdown",
   "metadata": {},
   "source": [
    "## Distribución de mínima entropía\n",
    "\n",
    "Una **distribución de mínima entropía** es cualquier función delta que asigne toda la masa en un estado $k^*$\n",
    "$$p(X=k)=\\delta(X=x^*)$$\n",
    "Su entropía es:\n",
    "$$\\mathbb{H}(X)=-1\\log 1-\\sum_{k\\neq k^*}0\\,\\log 0=0$$"
   ]
  },
  {
   "attachments": {},
   "cell_type": "markdown",
   "metadata": {},
   "source": [
    "## Función entropía binaria\n",
    "\n",
    "Consideremos el caso de variables aleatorias binarias, $X\\in\\{0,1\\}$,\n",
    "$$p(X=x)=\\begin{cases}\n",
    "\\theta & \\text{si $x=1$}\\\\%\n",
    "1-\\theta & \\text{si $x=0$}%\n",
    "\\end{cases}$$\n",
    "La entropía en este caso es:\n",
    "$$\\begin{align*}\n",
    "\\mathbb{H}(\\theta)&=\\mathbb{H}(X)\\\\\n",
    "&=-[p(X=1)\\log_2p(X=1)+p(X=0)\\log_2p(X=0)]\\\\\n",
    "&=-[\\theta\\log_2\\theta+(1-\\theta)\\log_2(1-\\theta)]%\n",
    "\\end{align*}$$\n",
    "$\\mathbb{H}(\\theta)$ alcanza su máximo de $1$ bit con $\\theta=0.5$:\n",
    "\n"
   ]
  },
  {
   "cell_type": "code",
   "execution_count": 1,
   "metadata": {},
   "outputs": [
    {
     "data": {
      "image/png": "[encoded data removed]",
      "text/plain": [
       "<Figure size 360x360 with 1 Axes>"
      ]
     },
     "metadata": {
      "needs_background": "light"
     },
     "output_type": "display_data"
    }
   ],
   "source": [
    "import numpy as np\n",
    "import matplotlib.pyplot as plt\n",
    "plt.rcParams['text.usetex'] = True\n",
    "x = np.linspace(1e-4, 1-1e-4, 1000)\n",
    "H = lambda x: -(x*np.log2(x) + (1-x) * np.log2(1-x))\n",
    "plt.figure(figsize=(5, 5)); plt.plot(x, H(x), '-b', lw=3); plt.grid();\n",
    "ticks = np.linspace(0, 1, 11); plt.xticks(ticks); plt.yticks(ticks);\n",
    "plt.xlabel(r'$\\theta$'); plt.ylabel(r'$H(\\theta)$');"
   ]
  }
 ],
 "metadata": {
  "kernelspec": {
   "display_name": "Python 3",
   "language": "python",
   "name": "python3"
  },
  "language_info": {
   "name": "python",
   "version": "3.10.6"
  },
  "orig_nbformat": 4
 },
 "nbformat": 4,
 "nbformat_minor": 2
}
