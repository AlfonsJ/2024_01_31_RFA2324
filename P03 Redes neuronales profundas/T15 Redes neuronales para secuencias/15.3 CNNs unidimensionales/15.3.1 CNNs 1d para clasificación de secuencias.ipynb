{
 "cells": [
  {
   "cell_type": "markdown",
   "metadata": {},
   "source": [
    "# 15.3.1 CNNs 1d para clasificación de secuencias\n",
    "\n",
    "**Objetivo:** $\\;$ aprender CNNs 1d para transformar una entrada secuencial $D$-dimensional, de longitud $T$, en una salida vectorial $C$-dimensional (p.e. logits)\n",
    "$$f_{\\mathbf{\\Theta}}:\\mathbb{R}^{DT}\\to\\mathbb{R}^C$$\n",
    "\n",
    "*Ejemplo de convolución 1d aplicada a una secuencia 1d:*\n",
    "<div><table align=\"center\"><tr><td style=\"border: none;\"><img src=\"Figure_14.4.png\" width=\"600\"/></td></tr></table></div>\n",
    "\n",
    "**Formalmente:** $\\;$ si $k$ es la talla del campo receptivo 1d, la salida $\\boldsymbol{z}$ puede ser...\n",
    "* $\\boldsymbol{z}\\in\\mathbb{R}^T$ con un filtro $\\boldsymbol{w}_d$ por canal de entrada $d$: $\\;z_i=\\sum_d\\boldsymbol{x}_{i-k\\,:\\,i+k,\\,d}^t\\,\\boldsymbol{w}_d$\n",
    "* $\\boldsymbol{z}\\in\\mathbb{R}^{TC}$ con múltiples canales de salida: $\\;z_{ic}=\\sum_d\\boldsymbol{x}_{i-k\\,:\\,i+k,\\,d}^t\\,\\boldsymbol{w}_{dc}$\n",
    "* $\\boldsymbol{z}\\in\\mathbb{R}^C$ con max-pooling: $\\;z_c=\\max_i\\;z_{ic}$\n",
    "\n",
    "**Modelo TextCNN para clasificación de sentimiento binaria:**\n",
    "<div><table align=\"center\"><tr><td style=\"border: none;\"><img src=\"Figure_15.14.png\" width=\"700\"/></td></tr></table></div>"
   ]
  }
 ],
 "metadata": {
  "language_info": {
   "name": "python"
  },
  "orig_nbformat": 4
 },
 "nbformat": 4,
 "nbformat_minor": 2
}
