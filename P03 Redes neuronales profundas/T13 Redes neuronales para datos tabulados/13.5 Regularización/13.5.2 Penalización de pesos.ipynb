{
 "cells": [
  {
   "cell_type": "markdown",
   "metadata": {},
   "source": [
    "# 13.5.2 Penalización de pesos"
   ]
  }
 ],
 "metadata": {
  "language_info": {
   "name": "python"
  },
  "orig_nbformat": 4
 },
 "nbformat": 4,
 "nbformat_minor": 2
}
