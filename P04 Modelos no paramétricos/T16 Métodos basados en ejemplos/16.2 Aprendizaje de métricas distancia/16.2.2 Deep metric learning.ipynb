{
 "cells": [
  {
   "attachments": {},
   "cell_type": "markdown",
   "metadata": {},
   "source": [
    "## Deep metric learning (DML)\n",
    "\n",
    "**Embedding de la entrada:** $\\;\\boldsymbol{e}=f(\\boldsymbol{x};\\boldsymbol{\\theta})\\in\\mathbb{R}^L\\,$ donde $\\mathbb{R}^L$ es un espacio \"semántico\" de baja dimensión\n",
    "\n",
    "**Embedding $\\ell_2$-normalizado:** $\\;\\hat{\\boldsymbol{e}}=\\boldsymbol{e}/\\lVert\\boldsymbol{e}\\rVert_2$ garantiza que todos los puntos se hallen en la hiperesfera unitaria\n",
    "\n",
    "**Distancia Euclídea normalizada:** $\\;$ para la comparación entre dos puntos (con mayor similitud cuanto menor sea)\n",
    "$$d(\\boldsymbol{x}_i,\\boldsymbol{x}_j;\\boldsymbol{\\theta})%\n",
    "=\\lVert\\hat{\\boldsymbol{e}}_i-\\hat{\\boldsymbol{e}}_j\\rVert_2^2%\n",
    "=(\\hat{\\boldsymbol{e}}_i-\\hat{\\boldsymbol{e}}_j)^t(\\hat{\\boldsymbol{e}}_i-\\hat{\\boldsymbol{e}}_j)%\n",
    "=2-2\\hat{\\boldsymbol{e}}_i^t\\hat{\\boldsymbol{e}}_j$$\n",
    "\n",
    "**Similitud coseno:** $\\;$ equivalente a la distancia Euclídea normalizada (con mayor similitud cuanto mayor sea)\n",
    "$$d(\\boldsymbol{x}_i,\\boldsymbol{x}_j;\\boldsymbol{\\theta})=\\hat{\\boldsymbol{e}}_i^t\\hat{\\boldsymbol{e}}_j$$\n",
    "\n",
    "**Objetivo de DML:** $\\;$ aprender una función de embedding tal que los ejemplos similares estén más cerca que los ejemplos no similares\n",
    "* Sea $\\mathcal{D}=\\{(\\boldsymbol{x}_i,y_i):i=1:N\\}$ conjunto de datos etiquetados\n",
    "* Sea $S=\\{(i,j):y_i=y_j\\}$ es un conjunto de pares similares derivado de $\\mathcal{D}$\n",
    "* **Propiedad DML:** $\\;$ si $(i,j)\\in S$ y $(i,k)\\not\\in S$, los embeddings de $\\boldsymbol{x}_i$ y $\\boldsymbol{x}_j$ deben estar cerca, y los de $\\boldsymbol{x}_i$ y $\\boldsymbol{x}_k$ lejos\n",
    "* **Criterios para cumplir la propiedad DML:** $\\;$ diversos; también con datos no etiquetados si se sabe definir $S$ "
   ]
  }
 ],
 "metadata": {
  "kernelspec": {
   "display_name": "Python 3",
   "language": "python",
   "name": "python3"
  },
  "language_info": {
   "codemirror_mode": {
    "name": "ipython",
    "version": 3
   },
   "file_extension": ".py",
   "mimetype": "text/x-python",
   "name": "python",
   "nbconvert_exporter": "python",
   "pygments_lexer": "ipython3",
   "version": "3.10.6"
  },
  "orig_nbformat": 4,
  "vscode": {
   "interpreter": {
    "hash": "e7370f93d1d0cde622a1f8e1c04877d8463912d04d973331ad4851f04de6915a"
   }
  }
 },
 "nbformat": 4,
 "nbformat_minor": 2
}
