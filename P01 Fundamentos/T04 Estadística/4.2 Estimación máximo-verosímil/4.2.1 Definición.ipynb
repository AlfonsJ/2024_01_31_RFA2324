{
 "cells": [
  {
   "attachments": {},
   "cell_type": "markdown",
   "metadata": {},
   "source": [
    "# Definición\n",
    "El **estimador máximo-verosímil** de un vector de parámetros $\\;\\boldsymbol{\\theta}$ con respecto a un conjunto de $N$ datos $\\;\\mathcal{D}=\\{(\\boldsymbol{x}_n,\\boldsymbol{y}_n)\\}$ independientes e idénticamente distribuidos según una fdp (o fp) $\\;p(\\boldsymbol{y}\\mid\\boldsymbol{x}, \\boldsymbol{\\theta})$ es:\n",
    "$$\\begin{align*}\n",
    "\\hat{\\boldsymbol{\\theta}}_{\\text{mle}}%\n",
    "&=\\operatorname*{argmax}\\limits_{\\boldsymbol{\\theta}}\\; \\operatorname{L}(\\boldsymbol{\\theta})%\n",
    "\\quad\\text{con}\\quad%\n",
    "\\operatorname{L}(\\boldsymbol{\\theta})%\n",
    "=p(\\mathcal{D}\\mid\\boldsymbol{\\theta})%\n",
    "=\\prod_{n=1}^N \\;p(\\boldsymbol{y}_n\\mid\\boldsymbol{x}_n, \\boldsymbol{\\theta})\\\\%\n",
    "&=\\operatorname*{argmax}\\limits_{\\boldsymbol{\\theta}}\\; \\operatorname{LL}(\\boldsymbol{\\theta})%\n",
    "\\quad\\text{con}\\quad%\n",
    "\\operatorname{LL}(\\boldsymbol{\\theta})%\n",
    "=\\log \\operatorname{L}(\\boldsymbol{\\theta})%\n",
    "=\\sum_{n=1}^N \\;\\log p(\\boldsymbol{y}_n\\mid\\boldsymbol{x}_n, \\boldsymbol{\\theta})\\\\%\n",
    "&=\\operatorname*{argmin}\\limits_{\\boldsymbol{\\theta}}\\; \\operatorname{NLL}(\\boldsymbol{\\theta})%\n",
    "\\quad\\text{con}\\quad%\n",
    "\\operatorname{NLL}(\\boldsymbol{\\theta})%\n",
    "=-\\operatorname{LL}(\\boldsymbol{\\theta})%\n",
    "=-\\sum_{n=1}^N \\;\\log p(\\boldsymbol{y}_n\\mid\\boldsymbol{x}_n, \\boldsymbol{\\theta})\n",
    "\\end{align*}$$"
   ]
  }
 ],
 "metadata": {
  "kernelspec": {
   "display_name": "Python 3",
   "language": "python",
   "name": "python3"
  },
  "language_info": {
   "codemirror_mode": {
    "name": "ipython",
    "version": 3
   },
   "file_extension": ".py",
   "mimetype": "text/x-python",
   "name": "python",
   "nbconvert_exporter": "python",
   "pygments_lexer": "ipython3",
   "version": "3.10.6"
  },
  "orig_nbformat": 4
 },
 "nbformat": 4,
 "nbformat_minor": 2
}
