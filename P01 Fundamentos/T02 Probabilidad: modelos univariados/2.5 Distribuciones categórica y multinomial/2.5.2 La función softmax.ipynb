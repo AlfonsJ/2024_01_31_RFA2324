{
 "cells": [
  {
   "attachments": {},
   "cell_type": "markdown",
   "metadata": {},
   "source": [
    "# Función softmax\n",
    "\n",
    "La softmax transforma transforma logits $\\boldsymbol{a}\\in\\mathbb{R}^C$ en un vector de probabilidades $[0,1]^C$:\n",
    "$$\\mathcal{S}(\\boldsymbol{a})=\\left[%\n",
    "\\frac{e^{a_1}}{\\sum_{\\tilde{c}}e^{a_{\\tilde{c}}}},\\dotsc,%\n",
    "\\frac{e^{a_C}}{\\sum_{\\tilde{c}}e^{a_{\\tilde{c}}}}\\right]%\n",
    "\\qquad\\text{cumpliéndose}\\qquad%\n",
    "0\\leq\\mathcal{S}(\\boldsymbol{a})_c\\leq 1%\n",
    "\\quad\\text{y}\\quad%\n",
    "\\sum_{c=1}^C \\mathcal{S}(\\boldsymbol{a})_c=1$$"
   ]
  },
  {
   "cell_type": "code",
   "execution_count": 2,
   "metadata": {},
   "outputs": [
    {
     "data": {
      "image/png": "[encoded data removed]",
      "text/plain": [
       "<Figure size 432x288 with 1 Axes>"
      ]
     },
     "metadata": {
      "needs_background": "light"
     },
     "output_type": "display_data"
    }
   ],
   "source": [
    "import numpy as np\n",
    "import matplotlib.pyplot as plt\n",
    "def softmax(a):\n",
    "\te = np.exp((1.0 * np.array(a)))\n",
    "\treturn e / np.sum(e)\n",
    "a = np.array([3, 0, 1])\n",
    "plt.bar(np.arange(1,a.size+1), softmax(a))\n",
    "plt.show()"
   ]
  },
  {
   "attachments": {},
   "cell_type": "markdown",
   "metadata": {},
   "source": [
    "La softmax se emplea para predecir el vector de probabilidades de una categórica (o multinomial) condicional,\n",
    "$$p(\\boldsymbol{y}\\mid\\boldsymbol{x},\\boldsymbol{\\theta})%\n",
    "=\\operatorname{Cat}(\\boldsymbol{y}\\mid f(\\boldsymbol{x};\\boldsymbol{\\theta}))%\n",
    "=\\mathcal{M}(\\boldsymbol{y}\\mid 1,f(\\boldsymbol{x};\\boldsymbol{\\theta})),$$\n",
    "mediante un predictor no normalizado del vector de probabilidades;\n",
    "los logits $\\boldsymbol{a}=f(\\boldsymbol{x};\\boldsymbol{\\theta})$.\n",
    "\n",
    "La softmax es una versión suavizada de la argmax. Si dividimos los logits por una constante de *temperatura* $\\,T>0$,\n",
    "$$\\lim_{T\\to 0}\\;\\mathcal{S}(\\boldsymbol{a}/T)_c=\\begin{cases}\n",
    "    1.0 & \\text{si $c=\\operatorname{argmax}_{c'}a_{c'}$}\\\\%\n",
    "    0.0 & \\text{en otro caso}%\n",
    "\\end{cases}\n",
    "$$\n",
    "mientras que, a altas temperaturas, se aproxima a la uniforme."
   ]
  }
 ],
 "metadata": {
  "kernelspec": {
   "display_name": "Python 3",
   "language": "python",
   "name": "python3"
  },
  "language_info": {
   "codemirror_mode": {
    "name": "ipython",
    "version": 3
   },
   "file_extension": ".py",
   "mimetype": "text/x-python",
   "name": "python",
   "nbconvert_exporter": "python",
   "pygments_lexer": "ipython3",
   "version": "3.10.6"
  },
  "orig_nbformat": 4,
  "vscode": {
   "interpreter": {
    "hash": "e7370f93d1d0cde622a1f8e1c04877d8463912d04d973331ad4851f04de6915a"
   }
  }
 },
 "nbformat": 4,
 "nbformat_minor": 2
}
