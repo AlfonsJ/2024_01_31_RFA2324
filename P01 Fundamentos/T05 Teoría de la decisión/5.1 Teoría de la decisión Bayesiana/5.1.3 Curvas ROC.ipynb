{
 "cells": [
  {
   "attachments": {},
   "cell_type": "markdown",
   "metadata": {},
   "source": [
    "# Curvas ROC\n",
    "\n",
    "Sea un problema de clasificación en una clase positiva ($1$) y otra negativa ($-1$ o $0$). Sea una regla de decisión dependiente de un umbral $\\tau\\in[0,1]$:\n",
    "$$\\hat{y}_{\\tau}(\\boldsymbol{x})=\\mathbb{I}(p(y=1\\mid\\boldsymbol{x})\\geq 1-\\tau)$$\n",
    "Según la teoria de la decisión Bayesiana, la minimización del riesgo esperado conduce a la elección de un valor para $\\tau$; por ejemplo, $\\tau=0.5$ con pérdida 01. Ahora bien, si variamos $\\tau$ de $0$ a $1$, podemos estudiar el comportamiento del riesgo con más detalle. Por ejemplo, si $\\tau=0$ (quizás $-\\epsilon$), nunca clasificamos en la clase positiva, por lo que siempre fallamos con positivos y acertamos con negativos. Por el contrario, si $\\tau=1$, siempre clasificamos en la clase positiva, por lo que siempre acertamos con positivos y fallamos con negativos. Aparte del $\\tau$ de mínimo riesgo o de estos valores extremos, podemos encontrar valores de $\\tau$ que resulten interesantes en la tarea considerada."
   ]
  },
  {
   "attachments": {},
   "cell_type": "markdown",
   "metadata": {},
   "source": [
    "## Matrices de confusión de clase"
   ]
  },
  {
   "attachments": {},
   "cell_type": "markdown",
   "metadata": {},
   "source": [
    "Llamamos **matriz de confusión (de clase)** a la matriz $M$ $2\\times 2$ en la que $M_{ij}$ es el número de veces que una muestra de la clase $i$ se \"confunde\" como perteneciente a la clase $j$; obviamente, si $i=j$ no se trata de confusión, sino de acierto, mientras que, si $i\\neq j$, sí se trata de una confusión o error de clasificación. Cada elemento de la matriz recibe un nombre específico:\n",
    "<div align=\"center\">\n",
    "\n",
    "|    Verdadera |                 Predicha 0 |                 Predicha 1 |             Suma fila |\n",
    "|:------------:|:--------------------------:|:--------------------------:|:---------------------:|\n",
    "|            0 | $\\operatorname{TN}_{\\tau}$ | $\\operatorname{FP}_{\\tau}$ |                   $N$ |\n",
    "|            1 | $\\operatorname{FN}_{\\tau}$ | $\\operatorname{TP}_{\\tau}$ |                   $P$ |\n",
    "| Suma columna |                  $\\hat{N}$ |                  $\\hat{P}$ | $\\hat{N}+\\hat{P}=N+P$ |\n",
    "\n",
    "</div>\n",
    "\n",
    "* $\\operatorname{TN}_{\\tau}$ es el número de **true negatives**\n",
    "* $\\operatorname{FP}_{\\tau}$ es el número de **false positives**\n",
    "* $\\operatorname{FN}_{\\tau}$ es el número de **false negatives**\n",
    "* $\\operatorname{TP}_{\\tau}$ es el número de **true positives**\n",
    "* $P$ y $\\hat{P}$ son los números verdadero y predicho de positivos\n",
    "* $N$ y $\\hat{N}$ son los números verdadero y predicho de negativos"
   ]
  }
 ],
 "metadata": {
  "language_info": {
   "name": "python"
  },
  "orig_nbformat": 4
 },
 "nbformat": 4,
 "nbformat_minor": 2
}
