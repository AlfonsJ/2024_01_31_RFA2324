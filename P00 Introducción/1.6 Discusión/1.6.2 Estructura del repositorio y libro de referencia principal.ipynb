{
 "cells": [
  {
   "attachments": {},
   "cell_type": "markdown",
   "metadata": {},
   "source": [
    "# Estructura del repositorio y libro de referencia principal\n",
    "\n",
    "La estructura de este repositorio sigue la del libro de referencia principal (PML): \n",
    "> Kevin P. Murphy. Probabilistic Machine Learning: An introduction. MIT Press, 2022.\n",
    "\n",
    "El PML consta de 23 capítulos que, tras un primer capítulo introductorio, se dividen en 5 partes: fundamentos, modelos lineales, redes neuronales profundas, modelos no paramétricos, y (técnicas) más allá del aprendizaje supervisado. A continuación se muestra su índice breve (a nivel de capítulo):\n",
    "\n",
    "> 1. Introduction\n",
    "\n",
    "> I. Foundations\n",
    ">> 2. Probability: Univariate Models\n",
    ">> 3. Probability: Multivariate Models\n",
    ">> 4. Statistics\n",
    ">> 5. Decision Theory\n",
    ">> 6. Information Theory\n",
    ">> 7. Linear Algebra\n",
    ">> 8. Optimization\n",
    "\n",
    "> II. Linear Models\n",
    ">> 9. Linear Discriminant Analysis\n",
    ">> 10. Logistic Regression\n",
    ">> 11. Linear Regression\n",
    ">> 12. Generalized Linear Models*\n",
    "\n",
    "> III. Deep Neural Networks\n",
    ">> 13. Neural Networks for Tabular Data\n",
    ">> 14. Neural Networks for Images\n",
    ">> 15. Neural Networks for Sequences\n",
    "\n",
    "> IV. Nonparametric Models\n",
    ">> 16. Exemplar-based Methods\n",
    ">> 17. Kernel Methods*\n",
    ">> 18. Trees, Forests, Bagging, and Boosting\n",
    "\n",
    "> V. Beyond Supervised Learning\n",
    ">> 19. Learning with Fewer Labeled Examples\n",
    ">> 20. Dimensionality Reduction\n",
    ">> 21. Clustering\n",
    ">> 22. Recommender Systems\n",
    ">> 23. Graph Embeddings*\n",
    "\n",
    "Las secciones y capítulos marcados con un asterisco incluyen material avanzado que, según el autor, puede obviarse en un curso introductorio al ML. Aparte de las secciones y capítulos marcados con un asterisco, omitiremos o resumiremos muchas otras secciones y capítulos por brevedad. No obstante, con el fin de facilitar la lectura del PML a medida que avanza el curso, seguiremos el orden del mismo a nivel de partes. "
   ]
  }
 ],
 "metadata": {
  "kernelspec": {
   "display_name": "Python 3",
   "language": "python",
   "name": "python3"
  },
  "language_info": {
   "codemirror_mode": {
    "name": "ipython",
    "version": 3
   },
   "file_extension": ".py",
   "mimetype": "text/x-python",
   "name": "python",
   "nbconvert_exporter": "python",
   "pygments_lexer": "ipython3",
   "version": "3.10.6"
  },
  "orig_nbformat": 4,
  "vscode": {
   "interpreter": {
    "hash": "e7370f93d1d0cde622a1f8e1c04877d8463912d04d973331ad4851f04de6915a"
   }
  }
 },
 "nbformat": 4,
 "nbformat_minor": 2
}
