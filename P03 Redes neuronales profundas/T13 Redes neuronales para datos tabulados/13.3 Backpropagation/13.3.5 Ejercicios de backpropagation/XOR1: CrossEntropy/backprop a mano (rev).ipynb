{
 "cells": [
  {
   "cell_type": "markdown",
   "metadata": {},
   "source": [
    "# XOR: backprop a mano para MLP CrossEntropy"
   ]
  },
  {
   "cell_type": "markdown",
   "metadata": {},
   "source": [
    "$$\\begin{align*}\n",
    "\\boldsymbol{x}&=(x_1,x_2)\\in\\{0, 1\\}^n%\n",
    "&&\\text{donde}\\quad n=2\\\\%\n",
    "\\boldsymbol{z}&=\\mathbf{W}\\boldsymbol{x}+\\boldsymbol{b}_1\\in\\mathbb{R}^{m_1}%\n",
    "&&\\text{donde}\\quad m_1=2,\\,\\mathbf{W}\\in\\mathbb{R}^{m_1\\times n}\\;\\text{y}\\;\\boldsymbol{b}_1\\in\\mathbb{R}^{m_1}\\\\%\n",
    "\\boldsymbol{h}&=\\operatorname{ReLU}(\\boldsymbol{z})\\in\\mathbb{R}^{m_2}%\n",
    "&&\\text{donde}\\quad m_2=2\\\\%\n",
    "\\boldsymbol{a}&=\\mathbf{V}\\boldsymbol{h}+\\boldsymbol{b}_2\\in\\mathbb{R}^{m_3}%\n",
    "&&\\text{donde}\\quad m_3=2,\\,\\mathbf{V}\\in\\mathbb{R}^{m_3\\times m_2}\\;\\text{y}\\;\\boldsymbol{b}_2\\in\\mathbb{R}^{m_3}\\\\%\n",
    "\\hat{\\boldsymbol{y}}&=\\mathcal{S}(\\boldsymbol{a})\\in[0,1]^{m_3}%\n",
    "&&\\text{probabilidades de las clases $0$ y $1$}\\\\%\n",
    "\\mathcal{L}&=\\operatorname{CrossEntropy}(\\boldsymbol{y},\\hat{\\boldsymbol{y}})\\in\\mathbb{R}%\n",
    "&&\\text{salida escalar}\\quad m=1%\n",
    "\\end{align*}$$\n",
    "\n",
    "$$\\mathbf{W}=\\begin{pmatrix}1&1\\\\1&1\\end{pmatrix}\\quad \\boldsymbol{b}_1=\\begin{pmatrix}-1\\\\0.5\\end{pmatrix}\\quad \\mathbf{V}=\\begin{pmatrix}1&-1\\\\-1&1\\end{pmatrix}\\quad\\boldsymbol{b}_2=\\begin{pmatrix}1\\\\-1\\end{pmatrix}$$"
   ]
  },
  {
   "cell_type": "markdown",
   "metadata": {},
   "source": [
    "## Forward: $\\small\\quad\\boldsymbol{x}\\to\\boldsymbol{z}(\\mathbf{W},\\boldsymbol{b}_1)\\to\\boldsymbol{h}\\to\\boldsymbol{a}(\\mathbf{V},\\boldsymbol{b}_2)\\to\\mathcal{L}$\n",
    "<div align=\"center\">\n",
    "\n",
    "|$x_1$|$x_2$|$\\boldsymbol{z}=\\mathbf{W}\\boldsymbol{x}+\\boldsymbol{b}_1$|$\\boldsymbol{h}=\\operatorname{ReLU}(\\boldsymbol{z})$|$\\boldsymbol{a}=\\mathbf{V}\\boldsymbol{h}+\\boldsymbol{b}_2$|$\\hat{\\boldsymbol{y}}=\\mathcal{S}(\\boldsymbol{a})$|$-\\boldsymbol{y}^t\\log(\\hat{\\boldsymbol{y}})$|\n",
    "|:-:|:-:|:-:|:-:|:-:|:-:|:-:|\n",
    "|$0$|$0$|$(-1, 0.5)^t$|$(0, 0.5)^t$|$(0.5, -0.5)^t$|$(0.7311, 0.2689)^t$|$(0.3133, 0)^t$|\n",
    "|$0$|$1$|$(0, 1.5)^t$ |$(0, 1.5)^t$|$(-0.5, 0.5)^t$|$(0.2689, 0.7311)^t$|$(0, 0.3133)^t$|\n",
    "|$1$|$0$|$(0, 1.5)^t$ |$(0, 1.5)^t$|$(-0.5, 0.5)^t$|$(0.2689, 0.7311)^t$|$(0, 0.3133)^t$|\n",
    "|$1$|$1$|$(1, 2.5)^t$ |$(1, 2.5)^t$|$(-0.5, 0.5)^t$|$(0.2689, 0.7311)^t$|$(1.3133, 0)^t$|\n",
    "\n",
    "</div>"
   ]
  },
  {
   "cell_type": "markdown",
   "metadata": {},
   "source": [
    "## Backward: $\\small\\quad\\mathcal{L}\\to\\boldsymbol{a}(\\mathbf{V},\\boldsymbol{b}_2)\\to\\boldsymbol{h}\\to\\boldsymbol{z}(\\mathbf{W},\\boldsymbol{b}_1)\\to\\boldsymbol{x}\\;$ (ver sec. 7.8.9)"
   ]
  },
  {
   "cell_type": "markdown",
   "metadata": {},
   "source": [
    "**Capa de entropía cruzada:** $\\quad\\displaystyle\\boldsymbol{u}^t=1^t\\frac{\\partial\\mathcal{L}}{\\partial\\boldsymbol{a}}=(\\hat{\\boldsymbol{y}}-\\boldsymbol{y})^t$ $\\qquad\\boldsymbol{u}^t=(u_1, u_2)\\;$ es un vector $1\\times 2$ a partir de aquí\n",
    "\n",
    "**Capa lineal previa a la softmax:** $\\displaystyle\\qquad\\boldsymbol{g}_{\\mathbf{V}}=\\boldsymbol{u}^t\\frac{\\partial\\boldsymbol{a}}{\\partial\\mathbf{V}}=\\boldsymbol{h}\\boldsymbol{u}^t\\qquad\\boldsymbol{g}_{\\boldsymbol{b}_2}=\\boldsymbol{u}^t\\frac{\\partial\\boldsymbol{a}}{\\partial\\boldsymbol{b}_2}=\\boldsymbol{u}^t\\qquad\\boldsymbol{u}^t=\\boldsymbol{u}^t\\frac{\\partial\\boldsymbol{a}}{\\partial\\boldsymbol{h}}=\\boldsymbol{u}^t\\mathbf{V}$\n",
    "\n",
    "**Capa de no-linealidad elemental:** $\\displaystyle\\quad\\boldsymbol{u}^t=\\boldsymbol{u}^t\\frac{\\partial\\boldsymbol{h}}{\\partial\\boldsymbol{z}}=(u_1H(z_1), u_2H(z_2))$\n",
    "\n",
    "**Capa lineal tras la entrada:** $\\displaystyle\\qquad\\boldsymbol{g}_{\\mathbf{W}}=\\boldsymbol{u}^t\\frac{\\partial\\boldsymbol{z}}{\\partial\\mathbf{W}}=\\boldsymbol{x}\\boldsymbol{u}^t\\qquad\\boldsymbol{g}_{\\boldsymbol{b}_1}=\\boldsymbol{u}^t\\frac{\\partial\\boldsymbol{z}}{\\partial\\boldsymbol{b}_1}=\\boldsymbol{u}^t\\qquad\\boldsymbol{u}^t=\\boldsymbol{u}^t\\frac{\\partial\\boldsymbol{z}}{\\partial\\boldsymbol{x}}=\\boldsymbol{u}^t\\mathbf{W}$"
   ]
  },
  {
   "cell_type": "markdown",
   "metadata": {},
   "source": [
    "<div align=\"center\">\n",
    "\n",
    "|$x_1$|$x_2$|$\\boldsymbol{u}^t=(\\hat{\\boldsymbol{y}}-\\boldsymbol{y})^t$|$\\boldsymbol{g}_{\\mathbf{V}}^t=\\boldsymbol{u}\\boldsymbol{h}^t$|$\\boldsymbol{g}_{\\boldsymbol{b}_2}^t=\\boldsymbol{u}$|$\\boldsymbol{u}^t=\\boldsymbol{u}^t\\mathbf{V}$|$\\boldsymbol{u}^t=\\boldsymbol{u}^t\\operatorname{diag}(H(\\boldsymbol{z}))$|$\\boldsymbol{g}_{\\mathbf{W}}^t=\\boldsymbol{u}\\boldsymbol{x}^t$|$\\boldsymbol{g}_{\\boldsymbol{b}_1}^t=\\boldsymbol{u}$|\n",
    "|:-:|:-:|:-:|:-:|:-:|:-:|:-:|:-:|:-:|\n",
    "|$0$|$0$|$\\begin{pmatrix}-0.2689\\\\0.2689\\end{pmatrix}^t$|$\\begin{pmatrix}     0&-0.1345\\\\      0& 0.1345\\end{pmatrix}$|$\\begin{pmatrix}-0.2689\\\\0.2689\\end{pmatrix}$|$\\begin{pmatrix}-0.5378\\\\0.5378\\end{pmatrix}^t$|$\\begin{pmatrix}0\\\\0.5378\\end{pmatrix}^t$|$\\begin{pmatrix}0&0\\\\0&0\\end{pmatrix}$|$\\begin{pmatrix}0\\\\0.5378\\end{pmatrix}$|\n",
    "|$0$|$1$|$\\begin{pmatrix}0.2689\\\\-0.2689\\end{pmatrix}^t$|$\\begin{pmatrix}     0& 0.4034\\\\      0&-0.4034\\end{pmatrix}$|$\\begin{pmatrix}0.2689\\\\-0.2689\\end{pmatrix}$|$\\begin{pmatrix}0.5378\\\\-0.5378\\end{pmatrix}^t$|$\\begin{pmatrix}0\\\\-0.5378\\end{pmatrix}^t$|$\\begin{pmatrix}0&0\\\\0&-0.5378\\end{pmatrix}$|$\\begin{pmatrix}0\\\\-0.5378\\end{pmatrix}$|\n",
    "|$1$|$0$|$\\begin{pmatrix}0.2689\\\\-0.2689\\end{pmatrix}^t$|$\\begin{pmatrix}     0& 0.4034\\\\      0&-0.4034\\end{pmatrix}$|$\\begin{pmatrix}0.2689\\\\-0.2689\\end{pmatrix}$|$\\begin{pmatrix}0.5378\\\\-0.5378\\end{pmatrix}^t$|$\\begin{pmatrix}0\\\\-0.5378\\end{pmatrix}^t$|$\\begin{pmatrix}0&0\\\\-0.5378&0\\end{pmatrix}$|$\\begin{pmatrix}0\\\\-0.5378\\end{pmatrix}$|\n",
    "|$1$|$1$|$\\begin{pmatrix}-0.7311\\\\0.7311\\end{pmatrix}^t$|$\\begin{pmatrix}-0.7311&-1.8278\\\\0.7311&1.8278\\end{pmatrix}$|$\\begin{pmatrix}-0.7311\\\\0.7311\\end{pmatrix}$|$\\begin{pmatrix}-1.4622\\\\1.4622\\end{pmatrix}^t$|$\\begin{pmatrix}-1.4622\\\\1.4622\\end{pmatrix}^t$|$\\begin{pmatrix}-1.4622&-1.4622\\\\1.4622&1.4622\\end{pmatrix}$|$\\begin{pmatrix}-1.4622\\\\1.4622\\end{pmatrix}$|\n",
    "\n",
    "</div>"
   ]
  },
  {
   "cell_type": "markdown",
   "metadata": {},
   "source": [
    "### Gradiente promedio:\n",
    "\n",
    "$$\\begin{align*}\n",
    "\\bar{\\boldsymbol{g}}_{\\mathbf{V}}^t&=\\frac{1}{4}\\left(\\begin{pmatrix}0&-0.1345\\\\0&0.1345\\end{pmatrix}+\\begin{pmatrix}0&0.4034\\\\0&-0.4034\\end{pmatrix}+\\begin{pmatrix}0&0.4034\\\\0&-0.4034\\end{pmatrix}+\\begin{pmatrix}-0.7311&-1.8278\\\\0.7311&1.8278\\end{pmatrix}\\right)=\\begin{pmatrix}-0.1828&-0.2889\\\\0.1828&0.2889\\end{pmatrix}\\\\%\n",
    "\\bar{\\boldsymbol{g}}_{\\boldsymbol{b}_2}^t&=\\frac{1}{4}\\left(\\begin{pmatrix}-0.2689\\\\0.2689\\end{pmatrix}+\\begin{pmatrix}0.2689\\\\-0.2689\\end{pmatrix}+\\begin{pmatrix}0.2689\\\\-0.2689\\end{pmatrix}+\\begin{pmatrix}-0.7311\\\\0.7311\\end{pmatrix}\\right)=\\begin{pmatrix}-0.1156\\\\0.1156\\end{pmatrix}\\\\%\n",
    "\\bar{\\boldsymbol{g}}_{\\mathbf{W}}^t&=\\frac{1}{4}\\left(\\begin{pmatrix}0&0\\\\0&0\\end{pmatrix}+\\begin{pmatrix}0&0\\\\0&-0.5378\\end{pmatrix}+\\begin{pmatrix}0&0\\\\-0.5378&0\\end{pmatrix}+\\begin{pmatrix}-1.4622&-1.4622\\\\1.4622&1.4622\\end{pmatrix}\\right)=\\begin{pmatrix}-0.3656&-0.3656\\\\0.2311&0.2311\\end{pmatrix}\\\\%\n",
    "\\bar{\\boldsymbol{g}}_{\\boldsymbol{b}_1}^t&=\\frac{1}{4}\\left(\\begin{pmatrix}0\\\\0.5378\\end{pmatrix}+\\begin{pmatrix}0\\\\-0.5378\\end{pmatrix}+\\begin{pmatrix}0\\\\-0.5378\\end{pmatrix}+\\begin{pmatrix}-1.4622\\\\1.4622\\end{pmatrix}\\right)=\\begin{pmatrix}-0.3656\\\\0.2311\\end{pmatrix}%\n",
    "\\end{align*}$$"
   ]
  },
  {
   "cell_type": "markdown",
   "metadata": {},
   "source": [
    "## SGD: $\\small\\quad\\boldsymbol{\\theta}=\\boldsymbol{\\theta}'-\\eta\\frac{\\partial\\mathcal{L}}{\\partial\\boldsymbol{\\theta}}\\quad$ con $\\quad\\eta=0.1$"
   ]
  },
  {
   "cell_type": "markdown",
   "metadata": {},
   "source": [
    "$$\\begin{align*}\n",
    "\\mathbf{V}&=\\mathbf{V}-0.1\\begin{pmatrix}-0.1828&-0.2889\\\\0.1828&0.2889\\end{pmatrix}%\n",
    "=\\begin{pmatrix}1&-1\\\\-1&1\\end{pmatrix}-\\begin{pmatrix}-0.01828&-0.02889\\\\0.01828&0.02889\\end{pmatrix}%\n",
    "=\\begin{pmatrix}1.0183&-0.9711\\\\-1.0183&0.9711\\end{pmatrix}\\\\%\n",
    "\\boldsymbol{b}_2&=\\boldsymbol{b}_2-0.1\\begin{pmatrix}-0.1156\\\\0.1156\\end{pmatrix}%\n",
    "=\\begin{pmatrix}1\\\\-1\\end{pmatrix}-\\begin{pmatrix}-0.01156\\\\0.01156\\end{pmatrix}%\n",
    "=\\begin{pmatrix}1.0116\\\\-1.0116\\end{pmatrix}\\\\%\n",
    "\\mathbf{W}&=\\mathbf{W}-0.1\\begin{pmatrix}-0.3656&-0.3656\\\\0.2311&0.2311\\end{pmatrix}%\n",
    "=\\begin{pmatrix}1&1\\\\1&1\\end{pmatrix}-\\begin{pmatrix}-0.03656&-0.03656\\\\0.02311&0.02311\\end{pmatrix}%\n",
    "=\\begin{pmatrix}1.0366&1.0366\\\\0.9769&0.9769\\end{pmatrix}\\\\%\n",
    "\\boldsymbol{b}_1&=\\boldsymbol{b}_1-0.1\\begin{pmatrix}-0.3656\\\\0.2311\\end{pmatrix}%\n",
    "=\\begin{pmatrix}-1\\\\0.5\\end{pmatrix}-\\begin{pmatrix}-0.03656\\\\0.02311\\end{pmatrix}%\n",
    "=\\begin{pmatrix}-0.9634\\\\0.4769\\end{pmatrix}%\n",
    "\\end{align*}$$"
   ]
  }
 ],
 "metadata": {
  "kernelspec": {
   "display_name": "Python 3",
   "language": "python",
   "name": "python3"
  },
  "language_info": {
   "codemirror_mode": {
    "name": "ipython",
    "version": 3
   },
   "file_extension": ".py",
   "mimetype": "text/x-python",
   "name": "python",
   "nbconvert_exporter": "python",
   "pygments_lexer": "ipython3",
   "version": "3.11.4"
  },
  "orig_nbformat": 4
 },
 "nbformat": 4,
 "nbformat_minor": 2
}
