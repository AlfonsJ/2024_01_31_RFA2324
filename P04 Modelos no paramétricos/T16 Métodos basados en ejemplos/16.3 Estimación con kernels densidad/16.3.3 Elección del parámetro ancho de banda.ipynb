{
 "cells": [
  {
   "attachments": {},
   "cell_type": "markdown",
   "metadata": {},
   "source": [
    "# Elección del parámetro ancho de banda\n",
    "\n",
    "El ancho de banda \"óptimo\" para el kernel Gaussiano 1d es:\n",
    "$$h=\\sigma\\left(\\frac{4}{3N}\\right)^{1/5}$$\n",
    "Una aproximación robusta (frente a la presencia de outliers) para estimar $\\sigma$ es:\n",
    "$$\\hat{\\sigma}=1.4826\\operatorname{MAD}$$\n",
    "donde $\\operatorname{MAD}$ es la **median absolute deviation:**\n",
    "$$\\operatorname{MAD}=\\operatorname{median}(\\lvert\\boldsymbol{x}-\\operatorname{median}(\\boldsymbol{x})\\rvert)$$\n",
    "Si $D>1$, estimamos $h_d$ separadamente y tomamos:\n",
    "$$h=\\left(\\prod_{d=1}^Dh_d\\right)^{1/D}$$"
   ]
  }
 ],
 "metadata": {
  "kernelspec": {
   "display_name": "Python 3",
   "language": "python",
   "name": "python3"
  },
  "language_info": {
   "codemirror_mode": {
    "name": "ipython",
    "version": 3
   },
   "file_extension": ".py",
   "mimetype": "text/x-python",
   "name": "python",
   "nbconvert_exporter": "python",
   "pygments_lexer": "ipython3",
   "version": "3.10.6"
  },
  "orig_nbformat": 4,
  "vscode": {
   "interpreter": {
    "hash": "e7370f93d1d0cde622a1f8e1c04877d8463912d04d973331ad4851f04de6915a"
   }
  }
 },
 "nbformat": 4,
 "nbformat_minor": 2
}
