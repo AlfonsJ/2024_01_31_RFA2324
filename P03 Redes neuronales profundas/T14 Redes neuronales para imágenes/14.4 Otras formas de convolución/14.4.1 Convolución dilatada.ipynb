{
 "cells": [
  {
   "cell_type": "markdown",
   "metadata": {},
   "source": [
    "# 14.4.1 Convolución dilatada\n",
    "\n",
    "**Convolución dilatada, con agujeros o à trous algorithm:** $\\;$ dado un **factor o ratio de dilatación** $r$, toma cada $r$-ésimo elemento de la entrada\n",
    "\n",
    "**Ejemplo 1d:** $\\;$ la convolución con un filtro $\\boldsymbol{w}$ con un ratio $r=2$ equivale a una convolución convencional con filtro $\\tilde{\\boldsymbol{w}}=[w_1,0,w_2,0,w_3]$, donde los ceros se insertan para expandir el campo receptivo (de ahí el término \"convolución con agujeros\")\n",
    "\n",
    "**Convolución dilatada 2d:** $\\;$ con ratio $r$ en altura y amplitud\n",
    "$$z_{i,j,d}=b_d+\\sum_{u=0}^{H-1}\\sum_{v=0}^{W-1}\\sum_{c=0}^{C-1} x_{i+ru,j+rv,c}\\,w_{u,v,c,d}$$\n",
    "<div align=\"center\">\n",
    "<table><tr>\n",
    "<td style=\"border: none;\"><img src=\"Figure_14.23.png\" width=800/></td>\n",
    "</tr></table>\n",
    "</div>"
   ]
  }
 ],
 "metadata": {
  "language_info": {
   "name": "python"
  },
  "orig_nbformat": 4
 },
 "nbformat": 4,
 "nbformat_minor": 2
}
