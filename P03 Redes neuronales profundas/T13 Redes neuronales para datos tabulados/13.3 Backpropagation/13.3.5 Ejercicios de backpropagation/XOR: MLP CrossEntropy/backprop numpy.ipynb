{
 "cells": [
  {
   "cell_type": "markdown",
   "metadata": {},
   "source": [
    "# XOR: backprop numpy para MLP CrossEntropy"
   ]
  },
  {
   "cell_type": "code",
   "execution_count": 1,
   "metadata": {},
   "outputs": [],
   "source": [
    "import numpy as np; np.set_printoptions(precision=4)\n",
    "X = np.array([[0, 0], [0, 1], [1, 0], [1, 1]])\n",
    "y = np.array([[1, 0], [0, 1], [0, 1], [1, 0]])\n",
    "W = np.array([[1, 1], [1, 1]]); b1 = np.array([-1,  .5])\n",
    "V = np.array([[1, -1], [-1, 1]]); b2 = np.array([ 1, -1])"
   ]
  },
  {
   "cell_type": "markdown",
   "metadata": {},
   "source": [
    "## Forward: $\\small\\quad\\boldsymbol{x}\\to\\boldsymbol{z}(\\mathbf{W},\\boldsymbol{b}_1)\\to\\boldsymbol{h}\\to\\boldsymbol{a}(\\mathbf{V},\\boldsymbol{b}_2)\\to\\mathcal{L}$"
   ]
  },
  {
   "cell_type": "code",
   "execution_count": 2,
   "metadata": {},
   "outputs": [
    {
     "name": "stdout",
     "output_type": "stream",
     "text": [
      "z = [[-1.   0.5], [ 0.   1.5], [ 0.   1.5], [ 1.   2.5]]\n",
      "h = [[0.  0.5], [0.  1.5], [0.  1.5], [1.  2.5]]\n",
      "a = [[ 0.5 -0.5], [-0.5  0.5], [-0.5  0.5], [-0.5  0.5]]\n",
      "y_pred = [[0.7311 0.2689], [0.2689 0.7311], [0.2689 0.7311], [0.2689 0.7311]]\n",
      "Ln = [[ 0.3133 -0.    ], [-0.      0.3133], [-0.      0.3133], [ 1.3133 -0.    ]] \n",
      "L = 0.5632616875182226\n"
     ]
    }
   ],
   "source": [
    "z = X @ W + b1; print('z =', str(z).replace('\\n',','))\n",
    "h = np.maximum(0, z); print('h =', str(h).replace('\\n',','))\n",
    "a = h @ V + b2; print('a =', str(a).replace('\\n',','))\n",
    "y_pred = np.exp(a); y_pred = np.transpose(y_pred.T / y_pred.sum(axis=1))\n",
    "print('y_pred =', str(y_pred).replace('\\n',','))\n",
    "Ln = -y * np.log(y_pred)\n",
    "print('Ln =', str(Ln).replace('\\n',','), '\\nL =', np.sum(Ln)/4.)"
   ]
  },
  {
   "cell_type": "markdown",
   "metadata": {},
   "source": [
    "## Backward $\\small\\quad\\mathcal{L}\\to\\boldsymbol{a}(\\mathbf{V},\\boldsymbol{b}_2)\\to\\boldsymbol{h}\\to\\boldsymbol{z}(\\mathbf{W},\\boldsymbol{b}_1)\\to\\boldsymbol{x}$"
   ]
  },
  {
   "cell_type": "code",
   "execution_count": 7,
   "metadata": {},
   "outputs": [
    {
     "name": "stdout",
     "output_type": "stream",
     "text": [
      "*** x = [0 0] ***\n",
      "uJLa = [[-0.2689  0.2689]]\n",
      "gV = [[-0.     -0.1345], [ 0.      0.1345]]\n",
      "gb2 = [-0.2689  0.2689]\n",
      "uJLaJah = [[-0.5379  0.5379]]\n",
      "Jhz = [[0. 0.], [0. 1.]]\n",
      "uJLaJahJhz = [[0.     0.5379]]\n",
      "gW = [[0. 0.], [0. 0.]]\n",
      "gb1 = [0.     0.5379]\n",
      "uJLaJahJhzJzx = [[0.5379 0.5379]]\n",
      "*** x = [0 1] ***\n",
      "uJLa = [[ 0.2689 -0.2689]]\n",
      "gV = [[ 0.      0.4034], [-0.     -0.4034]]\n",
      "gb2 = [ 0.2689 -0.2689]\n",
      "uJLaJah = [[ 0.5379 -0.5379]]\n",
      "Jhz = [[0. 0.], [0. 1.]]\n",
      "uJLaJahJhz = [[ 0.     -0.5379]]\n",
      "gW = [[ 0.      0.    ], [-0.     -0.5379]]\n",
      "gb1 = [ 0.     -0.5379]\n",
      "uJLaJahJhzJzx = [[-0.5379 -0.5379]]\n",
      "*** x = [1 0] ***\n",
      "uJLa = [[ 0.2689 -0.2689]]\n",
      "gV = [[ 0.      0.4034], [-0.     -0.4034]]\n",
      "gb2 = [ 0.2689 -0.2689]\n",
      "uJLaJah = [[ 0.5379 -0.5379]]\n",
      "Jhz = [[0. 0.], [0. 1.]]\n",
      "uJLaJahJhz = [[ 0.     -0.5379]]\n",
      "gW = [[ 0.      0.    ], [-0.5379 -0.    ]]\n",
      "gb1 = [ 0.     -0.5379]\n",
      "uJLaJahJhzJzx = [[-0.5379 -0.5379]]\n",
      "*** x = [1 1] ***\n",
      "uJLa = [[-0.7311  0.7311]]\n",
      "gV = [[-0.7311 -1.8276], [ 0.7311  1.8276]]\n",
      "gb2 = [-0.7311  0.7311]\n",
      "uJLaJah = [[-1.4621  1.4621]]\n",
      "Jhz = [[1. 0.], [0. 1.]]\n",
      "uJLaJahJhz = [[-1.4621  1.4621]]\n",
      "gW = [[-1.4621 -1.4621], [ 1.4621  1.4621]]\n",
      "gb1 = [-1.4621  1.4621]\n",
      "uJLaJahJhzJzx = [[0. 0.]]\n",
      "\n",
      "gWavg = [[-0.3655 -0.3655], [ 0.2311  0.2311]]\n",
      "gb1avg = [-0.3655  0.2311]\n",
      "gVavg = [[-0.1828 -0.2888], [ 0.1828  0.2888]]\n",
      "gb1avg = [-0.1155  0.1155]\n"
     ]
    }
   ],
   "source": [
    "gV = np.zeros((4, 2, 2)); gb2 = np.zeros((4, 2))\n",
    "gW = np.zeros((4, 2, 2)); gb1 = np.zeros((4, 2))\n",
    "for n in np.arange(4):\n",
    "    print('*** x =', str(X[n]).replace('\\n',','), '***')\n",
    "    ut = (y_pred[n] - y[n]).reshape(1, -1); print('uJLa =', str(ut).replace('\\n',','))\n",
    "    gV[n] = np.kron(ut.T, h[n].reshape(1, -1)); print('gV =', str(gV[n]).replace('\\n',','))\n",
    "    gb2[n] = ut; print('gb2 =', str(gb2[n]).replace('\\n',','))\n",
    "    ut = ut @ V; print('uJLaJah =', str(ut).replace('\\n',','))\n",
    "    Jhz = np.diag(np.heaviside(z[n], 0.0)); print('Jhz =', str(Jhz).replace('\\n',','))\n",
    "    ut = ut @ Jhz; print('uJLaJahJhz =', str(ut).replace('\\n',','))\n",
    "    gW[n] = np.kron(ut.T, X[n, :]); print('gW =', str(gW[n]).replace('\\n',','))\n",
    "    gb1[n] = ut; print('gb1 =', str(gb1[n]).replace('\\n',','))\n",
    "    ut = ut @ W; print('uJLaJahJhzJzx =', str(ut).replace('\\n',','))\n",
    "gWavg = gW.sum(axis=0)/4; print('\\ngWavg =', str(gWavg).replace('\\n',','))\n",
    "gb1avg = gb1.sum(axis=0)/4; print('gb1avg =', str(gb1avg).replace('\\n',','))\n",
    "gVavg = gV.sum(axis=0)/4; print('gVavg =', str(gVavg).replace('\\n',','))\n",
    "gb2avg = gb2.sum(axis=0)/4; print('gb1avg =', str(gb2avg).replace('\\n',','))"
   ]
  },
  {
   "cell_type": "markdown",
   "metadata": {},
   "source": [
    "## SGD: $\\small\\quad\\boldsymbol{\\theta}=\\boldsymbol{\\theta}'-\\eta\\frac{\\partial\\mathcal{L}}{\\partial\\boldsymbol{\\theta}}$"
   ]
  },
  {
   "cell_type": "code",
   "execution_count": 9,
   "metadata": {},
   "outputs": [
    {
     "name": "stdout",
     "output_type": "stream",
     "text": [
      "nW = [[1.0366 1.0366], [0.9769 0.9769]]\n",
      "ngb1 = [-0.9634  0.4769]\n",
      "ngV = [[ 1.0183 -0.9711], [-1.0183  0.9711]]\n",
      "nb2 = [ 1.0116 -1.0116]\n"
     ]
    }
   ],
   "source": [
    "eta = 0.1\n",
    "nW = W - eta * gWavg; print('nW =', str(nW).replace('\\n',','))\n",
    "nb1 = b1 - eta * gb1avg; print('ngb1 =', str(nb1).replace('\\n',','))\n",
    "nV = V - eta * gVavg; print('ngV =', str(nV).replace('\\n',','))\n",
    "nb2 = b2 - eta * gb2avg; print('nb2 =', str(nb2).replace('\\n',','))"
   ]
  }
 ],
 "metadata": {
  "kernelspec": {
   "display_name": "Python 3",
   "language": "python",
   "name": "python3"
  },
  "language_info": {
   "codemirror_mode": {
    "name": "ipython",
    "version": 3
   },
   "file_extension": ".py",
   "mimetype": "text/x-python",
   "name": "python",
   "nbconvert_exporter": "python",
   "pygments_lexer": "ipython3",
   "version": "3.11.4"
  },
  "orig_nbformat": 4
 },
 "nbformat": 4,
 "nbformat_minor": 2
}
