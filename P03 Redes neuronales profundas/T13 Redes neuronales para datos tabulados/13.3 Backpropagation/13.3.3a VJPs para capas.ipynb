{
 "cells": [
  {
   "cell_type": "markdown",
   "metadata": {},
   "source": [
    "# 13.3.3 Productos vector-Jacobiana para las capas"
   ]
  },
  {
   "cell_type": "markdown",
   "metadata": {},
   "source": [
    "**Recordatorio sobre la Jacobiana de $\\boldsymbol{f}$:** $\\quad\\mathbf{J}_{\\boldsymbol{f}}(\\boldsymbol{x})\\in\\mathbf{R}^{m\\times n}$\n",
    "$$\\mathbf{J}_{\\boldsymbol{f}}(\\boldsymbol{x})%\n",
    "=\\frac{\\partial\\boldsymbol{f}(\\boldsymbol{x})}{\\partial\\boldsymbol{x}}%\n",
    "=\\begin{bmatrix}%\n",
    "\\frac{\\partial f_1}{\\partial x_1}&\\cdots&\\frac{\\partial f_1}{\\partial x_n}\\\\%\n",
    "\\vdots&\\ddots&\\vdots\\\\%\n",
    "\\frac{\\partial f_m}{\\partial x_1}&\\cdots&\\frac{\\partial f_m}{\\partial x_n}%\n",
    "\\end{bmatrix}%\n",
    "=\\begin{bmatrix}\n",
    "\\frac{\\partial f_1}{\\partial\\boldsymbol{x}}\\\\%\n",
    "\\vdots\\\\%\n",
    "\\frac{\\partial f_m}{\\partial\\boldsymbol{x}}%\n",
    "\\end{bmatrix}%\n",
    "=\\begin{bmatrix}\n",
    "\\frac{\\partial\\boldsymbol{f}}{\\partial x_1},\\ldots,\\frac{\\partial\\boldsymbol{f}}{\\partial x_n}%\n",
    "\\end{bmatrix}$$"
   ]
  },
  {
   "cell_type": "markdown",
   "metadata": {},
   "source": [
    "**VJPs para capas:** $\\;$ el paso backward de backprop requiere calcular productos vector-Jacobiana para distintos tipos de capa\n",
    "* Capa de entropía cruzada\n",
    "* Capa de no-linealidad elemental\n",
    "* Capa lineal"
   ]
  }
 ],
 "metadata": {
  "kernelspec": {
   "display_name": "Python 3",
   "language": "python",
   "name": "python3"
  },
  "language_info": {
   "codemirror_mode": {
    "name": "ipython",
    "version": 3
   },
   "file_extension": ".py",
   "mimetype": "text/x-python",
   "name": "python",
   "nbconvert_exporter": "python",
   "pygments_lexer": "ipython3",
   "version": "3.11.4"
  },
  "orig_nbformat": 4
 },
 "nbformat": 4,
 "nbformat_minor": 2
}
