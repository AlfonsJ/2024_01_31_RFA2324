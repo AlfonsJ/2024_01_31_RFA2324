{
 "cells": [
  {
   "attachments": {},
   "cell_type": "markdown",
   "metadata": {},
   "source": [
    "# Introducción\n",
    "\n",
    "**Distancia \"semántica\":** $\\;d(\\boldsymbol{x},\\boldsymbol{x}')\\in\\mathbb{R}^{\\geq 0}$ para $\\boldsymbol{x},\\boldsymbol{x}'\\in\\mathcal{X}$, o equivalentemente su similtud $s(\\boldsymbol{x},\\boldsymbol{x}')\\in\\mathbb{R}^{\\geq 0}$, es un concepto muy importante en clasificación KNN, aprendizaje auto-supervisado, clustering, recuperación de información, seguimiento visual, etc.\n",
    "\n",
    "**Mahalanobis:** $\\;$ si $\\mathcal{X}=\\mathbb{R}^D$ con $D$ reducida, $M\\succ 0$ se aprende directamente o, indirectamente, a través de una proyección lineal\n",
    "$$d(\\boldsymbol{x},\\boldsymbol{x}')=\\sqrt{(\\boldsymbol{x}-\\boldsymbol{x}')^tM(\\boldsymbol{x}-\\boldsymbol{x}')}$$\n",
    "\n",
    "**Deep metric learning:** $\\;\\mathcal{X}=\\mathbb{R}^D$ con $D$ alta o $\\mathcal{X}$ no vectorial\n",
    "* Se aprende un embedding $\\boldsymbol{e}=f(\\boldsymbol{x})$ con una red neuronal profunda y luego se calculan distancias en el espacio de embedding\n",
    "* Se pretende que dichas distancias sean semánticamente significativas y menos sujetas a la maldición de la dimensionalidad"
   ]
  }
 ],
 "metadata": {
  "kernelspec": {
   "display_name": "Python 3",
   "language": "python",
   "name": "python3"
  },
  "language_info": {
   "codemirror_mode": {
    "name": "ipython",
    "version": 3
   },
   "file_extension": ".py",
   "mimetype": "text/x-python",
   "name": "python",
   "nbconvert_exporter": "python",
   "pygments_lexer": "ipython3",
   "version": "3.10.6"
  },
  "orig_nbformat": 4,
  "vscode": {
   "interpreter": {
    "hash": "e7370f93d1d0cde622a1f8e1c04877d8463912d04d973331ad4851f04de6915a"
   }
  }
 },
 "nbformat": 4,
 "nbformat_minor": 2
}
