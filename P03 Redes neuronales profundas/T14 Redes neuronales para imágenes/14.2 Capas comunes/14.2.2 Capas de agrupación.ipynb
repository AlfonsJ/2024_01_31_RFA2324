{
 "cells": [
  {
   "cell_type": "markdown",
   "metadata": {},
   "source": [
    "# 14.2.2 Capas de agrupación\n",
    "\n",
    "* **Equivarianza de la convolución:** $\\;$ preserva información sobre la posición de las características de entrada (con menor resolución)\n",
    "\n",
    "* **Invarianza frente a la posición:** $\\;$ si solo se desea saber si un objeto de interés (p.e.~una cara) se halla en alguna posición de la imagen, conviene hallar características invariantes a la posición\n",
    "\n",
    "* **Max pooling:** $\\;$ invarianza por maximización sobre las entradas\n",
    "<div align=\"center\">\n",
    "<table><tr><td style=\"border: none;\"><img src=\"Figure_14.12.png\" width=\"600\"/></td></tr></table>\n",
    "</div>\n",
    "\n",
    "* **Average pooling:** $\\;$ alternativa a max pooling que sustituye máximo por media\n",
    "\n",
    "* **Global average pooling:** $\\;$ la media se halla sobre todas las posiciones del mapa de características\n",
    "  * Convierte una mapa de características $H\\times W\\times D$ en un mapa de características $1\\times 1\\times D$ que se pasa como vector $D$-dimensional a una capa totalmente conectada para transformarlo en un vector $C$-dimensional de entrada a una salida softmax\n",
    "  * Aplicable a la clasificación de imágenes de tamaño variable pues el mapa de características final se convierte en un vector $D$-dimensional a transformar en una distribución sobre las clases\n"
   ]
  }
 ],
 "metadata": {
  "language_info": {
   "name": "python"
  },
  "orig_nbformat": 4
 },
 "nbformat": 4,
 "nbformat_minor": 2
}
