{
 "cells": [
  {
   "attachments": {},
   "cell_type": "markdown",
   "metadata": {},
   "source": [
    "# Problemas de regresión\n",
    "\n",
    "En los problemas de regresión asumimos que los estados de la naturaleza y acciones son reales, $\\mathcal{H}=\\mathcal{Y}=\\mathbb{R}$. Las pérdidas usuales para $\\mathbb{R}$ pueden extenderse fácilmente a $\\mathbb{R}^D$. Las reglas de decisión resultantes pueden usarse para calcular los parámetros óptimos que debe devolver un estimador, la acción óptima que debe realizar un robot, etc."
   ]
  }
 ],
 "metadata": {
  "language_info": {
   "name": "python"
  },
  "orig_nbformat": 4
 },
 "nbformat": 4,
 "nbformat_minor": 2
}
