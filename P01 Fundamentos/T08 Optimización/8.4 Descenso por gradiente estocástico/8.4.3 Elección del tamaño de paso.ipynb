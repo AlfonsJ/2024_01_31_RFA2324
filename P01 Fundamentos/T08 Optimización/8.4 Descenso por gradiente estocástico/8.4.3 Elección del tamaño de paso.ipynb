{
 "cells": [
  {
   "cell_type": "markdown",
   "metadata": {},
   "source": [
    "# 8.4.3 Elección del tamaño de paso"
   ]
  },
  {
   "cell_type": "markdown",
   "metadata": {},
   "source": [
    "## Tamaño de paso variable: condiciones de Robbins-Monro\n",
    "\n",
    "**Tamaño de paso constante:** $\\;$ el modelo tiende a subajustarse si es pequeño; si es grande, tiende a desajustarse tras un entrenamiento inestable\n",
    "\n",
    "**Ejemplo:** $\\;$ pérdida de una red neuronal entrenada con SGD en Fashion-MNIST en función del tamaño de paso\n",
    "<div align=\"center\"><img src=\"Figure_8.19.png\" width=600></div>\n",
    "\n",
    "**Tamaño de paso variable:** $\\;$ seguimos una secuencia de tamaños de paso ajustados a lo largo del tiempo; por ejemplo, empezamos con un valor pequeño que incrementamos paulatinamente, evaluando cada valor probado con unos pocos minibatches; finalmente nos quedamos con el valor de menor pérdida, o mejor un poco menor\n",
    "\n",
    "**Condiciones de Robbins-Monro:** $\\;$ condición suficiente para garantizar la convergencia de SGD en función de $\\{\\eta_t\\}$\n",
    "$$\\eta_t\\to 0%\n",
    "\\qquad\\text{y}\\qquad%\n",
    "\\frac{\\sum_{t=1}^{\\infty} \\eta_t^2}{\\sum_{t=1}^{\\infty} \\eta_t}\\to 0$$"
   ]
  },
  {
   "cell_type": "markdown",
   "metadata": {},
   "source": [
    "## Caída escalonada\n",
    "\n",
    "<div><table border-collapse: collapse><tr>\n",
    "<td style=\"border: none; text-align:left; vertical-align:top; padding:0; margin:0;\" width=500>\n",
    "\n",
    "**Caída escalonada:** $\\;$ el factor de aprendizaje se reajusta en cada punto (umbral) temporal de un conjunto predefinido\n",
    "$$\\eta_t=\\eta_i\\qquad\\text{si}\\qquad t_i\\leq t\\leq t_{i+1}$$\n",
    "\n",
    "**Ejemplo:** \n",
    "$$\\begin{align*}\n",
    "\\eta_i&=\\eta_0\\,\\gamma^i\\\\\n",
    "\\eta_0&=1\\\\\n",
    "\\gamma&=0.9\\quad\\text{cada $\\,20\\,$ iteraciones}\n",
    "\\end{align*}$$\n",
    "\n",
    "</td>\n",
    "<td style=\"border: none; text-align:center; vertical-align:top; padding:0; margin:0;\" width=400>\n",
    "\n",
    "<center><img src=\"lr_piecewise_constant.png\" width=400></center>\n",
    "\n",
    "</td></tr></table></div>"
   ]
  },
  {
   "cell_type": "markdown",
   "metadata": {},
   "source": [
    "## Caída exponencial\n",
    "\n",
    "<div><table border-collapse: collapse><tr>\n",
    "<td style=\"border: none; text-align:left; vertical-align:top; padding:0; margin:0;\" width=500>\n",
    "\n",
    "**Caída exponencial:**\n",
    "$$\\eta_t=\\eta_0\\,e^{-\\lambda t}$$\n",
    "\n",
    "**Ejemplo:** \n",
    "$$\\begin{align*}\n",
    "\\eta_0&=1\\\\\n",
    "\\lambda&=0.999\n",
    "\\end{align*}$$\n",
    "\n",
    "**Inconveniente:** $\\;$ típicamente demasiado rápida\n",
    "\n",
    "</td>\n",
    "<td style=\"border: none; text-align:center; vertical-align:top; padding:0; margin:0;\" width=400>\n",
    "\n",
    "<center><img src=\"lr_exp_decay.png\" width=400></center>\n",
    "\n",
    "</td></tr></table></div>"
   ]
  },
  {
   "cell_type": "markdown",
   "metadata": {},
   "source": [
    "## Caída polinómica\n",
    "\n",
    "<div><table border-collapse: collapse><tr>\n",
    "<td style=\"border: none; text-align:left; vertical-align:top; padding:0; margin:0;\" width=500>\n",
    "\n",
    "**Caída exponencial:**\n",
    "$$\\eta_t=\\eta_0\\,(\\beta t+1)^{-\\alpha}$$\n",
    "\n",
    "**Square-root schedule:** $\\;$ con $\\;\\alpha=0.5\\;$ y $\\;\\beta=1$\n",
    "$$\\eta_t=\\eta_0\\,\\frac{1}{\\sqrt{t+1}}$$\n",
    "\n",
    "**Ejemplo:** $\\;$ square-root schedule con $\\;\\eta_0=1$\n",
    "\n",
    "</td>\n",
    "<td style=\"border: none; text-align:center; vertical-align:top; padding:0; margin:0;\" width=400>\n",
    "\n",
    "<center><img src=\"lr_poly_decay.png\" width=400></center>\n",
    "\n",
    "</td></tr></table></div>"
   ]
  },
  {
   "cell_type": "markdown",
   "metadata": {},
   "source": [
    "## Calentamiento del factor de aprendizaje\n",
    "\n",
    "<div><table border-collapse: collapse><tr>\n",
    "<td style=\"border: none; text-align:left; vertical-align:top; padding:0; margin:0;\" width=500>\n",
    "\n",
    "**Idea:** $\\;$ primero incrementamos rápidamente el factor de aprendizaje y luego lo reducimos gradualmente\n",
    "\n",
    "**Ejemplo:** $\\;$ calentamiento lineal y enfriamiento coseno\n",
    "\n",
    "</td>\n",
    "<td style=\"border: none; text-align:center; vertical-align:top; padding:0; margin:0;\" width=400>\n",
    "\n",
    "<center><img src=\"Figure_8.21_A.png\" width=400></center>\n",
    "\n",
    "</td></tr></table></div>"
   ]
  },
  {
   "cell_type": "markdown",
   "metadata": {},
   "source": [
    "## Factor de aprendizaje cíclico\n",
    "\n",
    "<div><table border-collapse: collapse><tr>\n",
    "<td style=\"border: none; text-align:left; vertical-align:top; padding:0; margin:0;\" width=400>\n",
    "\n",
    "**Idea:** $\\;$ lo incrementamos y decrementamos múltiples veces para escapar de mínimos locales\n",
    "\n",
    "**Ejemplo:** $\\;$ mínimo y máximo basados en un calentamiento inicial; medio-ciclo en función del número de reinicios deseado\n",
    "\n",
    "**SGD con reinicios calientes:** $\\;$ técnica relacionada que aprovecha los modelos obtenidos tras cada enfriamiento para construir un modelo ensamble\n",
    "\n",
    "</td>\n",
    "<td style=\"border: none; text-align:center; vertical-align:top; padding:0; margin:0;\" width=600>\n",
    "\n",
    "<center><img src=\"Figure_8.21_B.png\" width=600></center>\n",
    "\n",
    "</td></tr></table></div>"
   ]
  },
  {
   "cell_type": "markdown",
   "metadata": {},
   "source": [
    "## Búsqueda lineal\n",
    "\n",
    "**Búsqueda lineal:** $\\;$ alternativa obvia a los heurísticos usuales\n",
    "\n",
    "**Dificultad:** $\\;$ los gradientes ruidosos de SGD complican el cálculo de la condición de Armijo\n",
    "\n",
    "**Resultado:** $\\;$ funciona si la varianza del gradiente es pequeña tiende a cero con el tiempo"
   ]
  }
 ],
 "metadata": {
  "language_info": {
   "name": "python"
  },
  "orig_nbformat": 4
 },
 "nbformat": 4,
 "nbformat_minor": 2
}
