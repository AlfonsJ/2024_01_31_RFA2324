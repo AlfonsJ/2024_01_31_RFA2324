{
 "cells": [
  {
   "cell_type": "markdown",
   "metadata": {},
   "source": [
    "# 15.5.0 Introducción\n",
    "\n",
    "**Transformer:** $\\;$ modelo seq2seq con atención en encoder y decoder, lo que elimina la necesidad de RNNs\n",
    "\n",
    "**Gran aplicabilidad:** $\\;$ usados en muchas tareas de generación secuencial (condicional) como\n",
    "* Traducción automática\n",
    "* Análisis de constituencia (constituency parsing)\n",
    "* Generación de música\n",
    "* Generación de secuencias proteínicas\n",
    "* Resumen textual abstractivo\n",
    "* Generación de imágenes"
   ]
  }
 ],
 "metadata": {
  "language_info": {
   "name": "python"
  },
  "orig_nbformat": 4
 },
 "nbformat": 4,
 "nbformat_minor": 2
}
