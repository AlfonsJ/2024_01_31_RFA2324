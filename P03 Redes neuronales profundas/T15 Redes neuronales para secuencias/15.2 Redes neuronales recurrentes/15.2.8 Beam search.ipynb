{
 "cells": [
  {
   "cell_type": "markdown",
   "metadata": {},
   "source": [
    "# 15.2.8 Beam search\n",
    "\n",
    "**Greedy decoding:** $\\;$ en cada $t$, calculamos $\\;\\hat{y}_t=\\operatorname*{argmax}\\limits_y\\;p(y_t=y\\mid\\hat{\\boldsymbol{y}}_{1:t-1},\\boldsymbol{x})$\n",
    "<div><table><tr>\n",
    "<td style=\"border: none;\"><img src=\"Figure_15.8_B.png\" width=500></td>\n",
    "</tr></table></div>\n",
    "\n",
    "**Secuencia MAP:** $\\;\\boldsymbol{y}_{1:T}^*=\\operatorname*{argmax}\\limits_{\\boldsymbol{y}_{1:T}}\\;p(\\boldsymbol{y}_{1:T}\\mid\\boldsymbol{x})$\n",
    "\n",
    "**Beam search:** $\\;$ selecciona los $K$ mejores tras generar todos los hijos de los nodos vivos actuales ($VK$ a partir de $t=2$)\n",
    "\n",
    "\n",
    "**Variantes de beam search:**\n",
    "* **Stochastic beam search**\n",
    "* **Diverse beam search**"
   ]
  }
 ],
 "metadata": {
  "language_info": {
   "name": "python"
  },
  "orig_nbformat": 4
 },
 "nbformat": 4,
 "nbformat_minor": 2
}
