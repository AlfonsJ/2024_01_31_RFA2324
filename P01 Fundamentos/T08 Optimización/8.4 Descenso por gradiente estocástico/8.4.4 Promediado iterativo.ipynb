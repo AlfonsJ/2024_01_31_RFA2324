{
 "cells": [
  {
   "cell_type": "markdown",
   "metadata": {},
   "source": [
    "# 8.4.4 Promediado iterativo\n",
    "\n",
    "**Promediado iterativo o Polyak-Ruppert:** $\\;$ para reducir la varianza de los estimadores producidos por SGD\n",
    "$$\\bar{\\boldsymbol{\\theta}}_t=\\frac{1}{t}\\sum_{i=1}^t\\boldsymbol{\\theta}_i%\n",
    "=\\frac{1}{t}\\boldsymbol{\\theta}_t+\\frac{t-1}{t}\\bar{\\boldsymbol{\\theta}}_{t-1}$$\n",
    "\n",
    "**Convergencia:** $\\;$ ratio de convergencia asintótico óptimo entre algoritmos SGD\n",
    "\n",
    "**Aplicación a regresión lineal:** $\\;$ equivale a regularización $\\ell_2$\n",
    "\n",
    "**Stochastic Weight Averaging (SWA):** $\\;$ variante orientada a la búsqueda de soluciones que generalicen mejor"
   ]
  }
 ],
 "metadata": {
  "language_info": {
   "name": "python"
  },
  "orig_nbformat": 4
 },
 "nbformat": 4,
 "nbformat_minor": 2
}
