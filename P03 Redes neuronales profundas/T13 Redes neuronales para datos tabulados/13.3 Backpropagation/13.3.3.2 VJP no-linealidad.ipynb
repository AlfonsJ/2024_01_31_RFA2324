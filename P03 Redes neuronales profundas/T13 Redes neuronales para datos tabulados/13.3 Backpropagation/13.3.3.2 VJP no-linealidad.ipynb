{
 "cells": [
  {
   "cell_type": "markdown",
   "metadata": {},
   "source": [
    "# 13.3.3.2 Capa de no-linealidad elemental"
   ]
  },
  {
   "cell_type": "markdown",
   "metadata": {},
   "source": [
    "**Capa de no-linealidad elemental:** $\\qquad\\boldsymbol{h}=\\boldsymbol{f}(\\boldsymbol{z})=\\varphi(\\boldsymbol{z})$\n",
    "\n",
    "**Jacobiana con respecto a $\\boldsymbol{x}$:** $\\qquad\\displaystyle\\mathbf{J}=\\frac{\\partial\\boldsymbol{h}}{\\partial\\boldsymbol{z}}=\\operatorname{diag}(\\varphi'(\\boldsymbol{z}))$\n",
    "\n",
    "* Para toda fila $i$ y columna $j$: $\\qquad\\displaystyle\\frac{\\partial h_i}{\\partial z_j}=\\mathbb{I}(i=j)\\,\\frac{d}{dz_i}\\varphi(z_i)=\\mathbb{I}(i=j)\\,\\varphi'(z_i)$\n",
    "\n",
    "* Si $\\;\\varphi(z)=\\operatorname{ReLU}(z)=\\max(z,0):\\qquad \\varphi'(z)=H(z)=\\mathbb{I}(z>0)$"
   ]
  },
  {
   "cell_type": "markdown",
   "metadata": {},
   "source": [
    "## Modelo XOR inicial"
   ]
  },
  {
   "cell_type": "code",
   "execution_count": 4,
   "metadata": {},
   "outputs": [
    {
     "name": "stdout",
     "output_type": "stream",
     "text": [
      "Jz = [[0. 1.], [0. 1.], [0. 1.], [1. 1.]]\n"
     ]
    }
   ],
   "source": [
    "import numpy as np; np.set_printoptions(precision=4)\n",
    "z = np.array([[-1., 0.5], [0., 1.5], [0., 1.5], [1., 2.5]])\n",
    "Jz = np.heaviside(z, 0.0); print('Jz =', str(Jz).replace('\\n',','))"
   ]
  }
 ],
 "metadata": {
  "kernelspec": {
   "display_name": "Python 3",
   "language": "python",
   "name": "python3"
  },
  "language_info": {
   "codemirror_mode": {
    "name": "ipython",
    "version": 3
   },
   "file_extension": ".py",
   "mimetype": "text/x-python",
   "name": "python",
   "nbconvert_exporter": "python",
   "pygments_lexer": "ipython3",
   "version": "3.10.6"
  },
  "orig_nbformat": 4
 },
 "nbformat": 4,
 "nbformat_minor": 2
}
