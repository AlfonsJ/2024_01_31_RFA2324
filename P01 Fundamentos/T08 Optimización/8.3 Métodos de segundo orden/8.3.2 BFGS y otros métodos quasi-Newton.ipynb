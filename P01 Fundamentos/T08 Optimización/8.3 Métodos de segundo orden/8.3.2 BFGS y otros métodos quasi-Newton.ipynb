{
 "cells": [
  {
   "cell_type": "markdown",
   "metadata": {},
   "source": [
    "# 8.3.2 BFGS y otros métodos quasi-Newton\n",
    "\n",
    "**Métodos quasi-Newton:** $\\;$ aproximan $\\mathbf{H}_t$ con $\\mathbf{B}_t$, obtenida iterativamente a partir de los gradientes hallados en cada paso\n",
    "\n",
    "**BFGS (Broyden–Fletcher–Goldfarb–Shanno):** $\\;$ a partir de $\\;\\mathbf{B}_0=\\mathbf{I},\\,$ aplica actualizaciones sucesivas de rango dos\n",
    "$$\\mathbf{B}_{t+1}=\\mathbf{B}_t+\\frac{\\boldsymbol{y}_t\\boldsymbol{y}_t^t}{\\boldsymbol{y}_t^t\\boldsymbol{s}_t}-\\frac{(\\mathbf{B}_t\\boldsymbol{s}_t)(\\mathbf{B}_t\\boldsymbol{s}_t)^t}{\\boldsymbol{s}_t^t\\mathbf{B}_t\\boldsymbol{s}_t}\n",
    "\\qquad\\text{con}\\qquad%\n",
    "\\boldsymbol{s}_t=\\boldsymbol{\\theta}_t-\\boldsymbol{\\theta}_{t-1}%\n",
    "\\quad\\text{y}\\quad%\n",
    "\\boldsymbol{y}_t=\\boldsymbol{g}_t-\\boldsymbol{g}_{t-1}$$\n",
    "\n",
    "**Condiciones de Wolfe:** $\\;\\mathbf{B}_{t+1}\\succ 0\\,$ si $\\,\\mathbf{B}_0\\succ 0\\,$ y $\\,\\eta_t\\,$ se escoge con búsqueda lineal cumpliendo\n",
    "$$\\begin{align*}\n",
    "\\mathcal{L}(\\boldsymbol{\\theta}_t+\\eta\\,\\boldsymbol{d}_t)%\n",
    "&\\leq\\mathcal{L}(\\boldsymbol{\\theta}_t)+c\\,\\eta\\,\\boldsymbol{d}_t^t\\nabla\\mathcal{L}(\\boldsymbol{\\theta}_t)%\n",
    "&&(\\text{Armijo},\\, c\\in[0,1],\\,\\text{típicamente}\\;c=10^{-4})\\\\%\n",
    "\\nabla\\mathcal{L}(\\boldsymbol{\\theta}_t+\\eta_t\\boldsymbol{d}_t)%\n",
    "&\\geq c_2\\,\\eta_t\\,\\boldsymbol{d}_t^t\\,\\nabla\\mathcal{L}(\\boldsymbol{\\theta}_t)%\n",
    "&&(c_2\\in(c,1),\\,\\text{ajustable})%\n",
    "\\end{align*}$$\n",
    "\n",
    "**Limited memory BFGS (L-BFGS):** $\\;$ no almacena $\\mathbf{B}_t$ explícitamente, sino los $M$ ($5\\leq M\\leq 20$) pares $(\\boldsymbol{s}_t,\\boldsymbol{y}_t)$ más recientes para aproximar $\\mathbf{H}_t^{-1}\\boldsymbol{g}_t$ con una secuencia de productos escalares\n",
    "\n",
    "**BFGS actualizando iterativamente una aproximación a la inversa de la Hessiana:** $\\;\\mathbf{C}_t\\approx\\mathbf{H}^{-1}$\n",
    "$$\\mathbf{C}_{t+1}=\\left(\\mathbf{I}-\\frac{\\boldsymbol{s}_t\\boldsymbol{y}_t^t}{\\boldsymbol{y}_t^t\\boldsymbol{s}_t}\\right)\\mathbf{C}_t\\left(\\mathbf{I}-\\frac{\\boldsymbol{y}_t\\boldsymbol{s}_t^t}{\\boldsymbol{y}_t^t\\boldsymbol{s}_t}\\right)+\\frac{\\boldsymbol{s}_t\\boldsymbol{s}_t^t}{\\boldsymbol{y}_t^t\\boldsymbol{s}_t}$$"
   ]
  }
 ],
 "metadata": {
  "language_info": {
   "name": "python"
  },
  "orig_nbformat": 4
 },
 "nbformat": 4,
 "nbformat_minor": 2
}
