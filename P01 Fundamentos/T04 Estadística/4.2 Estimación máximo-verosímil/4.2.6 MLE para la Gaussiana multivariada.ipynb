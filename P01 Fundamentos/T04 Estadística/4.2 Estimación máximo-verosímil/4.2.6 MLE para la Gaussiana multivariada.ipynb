{
 "cells": [
  {
   "attachments": {},
   "cell_type": "markdown",
   "metadata": {},
   "source": [
    "# MLE para la Gaussiana multivariada (incondicional)\n",
    "\n",
    "Si $\\;p(\\boldsymbol{y}_n\\mid\\boldsymbol{x}_n, \\boldsymbol{\\theta})%\n",
    "=p(\\boldsymbol{y}_n\\mid\\boldsymbol{\\theta})=\\mathcal{N}(y\\mid\\boldsymbol{\\mu}, \\mathbf{\\Sigma})$, entonces \n",
    "$\\;\\hat{\\boldsymbol{\\mu}}=\\bar{\\boldsymbol{y}}\\;$ y $\\;\\hat{\\mathbf{\\Sigma}}=\\frac{1}{N}\\sum_n(\\boldsymbol{y}_n-\\bar{\\boldsymbol{y}})(\\boldsymbol{y}_n-\\bar{\\boldsymbol{y}})^t=\\frac{1}{N}\\sum_n\\boldsymbol{y}_n\\boldsymbol{y}_n^t-\\hat{\\boldsymbol{\\mu}}\\hat{\\boldsymbol{\\mu}}^t,\\;$ esto es, la media y matriz de covarianzas empíricas."
   ]
  },
  {
   "cell_type": "code",
   "execution_count": 4,
   "metadata": {},
   "outputs": [
    {
     "name": "stdout",
     "output_type": "stream",
     "text": [
      "[0. 0.] [ 0.03528616 -0.02227175] \n",
      " [[2.  1.8]\n",
      " [1.8 2. ]] \n",
      " [[2.26391601 1.98610334]\n",
      " [1.98610334 2.19750929]]\n"
     ]
    }
   ],
   "source": [
    "import numpy as np\n",
    "from scipy.stats import multivariate_normal\n",
    "\n",
    "m = np.array([.0, .0])\n",
    "S = np.array([[2., 1.8], [1.8, 2.]])\n",
    "N = 100\n",
    "Y = multivariate_normal(mean=m, cov=S).rvs(N)\n",
    "hm = Y.mean(axis=0)\n",
    "hS = np.dot(Y.T, Y) / N - np.dot(hm.T, hm)\n",
    "# hS = np.cov(Y, rowvar=False)\n",
    "print(m, hm, \"\\n\", S, \"\\n\", hS)"
   ]
  }
 ],
 "metadata": {
  "kernelspec": {
   "display_name": "Python 3",
   "language": "python",
   "name": "python3"
  },
  "language_info": {
   "codemirror_mode": {
    "name": "ipython",
    "version": 3
   },
   "file_extension": ".py",
   "mimetype": "text/x-python",
   "name": "python",
   "nbconvert_exporter": "python",
   "pygments_lexer": "ipython3",
   "version": "3.10.6"
  },
  "orig_nbformat": 4
 },
 "nbformat": 4,
 "nbformat_minor": 2
}
