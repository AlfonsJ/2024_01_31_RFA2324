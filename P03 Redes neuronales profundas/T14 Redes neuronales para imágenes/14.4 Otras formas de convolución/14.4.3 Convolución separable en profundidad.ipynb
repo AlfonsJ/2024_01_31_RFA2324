{
 "cells": [
  {
   "cell_type": "markdown",
   "metadata": {},
   "source": [
    "# 14.4.3 Convolución separable en profundidad\n",
    "\n",
    "**Depthwise separable convolution:** $\\;$ convoluciona cada canal de entrada con su correspondiente filtro $\\boldsymbol{w}$ y luego transforma los $C$ canales resultantes en $D$ mediante convolución 1x1 $\\boldsymbol{w}'$\n",
    "$$z_{i,j,d}=b_d+w_{c,d}'\\sum_{c=0}^{C-1}\\left(\\sum_{u=0}^{H-1}\\sum_{v=0}^{W-1}x_{i+u,j+v,c}\\,w_{u,v}\\right)$$\n",
    "<div align=\"center\">\n",
    "<table><tr>\n",
    "<td style=\"border: none;\"><img src=\"Figure_14.26.png\" width=600/></td>\n",
    "</tr></table>\n",
    "</div>\n",
    "\n",
    "**Uso en CNNs ligeras:** $\\;$ pues permite emplear pocos parámetros"
   ]
  }
 ],
 "metadata": {
  "kernelspec": {
   "display_name": "Python 3",
   "language": "python",
   "name": "python3"
  },
  "language_info": {
   "codemirror_mode": {
    "name": "ipython",
    "version": 3
   },
   "file_extension": ".py",
   "mimetype": "text/x-python",
   "name": "python",
   "nbconvert_exporter": "python",
   "pygments_lexer": "ipython3",
   "version": "3.11.4"
  },
  "orig_nbformat": 4
 },
 "nbformat": 4,
 "nbformat_minor": 2
}
