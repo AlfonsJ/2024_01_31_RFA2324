{
 "cells": [
  {
   "attachments": {},
   "cell_type": "markdown",
   "metadata": {},
   "source": [
    "# Aprendizaje supervisado\n",
    "\n",
    "El aprendizaje supervisado es la forma de ML más común.\n",
    "\n",
    "La **tarea T** consiste en aprender una transformación $f:\\mathcal{X}\\to\\mathcal{Y}$ donde:\n",
    "* Las **entradas** $\\boldsymbol{x}\\in\\mathcal{X}$, **características, covariables o predictores** suelen ser un vector numérico de dimensión fija; por ejemplo, $\\mathcal{X}=\\mathbb{R}^D$, donde $D$ es la dimensión del vector.\n",
    "* Las **salidas** $\\boldsymbol{y}\\in\\mathcal{Y}$, **etiquetas, objetivos o respuestas** suelen ser etiquetas de clase o reales.\n",
    "\n",
    "La **experiencia E** viene dada por un **conjunto de entrenamiento,** esto es, un conjunto de $N$ pares entrada-salida\n",
    "$$\\mathcal{D}=\\{(\\boldsymbol{x}_n,\\boldsymbol{y}_n)\\}_{n=1}^N$$\n",
    "donde $N$ es el **tamaño de la muestra**; también es usual referirnos a cada par $(\\boldsymbol{x}_n,\\boldsymbol{y}_n)$ como **muestra (de entrenamiento).**\n",
    "\n",
    "La **medida de rendimiento P** depende del tipo de salida."
   ]
  },
  {
   "attachments": {},
   "cell_type": "markdown",
   "metadata": {},
   "source": [
    "## Clasificación"
   ]
  }
 ],
 "metadata": {
  "kernelspec": {
   "display_name": "Python 3",
   "language": "python",
   "name": "python3"
  },
  "language_info": {
   "codemirror_mode": {
    "name": "ipython",
    "version": 3
   },
   "file_extension": ".py",
   "mimetype": "text/x-python",
   "name": "python",
   "nbconvert_exporter": "python",
   "pygments_lexer": "ipython3",
   "version": "3.10.6"
  },
  "orig_nbformat": 4,
  "vscode": {
   "interpreter": {
    "hash": "e7370f93d1d0cde622a1f8e1c04877d8463912d04d973331ad4851f04de6915a"
   }
  }
 },
 "nbformat": 4,
 "nbformat_minor": 2
}
