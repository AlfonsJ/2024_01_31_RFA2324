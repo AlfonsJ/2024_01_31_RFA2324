{
 "cells": [
  {
   "cell_type": "markdown",
   "metadata": {},
   "source": [
    "# Estandarización y blanqueado de datos\n",
    "\n",
    "Sea $\\mathbf{X}\\in\\mathbb{R}^{N\\times D}$ una matriz de $N$ datos $D$-dimensionales. "
   ]
  },
  {
   "cell_type": "code",
   "execution_count": 1,
   "metadata": {},
   "outputs": [
    {
     "data": {
      "image/png": "[encoded data removed]",
      "text/plain": [
       "<Figure size 432x288 with 1 Axes>"
      ]
     },
     "metadata": {
      "needs_background": "light"
     },
     "output_type": "display_data"
    }
   ],
   "source": [
    "import numpy as np\n",
    "import matplotlib.pyplot as plt\n",
    "X = np.array([ [-1, -1], [0, 2], [2, 0], [3, 3] ]).astype(float)\n",
    "m = np.mean(X, axis=0)\n",
    "fig, ax = plt.subplots(); ax.set_aspect(\"equal\"); plt.grid(True)\n",
    "plt.axis([-2, 4, -2, 4]); plt.xticks(fontsize=16); plt.yticks(fontsize=16)\n",
    "plt.scatter(m[0], m[1], facecolor='C0', edgecolor='k', s=100, marker=\"X\")\n",
    "plt.scatter(X[:,0], X[:,1], facecolor='C0', edgecolor='k', s=100);"
   ]
  },
  {
   "attachments": {},
   "cell_type": "markdown",
   "metadata": {},
   "source": [
    "# Estandarización\n",
    "\n",
    "**Estandarización:** $\\quad\\operatorname{standardize}(\\mathbf{X})=(\\mathbf{X}-\\boldsymbol{1}_N\\boldsymbol{\\mu}^t)\\operatorname{diag}(\\boldsymbol{\\sigma})^{-1}\\qquad\\boldsymbol{\\mu}=\\bar{\\boldsymbol{x}}$ y $\\boldsymbol{\\sigma}$ son la media y desviación típica empíricas\n",
    "\n",
    "Las variables estandarizadas tienen media nula y varianza unitaria. Ahora bien, aunque la estandarización facilita la homogeneización de variables heterogéneas, no elimina correlaciones entre las mismas."
   ]
  },
  {
   "cell_type": "code",
   "execution_count": 2,
   "metadata": {},
   "outputs": [
    {
     "data": {
      "image/png": "[encoded data removed]",
      "text/plain": [
       "<Figure size 432x288 with 1 Axes>"
      ]
     },
     "metadata": {
      "needs_background": "light"
     },
     "output_type": "display_data"
    }
   ],
   "source": [
    "import numpy as np\n",
    "import matplotlib.pyplot as plt\n",
    "X = np.array([ [-1, -1], [0, 2], [2, 0], [3, 3] ]).astype(float)\n",
    "m = np.mean(X, axis=0); sigma = np.std(X, axis=0)\n",
    "Xstd = (X - m) / sigma\n",
    "fig, ax = plt.subplots(); ax.set_aspect(\"equal\"); plt.grid(True)\n",
    "plt.axis([-2, 4, -2, 4]); plt.xticks(fontsize=16); plt.yticks(fontsize=16)\n",
    "plt.scatter(m[0], m[1], facecolor='C0', edgecolor='k', s=100, marker=\"X\")\n",
    "plt.scatter(X[:,0], X[:,1], facecolor='C0', edgecolor='k', s=100)\n",
    "prop = dict(arrowstyle=\"-|>,head_width=0.4,head_length=0.8\", shrinkA=0, shrinkB=0)\n",
    "ax.annotate(\"\", xytext=(m[0], m[1]), xy=(m[0]+sigma[0], m[1]), arrowprops=prop)\n",
    "ax.annotate(\"\", xytext=(m[0], m[1]), xy=(m[0], m[1]+sigma[1]), arrowprops=prop)\n",
    "plt.scatter(0, 0, facecolor='C1', edgecolor='k', s=100, marker=\"X\")\n",
    "plt.scatter(Xstd[:,0], Xstd[:,1], facecolor='C1', edgecolor='k', s=100)\n",
    "prop.update(color='C1')\n",
    "ax.annotate(\"\", xytext=(0, 0), xy=(1, 0), arrowprops=prop)\n",
    "ax.annotate(\"\", xytext=(0, 0), xy=(0, 1), arrowprops=prop);"
   ]
  }
 ],
 "metadata": {
  "kernelspec": {
   "display_name": "Python 3",
   "language": "python",
   "name": "python3"
  },
  "language_info": {
   "codemirror_mode": {
    "name": "ipython",
    "version": 3
   },
   "file_extension": ".py",
   "mimetype": "text/x-python",
   "name": "python",
   "nbconvert_exporter": "python",
   "pygments_lexer": "ipython3",
   "version": "3.10.6"
  },
  "orig_nbformat": 4
 },
 "nbformat": 4,
 "nbformat_minor": 2
}
