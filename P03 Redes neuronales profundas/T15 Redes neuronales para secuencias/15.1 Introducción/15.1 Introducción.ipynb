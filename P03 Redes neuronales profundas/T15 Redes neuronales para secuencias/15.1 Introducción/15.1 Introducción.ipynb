{
 "cells": [
  {
   "cell_type": "markdown",
   "metadata": {},
   "source": [
    "# 15.1 Introducción\n",
    "\n",
    "**Tres casos:**\n",
    "* La entrada es una secuencia\n",
    "* La salida es una secuencia\n",
    "* Tanto entrada como salida son secuencias\n",
    "\n",
    "**Aplicaciones:**\n",
    "* Reconocimiento automático del habla\n",
    "* Traducción automática\n",
    "* Clasificación de texto\n",
    "* Etiquetado de imágenes\n",
    "* etc."
   ]
  }
 ],
 "metadata": {
  "language_info": {
   "name": "python"
  },
  "orig_nbformat": 4
 },
 "nbformat": 4,
 "nbformat_minor": 2
}
