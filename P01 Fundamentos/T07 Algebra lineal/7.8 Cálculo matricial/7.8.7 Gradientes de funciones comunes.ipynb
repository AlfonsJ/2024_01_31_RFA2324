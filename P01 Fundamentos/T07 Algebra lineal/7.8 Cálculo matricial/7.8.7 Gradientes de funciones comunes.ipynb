{
 "cells": [
  {
   "cell_type": "markdown",
   "metadata": {},
   "source": [
    "# 7.8.7 Gradientes de funciones comunes"
   ]
  },
  {
   "cell_type": "markdown",
   "metadata": {},
   "source": [
    "## 7.8.7.1 Funciones de escalar a escalar\n",
    "$$\\frac{d}{dx}cx^n=cnx^{n-1}%\n",
    "\\qquad\\frac{d}{dx}\\log(x)=1/x%\n",
    "\\qquad\\frac{d}{dx}\\exp(x)=\\exp(x)$$\n",
    "\n",
    "$$\\begin{align*}\\frac{d}{dx}[f(x)+g(x)]&=\\frac{df(x)}{dx}+\\frac{dg(x)}{dx}\\\\%\n",
    "\\frac{d}{dx}[f(x)g(x)]&=f(x)\\frac{dg(x)}{dx}+g(x)\\frac{df(x)}{dx}\\\\%\n",
    "\\frac{d}{dx}f(u(x))&=\\frac{du}{dx}\\,\\frac{df(u)}{du}\\end{align*}$$"
   ]
  },
  {
   "cell_type": "markdown",
   "metadata": {},
   "source": [
    "## 7.8.7.2 Funciones de vector a escalar\n",
    "$$\\frac{\\partial(\\boldsymbol{a}^t\\boldsymbol{x})}{\\partial\\boldsymbol{x}}=\\boldsymbol{a}%\n",
    "\\qquad\\frac{\\partial(\\boldsymbol{b}^t\\mathbf{A}\\boldsymbol{x})}{\\partial\\boldsymbol{x}}=\\mathbf{A}^t\\boldsymbol{b}%\n",
    "\\qquad\\frac{\\partial(\\boldsymbol{x}^t\\mathbf{A}\\boldsymbol{x})}{\\partial\\boldsymbol{x}}=(\\mathbf{A}+\\mathbf{A}^t)\\boldsymbol{x}$$"
   ]
  },
  {
   "cell_type": "markdown",
   "metadata": {},
   "source": [
    "## 7.8.7.3 Funciones de matriz a escalar\n",
    "$$\\frac{\\partial f}{\\partial\\mathbf{X}}=%\n",
    "\\begin{pmatrix}\n",
    "\\frac{\\partial f}{\\partial x_{11}}&\\cdots&%\n",
    "\\frac{\\partial f}{\\partial x_{1n}}\\\\%\n",
    "\\vdots&\\ddots&\\vdots\\\\%\n",
    "\\frac{\\partial f}{\\partial x_{m1}}&\\cdots&%\n",
    "\\frac{\\partial f}{\\partial x_{mn}}%\n",
    "\\end{pmatrix}$$\n",
    "\n",
    "**Identidades para formas cuadráticas:**\n",
    "$$\\frac{\\partial}{\\partial\\mathbf{X}}(\\boldsymbol{a}^t\\mathbf{X}\\boldsymbol{b})=\\boldsymbol{a}\\boldsymbol{b}^t%\n",
    "\\qquad\\frac{\\partial}{\\partial\\mathbf{X}}(\\boldsymbol{a}^t\\mathbf{X}^t\\boldsymbol{b})=\\boldsymbol{b}\\boldsymbol{a}^t$$\n",
    "\n",
    "**Identidades con la traza:**\n",
    "$$\\frac{\\partial}{\\partial\\mathbf{X}}\\operatorname{tr}(\\mathbf{A}\\mathbf{X}\\mathbf{B})=\\mathbf{A}^t\\mathbf{B}^t%\n",
    "\\qquad\\frac{\\partial}{\\partial\\mathbf{X}}\\operatorname{tr}(\\mathbf{X}^t\\mathbf{A})=\\mathbf{A}$$\n",
    "\n",
    "$$\\frac{\\partial}{\\partial\\mathbf{X}}\\operatorname{tr}(\\mathbf{X}^{-1}\\mathbf{A})=-\\mathbf{X}^{-t}\\mathbf{A}^t\\mathbf{X}^{-t}%\n",
    "\\qquad\\frac{\\partial}{\\partial\\mathbf{X}}\\operatorname{tr}(\\mathbf{X}^t\\mathbf{A}\\mathbf{X})=(\\mathbf{A}+\\mathbf{A}^t)\\mathbf{X}$$\n",
    "\n",
    "**Identidades con el determinante:**\n",
    "$$\\frac{\\partial}{\\partial\\mathbf{X}}\\lvert{\\mathbf{A}\\mathbf{X}\\mathbf{B}}\\rvert=\\lvert{\\mathbf{A}\\mathbf{X}\\mathbf{B}}\\rvert\\mathbf{X}^{-t}%\n",
    "\\qquad\\frac{\\partial}{\\partial\\mathbf{X}}\\ln(\\lvert{\\mathbf{X}}\\rvert)=\\mathbf{X}^{-t}$$\n"
   ]
  }
 ],
 "metadata": {
  "language_info": {
   "name": "python"
  },
  "orig_nbformat": 4
 },
 "nbformat": 4,
 "nbformat_minor": 2
}
