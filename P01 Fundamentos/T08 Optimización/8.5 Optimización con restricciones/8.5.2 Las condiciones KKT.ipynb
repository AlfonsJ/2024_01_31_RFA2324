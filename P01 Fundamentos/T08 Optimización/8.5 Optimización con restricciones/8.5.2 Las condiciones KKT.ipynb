{
 "cells": [
  {
   "cell_type": "markdown",
   "metadata": {},
   "source": [
    "# 8.5.2 Las condiciones KKT"
   ]
  },
  {
   "cell_type": "markdown",
   "metadata": {},
   "source": [
    "## Caso simple: una restricción de desigualdad, $g(\\boldsymbol{\\theta})\\leq 0$\n",
    "\n",
    "Podemos optimizar (sin restricciones) el objetivo con un término de penalización añadido en forma de función de paso infinito:\n",
    "$$\\hat{\\mathcal{L}}(\\boldsymbol{\\theta})=\\mathcal{L}(\\boldsymbol{\\theta})+\\infty\\mathbb{I}(g(\\boldsymbol{\\theta})>0)$$\n",
    "Más fácilmente, añadimos una cota inferior $\\,\\mu\\,g(\\boldsymbol{\\theta}),\\,$ con $\\mu\\geq 0$,\n",
    "$$L(\\boldsymbol{\\theta},\\mu)=\\mathcal{L}(\\boldsymbol{\\theta})+\\mu g(\\boldsymbol{\\theta})$$\n",
    "lo que permite recuperar la función de paso infinito como:\n",
    "$$\\hat{\\mathcal{L}}(\\boldsymbol{\\theta})=\\max_{\\mu\\geq 0}L(\\boldsymbol{\\theta},\\mu)%\n",
    "=\\begin{cases}\n",
    "\\infty & \\text{si $g(\\boldsymbol{\\theta})>0$}\\\\%\n",
    "\\mathcal{L}(\\boldsymbol{\\theta}) & \\text{en otro caso}%\n",
    "\\end{cases}$$\n",
    "**Problema de optimización:** $\\quad\\displaystyle\\boldsymbol{\\theta}^*=\\operatorname*{argmin}\\limits_{\\boldsymbol{\\theta}}\\;\\max_{\\mu\\geq 0}\\;L(\\boldsymbol{\\theta},\\mu)$"
   ]
  },
  {
   "cell_type": "markdown",
   "metadata": {},
   "source": [
    "## Caso general: múltiples restricciones, $\\,\\boldsymbol{g}(\\boldsymbol{\\theta})\\leq\\boldsymbol{0}\\,$ y $\\,\\boldsymbol{h}(\\boldsymbol{\\theta})=\\boldsymbol{0}$\n",
    "\n",
    "**Lagrangiana generalizada:** $\\quad L(\\boldsymbol{\\theta},\\boldsymbol{\\mu},\\boldsymbol{\\lambda})=\\mathcal{L}(\\boldsymbol{\\theta})+\\sum_i\\mu_ig_i(\\boldsymbol{\\theta})+\\sum_j\\lambda_j h_j(\\boldsymbol{\\theta})$\n",
    "* Podemos cambiar $\\lambda_j h_j$ por $-\\lambda_j h_j$ ya que el signo es arbitrario\n",
    "\n",
    "**Problema de optimización:** $\\quad\\displaystyle\\boldsymbol{\\theta}^*=\\operatorname*{argmin}\\limits_{\\boldsymbol{\\theta}}\\;\\max_{\\boldsymbol{\\mu}\\geq\\boldsymbol{0},\\,\\boldsymbol{\\lambda}}\\;L(\\boldsymbol{\\theta},\\boldsymbol{\\mu},\\boldsymbol{\\lambda})$"
   ]
  },
  {
   "cell_type": "markdown",
   "metadata": {},
   "source": [
    "## Condiciones de Karush–Kuhn–Tucker (KKT)\n",
    "\n",
    "Si $\\mathcal{L}$ y $g$ son convexas, los puntos críticos satisfacen (bajo ciertas condiciones):\n",
    "\n",
    "**Estacionaridad:** $\\quad\\displaystyle\\nabla\\mathcal{L}(\\boldsymbol{\\theta}^*)+\\sum_i\\mu_i\\nabla g_i(\\boldsymbol{\\theta}^*)%\n",
    "+\\sum_j\\lambda_j\\nabla h_j(\\boldsymbol{\\theta}^*)=\\boldsymbol{0}$\n",
    "\n",
    "**Factibilidad primal:** $\\;$ satisfacen todas las restricciones, $\\quad\\boldsymbol{g}(\\boldsymbol{\\theta}^*)\\leq\\boldsymbol{0}\\quad$ y $\\quad\\boldsymbol{h}(\\boldsymbol{\\theta}^*)=\\boldsymbol{0}$\n",
    "\n",
    "**Factibilidad dual:** $\\;\\boldsymbol{\\mu}\\,$ apunta en la dirección correcta, $\\quad\\boldsymbol{\\mu}\\geq\\boldsymbol{0}$\n",
    "\n",
    "**Holgura complementaria:** $\\;\\mu_i\\,g_i(\\boldsymbol{\\theta}^*)=0\\;$ para todo $i\\in\\mathcal{I}$\n",
    "* **Activa:** $\\;$ si $\\,g_i(\\boldsymbol{\\theta}^*)=0,\\,$ la solución se halla en la superfície de la restricción y $\\,\\nabla\\mathcal{L}=\\mu_i\\nabla g\\,$ para algún $\\,\\mu_i\\neq 0$\n",
    "* **Inactiva:** $\\;$ si $\\,g_i(\\boldsymbol{\\theta}^*)<0,\\,$ la solución no está en la superfície de la restricción y $\\,\\nabla\\mathcal{L}=\\mu_i\\nabla g\\,$ con $\\,\\mu_i=0$"
   ]
  }
 ],
 "metadata": {
  "language_info": {
   "name": "python"
  },
  "orig_nbformat": 4
 },
 "nbformat": 4,
 "nbformat_minor": 2
}
