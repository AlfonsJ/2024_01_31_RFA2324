{
 "cells": [
  {
   "attachments": {},
   "cell_type": "markdown",
   "metadata": {},
   "source": [
    "## Optimización suave vs no-suave\n",
    "\n",
    "**Optimización suave** asume que objetivo y restricciones son funciones continuamente diferenciables, esto es, con derivadas parciales continuas. Dada una función (continuamente diferenciable), su grado de suavidad suele medirse mediante la denominada **constante de Lipschitz**. En 1d, es cualquier constante $L\\geq 0$ tal que $\\lvert f(x_1)-f(x_2)\\rvert\\leq L\\lvert x_1-x_2\\rvert$ para todo $x_1, x_2\\in\\mathbb{R}$. Obviamente, nuestro interés se centra en hallar la menor $L$ que satisface dicha condición, esto es, la menor pendiente que acota linealmente variaciones de $f$ en valor absoluto. Se sabe que esta constante juega un papel crucial en el comportamiento de modelos (funciones) usuales en aprendizaje automático como las redes neuronales. Por ejemplo, si un modelo varía drásticamente frente a un cambio pequeño de la entrada, es de esperar que se muestre vulnerable frente a ejemplos adversariales y que no generalice bien con datos futuros. En caso opuesto, si el modelo varía extremadamente poco, es de esperar que exhiba un elevado sesgo y, en definitiva, que resulte poco útil.\n",
    "\n",
    "**Optimización no-suave** admite que existan al menos algunos puntos en los que el gradiente del objetivo o las restricciones no esté bien definido. Con base en esta distinción, en algunos problemas de optimización se plantea un **objetivo compuesto**, $\\mathcal{L}=\\mathcal{L}_s+\\mathcal{L}_r$, tal que $\\mathcal{L}_s$ contiene términos suaves, diferenciables, mientras que $\\mathcal{L}_r$ recoge términos no suaves. Si este planteamiento es factible, la estructura compuesta del objetivo puede explotarse para facilitar la resolución del problema. Esto resulta muy conveniente en aprendizaje automático, pues muchas veces se plantean objetivos compuestos de una pérdida empírica suave y un regularizador no suave (p.e. la norma $\\ell_1$ de $\\boldsymbol{\\theta}$)."
   ]
  }
 ],
 "metadata": {
  "kernelspec": {
   "display_name": "Python 3",
   "language": "python",
   "name": "python3"
  },
  "language_info": {
   "codemirror_mode": {
    "name": "ipython",
    "version": 3
   },
   "file_extension": ".py",
   "mimetype": "text/x-python",
   "name": "python",
   "nbconvert_exporter": "python",
   "pygments_lexer": "ipython3",
   "version": "3.10.6"
  },
  "orig_nbformat": 4
 },
 "nbformat": 4,
 "nbformat_minor": 2
}
