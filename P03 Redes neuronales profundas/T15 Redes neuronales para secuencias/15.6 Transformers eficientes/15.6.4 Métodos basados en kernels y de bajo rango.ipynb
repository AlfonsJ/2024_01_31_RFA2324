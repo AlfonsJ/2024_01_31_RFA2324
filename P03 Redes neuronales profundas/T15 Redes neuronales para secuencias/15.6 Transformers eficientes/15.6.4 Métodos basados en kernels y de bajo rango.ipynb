{
 "cells": [
  {
   "cell_type": "markdown",
   "metadata": {},
   "source": [
    "# 15.6.4 Métodos basados en kernels y de bajo rango"
   ]
  },
  {
   "cell_type": "markdown",
   "metadata": {},
   "source": [
    "## Aproximación de bajo rango de la matriz de atención\n",
    "\n",
    "Dada $\\,\\phi(\\boldsymbol{x})\\in\\mathbb{R}^M\\,$ con $M<D$, la matriz de atención $\\,\\mathbf{A}\\,$ se aproxima como:\n",
    "$$A_{ij}=\\phi(\\boldsymbol{q}_i)^t\\phi(\\boldsymbol{k}_j)$$\n",
    "\n",
    "**Inconveniente:** la atención softmax no es de bajo rango"
   ]
  },
  {
   "cell_type": "markdown",
   "metadata": {},
   "source": [
    "## Linformer\n",
    "\n",
    "Transforma claves y valores mediante proyecciones Gaussianas aleatorias y luego aproxima la atención softmax"
   ]
  },
  {
   "cell_type": "markdown",
   "metadata": {},
   "source": [
    "## Performer\n",
    "\n",
    "**La matriz de atención puede calcularse con una función kernel definida positiva:** $\\;$ esto es, con una medida de similitud\n",
    "$$\\mathcal{K}(\\boldsymbol{q},\\boldsymbol{k})\\geq 0%\n",
    "\\quad\\text{entre}\\quad%\n",
    "\\boldsymbol{q}\\in\\mathbb{R}^D%\n",
    "\\quad\\text{y}\\quad%\n",
    "\\boldsymbol{k}\\in\\mathbb{R}^D$$\n",
    "\n",
    "**Kernel Gaussiano:** $\\;$ puede expresarse como el valor esperado de un conjunto de características aleatorias\n",
    "$$\\mathcal{K}_{\\text{gauss}}(\\boldsymbol{q},\\boldsymbol{k})=\\exp\\left(%\n",
    "-\\frac{1}{2\\sigma^2}\\lVert{\\boldsymbol{q}-\\boldsymbol{k}}\\rVert_2^2\\right)%\n",
    "=\\mathbb{E}[\\boldsymbol{\\eta}(\\boldsymbol{q})^t\\boldsymbol{\\eta}(\\boldsymbol{k})]$$\n",
    "donde $\\boldsymbol{\\eta}(\\boldsymbol{x})\\in\\mathbb{R}^M\\,$ es un vector de características aleatorio derivado de $\\,\\boldsymbol{x},\\,$ basado en funciones trigonométricas o exponenciales\n",
    "\n",
    "**Atención calculada con un kernel Gaussiano ($\\sigma=1$):**\n",
    "$$\\begin{align*}\n",
    "A_{ij}&=\\exp\\left[\\frac{\\boldsymbol{q}_i^t\\boldsymbol{k}_j}{\\sqrt{D}}\\right]%\n",
    "=\\exp\\left[\\frac{-\\lVert{\\boldsymbol{q}_i-\\boldsymbol{k}_j}\\rVert_2^2}{2\\sqrt{D}}\\right]%\n",
    "\\exp\\left[\\frac{{\\lVert\\boldsymbol{q}_i}\\rVert_2^2}{2\\sqrt{D}}\\right]%\n",
    "\\exp\\left[\\frac{{\\lVert\\boldsymbol{k}_j}\\rVert_2^2}{2\\sqrt{D}}\\right]\\\\%\n",
    "&=\\mathcal{K}_{\\text{gauss}}(\\boldsymbol{q}_iD^{-1/4},\\boldsymbol{k}_jD^{-1/4})%\n",
    "\\exp\\left[\\frac{{\\lVert\\boldsymbol{q}_i}\\rVert_2^2}{2\\sqrt{D}}\\right]%\n",
    "\\exp\\left[\\frac{{\\lVert\\boldsymbol{k}_j}\\rVert_2^2}{2\\sqrt{D}}\\right]\\\\%\n",
    "&=\\mathbb{E}[\\boldsymbol{\\phi}(\\boldsymbol{q}_i)^t\\boldsymbol{\\phi}(\\boldsymbol{k}_j)]%\n",
    "\\qquad\\text{con}\\qquad%\n",
    "\\boldsymbol{\\phi}(\\boldsymbol{x})=\\exp\\left(\\frac{\\lVert{\\boldsymbol{x}}\\rVert_2^2}{2\\sqrt{D}}\\right)%\n",
    "\\boldsymbol{\\eta}\\left(\\boldsymbol{x}D^{-1/4}\\right)\n",
    "\\end{align*}$$\n",
    "\n",
    "**Matriz de atención completa:** $\\;\\mathbf{A}=\\mathbb{E}[\\mathbf{Q}'(\\mathbf{K}')^t]\\,,$ donde $\\mathbf{Q}',\\mathbf{K}'\\in\\mathbb{R}^{N\\times M}$ son características aleatorias de consultas y claves\n",
    "<div align=center><img src=\"Figure_15.30.png\" width=600></td></tr></div>\n",
    "\n",
    "**Aproximación con $M$ pequeño:** $\\;$ p.e. $M\\in O(D\\log(D))$, permite aproximar atención en $O(N)$ (lineal con la longitud de la secuencia)\n",
    "$$\\widehat{\\text{attention}}(\\mathbf{Q},\\mathbf{K},\\mathbf{V})%\n",
    "=\\operatorname{diag}\\nolimits^{-1}(\\mathbf{Q}'((\\mathbf{K}')^t\\boldsymbol{1}_N))(\\mathbf{Q}'((\\mathbf{K}')^t\\mathbf{V}))$$\n",
    "<div align=center><img src=\"Figure_15.31.png\" width=800></td></tr></div>"
   ]
  }
 ],
 "metadata": {
  "language_info": {
   "name": "python"
  },
  "orig_nbformat": 4
 },
 "nbformat": 4,
 "nbformat_minor": 2
}
