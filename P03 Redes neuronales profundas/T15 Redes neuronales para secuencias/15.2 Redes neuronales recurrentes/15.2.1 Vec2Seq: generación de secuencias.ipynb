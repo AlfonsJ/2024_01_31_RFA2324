{
 "cells": [
  {
   "cell_type": "markdown",
   "metadata": {},
   "source": [
    "# 15.2.1 Vec2Seq: generación de secuencias\n",
    "\n",
    "**Objetivo:** $\\;$ aprender una transformación de un entrada vectorial $D$-dimensional a una salida secuencial de vectores $C$-dimensionales\n",
    "$$f_{\\mathbf{\\Theta}}:\\mathbb{R}^D\\to\\mathbb{R}^{N_{\\infty}C}$$\n",
    "\n",
    "**RNN:**\n",
    "<div>\n",
    "<table align=\"left\"><tr>\n",
    "<td style=\"border:none; text-align:left; vertical-align:top;\" width=400>\n",
    "\n",
    "Modelo generativo condicional:\n",
    "$$p(\\boldsymbol{y}_{1:T}\\mid\\boldsymbol{x})$$\n",
    "\n",
    "* Se genera un token de salida por cada $t$\n",
    "* $\\boldsymbol{y}_t$ se genera a partir de $\\boldsymbol{h}_t$ y re-alimenta el modelo para obtener $\\boldsymbol{h}_{t+1}$ (también dependiente de $\\boldsymbol{x}$)\n",
    "\n",
    "</td><td style=\"border:none;\" width=50></td>\n",
    "<td style=\"border: none;\"><img src=\"Figure_15.1.png\" width=250/></td>\n",
    "</tr></table>\n",
    "</div>"
   ]
  },
  {
   "cell_type": "markdown",
   "metadata": {},
   "source": [
    "## 15.2.1.1 Modelos\n",
    "\n",
    "**Modelo principal:** $\\;$ $T$ es la longitud de salida y $\\boldsymbol{h}_t$ el estado oculto en $t$, con distribución inicial $\\;p(\\boldsymbol{h}_1\\mid\\boldsymbol{h}_0,\\boldsymbol{y}_0,\\boldsymbol{x})=p(\\boldsymbol{h}_1\\mid\\boldsymbol{x})$\n",
    "$$p(\\boldsymbol{y}_{1:T}\\mid\\boldsymbol{x})=\\sum_{\\boldsymbol{h}_{1:T}}p(\\boldsymbol{y}_{1:T},\\boldsymbol{h}_{1:T}\\mid\\boldsymbol{x})%\n",
    "=\\sum_{\\boldsymbol{h}_{1:T}}\\prod_{t=1}^Tp(\\boldsymbol{y}_t\\mid\\boldsymbol{h}_t)\\,p(\\boldsymbol{h}_t\\mid\\boldsymbol{h}_{t-1},\\boldsymbol{y}_{t-1},\\boldsymbol{x})$$\n",
    "\n",
    "**Modelo de salida:** $\\;$ definido a partir de pesos salida-oculto $\\mathbf{W}_{yh}$ y sesgo $\\boldsymbol{b}_y$\n",
    "* Salida discreta: $\\;p(\\boldsymbol{y}_t\\mid\\boldsymbol{h}_t)=\\mathcal{M}(\\boldsymbol{y}_t\\mid\\mathcal{S}(\\mathbf{W}_{yh}\\boldsymbol{h}_t+\\boldsymbol{b}_y))$\n",
    "* Salida continua: $\\;p(\\boldsymbol{y}_t\\mid\\boldsymbol{h}_t)=\\mathcal{N}(\\boldsymbol{y}_t\\mid\\mathbf{W}_{yh}\\boldsymbol{h}_t+\\boldsymbol{b}_y,\\sigma^2\\mathbf{I})$\n",
    "\n",
    "**Modelo oculto:** $\\;\\boldsymbol{h}_t$ se halla con una función determinista $f$ definida a partir de pesos oculto-oculto $\\mathbf{W}_{hh}$, oculto-entrada $\\mathbf{W}_{hx}$ y sesgo $\\boldsymbol{b}_h$\n",
    "$$\\boldsymbol{h}_t=\\varphi(\\mathbf{W}_{hx}[\\boldsymbol{x};\\boldsymbol{y}_{t-1}]+\\mathbf{W}_{hh}\\boldsymbol{h}_{t-1}+\\boldsymbol{b}_h)$$\n",
    "\n",
    "**Estocasticidad:** $\\;$ viene dada por el modelo de salida\n",
    "* Muestreamos $\\;\\tilde{\\boldsymbol{y}}_t\\sim p(\\boldsymbol{y}_t\\mid\\boldsymbol{h}_t)$\n",
    "* $\\boldsymbol{h}_{t+1}=f(\\boldsymbol{h}_t,\\tilde{\\boldsymbol{y}}_t,\\boldsymbol{x}),\\,$ esto es, $\\,\\boldsymbol{h}_{t+1}\\,$ se halla de manera determinista en función de la $\\tilde{\\boldsymbol{y}}_t$ muestreada anteriormente\n",
    "* A partir de $\\,\\boldsymbol{h}_{t+1},\\,$ muestreamos $\\,\\tilde{\\boldsymbol{y}}_{t+1}\\sim p(\\boldsymbol{y}_{t+1}\\mid\\boldsymbol{h}_{t+1})\\,$ y el proceso se repite\n",
    "\n",
    "**RNN variacional:** $\\;$ añade estocasticidad a la dinámica de $\\boldsymbol{h}_t$"
   ]
  },
  {
   "cell_type": "markdown",
   "metadata": {},
   "source": [
    "## 15.2.1.2 Aplicaciones\n",
    "\n",
    "**Modelado de lenguaje:** $\\;$ generación de secuencias incondicional ($\\boldsymbol{x}=\\emptyset$) con una RNN; por ejemplo, la siguiente secuencia se ha generado a partir de \"the\" con una RNN de caracteres entrenada con *The Time Machine* de H. G. Wells\n",
    "> the githa some thong the time traveller held in his hand was a<br>\n",
    "> glitteringmetallic framework scarcely larger than a small clock and<br>\n",
    "> verydelicately made there was ivory in it and the latter than s bettyre<br>\n",
    "> tat howhong s ie time thave ler simk you a dimensions le ghat dionthat<br>\n",
    "> shall travel indifferently in any direction of space and timeas the<br>\n",
    "> driver determinesfilby contented himself with laughterbut i have<br>\n",
    "> experimental verification said the time travellerit would be remarkably<br>\n",
    "> convenient for the histo\n",
    "\n",
    "**Image captioning:** $\\;$ generación de secuencias condicionada por un vector $\\boldsymbol{x}$ obtenido mediante embedding de la imagen de entrada con una CNN\n",
    "<div align=\"center\">\n",
    "<table><tr>\n",
    "<td style=\"border: none;\"><img src=\"Figure_15.3.png\" width=800/></td>\n",
    "</tr></table>\n",
    "</div>\n",
    "\n",
    "**Otras aplicaciones:** $\\;$ generación de secuencias de vectores de características reales\n",
    "* Trazos de caracteres manuscritos\n",
    "* Formas dibujadas a mano\n",
    "* Predicción de series temporales en general"
   ]
  }
 ],
 "metadata": {
  "language_info": {
   "name": "python"
  },
  "orig_nbformat": 4
 },
 "nbformat": 4,
 "nbformat_minor": 2
}
