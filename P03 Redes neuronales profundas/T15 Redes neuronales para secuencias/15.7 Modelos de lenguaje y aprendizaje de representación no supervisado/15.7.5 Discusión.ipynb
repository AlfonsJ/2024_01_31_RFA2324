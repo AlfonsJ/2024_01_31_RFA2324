{
 "cells": [
  {
   "cell_type": "markdown",
   "metadata": {},
   "source": [
    "# 15.7.5 Discusión\n",
    "\n",
    "**Large Language Models (LLM):** $\\;$ gran popularidad; $\\;$ ver [Wikipedia](https://en.wikipedia.org/wiki/Large_language_model) y [competición en HF](https://huggingface.co/spaces/HuggingFaceH4/open_llm_leaderboard)\n",
    "\n",
    "**Debate:** $\\;$ \"entienden\" el (significado del) lenguaje? $\\;$ cómo regular su desarrollo y usos?"
   ]
  }
 ],
 "metadata": {
  "language_info": {
   "name": "python"
  },
  "orig_nbformat": 4
 },
 "nbformat": 4,
 "nbformat_minor": 2
}
