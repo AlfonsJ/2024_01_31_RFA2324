{
 "cells": [
  {
   "cell_type": "markdown",
   "metadata": {},
   "source": [
    "# 13.3.3.1 Capa de entropía cruzada"
   ]
  },
  {
   "cell_type": "markdown",
   "metadata": {},
   "source": [
    "**Capa de entropía cruzada:** $\\;$ toma logits $\\boldsymbol{a}$ y etiquetas (one-hot) $\\boldsymbol{y}\\in\\{0,1\\}^C$; devuelve un escalar\n",
    "$$\\mathcal{L}=\\operatorname{CrossEntropy}(\\boldsymbol{y},\\boldsymbol{a})=-\\sum_cy_c\\log p_c%\n",
    "\\qquad\\text{con}\\qquad%\n",
    "p_c=\\mathcal{S}(\\boldsymbol{a})_c=\\dfrac{\\exp(a_c)}{\\sum_{c'}\\exp(a_{c'})}$$\n",
    "\n",
    "**Jacobiana con respecto a $\\boldsymbol{a}$:** $\\quad\\displaystyle\\mathbf{J}=\\frac{\\partial \\mathcal{L}}{\\partial\\boldsymbol{a}}=(\\boldsymbol{p}-\\boldsymbol{y})^t\\in\\mathbb{R}^{1\\times C}$\n",
    "\n",
    "* Si $\\,\\boldsymbol{y}=\\operatorname{one-hot}(c):\\qquad\\displaystyle \\mathcal{L}=-\\log(p_c)=-\\log\\biggl[\\frac{\\exp(a_c)}{\\sum_j\\exp(a_j)}\\biggr]=\\log\\biggl[\\sum\\nolimits_j\\exp(a_j)\\biggr]-a_c$\n",
    "\n",
    "* Para todo $i:\\qquad\\displaystyle \\frac{\\partial \\mathcal{L}}{\\partial a_i}=\\frac{\\partial}{\\partial a_i}\\log\\sum_j\\exp(a_j)-\\frac{\\partial}{\\partial a_i}a_c=\\frac{\\exp(a_i)}{\\sum_j\\exp(a_j)}-\\mathbb{I}(i=c)=p_i-\\mathbb{I}(i=c)$"
   ]
  }
 ],
 "metadata": {
  "kernelspec": {
   "display_name": "Python 3",
   "language": "python",
   "name": "python3"
  },
  "language_info": {
   "codemirror_mode": {
    "name": "ipython",
    "version": 3
   },
   "file_extension": ".py",
   "mimetype": "text/x-python",
   "name": "python",
   "nbconvert_exporter": "python",
   "pygments_lexer": "ipython3",
   "version": "3.11.4"
  },
  "orig_nbformat": 4
 },
 "nbformat": 4,
 "nbformat_minor": 2
}
