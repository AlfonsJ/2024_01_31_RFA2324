{
 "cells": [
  {
   "cell_type": "markdown",
   "metadata": {},
   "source": [
    "# 8.3.0 Introducción\n",
    "\n",
    "**Métodos de primer orden:** $\\;$ aprovechan que el gradiente es fácil de calcular y almacenar, pero no modelan la curvatura del espacio, por lo que convergen lentamente\n",
    "\n",
    "**Métodos de segundo orden:** $\\;$ tienen en cuenta la curvatura del espacio, típicamente mediante la Hessiana, con el fin de acelerar la convergencia"
   ]
  }
 ],
 "metadata": {
  "language_info": {
   "name": "python"
  },
  "orig_nbformat": 4
 },
 "nbformat": 4,
 "nbformat_minor": 2
}
