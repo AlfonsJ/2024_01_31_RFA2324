{
 "cells": [
  {
   "cell_type": "markdown",
   "metadata": {},
   "source": [
    "# 13.3.3.3 Capa lineal"
   ]
  },
  {
   "cell_type": "markdown",
   "metadata": {},
   "source": [
    "**Capa lineal:** $\\qquad\\boldsymbol{z}=\\boldsymbol{f}(\\boldsymbol{x},\\mathbf{W})=\\mathbf{W}\\boldsymbol{x}\\quad\\text{donde}\\quad\\boldsymbol{x}\\in\\mathbb{R}^n,\\;\\mathbf{W}\\in\\mathbb{R}^{m\\times n},\\;\\boldsymbol{z}\\in\\mathbb{R}^m$"
   ]
  },
  {
   "cell_type": "markdown",
   "metadata": {},
   "source": [
    "## VJP de la Jacobiana con respecto a $\\boldsymbol{x}$\n",
    "\n",
    "**Jacobiana con respecto a $\\boldsymbol{x}$:** $\\qquad\\displaystyle\\mathbf{J}=\\frac{\\partial\\boldsymbol{z}}{\\partial\\boldsymbol{x}}=\\mathbf{W}$\n",
    "\n",
    "* Para todo $i:\\qquad\\displaystyle z_i=\\sum_{k=1}^nW_{ik}x_k$\n",
    "\n",
    "* Para toda fila $i$ y columna $j$: $\\qquad\\displaystyle\\frac{\\partial z_i}{\\partial x_j}=\\frac{\\partial}{\\partial x_j}\\sum_{k=1}^nW_{ik}x_k=\\sum_{k=1}^nW_{ik}\\frac{\\partial x_k}{\\partial x_j}=\\sum_{k=1}^nW_{ik}\\mathbb{I}(k=j)=W_{ij}$\n",
    "\n",
    "**VJP de $\\boldsymbol{u}^t\\in\\mathbb{R}^{1\\times m}$ y la Jacobiana con respecto a $\\boldsymbol{x}$:** $\\qquad\\displaystyle\\boldsymbol{u}^t\\frac{\\partial\\boldsymbol{z}}{\\partial\\boldsymbol{x}}=\\boldsymbol{u}^t\\mathbf{W}\\in\\mathbb{R}^{1\\times n}$"
   ]
  },
  {
   "cell_type": "markdown",
   "metadata": {},
   "source": [
    "## VJP de la Jacobiana con respecto a $\\mathbf{W}$\n",
    "\n",
    "**Jacobiana con respecto a un peso $W_{ij}$:** $\\qquad\\displaystyle\\frac{\\partial\\boldsymbol{z}}{\\partial W_{ij}}=\\begin{pmatrix}\\boldsymbol{0}\\\\x_j\\\\\\boldsymbol{0}\\end{pmatrix}\\in\\mathbb{R}^m\\quad$ ($x_j$ en posición $i$)\n",
    "\n",
    "* Para todo $k:\\qquad\\displaystyle z_k=\\sum_{l=1}^mW_{kl}x_l$\n",
    "\n",
    "* Para todo $i$ y $j$: $\\qquad\\displaystyle\\frac{\\partial z_k}{\\partial W_{ij}}=\\frac{\\partial}{\\partial W_{ij}}\\sum_{l=1}^mx_lW_{kl}=\\sum_{l=1}^mx_l\\frac{\\partial W_{kl}}{\\partial W_{ij}}=\\sum_{l=1}^mx_l\\mathbb{I}(i=k)\\mathbb{I}(j=l)=x_j\\mathbb{I}(i=k)$\n",
    "\n",
    "**Jacobiana con respecto a $\\mathbf{W}$:**  $\\qquad\\displaystyle\\mathbf{J}=\\frac{\\partial\\boldsymbol{z}}{\\partial\\mathbf{W}}=\\begin{bmatrix}\\frac{\\partial\\boldsymbol{z}}{\\partial W_{1,1}},\\ldots,\\frac{\\partial\\boldsymbol{z}}{\\partial W_{m,n}}\\end{bmatrix}\\in\\mathbb{R}^{m\\times mn}$\n",
    "\n",
    "* Formato: $\\qquad\\displaystyle\\frac{\\partial\\boldsymbol{z}}{\\partial\\mathbf{W}}=\\begin{bmatrix}\\frac{\\partial z_1}{\\partial\\mathbf{W}}\\\\\\vdots\\\\\\frac{\\partial z_m}{\\partial\\mathbf{W}}\\end{bmatrix}\\in\\mathbb{R}^{m\\times mn}\\rightarrow\\left[\\begin{bmatrix}\\frac{\\partial z_1}{\\partial W_{11}}&\\cdots&\\frac{\\partial z_1}{\\partial W_{1n}}\\\\\\vdots&\\ddots&\\vdots\\\\\\frac{\\partial z_m}{\\partial W_{m1}}&\\cdots&\\frac{\\partial z_1}{\\partial W_{mn}}\\end{bmatrix},\\dotsc,\\begin{bmatrix}\\frac{\\partial z_m}{\\partial W_{11}}&\\cdots&\\frac{\\partial z_m}{\\partial W_{1n}}\\\\\\vdots&\\ddots&\\vdots\\\\\\frac{\\partial z_m}{\\partial W_{m1}}&\\cdots&\\frac{\\partial z_m}{\\partial W_{mn}}\\end{bmatrix}\\right]^t\\in\\mathbb{R}^{m\\times(m\\times n)}$ \n",
    "\n",
    "**VJP de $\\boldsymbol{u}^t\\in\\mathbb{R}^{1\\times m}$ y la Jacobiana con respecto a $\\mathbf{W}$:** $\\qquad\\displaystyle\\biggl[\\boldsymbol{u}^t\\frac{\\partial\\boldsymbol{z}}{\\partial\\mathbf{W}}\\biggr]_{1,:}=\\boldsymbol{u}\\boldsymbol{x}^t\\in\\mathbb{R}^{m\\times n}$\n",
    "\n",
    "* Formato: $\\qquad\\displaystyle\\boldsymbol{u}^t\\frac{\\partial\\boldsymbol{z}}{\\partial\\mathbf{W}}=\\left[u_1\\begin{bmatrix}\\frac{\\partial z_1}{\\partial W_{11}}&\\cdots&\\frac{\\partial z_1}{\\partial W_{1n}}\\\\\\vdots&\\ddots&\\vdots\\\\\\frac{\\partial z_m}{\\partial W_{m1}}&\\cdots&\\frac{\\partial z_1}{\\partial W_{mn}}\\end{bmatrix}+\\cdots+u_m\\begin{bmatrix}\\frac{\\partial z_m}{\\partial W_{11}}&\\cdots&\\frac{\\partial z_m}{\\partial W_{1n}}\\\\\\vdots&\\ddots&\\vdots\\\\\\frac{\\partial z_m}{\\partial W_{m1}}&\\cdots&\\frac{\\partial z_m}{\\partial W_{mn}}\\end{bmatrix}\\right]$\n",
    "\n",
    "* Para todo $i$ y $j$: $\\qquad\\displaystyle\\boldsymbol{u}^t\\frac{\\partial\\boldsymbol{z}}{\\partial W_{ij}}=\\sum_{k=1}^mu_k\\frac{\\partial z_k}{\\partial W_{ij}}=u_ix_j$"
   ]
  },
  {
   "cell_type": "markdown",
   "metadata": {},
   "source": [
    "## Modelo XOR inicial\n",
    "\n",
    "**VJP:** $\\qquad\\boldsymbol{u}^t\\mathbf{J}_{\\mathcal{L}}(\\boldsymbol{x})=\\underbrace{\\boldsymbol{u}^t}_{1\\times m}\\underbrace{\\mathbf{J}_{\\mathcal{L}}(\\boldsymbol{a})}_{m\\times m_3}\\underbrace{\\mathbf{J}_{\\boldsymbol{a}}(\\boldsymbol{h})}_{m_3\\times m_2}\\underbrace{\\mathbf{J}_{\\boldsymbol{h}}(\\boldsymbol{z})}_{m_2\\times m_1}\\underbrace{\\mathbf{J}_{\\boldsymbol{z}}(\\boldsymbol{x})}_{m_1\\times n}\\in\\mathbb{R}^{1\\times n}$\n",
    "\n",
    "**VJP con respecto a $\\boldsymbol{h}$:** $\\qquad\\underbrace{\\boldsymbol{u}^t\\mathbf{J}_{\\mathcal{L}}(\\boldsymbol{a})}_{1\\times m_3}\\underbrace{\\mathbf{J}_{\\boldsymbol{a}}(\\boldsymbol{h})}_{m_3\\times m_2}\\in\\mathbb{R}^{1\\times m_2}$"
   ]
  },
  {
   "cell_type": "code",
   "execution_count": null,
   "metadata": {},
   "outputs": [],
   "source": [
    "import numpy as np; np.set_printoptions(precision=4)\n"
   ]
  }
 ],
 "metadata": {
  "kernelspec": {
   "display_name": "Python 3",
   "language": "python",
   "name": "python3"
  },
  "language_info": {
   "codemirror_mode": {
    "name": "ipython",
    "version": 3
   },
   "file_extension": ".py",
   "mimetype": "text/x-python",
   "name": "python",
   "nbconvert_exporter": "python",
   "pygments_lexer": "ipython3",
   "version": "3.10.6"
  },
  "orig_nbformat": 4
 },
 "nbformat": 4,
 "nbformat_minor": 2
}
