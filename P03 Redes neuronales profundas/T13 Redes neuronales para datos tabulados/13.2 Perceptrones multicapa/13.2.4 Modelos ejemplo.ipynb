{
 "cells": [
  {
   "cell_type": "markdown",
   "metadata": {},
   "source": [
    "# Modelos ejemplo"
   ]
  },
  {
   "cell_type": "markdown",
   "metadata": {},
   "source": [
    "## MLP de dos capas para clasificación y regresión con datos 2d\n",
    "\n",
    "**URL:** $\\;$ [http://playground.tensorflow.org](http://playground.tensorflow.org)\n",
    "\n",
    "<div align=\"center\"><img src=\"Figure_13.3.png\"/></div>"
   ]
  }
 ],
 "metadata": {
  "language_info": {
   "name": "python"
  },
  "orig_nbformat": 4
 },
 "nbformat": 4,
 "nbformat_minor": 2
}
