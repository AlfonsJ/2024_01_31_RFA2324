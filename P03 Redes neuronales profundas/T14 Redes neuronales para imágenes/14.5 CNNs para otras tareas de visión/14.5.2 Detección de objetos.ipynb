{
 "cells": [
  {
   "cell_type": "markdown",
   "metadata": {},
   "source": [
    "# 14.5.2 Detección de objetos\n",
    "\n",
    "**Object detection:** $\\;$ produce cajas de mínima inclusión donde se hallan los objetos de interés, así como sus etiquetas de clase\n",
    "\n",
    "**Ejemplo:** $\\;$ **detección de caras** mediante **cajas ancla** (de centros dados por una rejilla de submuestreo)\n",
    "<div align=\"center\">\n",
    "<table><tr>\n",
    "<td style=\"border: none;\"><img src=\"Figure_14.27_B.png\" width=600/></td>\n",
    "</tr></table>\n",
    "</div>"
   ]
  }
 ],
 "metadata": {
  "language_info": {
   "name": "python"
  },
  "orig_nbformat": 4
 },
 "nbformat": 4,
 "nbformat_minor": 2
}
