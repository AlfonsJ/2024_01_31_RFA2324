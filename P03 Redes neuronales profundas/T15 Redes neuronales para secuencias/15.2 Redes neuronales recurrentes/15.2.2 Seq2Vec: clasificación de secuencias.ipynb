{
 "cells": [
  {
   "cell_type": "markdown",
   "metadata": {},
   "source": [
    "# 15.2.2 Seq2Vec: clasificación de secuencias"
   ]
  },
  {
   "cell_type": "markdown",
   "metadata": {},
   "source": [
    "**Objetivo:** $\\;$ aprender una función que transforme un entrada secuencial de $T$ vectores $D$-dimensionales en un vector $C$-dimensional con las probabilidades de pertenencia a cada clase $y\\in\\{1,\\dotsc,C\\}$\n",
    "$$f_{\\boldsymbol{\\Theta}}:\\mathbb{R}^{TD}\\to\\mathbb{R}^C$$"
   ]
  },
  {
   "cell_type": "markdown",
   "metadata": {},
   "source": [
    "**Aproximación directa:**\n",
    "<div><table align=\"left\"><tr>\n",
    "<td style=\"border: none;\" width=500>\n",
    "\n",
    "Usar el estado final de la RNN como entrada al clasificador:\n",
    "$$p(y\\mid\\boldsymbol{x}_{1:T})=\\operatorname{Cat}(y\\mid\\mathcal{S}(\\mathbf{W}\\boldsymbol{h}_T))$$\n",
    "\n",
    "</td>\n",
    "<td style=\"border: none;\"><img src=\"Figure_15.4_A.png\" width=300></td>\n",
    "</tr></table></div>"
   ]
  },
  {
   "cell_type": "markdown",
   "metadata": {},
   "source": [
    "**RNN bidireccional:**\n",
    "<div><table align=\"left\"><tr>\n",
    "<td style=\"border: none;\" width=600>\n",
    "\n",
    "Se obtienen mejores resultados si los estados ocultos dependen no solo del contexto pasado, sino también del futuro\n",
    "\n",
    "El estado oculto $\\boldsymbol{h}_t$ se compone del pasado $\\boldsymbol{h}_t^{\\to}$ y el futuro $\\boldsymbol{h}_t^{\\gets}$:\n",
    "$$\\begin{align*}\n",
    "\\boldsymbol{h}_t&=[\\boldsymbol{h}_t^{\\to},\\boldsymbol{h}_t^{\\gets}]\\\\%\n",
    "\\boldsymbol{h}_t^{\\to}%\n",
    "&=\\varphi(\\mathbf{W}_{hx}^{\\to}\\boldsymbol{x}_t+\\mathbf{W}_{hh}^{\\to}\\boldsymbol{h}_{t-1}^{\\to}+\\boldsymbol{b}_h^{\\to})\\\\%\n",
    "\\boldsymbol{h}_t^{\\gets}%\n",
    "&=\\varphi(\\mathbf{W}_{hx}^{\\gets}\\boldsymbol{x}_t+\\mathbf{W}_{hh}^{\\gets}\\boldsymbol{h}_{t+1}^{\\gets}+\\boldsymbol{b}_h^{\\gets})%\n",
    "\\end{align*}$$\n",
    "\n",
    "El clasificador final promedia los estados ocultos:\n",
    "$$p(y\\mid\\boldsymbol{x}_{1:T})=\\mathcal{M}(y\\mid\\mathbf{W}\\mathcal{S}(\\bar{\\boldsymbol{h}}))=\\bar{\\boldsymbol{h}}=\\frac{1}{T}\\sum_{t=1}^t\\boldsymbol{h}_t$$\n",
    "\n",
    "</td>\n",
    "<td style=\"border: none;\"><img src=\"Figure_15.4_B.png\" width=250></td>\n",
    "</tr></table></div>"
   ]
  }
 ],
 "metadata": {
  "language_info": {
   "name": "python"
  },
  "orig_nbformat": 4
 },
 "nbformat": 4,
 "nbformat_minor": 2
}
