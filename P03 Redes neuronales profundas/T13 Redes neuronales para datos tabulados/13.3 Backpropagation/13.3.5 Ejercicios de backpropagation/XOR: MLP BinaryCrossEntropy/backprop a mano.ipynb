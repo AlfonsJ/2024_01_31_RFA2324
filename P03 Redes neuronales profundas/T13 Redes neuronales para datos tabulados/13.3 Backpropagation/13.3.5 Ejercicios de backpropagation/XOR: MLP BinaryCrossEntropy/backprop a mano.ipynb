{
 "cells": [
  {
   "cell_type": "markdown",
   "metadata": {},
   "source": [
    "# XOR: backprop a mano para MLP BinaryCrossEntropy"
   ]
  },
  {
   "cell_type": "markdown",
   "metadata": {},
   "source": [
    "## Forward: $\\small\\quad\\boldsymbol{x}\\to\\boldsymbol{z}(\\mathbf{W},\\boldsymbol{b}_1)\\to\\boldsymbol{h}\\to a(\\mathbf{V},b_2)\\to\\hat{y}\\to\\mathcal{L}$"
   ]
  },
  {
   "cell_type": "markdown",
   "metadata": {},
   "source": [
    "### Paso forward para un $\\boldsymbol{x}$ genérico:\n",
    "$$\\begin{align*}\n",
    "\\boldsymbol{x}&=(x_1,x_2)\\in\\{0, 1\\}^n%\n",
    "&&\\text{donde}\\quad n=2\\\\%\n",
    "\\boldsymbol{z}&=\\mathbf{W}\\boldsymbol{x}+\\boldsymbol{b}_1\\in\\mathbb{R}^{m_1}%\n",
    "&&\\text{donde}\\quad m_1=2,\\,\\mathbf{W}\\in\\mathbb{R}^{m_1\\times n}\\;\\text{y}\\;\\boldsymbol{b}_1\\in\\mathbb{R}^{m_1}\\\\%\n",
    "\\boldsymbol{h}&=\\operatorname{ReLU}(\\boldsymbol{z})\\in\\mathbb{R}^{m_2}%\n",
    "&&\\text{donde}\\quad m_2=2\\\\%\n",
    "a&=\\mathbf{V}\\boldsymbol{h}+b_2\\in\\mathbb{R}^{m_3}%\n",
    "&&\\text{donde}\\quad m_3=1,\\,\\mathbf{V}\\in\\mathbb{R}^{m_3\\times m_2}\\;\\text{y}\\;b_2\\in\\mathbb{R}^{m_3}\\\\%\n",
    "\\hat{y}&=\\sigma(a)\\in[0,1]%\n",
    "&&\\text{probabilidad de la clase 1}\\\\%\n",
    "\\mathcal{L}&=\\operatorname{BinaryCrossEntropy}(y,\\hat{y})\\in\\mathbb{R}%\n",
    "&&\\text{salida escalar}\\quad m=1%\n",
    "\\end{align*}$$\n",
    "\n",
    "$$\\quad\\mathbf{W}=\\begin{pmatrix}1&1\\\\1&1\\end{pmatrix}\\quad \\boldsymbol{b}_1=\\begin{pmatrix}0\\\\-1\\end{pmatrix}\\quad \\mathbf{V}=\\begin{pmatrix}1&-1\\end{pmatrix}\\quad b_2=0$$"
   ]
  },
  {
   "cell_type": "markdown",
   "metadata": {},
   "source": [
    "### Paso forward para cada $\\boldsymbol{x}$: $\\quad\\mathcal{L}=\\frac{1}{4}\\sum_{\\boldsymbol{x}}\\mathcal{L}_{\\boldsymbol{x}}=0.6582$\n",
    "<div align=\"center\">\n",
    "\n",
    "|$x_1$|$x_2$|$y$|$\\boldsymbol{z}=\\mathbf{W}\\boldsymbol{x}+\\boldsymbol{b}_1$|$\\boldsymbol{h}=\\operatorname{ReLU}(\\boldsymbol{z})$|$a=\\mathbf{V}\\boldsymbol{h}+b_2$|$\\hat{y}=\\sigma(a)$|$\\mathcal{L}_{\\boldsymbol{x}}=-y\\log\\hat{y}-(1-y)\\log(1-\\hat{y})$|\n",
    "|:-:|:-:|:-:|:-:|:-:|:-:|:-:|:-:|\n",
    "|$0$|$0$|$0$|$(0,-1)^t$|$(0,0)^t$|$0$|$0.5000$|$0.6931$|\n",
    "|$0$|$1$|$1$|$(1,0)^t$ |$(1,0)^t$|$1$|$0.7311$|$0.3133$|\n",
    "|$1$|$0$|$1$|$(1,0)^t$ |$(1,0)^t$|$1$|$0.7311$|$0.3133$|\n",
    "|$1$|$1$|$0$|$(2,1)^t$ |$(2,1)^t$|$1$|$0.7311$|$1.3133$|\n",
    "\n",
    "</div>"
   ]
  },
  {
   "cell_type": "markdown",
   "metadata": {},
   "source": [
    "## Backward: $\\small\\quad\\mathcal{L}\\to\\hat{y}\\to a(\\mathbf{V},\\boldsymbol{b}_2)\\to\\boldsymbol{h}\\to\\boldsymbol{z}(\\mathbf{W},\\boldsymbol{b}_1)\\to\\boldsymbol{x}$"
   ]
  },
  {
   "cell_type": "markdown",
   "metadata": {},
   "source": [
    "### Paso backward para un $\\boldsymbol{x}$ genérico:\n",
    "$$\\boldsymbol{u}_{K+1}=\\boldsymbol{1};\\qquad\\text{para}\\;k=K:1:\\quad\\boldsymbol{g}_k=\\boldsymbol{u}_{k+1}^t\\dfrac{\\partial\\boldsymbol{f}(\\boldsymbol{x}_k,\\boldsymbol{\\theta}_k)}{\\partial\\boldsymbol{\\theta}_k}\\quad\\boldsymbol{u}_k^t=\\boldsymbol{u}_{k+1}^t\\dfrac{\\partial\\boldsymbol{f}(\\boldsymbol{x}_k,\\boldsymbol{\\theta}_k)}{\\partial\\boldsymbol{x}_k}$$"
   ]
  },
  {
   "cell_type": "markdown",
   "metadata": {},
   "source": [
    "**Entropía cruzada binaria:** $\\displaystyle\\quad u^t=1^t\\frac{\\partial\\mathcal{L}}{\\partial\\hat{y}}=-\\frac{y}{\\hat{y}}+\\frac{1-y}{1-\\hat{y}}=\\frac{\\hat{y}-y}{\\hat{y}(1-\\hat{y})}$\n",
    "\n",
    "**Sigmoide:** $\\displaystyle\\quad u^t=u^t\\frac{\\partial\\hat{y}}{\\partial a}=u^t\\sigma(a)(1-\\sigma(a))=u^t\\hat{y}(1-\\hat{y})=\\hat{y}-y$\n",
    "\n",
    "**Capa lineal previa a la sigmoide:**\n",
    "$$\\frac{\\partial a}{\\partial\\mathbf{V}}%\n",
    "=\\begin{pmatrix}\\dfrac{\\partial a}{\\partial V_1}\\\\[1em]\\dfrac{\\partial a}{\\partial V_2}\\end{pmatrix}=\\boldsymbol{h}%\n",
    "\\qquad\\frac{\\partial a}{\\partial b_2}=1%\n",
    "\\qquad\\boldsymbol{g}_{\\mathbf{V}}=u^t\\frac{\\partial a}{\\partial\\mathbf{V}^t}=u\\boldsymbol{h}^t%\n",
    "\\qquad g_{b_2}=u^t\\frac{\\partial a}{\\partial b_2}=u%\n",
    "\\qquad \\boldsymbol{u}^t=u^t\\frac{\\partial a}{\\partial\\boldsymbol{h}}=u\\mathbf{V}$$\n",
    "\n",
    "**Capas ReLU y lineal tras la entrada:** $\\quad$ igual que en el caso de MLP CrossEntropy"
   ]
  },
  {
   "cell_type": "markdown",
   "metadata": {},
   "source": [
    "### Paso backward para cada $\\boldsymbol{x}$:\n",
    "<div align=\"center\">\n",
    "\n",
    "|$x_1$|$x_2$|$y$|$u^t=\\hat{y}-y$|$\\boldsymbol{g}_{\\mathbf{V}}=u\\boldsymbol{h}^t$|$g_{b_2}=u$|$\\boldsymbol{u}^t=u\\mathbf{V}$|$\\boldsymbol{u}^t=\\boldsymbol{u}^t\\operatorname{diag}(H(\\boldsymbol{z}))$|$\\boldsymbol{g}_{\\mathbf{W}}=\\boldsymbol{u}\\otimes\\boldsymbol{x}^t$|$\\boldsymbol{g}_{\\boldsymbol{b}_1}=\\boldsymbol{u}$|$\\boldsymbol{u}^t=\\boldsymbol{u}^t\\mathbf{W}$|\n",
    "|:-:|:-:|:-:|:-:|:-:|:-:|:-:|:-:|:-:|:-:|:-:|\n",
    "|$0$|$0$|$0$|$ 0.5000$|          $(0,0)$|$ 0.5000$|||$\\begin{pmatrix}0&0\\\\0&0\\end{pmatrix}$|$\\begin{pmatrix}0\\\\0\\end{pmatrix}$|$(0,0)$|\n",
    "|$0$|$1$|$1$|$-0.2689$|    $(-0.2689,0)$|$-0.2689$|||$\\begin{pmatrix}0&0\\\\0&0\\end{pmatrix}$|$\\begin{pmatrix}0\\\\0\\end{pmatrix}$|$(0,0)$|\n",
    "|$1$|$0$|$1$|$-0.2689$|    $(-0.2689,0)$|$-0.2689$|||$\\begin{pmatrix}0&0\\\\0&0\\end{pmatrix}$|$\\begin{pmatrix}0\\\\0\\end{pmatrix}$|$(0,0)$|\n",
    "|$1$|$1$|$0$|$ 0.7311$|$(1.4622,0.7311)$|$ 0.7311$|||$\\begin{pmatrix}4&4\\\\-4&-4\\end{pmatrix}$|$\\begin{pmatrix}4\\\\-4\\end{pmatrix}$|$(0,0)$|\n",
    "\n",
    "</div>"
   ]
  },
  {
   "cell_type": "markdown",
   "metadata": {},
   "source": [
    "### Gradiente promedio:\n",
    "\n",
    "$$\\begin{align*}\n",
    "\\bar{\\boldsymbol{g}}_{\\mathbf{V}}&=\\frac{1}{4}\\left((0,0)+(-0.2689,0)+(-0.2689,0)+(1.4622,0.7311)\\right)=(0.2311,0.1828)\\\\%\n",
    "\\bar{g}_{b_2}&=\\frac{1}{4}(0.5-0.2689-0.2689+0.7311)=0.1733%\n",
    "\\end{align*}$$"
   ]
  },
  {
   "cell_type": "markdown",
   "metadata": {},
   "source": [
    "## SGD: $\\small\\quad\\boldsymbol{\\theta}=\\boldsymbol{\\theta}'-\\eta\\frac{\\partial\\mathcal{L}}{\\partial\\boldsymbol{\\theta}}\\quad$ con $\\quad\\eta=0.75$"
   ]
  },
  {
   "cell_type": "markdown",
   "metadata": {},
   "source": [
    "$$\\begin{align*}\n",
    "\\mathbf{W}&=\\mathbf{W}-0.1\\begin{pmatrix}1&1\\\\-1&-1\\end{pmatrix}%\n",
    "=\\begin{pmatrix}1&1\\\\1&1\\end{pmatrix}-\\begin{pmatrix}0.1&0.1\\\\-0.1&-0.1\\end{pmatrix}%\n",
    "=\\begin{pmatrix}0.9&0.9\\\\1.1&1.1\\end{pmatrix}\\\\%\n",
    "\\boldsymbol{b}_1&=\\boldsymbol{b}_1-0.1\\begin{pmatrix}1\\\\-1\\end{pmatrix}%\n",
    "=\\begin{pmatrix}0\\\\-1\\end{pmatrix}-\\begin{pmatrix}0.1\\\\-0.1\\end{pmatrix}%\n",
    "=\\begin{pmatrix}-0.1\\\\-0.9\\end{pmatrix}\\\\%\n",
    "\\mathbf{V}&=\\mathbf{V}-0.75\\,(0.2311,0.1828)=(0.8267,-1.1371)\\\\%\n",
    "b_2&=b_2-0.75\\cdot 0.1733=-0.13%\n",
    "\\end{align*}$$"
   ]
  }
 ],
 "metadata": {
  "kernelspec": {
   "display_name": "Python 3",
   "language": "python",
   "name": "python3"
  },
  "language_info": {
   "codemirror_mode": {
    "name": "ipython",
    "version": 3
   },
   "file_extension": ".py",
   "mimetype": "text/x-python",
   "name": "python",
   "nbconvert_exporter": "python",
   "pygments_lexer": "ipython3",
   "version": "3.11.4"
  },
  "orig_nbformat": 4
 },
 "nbformat": 4,
 "nbformat_minor": 2
}
