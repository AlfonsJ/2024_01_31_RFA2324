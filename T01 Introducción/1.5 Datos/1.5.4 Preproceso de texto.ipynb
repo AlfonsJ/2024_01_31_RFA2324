{
 "cells": [
  {
   "attachments": {},
   "cell_type": "markdown",
   "metadata": {},
   "source": [
    "# Preproceso de texto\n",
    "\n",
    "Aspectos a considerar para trabajar con (documentos de) texto:\n",
    "* Los documentos puede ser de diferentes longitudes, por lo que no podemos tratarlos directamente como vectores de características de dimensión fija.\n",
    "* Las palabras son variables categóricas con muchos valores posibles (la talla del vocabulario), por lo que sus codificaciones one-hot son de muy alta dimensión y sin noción de similitud natural.\n",
    "* **Out-of-vocabulary (OOV) words:** podemos encontrar palabras en test que no hayan sido vistas en entrenamiento."
   ]
  },
  {
   "attachments": {},
   "cell_type": "markdown",
   "metadata": {},
   "source": [
    "## El modelo bolsa de palabras\n",
    "\n",
    "El modelo **bag of words** ignora el orden de las palabras en un documento, reduciéndolo a un vector de cuentas (de ocurrencias) de cada **palabra, término o token** en un vocabulario fijo de referencia. Para reducir la talla del vocabulario de referencia, se suelen aplicar varias técnicas de preproceso como: eliminación de signos de puntuación, **lowercasing** (conversión a minúsculas), **stop word removal** (supresión de palabras funcionales) y **word stemming** (lematización).\n",
    "Llamamos **vector space model** al modelo de representación de documentos que resulta: un espacio vectorial en el que cada documento viene representado mediante un vector de $D$ dimensiones. Formalmente, dado un documento $n$ de longitud $T_n$ y con token $x_{nt}$ en la posición $t$, su representación vectorial, $\\tilde{\\boldsymbol{x}}_n$, incluye el número de ocurrencias de cada palabra $v$ del vocabulario:\n",
    "$$\\tilde{x}_{nv}=\\sum_{t=1}^{T_n}\\mathbb{I}(x_{nt}=v)$$\n",
    "Llamamos **term frequency matrix** a la matriz $D\\times N$ donde $\\text{TF}_{ij}$ es la frecuencia del término $i$ en el documento $j$."
   ]
  },
  {
   "attachments": {},
   "cell_type": "markdown",
   "metadata": {},
   "source": [
    "**Ejemplo:** matriz TF con $D=N=20$; los píxeles más oscuros indican términos más frecuentes\n",
    "\n",
    "<center><img src=\"Figure_1.15.png\"/></center>"
   ]
  }
 ],
 "metadata": {
  "kernelspec": {
   "display_name": "Python 3",
   "language": "python",
   "name": "python3"
  },
  "language_info": {
   "codemirror_mode": {
    "name": "ipython",
    "version": 3
   },
   "file_extension": ".py",
   "mimetype": "text/x-python",
   "name": "python",
   "nbconvert_exporter": "python",
   "pygments_lexer": "ipython3",
   "version": "3.10.6"
  },
  "orig_nbformat": 4,
  "vscode": {
   "interpreter": {
    "hash": "e7370f93d1d0cde622a1f8e1c04877d8463912d04d973331ad4851f04de6915a"
   }
  }
 },
 "nbformat": 4,
 "nbformat_minor": 2
}
