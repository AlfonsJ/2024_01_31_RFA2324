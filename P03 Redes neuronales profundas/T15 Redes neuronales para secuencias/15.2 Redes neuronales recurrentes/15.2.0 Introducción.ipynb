{
 "cells": [
  {
   "cell_type": "markdown",
   "metadata": {},
   "source": [
    "# 15.2.0 Introducción\n",
    "\n",
    "**Recurrent neural network (RNN):**\n",
    "* Transforma de un espacio de secuencias de entrada a un espacio de secuencias de salida en función de su estado\n",
    "* La de salida $\\boldsymbol{y}_t$ no solo depende de la entrada $\\boldsymbol{x}_t$, sino también del estado oculto del sistema, $\\boldsymbol{h}_t$, el cual se actualiza a lo largo del tiempo, a medida que la secuencia de entrada se procesa\n",
    "* Usos: $\\;$ generación, clasificación y traducción de secuencias"
   ]
  }
 ],
 "metadata": {
  "language_info": {
   "name": "python"
  },
  "orig_nbformat": 4
 },
 "nbformat": 4,
 "nbformat_minor": 2
}
