{
 "cells": [
  {
   "cell_type": "markdown",
   "metadata": {},
   "source": [
    "# Estandarización y blanqueado de datos\n",
    "\n",
    "Sea $\\mathbf{X}\\in\\mathbb{R}^{N\\times D}$ una matriz de $N$ datos $D$-dimensionales. "
   ]
  },
  {
   "cell_type": "code",
   "execution_count": 1,
   "metadata": {},
   "outputs": [
    {
     "data": {
      "image/png": "[encoded data removed]",
      "text/plain": [
       "<Figure size 432x288 with 1 Axes>"
      ]
     },
     "metadata": {
      "needs_background": "light"
     },
     "output_type": "display_data"
    }
   ],
   "source": [
    "import numpy as np\n",
    "import matplotlib.pyplot as plt\n",
    "X = np.array([ [-1, -1], [0, 2], [2, 0], [3, 3] ]).astype(float)\n",
    "m = np.mean(X, axis=0)\n",
    "fig, ax = plt.subplots(); ax.set_aspect(\"equal\"); plt.grid(True)\n",
    "plt.axis([-2, 4, -2, 4]); plt.xticks(fontsize=16); plt.yticks(fontsize=16)\n",
    "plt.scatter(m[0], m[1], facecolor='C0', edgecolor='k', s=100, marker=\"X\")\n",
    "plt.scatter(X[:,0], X[:,1], facecolor='C0', edgecolor='k', s=100);"
   ]
  },
  {
   "attachments": {},
   "cell_type": "markdown",
   "metadata": {},
   "source": [
    "## Estandarización\n",
    "\n",
    "**Estandarización:** $\\quad\\operatorname{standardize}(\\mathbf{X})=(\\mathbf{X}-\\boldsymbol{1}_N\\boldsymbol{\\mu}^t)\\operatorname{diag}(\\boldsymbol{\\sigma})^{-1}\\qquad\\boldsymbol{\\mu}=\\bar{\\boldsymbol{x}}$ y $\\boldsymbol{\\sigma}$ son la media y desviación típica empíricas\n",
    "\n",
    "**Ventaja:** $\\;$ facilita la homogeneización de variables heterogéneas; las variables estandarizadas tienen media nula y varianza unitaria\n",
    "\n",
    "**Incoveniente:** $\\;$ no elimina correlaciones entre variables"
   ]
  },
  {
   "cell_type": "code",
   "execution_count": 2,
   "metadata": {},
   "outputs": [
    {
     "data": {
      "image/png": "[encoded data removed]",
      "text/plain": [
       "<Figure size 432x288 with 1 Axes>"
      ]
     },
     "metadata": {
      "needs_background": "light"
     },
     "output_type": "display_data"
    }
   ],
   "source": [
    "import numpy as np\n",
    "import matplotlib.pyplot as plt\n",
    "X = np.array([ [-1, -1], [0, 2], [2, 0], [3, 3] ]).astype(float)\n",
    "m = np.mean(X, axis=0); sigma = np.std(X, axis=0)\n",
    "Xstd = (X - m) / sigma\n",
    "fig, ax = plt.subplots(); ax.set_aspect(\"equal\"); plt.grid(True)\n",
    "plt.axis([-2, 4, -2, 4]); plt.xticks(fontsize=16); plt.yticks(fontsize=16)\n",
    "plt.scatter(m[0], m[1], facecolor='C0', edgecolor='k', s=100, marker=\"X\")\n",
    "plt.scatter(X[:,0], X[:,1], facecolor='C0', edgecolor='k', s=100)\n",
    "plt.scatter(0, 0, facecolor='C1', edgecolor='k', s=100, marker=\"X\")\n",
    "plt.scatter(Xstd[:,0], Xstd[:,1], facecolor='C1', edgecolor='k', s=100);"
   ]
  },
  {
   "cell_type": "markdown",
   "metadata": {},
   "source": [
    "## Blanqueado PCA\n",
    "\n",
    "**Blanqueado principal component analysis (PCA):** $\\;$ dada $\\mathbf{\\Sigma}=\\mathbf{U}\\boldsymbol{\\Lambda}\\mathbf{U}^t,\\,$ descomposición propia de la matriz de covarianzas empírica:\n",
    "$$\\quad\\operatorname{whitening}(\\mathbf{X})=(\\mathbf{X}-\\mathbf{1}_N\\boldsymbol{\\mu}^t)\\mathbf{W}_{\\text{pca}}^t%\n",
    "\\quad\\text{con}\\quad%\n",
    "\\mathbf{W}_{\\text{pca}}=\\boldsymbol{\\Lambda}^{-1/2}\\mathbf{U}^t$$\n",
    "Los datos blanqueados exhiben media nula y matriz de covarianzas blanca (identidad): $\\;\\boldsymbol{y}=\\mathbf{W}_{\\text{pca}}(\\boldsymbol{x}-\\boldsymbol{\\mu})$\n",
    "$$\\begin{align*}\n",
    "\\mathbb{E}[\\mathbf{W}_{\\text{pca}}(\\boldsymbol{x}-\\boldsymbol{\\mu})]%\n",
    "&=\\mathbf{W}_{\\text{pca}}\\mathbb{E}[\\boldsymbol{x}-\\boldsymbol{\\mu}]=\\boldsymbol{0}\\\\%\n",
    "\\operatorname{Cov}[\\mathbf{W}_{\\text{pca}}(\\boldsymbol{x}-\\boldsymbol{\\mu})]%\n",
    "&=\\mathbf{W}_{\\text{pca}}\\operatorname{Cov}[\\boldsymbol{x}]\\mathbf{W}_{\\text{pca}}^t%\n",
    "=\\boldsymbol{\\Lambda}^{-1/2}\\mathbf{U}^t\\mathbf{U}\\boldsymbol{\\Lambda}\\mathbf{U}^t\\mathbf{U}\\boldsymbol{\\Lambda}^{-1/2}%\n",
    "=\\boldsymbol{\\Lambda}^{-1/2}\\boldsymbol{\\Lambda}\\boldsymbol{\\Lambda}^{-1/2}%\n",
    "=\\boldsymbol{\\Lambda}^0=\\mathbf{I}\n",
    "\\end{align*}$$\n",
    "\n"
   ]
  },
  {
   "cell_type": "code",
   "execution_count": 3,
   "metadata": {},
   "outputs": [
    {
     "data": {
      "image/png": "[encoded data removed]",
      "text/plain": [
       "<Figure size 432x288 with 1 Axes>"
      ]
     },
     "metadata": {
      "needs_background": "light"
     },
     "output_type": "display_data"
    }
   ],
   "source": [
    "import numpy as np\n",
    "import matplotlib.pyplot as plt\n",
    "X = np.array([ [-1, -1], [0, 2], [2, 0], [3, 3] ]).astype(float)\n",
    "m = np.mean(X, axis=0)\n",
    "S = np.cov(X.T, bias=True)\n",
    "La, U = np.linalg.eigh(S)\n",
    "i = La.argsort()[::-1]; La = La[i]; U = U[:,i]\n",
    "W = np.sqrt(np.linalg.inv(np.diag(La))) @ U.T\n",
    "Xw = (X - m) @ W.T\n",
    "fig, ax = plt.subplots(); ax.set_aspect(\"equal\"); plt.grid(True)\n",
    "plt.axis([-2, 4, -2, 4]); plt.xticks(fontsize=16); plt.yticks(fontsize=16)\n",
    "plt.scatter(m[0], m[1], facecolor='C0', edgecolor='k', s=100, marker=\"X\")\n",
    "plt.scatter(X[:,0], X[:,1], facecolor='C0', edgecolor='k', s=100)\n",
    "plt.scatter(0, 0, facecolor='C1', edgecolor='k', s=100, marker=\"X\")\n",
    "plt.scatter(Xw[:,0], Xw[:,1], facecolor='C1', edgecolor='k', s=100);"
   ]
  }
 ],
 "metadata": {
  "kernelspec": {
   "display_name": "Python 3",
   "language": "python",
   "name": "python3"
  },
  "language_info": {
   "codemirror_mode": {
    "name": "ipython",
    "version": 3
   },
   "file_extension": ".py",
   "mimetype": "text/x-python",
   "name": "python",
   "nbconvert_exporter": "python",
   "pygments_lexer": "ipython3",
   "version": "3.10.6"
  },
  "orig_nbformat": 4
 },
 "nbformat": 4,
 "nbformat_minor": 2
}
