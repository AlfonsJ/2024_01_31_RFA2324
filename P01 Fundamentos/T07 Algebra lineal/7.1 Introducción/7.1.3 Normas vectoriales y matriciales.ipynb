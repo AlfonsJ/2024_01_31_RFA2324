{
 "cells": [
  {
   "attachments": {},
   "cell_type": "markdown",
   "metadata": {},
   "source": [
    "# Normas vectoriales y matriciales"
   ]
  },
  {
   "attachments": {},
   "cell_type": "markdown",
   "metadata": {},
   "source": [
    "## Normas vectoriales\n",
    "\n",
    "**Norma de un vector $\\boldsymbol{x}:$** $\\;\\lVert\\boldsymbol{x}\\rVert\\;$ es cualquier $f:\\mathbb{R}^n\\to\\mathbb{R}$ tal que\n",
    "$$f(\\boldsymbol{x})\\geq 0%\n",
    "\\qquad f(\\boldsymbol{x})=0\\Leftrightarrow\\boldsymbol{x}=\\boldsymbol{0}%\n",
    "\\qquad f(t\\boldsymbol{x})=\\lvert{t}\\rvert f(\\boldsymbol{x})\n",
    "\\qquad f(\\boldsymbol{x}+\\boldsymbol{y})\\leq f(\\boldsymbol{x})+f(\\boldsymbol{y})$$\n",
    "\n",
    "**p-norma o Lp:** $\\quad\\lVert{\\boldsymbol{x}}\\rVert_p=\\left(\\sum\\nolimits_{i=1}^n\\lvert{x_i}\\rvert^p\\right)^{1/p}\\quad p\\in\\mathbb{R}^{\\geq 1}$\n",
    "\n",
    "**2-norma, Euclídea o L2:** $\\quad\\lVert{\\boldsymbol{x}}\\rVert_2=\\sqrt{\\sum\\nolimits_{i=1}^nx_i^2}=\\sqrt{\\boldsymbol{x}^t\\boldsymbol{x}}$\n",
    "\n",
    "**1-norma, taxicab, Manhattan o L1:** $\\quad\\lVert{\\boldsymbol{x}}\\rVert_1=\\sum\\nolimits_{i=1}^n\\;\\lvert{x_i}\\rvert$\n",
    "\n",
    "**Max-norma, infinito o L**$\\infty$: $\\quad\\lVert{\\boldsymbol{x}}\\rVert_{\\infty}=\\max\\nolimits_i\\;\\lvert{x_i}\\rvert$\n",
    "\n",
    "**0-pseudo-norma:** $\\quad\\lVert{\\boldsymbol{x}}\\rVert_0=\\sum\\nolimits_{i=1}^n\\mathbb{I}(\\lvert{x_i}\\rvert>0)\\;\\overset{0^0=0}{=}\\;\\sum\\nolimits_{i=1}^nx_i^0$\n"
   ]
  },
  {
   "cell_type": "code",
   "execution_count": 1,
   "metadata": {},
   "outputs": [
    {
     "name": "stdout",
     "output_type": "stream",
     "text": [
      "L2([-3  4]) = 5.0\n",
      "L1([-3  4]) = 7.0\n",
      "Linf([-3  4]) = 4.0\n",
      "L0([-3  4]) = 2.0\n"
     ]
    }
   ],
   "source": [
    "import numpy as np\n",
    "a = np.array([-3, 4])\n",
    "for p in (2, 1, np.inf, 0):\n",
    "    print(f'L{p}({a}) = {np.linalg.norm(a, p)}')"
   ]
  },
  {
   "attachments": {},
   "cell_type": "markdown",
   "metadata": {},
   "source": [
    "## Normas matriciales\n",
    "\n"
   ]
  },
  {
   "cell_type": "code",
   "execution_count": 2,
   "metadata": {},
   "outputs": [
    {
     "name": "stdout",
     "output_type": "stream",
     "text": [
      "4.0\n"
     ]
    }
   ],
   "source": [
    "# %load '7.1.3.2.matnorm.py'\n",
    "import numpy as np\n",
    "A = np.array([[-2, -2], [2, 2]])\n",
    "print(np.linalg.norm(A, 'fro'))\n"
   ]
  },
  {
   "attachments": {},
   "cell_type": "markdown",
   "metadata": {},
   "source": [
    "## Propiedades de una matriz"
   ]
  },
  {
   "cell_type": "code",
   "execution_count": 3,
   "metadata": {},
   "outputs": [
    {
     "name": "stdout",
     "output_type": "stream",
     "text": [
      "4\n",
      "3\n",
      "2\n",
      "3\n"
     ]
    }
   ],
   "source": [
    "# %load '7.1.4.matprops.py'\n",
    "import numpy as np\n",
    "A = np.array([[2, 1], [1, 2]])\n",
    "print(np.trace(A))\n",
    "print(round(np.linalg.det(A)))\n",
    "print(np.linalg.matrix_rank(A))\n",
    "print(round(np.linalg.cond(A)))\n"
   ]
  },
  {
   "attachments": {},
   "cell_type": "markdown",
   "metadata": {},
   "source": [
    "## Rango de una matriz"
   ]
  },
  {
   "cell_type": "code",
   "execution_count": 4,
   "metadata": {},
   "outputs": [
    {
     "name": "stdout",
     "output_type": "stream",
     "text": [
      "4\n",
      "3\n",
      "1\n",
      "0\n"
     ]
    }
   ],
   "source": [
    "# %load '7.1.2.rank.py'\n",
    "import numpy as np\n",
    "A = np.eye(4)\n",
    "print(np.linalg.matrix_rank(A))\n",
    "A[-1, -1] = 0.\n",
    "print(np.linalg.matrix_rank(A))\n",
    "A = np.ones((4,))\n",
    "print(np.linalg.matrix_rank(A))\n",
    "A = np.zeros((4,))\n",
    "print(np.linalg.matrix_rank(A))\n"
   ]
  }
 ],
 "metadata": {
  "kernelspec": {
   "display_name": "Python 3",
   "language": "python",
   "name": "python3"
  },
  "language_info": {
   "codemirror_mode": {
    "name": "ipython",
    "version": 3
   },
   "file_extension": ".py",
   "mimetype": "text/x-python",
   "name": "python",
   "nbconvert_exporter": "python",
   "pygments_lexer": "ipython3",
   "version": "3.10.6"
  },
  "orig_nbformat": 4
 },
 "nbformat": 4,
 "nbformat_minor": 2
}
