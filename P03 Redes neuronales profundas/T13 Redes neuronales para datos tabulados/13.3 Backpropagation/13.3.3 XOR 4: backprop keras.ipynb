{
 "cells": [
  {
   "cell_type": "markdown",
   "metadata": {},
   "source": [
    "# XOR: backprop keras para MLP CrossEntropy"
   ]
  },
  {
   "cell_type": "code",
   "execution_count": 5,
   "metadata": {},
   "outputs": [],
   "source": [
    "import numpy as np; np.set_printoptions(precision=4)\n",
    "import tensorflow as tf; from tensorflow import keras"
   ]
  },
  {
   "cell_type": "code",
   "execution_count": 6,
   "metadata": {},
   "outputs": [],
   "source": [
    "X = np.array([[0, 0], [0, 1], [1, 0], [1, 1]])\n",
    "y = np.array([[1, 0], [0, 1], [0, 1], [1, 0]])\n",
    "W = tf.constant_initializer([[1, 1], [1, 1]]); tf.transpose(W); b1 = tf.constant_initializer([-1,  .5])\n",
    "V = tf.constant_initializer([[1, -1], [-1, 1]]); tf.transpose(V); b2 = tf.constant_initializer([ 1, -1])\n",
    "L1 = keras.layers.Dense(2, activation=tf.nn.relu, input_dim=2, kernel_initializer=W, bias_initializer=b1)\n",
    "L2 = keras.layers.Dense(2, activation=tf.nn.softmax, kernel_initializer=V, bias_initializer=b2)\n",
    "M = keras.Sequential([L1, L2])"
   ]
  },
  {
   "cell_type": "code",
   "execution_count": 7,
   "metadata": {},
   "outputs": [
    {
     "name": "stdout",
     "output_type": "stream",
     "text": [
      "z = tf.Tensor([[-1.   0.5] [ 0.   1.5] [ 0.   1.5] [ 1.   2.5]], shape=(4, 2), dtype=float32)\n",
      "h = tf.Tensor([[0.  0.5] [0.  1.5] [0.  1.5] [1.  2.5]], shape=(4, 2), dtype=float32)\n",
      "a = tf.Tensor([[ 0.5 -0.5] [-0.5  0.5] [-0.5  0.5] [-0.5  0.5]], shape=(4, 2), dtype=float32)\n",
      "p = tf.Tensor([[0.7311 0.2689] [0.2689 0.7311] [0.2689 0.7311] [0.2689 0.7311]], shape=(4, 2), dtype=float32)\n",
      "L = tf.Tensor(0.56326175, shape=(), dtype=float32)\n"
     ]
    }
   ],
   "source": [
    "L1_preact = keras.layers.Dense(2, activation=None, input_dim=2, kernel_initializer=W, bias_initializer=b1)\n",
    "z = L1_preact(X); print('z =', str(z).replace('\\n',''))\n",
    "h = L1(X); print('h =', str(h).replace('\\n',''))\n",
    "L2_preact = keras.layers.Dense(2, activation=None, kernel_initializer=V, bias_initializer=b2)\n",
    "a = L2_preact(h); print('a =', str(a).replace('\\n','')) # softmax\n",
    "p = L2(h); print('p =', str(p).replace('\\n',''))\n",
    "L = tf.keras.losses.CategoricalCrossentropy(from_logits=False); print('L =', L(y, p))"
   ]
  },
  {
   "cell_type": "code",
   "execution_count": 8,
   "metadata": {},
   "outputs": [
    {
     "name": "stdout",
     "output_type": "stream",
     "text": [
      "1/1 [==============================] - 0s 232ms/step - loss: 0.5633 - accuracy: 0.7500\n",
      "[array([[1.0366, 0.9769],\n",
      "       [1.0366, 0.9769]], dtype=float32), array([-0.9634,  0.4769], dtype=float32)] \n",
      " [array([[ 1.0183, -1.0183],\n",
      "       [-0.9711,  0.9711]], dtype=float32), array([ 1.0116, -1.0116], dtype=float32)]\n"
     ]
    }
   ],
   "source": [
    "optimizer = tf.optimizers.SGD(learning_rate=0.1)\n",
    "M.compile(loss='categorical_crossentropy', optimizer=optimizer, metrics=['accuracy'])\n",
    "M.fit(X, y, epochs=1, verbose=1); print(L1.get_weights(), \"\\n\", L2.get_weights())"
   ]
  }
 ],
 "metadata": {
  "kernelspec": {
   "display_name": "Python 3",
   "language": "python",
   "name": "python3"
  },
  "language_info": {
   "codemirror_mode": {
    "name": "ipython",
    "version": 3
   },
   "file_extension": ".py",
   "mimetype": "text/x-python",
   "name": "python",
   "nbconvert_exporter": "python",
   "pygments_lexer": "ipython3",
   "version": "3.11.4"
  },
  "orig_nbformat": 4
 },
 "nbformat": 4,
 "nbformat_minor": 2
}
