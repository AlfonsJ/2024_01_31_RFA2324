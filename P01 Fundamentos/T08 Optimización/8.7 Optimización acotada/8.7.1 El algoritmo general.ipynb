{
 "cells": [
  {
   "cell_type": "markdown",
   "metadata": {},
   "source": [
    "# 8.7.1 El algoritmo general"
   ]
  },
  {
   "cell_type": "markdown",
   "metadata": {},
   "source": [
    "**Objetivo:** $\\;$ maximizar $\\operatorname{LL}(\\boldsymbol{\\theta})$\n",
    "\n",
    "**Función sustituta (surrogate):** $\\;$ construimos una función cota inferior del objetivo, $Q(\\boldsymbol{\\theta},\\boldsymbol{\\theta}^t)$, que lo iguala en un $\\boldsymbol{\\theta}^t$ dado\n",
    "$$Q(\\boldsymbol{\\theta},\\boldsymbol{\\theta}^t)\\leq\\operatorname{LL}(\\boldsymbol{\\theta})%\n",
    "\\quad\\text{y}\\quad%\n",
    "Q(\\boldsymbol{\\theta}^t,\\boldsymbol{\\theta}^t)=\\operatorname{LL}(\\boldsymbol{\\theta}^t)$$\n",
    "\n",
    "* Si se cumplen ambas condiciones, decimos que **minoriza** $\\operatorname{LL}$\n",
    "\n",
    "**Algoritmo majorize-minimize (MM):** $\\;$ para $t=0,1,\\ldots$\n",
    "$$\\boldsymbol{\\theta}^{t+1}=\\operatorname*{argmax}\\limits_{\\boldsymbol{\\theta}}\\;Q(\\boldsymbol{\\theta},\\boldsymbol{\\theta}^t)$$\n",
    "\n",
    "* Si $\\boldsymbol{\\theta}^{t+1}$ se escoge tal que $Q(\\boldsymbol{\\theta}^{t+1},\\boldsymbol{\\theta}^t)\\geq Q(\\boldsymbol{\\theta}^t,\\boldsymbol{\\theta}^t)$:\n",
    "$$\\operatorname{LL}(\\boldsymbol{\\theta}^{t+1})%\n",
    "  \\geq Q(\\boldsymbol{\\theta}^{t+1},\\boldsymbol{\\theta}^t)%\n",
    "  \\geq Q(\\boldsymbol{\\theta}^t,\\boldsymbol{\\theta}^t)%\n",
    "  =\\operatorname{LL}(\\boldsymbol{\\theta}^t)$$"
   ]
  },
  {
   "cell_type": "markdown",
   "metadata": {},
   "source": [
    "\n",
    "<div><table border-collapse: collapse><tr>\n",
    "<td style=\"border: none; text-align:left; vertical-align:top; padding:0; margin:0;\" width=350>\n",
    "\n",
    "**Ejemplo:** \n",
    "\n",
    "* $\\;Q(\\theta,\\theta^t)$ toca $\\operatorname{LL}(\\theta)$ en $\\theta^t$\n",
    "\n",
    "* Su maximización da lugar a $\\theta^{t+1}$\n",
    "\n",
    "* $Q(\\theta,\\theta^{t+1})$ toca $\\operatorname{LL}(\\theta)$ en $\\theta^{t+1}$\n",
    "\n",
    "* Su maximización da lugar a $\\theta^{t+2}$\n",
    "\n",
    "* etc.\n",
    "\n",
    "</td>\n",
    "<td style=\"border: none; text-align:left; vertical-align:top; padding:0; margin:0;\" width=650>\n",
    "\n",
    "<center><img src=\"emLogLikelihoodMax.png\" width=500></center>\n",
    "\n",
    "</td></tr></table></div>"
   ]
  },
  {
   "cell_type": "markdown",
   "metadata": {},
   "source": [
    "**Similitud con el método de Newton:** $\\;$ si $Q$ es una cota inferior cuadrática, el MM se asemeja al método de Newton, pues ajusta y optimiza una aproximación cuadrática del objetivo repetidamente\n",
    "\n",
    "* **Diferencia:** $\\;$ MM garantiza un mejora del objetivo en cada iteración, incluso si no es convexo, pero Newton no\n",
    "\n",
    "* **Ejemplo:** $\\;$ a la izquierda Newton se \"pasa de largo\" buscando un máximo y a la derecha se va a un mínimo\n",
    "\n",
    "<center><img src=\"Figure_8.24.png\" width=800></center>"
   ]
  }
 ],
 "metadata": {
  "language_info": {
   "name": "python"
  },
  "orig_nbformat": 4
 },
 "nbformat": 4,
 "nbformat_minor": 2
}
