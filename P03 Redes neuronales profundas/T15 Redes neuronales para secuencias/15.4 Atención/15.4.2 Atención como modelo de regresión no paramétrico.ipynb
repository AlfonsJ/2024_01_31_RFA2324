{
 "cells": [
  {
   "cell_type": "markdown",
   "metadata": {},
   "source": [
    "# 15.4.2 Atención como modelo de regresión no paramétrico\n",
    "\n",
    "**Regresión kernel:** $\\;$ la muestra de test $x$ es la query y las de training $\\{(x_i,y_i)\\}_{i=1}^n$ son los pares clave-valor del diccionario a partir de los cuales predecimos el valor de la query\n",
    "$$\\begin{align*}f(x)&=\\sum_{i=1}^n\\alpha_i(x,x_{1:n})\\,y_i\\\\%\n",
    "&=\\sum_{i=1}^n\\frac{\\exp[-\\frac{1}{2}((x-x_i)w)^2]}%\n",
    "{\\sum_{j=1}^n\\exp[-\\frac{1}{2}((x-x_j)w)^2]}\\,y_i\\\\%\n",
    "&=\\sum_{i=1}^n\\mathcal{S}_i%\n",
    "\\left[-\\frac{1}{2}((x-x_1)w)^2,\\dotsc,-\\frac{1}{2}((x-x_n)w)^2\\right]y_i\\end{align*}$$\n",
    "donde $\\alpha_i(x,x_{1:n})$ mide la similitud normalizada entre $x$ y $x_i$, a partir de scores calculados mediante una medida de similitud definida con un kernel de densidad Gaussiana, tomando $w=\\frac{1}{\\sigma}$ ($\\sigma$ es el ancho de banda del kernel)\n",
    "$$a(x,x_i)=\\mathcal{K}_{\\sigma}(x-x_i)\\quad\\text{con}\\quad\\mathcal{K}_{\\sigma}(u)=\\frac{1}{\\sqrt{2\\pi\\sigma^2}} e^{-\\frac{1}{2\\sigma^2}u^2}$$\n",
    "\n",
    "**Ejemplo:** $\\;$ regresión kernel en 1d, con $w=1$\n",
    "<div><table align=\"center\"><tr>\n",
    "<td style=\"border: none; text-align:center; vertical-align:top;\">\n",
    "\n",
    "<img src=\"Figure_15.17_A.png\" align=\"center\" width=400>\n",
    "\n",
    "<br>Matriz $A_{ji}=\\alpha_i(x,x_{1:n})$ para la entrada de test $j$\n",
    "\n",
    "</td>\n",
    "\n",
    "<td style=\"border: none; text-align:center; vertical-align:top;\">\n",
    "\n",
    "<img src=\"Figure_15.17_B.png\" width=450>\n",
    "\n",
    "<br>Curva predicha\n",
    "\n",
    "</td>\n",
    "</tr></table></div>"
   ]
  }
 ],
 "metadata": {
  "language_info": {
   "name": "python"
  },
  "orig_nbformat": 4
 },
 "nbformat": 4,
 "nbformat_minor": 2
}
