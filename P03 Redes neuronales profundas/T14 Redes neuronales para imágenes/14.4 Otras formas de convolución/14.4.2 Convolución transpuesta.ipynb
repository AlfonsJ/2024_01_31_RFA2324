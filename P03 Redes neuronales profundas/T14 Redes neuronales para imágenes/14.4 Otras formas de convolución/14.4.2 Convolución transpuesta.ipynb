{
 "cells": [
  {
   "cell_type": "markdown",
   "metadata": {},
   "source": [
    "# 14.4.2 Convolución transpuesta"
   ]
  },
  {
   "cell_type": "markdown",
   "metadata": {},
   "source": [
    "**Convolución convencional:** $\\;$ reduce una entrada grande $\\mathbf{X}$ a una salida pequeña $\\mathbf{Y}$ mediante combinación ponderada de los píxeles de entrada y el kernel convolucional $\\mathbf{K}$"
   ]
  },
  {
   "cell_type": "code",
   "execution_count": 1,
   "metadata": {},
   "outputs": [],
   "source": [
    "import numpy as np\n",
    "def conv(X, K):\n",
    "  h, w = K.shape\n",
    "  Y = np.zeros((X.shape[0] - h + 1, X.shape[1] - w + 1))\n",
    "  for i in range(Y.shape[0]):\n",
    "    for j in range(Y.shape[1]):\n",
    "      Y[i, j] = (X[i:i + h, j:j + w] * K).sum()\n",
    "  return Y"
   ]
  },
  {
   "cell_type": "markdown",
   "metadata": {},
   "source": [
    "**Convolución transpuesta:** $\\;$ produce lo contrario, esto es, una salida grande a partir de una entrada pequeña"
   ]
  },
  {
   "cell_type": "code",
   "execution_count": null,
   "metadata": {},
   "outputs": [],
   "source": [
    "import numpy as np\n",
    "def trans_conv(X, K):\n",
    "  h, w = K.shape\n",
    "  Y = np.zeros((X.shape[0] + h - 1, X.shape[1] + w - 1))\n",
    "  for i in range(X.shape[0]):\n",
    "    for j in range(X.shape[1]):\n",
    "      Y[i:i + h, j:j + w] += X[i, j] * K\n",
    "  return Y"
   ]
  },
  {
   "cell_type": "markdown",
   "metadata": {},
   "source": [
    "Si $\\mathbf{W}$ es la matriz derivada del kernel $\\mathbf{K}$, $\\mathbf{Y}=\\mathtt{trans\\_conv}(\\mathbf{X},\\mathbf{K})$ equivale a $\\mathbf{Y}=\\mathtt{reshape}(\\mathbf{W}^t\\mathtt{vec}(\\mathbf{X}))\\;$ (de ahí \"transpuesta\")\n",
    "\n",
    "**Ejemplo:** $\\;$ si $(h,w)$ es el tamaño del kernel, la convolución transpuesta equivale a rellenar la imagen de entrada con $(h-1,w-1)$ ceros (por debajo a la derecha), colocar una copia ponderada del kernel en cada una de las posiciones de entrada (con peso igual al valor del píxel) y sumar\n",
    "<div align=\"center\">\n",
    "<table><tr>\n",
    "<td style=\"border: none;\"><img src=\"Figure_14.24.png\" width=800/></td>\n",
    "</tr></table>\n",
    "</div>"
   ]
  },
  {
   "cell_type": "markdown",
   "metadata": {},
   "source": [
    "**Deconvolución:** $\\;$ inversa de la convolución; distinta de transpuesta\n",
    "<div align=\"center\">\n",
    "<table><tr>\n",
    "<td style=\"border: none;\"><img src=\"Figure_14.25.png\"/></td>\n",
    "</tr></table>\n",
    "</div>"
   ]
  }
 ],
 "metadata": {
  "kernelspec": {
   "display_name": "Python 3",
   "language": "python",
   "name": "python3"
  },
  "language_info": {
   "codemirror_mode": {
    "name": "ipython",
    "version": 3
   },
   "file_extension": ".py",
   "mimetype": "text/x-python",
   "name": "python",
   "nbconvert_exporter": "python",
   "pygments_lexer": "ipython3",
   "version": "3.11.4"
  },
  "orig_nbformat": 4
 },
 "nbformat": 4,
 "nbformat_minor": 2
}
