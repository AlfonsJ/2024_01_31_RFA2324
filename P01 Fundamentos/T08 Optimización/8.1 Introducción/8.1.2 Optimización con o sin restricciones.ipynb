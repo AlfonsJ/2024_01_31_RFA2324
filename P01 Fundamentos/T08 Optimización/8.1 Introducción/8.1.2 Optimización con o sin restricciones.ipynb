{
 "cells": [
  {
   "attachments": {},
   "cell_type": "markdown",
   "metadata": {},
   "source": [
    "## Optimización con o sin restricciones\n",
    "\n",
    "**Optimización sin restricciones** asume que cualquier valor del espacio paramétrico $\\mathbf{\\Theta}$ es **solución posible** para minimizar la pérdida. Sin embargo, en **optimización con restricciones**, la minimización se asume sujeta a (que el valor hallado pertenezca a) un cierto **conjunto de soluciones posibles** $\\mathcal{C}\\subseteq\\mathbf{\\Theta}$:\n",
    "$$\\boldsymbol{\\theta}^*=\\operatorname*{argmin}\\limits_{\\boldsymbol{\\theta}\\in\\mathcal{C}}\\;%\n",
    "\\mathcal{L}(\\boldsymbol{\\theta})$$\n",
    "$\\mathcal{C}$ suele caracterizarse en términos de **restricciones de desigualdad**, $g_j(\\boldsymbol{\\theta})\\leq 0$ para $j\\in\\mathcal{I}$, y **restricciones de igualdad**, $h_k(\\boldsymbol{\\theta})=0$ para $k\\in\\mathcal{E}$:\n",
    "$$\\mathcal{C}=\\{\\boldsymbol{\\theta}:%\n",
    "g_j(\\boldsymbol{\\theta})\\leq 0: j\\in\\mathcal{I},\\;%\n",
    "h_k(\\boldsymbol{\\theta})=0: k\\in\\mathcal{E}\\}\\subseteq\\mathbb{R}^D$$\n",
    "La adición de restricciones puede cambiar el número de óptimos y, por lo general, complica la búsqueda de soluciones posibles. Una estrategia usual para resolver problemas con restricciones consiste en **relajar** (eliminar) restricciones y, por cada restricción relajada, añadir un **término de penalización** al objetivo que cuantifique su incumplimiento. Esta estrategia se emplea frecuentemente con restricciones de igualdad, mediante la introducción de **multiplicadores de Lagrange** para construir un objetivo extendido, conocido como la **Lagrangiana**:\n",
    "$$\\boldsymbol{\\theta}^*=\\operatorname*{argmin}\\limits_{\\boldsymbol{\\theta}\\in\\mathcal{C}^{\\leq 0}}\\;%\n",
    "\\min\\limits_{\\boldsymbol{\\lambda}\\in\\mathbb{R}^{\\lvert\\mathcal{E}\\rvert}}\\;%\n",
    "L(\\boldsymbol{\\theta}, \\boldsymbol{\\lambda})\\;\n",
    "\\quad\\text{con}\\quad%\n",
    "L(\\boldsymbol{\\theta}, \\boldsymbol{\\lambda})=\\mathcal{L}(\\boldsymbol{\\theta})%\n",
    "+\\sum_{k\\in\\mathcal{E}}\\lambda_kh_k(\\boldsymbol{\\theta})$$\n",
    "Nótese que todo **punto crítico** (estacionario) de la Lagrangiana requiere el cumplimiento de las restricciones:\n",
    "$$\\boldsymbol{\\nabla}_{\\boldsymbol{\\theta}, \\boldsymbol{\\lambda}}L(\\boldsymbol{\\theta}, \\boldsymbol{\\lambda})=\\boldsymbol{0}%\n",
    "\\qquad\\text{sii}\\qquad%\n",
    "\\boldsymbol{\\nabla}_{\\boldsymbol{\\theta}}\\mathcal{L}(\\boldsymbol{\\theta})%\n",
    "+\\sum_{k\\in\\mathcal{E}}\\lambda_k\\boldsymbol{\\nabla}_{\\boldsymbol{\\theta}}h_k(\\boldsymbol{\\theta})=\\boldsymbol{0}%\n",
    "\\quad\\text{y}\\quad%\n",
    "h_k(\\boldsymbol{\\theta})=0\\;\\;\\text{para $\\,k\\in\\mathcal{E}$}$$\n",
    "En el caso de restricciones de desigualdad (p.e. de no negatividad) podemos hacer algo parecido, aunque muchas veces se ignoran sin más y simplemente comprobamos que la solución hallada (sin tenerlas en cuenta) las satisface."
   ]
  }
 ],
 "metadata": {
  "kernelspec": {
   "display_name": "Python 3",
   "language": "python",
   "name": "python3"
  },
  "language_info": {
   "codemirror_mode": {
    "name": "ipython",
    "version": 3
   },
   "file_extension": ".py",
   "mimetype": "text/x-python",
   "name": "python",
   "nbconvert_exporter": "python",
   "pygments_lexer": "ipython3",
   "version": "3.10.6"
  },
  "orig_nbformat": 4
 },
 "nbformat": 4,
 "nbformat_minor": 2
}
