{
 "cells": [
  {
   "attachments": {},
   "cell_type": "markdown",
   "metadata": {},
   "source": [
    "# 9.3.5 Ejercicios de clasificadores naive Bayes"
   ]
  },
  {
   "attachments": {},
   "cell_type": "markdown",
   "metadata": {},
   "source": [
    "**Ejercicio 1:** El clasificador naive Bayes Bernoulli asume que las funciones de probabilidad condicionales de las clases cumplen la asunción naive Bayes,\n",
    "$$p(\\boldsymbol{x}\\mid y=c,\\boldsymbol{\\theta})=\\prod_{d=1}^D \\operatorname{Ber}(x_d\\mid\\theta_{dc})$$\n",
    "donde $x_d\\in\\{0,1\\}$ y $\\theta_{dc}$ es la probabilidad de que $x_d=1$ en la clase $c$. Supón que $\\;C=2$, $\\;p(y=1)=p(y=2)=0.5$, $\\;D=2$, y\n",
    "$\\;\\boldsymbol{\\theta}=[\\boldsymbol{\\theta}_1;\\boldsymbol{\\theta}_2]$ con $\\;\\boldsymbol{\\theta}_1=(0.7, 0.3)^t$ y $\\;\\boldsymbol{\\theta}_2=(0.2, 0.8)^t$. Determina la probabilidad a posteriori de que la muestra $\\;\\boldsymbol{x}=(1,1)^t$ pertenezca a la clase $1$."
   ]
  },
  {
   "attachments": {},
   "cell_type": "markdown",
   "metadata": {},
   "source": [
    "**Solución:**\n",
    "\n",
    "$$\\begin{align*}\n",
    "p(\\boldsymbol{x}\\mid y=1;\\boldsymbol{\\theta})%\n",
    "&=\\operatorname{Ber}(x_1\\mid 0.7)\\,\\operatorname{Ber}(x_2\\mid 0.3)=0.7\\cdot 0.2=0.14\\\\%\n",
    "p(\\boldsymbol{x}\\mid y=2;\\boldsymbol{\\theta})%\n",
    "&=\\operatorname{Ber}(x_1\\mid 0.2)\\,\\operatorname{Ber}(x_2\\mid 0.8)=0.3\\cdot 0.8=0.24\\\\%\n",
    "p(y=1\\mid\\boldsymbol{x};\\boldsymbol{\\theta})%\n",
    "&=\\frac{p(\\boldsymbol{x}\\mid y=1;\\boldsymbol{\\theta})}\n",
    "{p(\\boldsymbol{x}\\mid y=1;\\boldsymbol{\\theta})+p(\\boldsymbol{x}\\mid y=2;\\boldsymbol{\\theta})}%\n",
    "&&(\\text{priors equiprobables})\\\\%\n",
    "&=\\frac{0.14}{0.14+0.24}=36.8\\%\n",
    "\\end{align*}$$"
   ]
  }
 ],
 "metadata": {
  "kernelspec": {
   "display_name": "Python 3",
   "language": "python",
   "name": "python3"
  },
  "language_info": {
   "codemirror_mode": {
    "name": "ipython",
    "version": 3
   },
   "file_extension": ".py",
   "mimetype": "text/x-python",
   "name": "python",
   "nbconvert_exporter": "python",
   "pygments_lexer": "ipython3",
   "version": "3.10.6"
  },
  "orig_nbformat": 4,
  "vscode": {
   "interpreter": {
    "hash": "e7370f93d1d0cde622a1f8e1c04877d8463912d04d973331ad4851f04de6915a"
   }
  }
 },
 "nbformat": 4,
 "nbformat_minor": 2
}
