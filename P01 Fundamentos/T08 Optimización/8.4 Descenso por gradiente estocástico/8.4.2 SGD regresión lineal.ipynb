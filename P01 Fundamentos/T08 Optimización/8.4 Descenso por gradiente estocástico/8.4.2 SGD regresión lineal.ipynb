{
 "cells": [
  {
   "cell_type": "markdown",
   "metadata": {},
   "source": [
    "# 8.4.2 Ejemplo: SGD para ajustar regresión lineal\n",
    "\n",
    "**Objetivo de regresión lineal:**\n",
    "$$\\mathcal{L}(\\boldsymbol{\\theta})%\n",
    "=\\frac{1}{2N}\\sum_{n=1}^N(\\boldsymbol{x}_n^t\\boldsymbol{\\theta}-y_n)^2=\\frac{1}{2N}\\lVert{\\mathbf{X}\\boldsymbol{\\theta}-\\boldsymbol{y}}\\rVert_2^2$$\n",
    "\n",
    "**Gradiente:**\n",
    "$$\\boldsymbol{g}_t=\\frac{1}{N}\\sum_{n=1}^N(\\boldsymbol{\\theta}_t^t\\boldsymbol{x}_n-y_n)\\boldsymbol{x}_n$$\n",
    "\n",
    "**SGD con un minibatch de talla $B=1$:** $\\;$ sea $n$ es el índice de la muestra escogida en la iteración $t$\n",
    "$$\\boldsymbol{\\theta}_{t+1}=\\boldsymbol{\\theta}_t-\\eta_t(\\boldsymbol{\\theta}_t^t\\boldsymbol{x}_n-y_n)\\boldsymbol{x}_n$$\n",
    "\n",
    "**Mínimos cuadrados (LMS, least mean squares), regla delta o Widrow-Hoff:** $\\;$ algoritmo completo\n",
    "\n",
    "**Ejemplo:** $\\;$ empezamos en $\\boldsymbol{\\theta}_0=(-0.5,2)$ y SGD converge en unas 26 iteraciones ($\\lVert{\\boldsymbol{\\theta}_{26}-\\boldsymbol{\\theta}_{25}}\\rVert_2^2<0.01$)\n",
    "\n",
    "<div><table border-collapse: collapse><tr>\n",
    "<td style=\"border: none; text-align:center; vertical-align:top; padding:0; margin:0;\" width=500>\n",
    "\n",
    "<center><img src=\"lmsTraj.png\" height=400></center>\n",
    "\n",
    "</td>\n",
    "<td style=\"border: none; text-align:center; vertical-align:top; padding:0; margin:0;\" width=500>\n",
    "\n",
    "<center><img src=\"lmsRssHist.png\" height=400></center>\n",
    "\n",
    "</td></tr></table></div>"
   ]
  }
 ],
 "metadata": {
  "language_info": {
   "name": "python"
  },
  "orig_nbformat": 4
 },
 "nbformat": 4,
 "nbformat_minor": 2
}
