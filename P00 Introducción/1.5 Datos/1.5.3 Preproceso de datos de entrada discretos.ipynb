{
 "cells": [
  {
   "attachments": {},
   "cell_type": "markdown",
   "metadata": {},
   "source": [
    "# 1.5.3 Preproceso de datos de entrada discretos"
   ]
  },
  {
   "attachments": {},
   "cell_type": "markdown",
   "metadata": {},
   "source": [
    "## Codificación one-hot\n",
    "\n",
    "**Codificación one-hot o dummy (ficticia):** $\\;$ de una variable categórica $x$ que puede tomar $K$ valores\n",
    "$$\\operatorname{one-hot}(x)=[\\mathbb{I}(x=1),\\dotsc,\\mathbb{I}(x=K)]$$"
   ]
  },
  {
   "attachments": {},
   "cell_type": "markdown",
   "metadata": {},
   "source": [
    "**Ejemplo:** si $x$ puede valer R, G o B\n",
    "$$\\begin{align*}\n",
    "\\operatorname{one-hot}(R)&=[1, 0, 0]\\\\%\n",
    "\\operatorname{one-hot}(G)&=[0, 1, 0]\\\\%\n",
    "\\operatorname{one-hot}(B)&=[0, 0, 1]%\n",
    "\\end{align*}$$"
   ]
  },
  {
   "attachments": {},
   "cell_type": "markdown",
   "metadata": {},
   "source": [
    "## Cruce de variables\n",
    "\n",
    "**Limitaciones de las codificaciones one-hot:** $\\;$ si se tiene un modelo lineal para múltiples variables categóricas de entrada, las codificaciones one-hot permite capturar los efectos principales de cada variable, pero no los de interacción entre ellas\n",
    "\n",
    "**Cruces de variables (feature crosses):** $\\;$ si se tiene un modelo lineal para múltiples variables categóricas de entrada, facilitan la captura de interacciones entre las variables de entrada mediante la introducción de nuevas variables que las cruzan"
   ]
  },
  {
   "attachments": {},
   "cell_type": "markdown",
   "metadata": {},
   "source": [
    "**Ejemplo:** $\\;$ eficiencia de un vehículo con dos variables más una tercera que las cruza\n",
    "$$\\begin{align*}\n",
    "x_1\\in\\{S, T, F\\}:&\\;\\text{tipo; SUV, Truck o Family car}\\\\%\n",
    "x_2\\in\\{U, J\\}:&\\;\\text{origen; USA o Japón}\\\\%\n",
    "x_3\\in\\{S, T, F\\}\\times\\{U, J\\}:&\\;\\text{cruce de $x_1$ y $x_2$}%\n",
    "\\end{align*}$$"
   ]
  }
 ],
 "metadata": {
  "kernelspec": {
   "display_name": "Python 3",
   "language": "python",
   "name": "python3"
  },
  "language_info": {
   "codemirror_mode": {
    "name": "ipython",
    "version": 3
   },
   "file_extension": ".py",
   "mimetype": "text/x-python",
   "name": "python",
   "nbconvert_exporter": "python",
   "pygments_lexer": "ipython3",
   "version": "3.10.6"
  },
  "orig_nbformat": 4,
  "vscode": {
   "interpreter": {
    "hash": "e7370f93d1d0cde622a1f8e1c04877d8463912d04d973331ad4851f04de6915a"
   }
  }
 },
 "nbformat": 4,
 "nbformat_minor": 2
}
