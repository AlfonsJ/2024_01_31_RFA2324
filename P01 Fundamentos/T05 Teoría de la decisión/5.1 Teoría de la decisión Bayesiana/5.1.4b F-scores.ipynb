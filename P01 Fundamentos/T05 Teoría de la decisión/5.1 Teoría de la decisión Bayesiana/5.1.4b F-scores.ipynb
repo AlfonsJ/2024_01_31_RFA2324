{
 "cells": [
  {
   "attachments": {},
   "cell_type": "markdown",
   "metadata": {},
   "source": [
    "# F-scores\n",
    "\n",
    "Sean $\\mathcal{P}$ y $\\mathcal{R}$ la precisión y cobertura obtenidas para un $\\tau$ dado en una curva PR. En muchas tareas NLP como recuperación de información se suelen usar criterios para medir la calidad de $\\mathcal{P}$ y $\\mathcal{R}$ combinadas, facilitando así la comparación de pares precisión-cobertura. Un criterio obvio es la media aritmética, $(\\mathcal{P}+\\mathcal{R})/2$, pero no se considera adecuado pues tiende a sobrevalorar la cobertura cuando, como suele ocurrir, la prevalencia (fracción de positivos) es muy baja. El **F-score,** $F_{\\beta}$ con $\\beta>0$, es el criterio más popular para combinar $\\mathcal{P}$ y $\\mathcal{R}$:\n",
    "$$F_{\\beta}=(1+\\beta^2)\\,\\frac{\\mathcal{P}\\,\\mathcal{R}}{\\beta^2\\mathcal{P}+\\mathcal{R}}%\n",
    "\\qquad\\text{o}\\qquad%\n",
    "\\frac{1}{F_{\\beta}}=\\frac{1}{1+\\beta^2}\\,\\frac{1}{\\mathcal{P}}+\\frac{\\beta^2}{1+\\beta^2}\\,\\frac{1}{\\mathcal{R}}$$\n",
    "La $\\beta$ del F-score juega un papel muy importante ya que este criterio se derivó para medir la calidad de la recuperación con respecto a un usuario que da $\\beta$ veces más importancia a la cobertura que a la precisión. El caso $\\beta=1$ es muy popular; en este caso $F_1$ es la **media armónica** de $\\mathcal{P}$ y $\\mathcal{R}$:\n",
    "$$F_1=2\\,\\frac{\\mathcal{P}\\,\\mathcal{R}}{\\mathcal{P}+\\mathcal{R}}%\n",
    "=\\frac{2}{\\frac{1}{\\mathcal{R}}+\\frac{1}{\\mathcal{P}}}$$\n",
    "Otros valores usuales de $\\beta$ son $2$, que da el doble de importancia a la cobertura, y $0.5$, que da el doble de importancia a la precisión.\n",
    "\n"
   ]
  }
 ],
 "metadata": {
  "language_info": {
   "name": "python"
  },
  "orig_nbformat": 4
 },
 "nbformat": 4,
 "nbformat_minor": 2
}
