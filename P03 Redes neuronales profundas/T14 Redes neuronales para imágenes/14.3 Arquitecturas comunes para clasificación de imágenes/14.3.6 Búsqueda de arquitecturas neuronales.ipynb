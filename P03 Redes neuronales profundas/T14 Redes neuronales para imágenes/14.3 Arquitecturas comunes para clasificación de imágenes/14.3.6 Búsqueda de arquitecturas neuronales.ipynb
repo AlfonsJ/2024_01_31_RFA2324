{
 "cells": [
  {
   "cell_type": "markdown",
   "metadata": {},
   "source": [
    "# 14.3.6 Búsqueda de arquitecturas neuronales\n",
    "\n",
    "**Auto-ML o, para redes, neural architecture search (NAS):** $\\;$ exploración de modelos mediante optimización caja-negra [(github)](https://github.com/topics/automl?o=desc&s=updated)\n",
    "\n",
    "**SOTA en ImageNet:** $\\;$ [(paperswithcode)](https://paperswithcode.com/sota/image-classification-on-imagenet)"
   ]
  }
 ],
 "metadata": {
  "kernelspec": {
   "display_name": "Python 3",
   "language": "python",
   "name": "python3"
  },
  "language_info": {
   "codemirror_mode": {
    "name": "ipython",
    "version": 3
   },
   "file_extension": ".py",
   "mimetype": "text/x-python",
   "name": "python",
   "nbconvert_exporter": "python",
   "pygments_lexer": "ipython3",
   "version": "3.11.4"
  },
  "orig_nbformat": 4
 },
 "nbformat": 4,
 "nbformat_minor": 2
}
