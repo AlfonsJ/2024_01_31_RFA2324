{
 "cells": [
  {
   "attachments": {},
   "cell_type": "markdown",
   "metadata": {},
   "source": [
    "# Introducción"
   ]
  },
  {
   "attachments": {},
   "cell_type": "markdown",
   "metadata": {},
   "source": [
    "**Expansión de funciones base:** $\\;$ flexibilizamos modelos lineales reemplazando la entrada $\\boldsymbol{x}$ con funciones base $\\boldsymbol{\\phi}(\\boldsymbol{x})$\n",
    "$$f(\\boldsymbol{x};\\boldsymbol{\\theta})=\\mathbf{W}\\boldsymbol{\\phi}(\\boldsymbol{x})+\\boldsymbol{b}%\n",
    "\\quad\\text{donde}\\quad%\n",
    "\\boldsymbol{\\theta}=(\\mathbf{W},\\boldsymbol{b})$$\n",
    "\n",
    "**Parametrización del extractor de características:** $\\;$ no lo fijamos a mano; lo parametrizamos con su propio $\\boldsymbol{\\theta}_2$ (a aprender)\n",
    "$$f(\\boldsymbol{x};\\boldsymbol{\\theta})=\\mathbf{W}\\boldsymbol{\\phi}(\\boldsymbol{x};\\boldsymbol{\\theta}_2)+\\boldsymbol{b}%\n",
    "\\quad\\text{donde}\\quad%\n",
    "\\boldsymbol{\\theta}=(\\boldsymbol{\\theta}_1,\\boldsymbol{\\theta}_2)%\n",
    "\\quad\\text{y}\\quad%\n",
    "\\boldsymbol{\\theta}_1=(\\mathbf{W},\\boldsymbol{b})$$\n",
    "\n",
    "**Feedforward neural network (FFNN) o multilayer perceptron (MLP):** $\\;$ compone $L$ funciones o capas $f_{\\ell}(\\boldsymbol{x};\\boldsymbol{\\theta}_{\\ell})$ análogamente\n",
    "$$f(\\boldsymbol{x};\\boldsymbol{\\theta})=f_L(f_{L-1}(\\cdots f_1(\\boldsymbol{x})\\cdots))$$\n",
    "\n",
    "**Asunción de datos tabulados en un MLP:** $\\;\\boldsymbol{x}\\in\\mathbb{R}^D$\n",
    "\n",
    "**Deep neural network (DNN):** $\\;$ generalización de MLP a grafo dirigido acíclico que compone funciones diferenciables para transformar una entrada estructurada o no (imagen, secuencia o grafo) en una salida"
   ]
  }
 ],
 "metadata": {
  "kernelspec": {
   "display_name": "Python 3",
   "language": "python",
   "name": "python3"
  },
  "language_info": {
   "codemirror_mode": {
    "name": "ipython",
    "version": 3
   },
   "file_extension": ".py",
   "mimetype": "text/x-python",
   "name": "python",
   "nbconvert_exporter": "python",
   "pygments_lexer": "ipython3",
   "version": "3.10.6"
  },
  "orig_nbformat": 4,
  "vscode": {
   "interpreter": {
    "hash": "e7370f93d1d0cde622a1f8e1c04877d8463912d04d973331ad4851f04de6915a"
   }
  }
 },
 "nbformat": 4,
 "nbformat_minor": 2
}
