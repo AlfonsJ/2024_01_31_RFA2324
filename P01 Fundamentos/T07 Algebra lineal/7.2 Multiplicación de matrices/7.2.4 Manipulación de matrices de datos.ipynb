{
 "cells": [
  {
   "attachments": {},
   "cell_type": "markdown",
   "metadata": {},
   "source": [
    "# Manipulación de matrices de datos\n",
    "\n",
    "Sea $\\mathbf{X}\\in\\mathbb{R}^{N\\times D}$ una matriz de $N$ datos $D$-dimensionales. "
   ]
  },
  {
   "cell_type": "code",
   "execution_count": 1,
   "metadata": {},
   "outputs": [
    {
     "data": {
      "image/png": "[encoded data removed]",
      "text/plain": [
       "<Figure size 432x288 with 1 Axes>"
      ]
     },
     "metadata": {
      "needs_background": "light"
     },
     "output_type": "display_data"
    }
   ],
   "source": [
    "import numpy as np\n",
    "import matplotlib.pyplot as plt\n",
    "X = np.array([ [-1, -1], [0, 2], [2, 0], [3, 3] ]).astype(float)\n",
    "m = np.mean(X, axis=0)\n",
    "fig, ax = plt.subplots(); ax.set_aspect(\"equal\"); plt.grid(True)\n",
    "plt.axis([-2, 4, -2, 4]); plt.xticks(fontsize=16); plt.yticks(fontsize=16)\n",
    "plt.scatter(m[0], m[1], facecolor='C0', edgecolor='k', s=100, marker=\"X\")\n",
    "plt.scatter(X[:,0], X[:,1], facecolor='C0', edgecolor='k', s=100);"
   ]
  },
  {
   "attachments": {},
   "cell_type": "markdown",
   "metadata": {},
   "source": [
    "## Suma de trozos de la matriz\n",
    "\n",
    "**Suma de filas:** $\\;\\boldsymbol{1}_N^t\\mathbf{X}=(\\sum\\nolimits_n x_{n1},\\;\\cdots\\;,\\sum\\nolimits_nx_{nD})$\n",
    "\n",
    "**Media de los datos:** $\\;\\bar{\\boldsymbol{x}}^t=\\frac{1}{N}\\boldsymbol{1}_N^t\\mathbf{X}$\n",
    "\n",
    "**Suma de columnas:** $\\;\\mathbf{X}\\boldsymbol{1}_D=\\begin{pmatrix}\\sum_dx_{1d}\\\\\\vdots\\\\\\sum_dx_{Nd}\\end{pmatrix}$\n",
    "\n",
    "**Suma de todas las entradas:** $\\;\\boldsymbol{1}_N^t\\mathbf{X}\\boldsymbol{1}_D=\\sum\\nolimits_{ij}x_{ij}$\n",
    "\n",
    "**Media global de los datos:** $\\;\\bar{x}=\\frac{1}{ND}\\boldsymbol{1}_N^t\\mathbf{X}\\boldsymbol{1}_D$"
   ]
  },
  {
   "cell_type": "code",
   "execution_count": 2,
   "metadata": {},
   "outputs": [
    {
     "name": "stdout",
     "output_type": "stream",
     "text": [
      "Suma de filas:  [4. 4.] [4. 4.]\n",
      "Media de los datos:  [1. 1.] [1. 1.]\n",
      "Suma de columnas:  [-2.  2.  2.  6.] [-2.  2.  2.  6.]\n",
      "Suma de todas las entradas:  8.0 8.0\n",
      "Media global de los datos:  1.0 1.0\n"
     ]
    }
   ],
   "source": [
    "import numpy as np\n",
    "X = np.array([ [-1, -1], [0, 2], [2, 0], [3, 3] ]).astype(float)\n",
    "N, D = X.shape\n",
    "print(\"Suma de filas: \", np.ones(N) @ X, np.sum(X, axis=0))\n",
    "print(\"Media de los datos: \", 1/N * np.ones(N) @ X, np.mean(X, axis=0))\n",
    "print(\"Suma de columnas: \", X @ np.ones(D), np.sum(X, axis=1))\n",
    "print(\"Suma de todas las entradas: \", np.ones(N) @ X @ np.ones(D), np.sum(X))\n",
    "print(\"Media global de los datos: \", 1/(N*D) * np.ones(N) @ X @ np.ones(D), np.mean(X))"
   ]
  }
 ],
 "metadata": {
  "kernelspec": {
   "display_name": "Python 3",
   "language": "python",
   "name": "python3"
  },
  "language_info": {
   "codemirror_mode": {
    "name": "ipython",
    "version": 3
   },
   "file_extension": ".py",
   "mimetype": "text/x-python",
   "name": "python",
   "nbconvert_exporter": "python",
   "pygments_lexer": "ipython3",
   "version": "3.10.6"
  },
  "orig_nbformat": 4
 },
 "nbformat": 4,
 "nbformat_minor": 2
}
