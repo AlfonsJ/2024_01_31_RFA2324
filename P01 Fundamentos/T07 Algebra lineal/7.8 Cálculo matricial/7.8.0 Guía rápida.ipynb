{
 "cells": [
  {
   "cell_type": "markdown",
   "metadata": {},
   "source": [
    "# 7.8.0 Guía rápida\n",
    "\n",
    "**Cálculo vectorial:** $\\;$ análisis real multivariable de vectores en dos o más dimensiones\n",
    "\n",
    "**Cálculo matricial:** $\\;$ notación especializada que usamos para manejar derivadas parciales de una única función con respecto a muchas variables, o de una función multivariable con respecto a una única variable\n",
    "\n",
    "**Tipos de derivadas matriciales:** $\\;$\n",
    "\n",
    "<center>\n",
    "\n",
    "|Tipos|Escalar|Vector|Matriz|\n",
    "|:-|:-:|:-:|:-:|\n",
    "|**Escalar**|$\\dfrac{\\partial y}{\\partial x}$|$\\dfrac{\\partial\\boldsymbol{y}}{\\partial x}=\\begin{bmatrix}\\dfrac{\\partial y_1}{\\partial x}\\end{bmatrix}$|$\\dfrac{\\partial\\mathbf{Y}}{\\partial x}$|\n",
    "|**Vector**|$\\dfrac{\\partial y}{\\partial\\boldsymbol{x}}$|$\\dfrac{\\partial\\boldsymbol{y}}{\\partial\\boldsymbol{x}}$||\n",
    "|**Matriz**|$\\dfrac{\\partial y}{\\partial\\boldsymbol{x}}$|||\n",
    "\n",
    "</center>\n"
   ]
  },
  {
   "cell_type": "markdown",
   "metadata": {},
   "source": [
    "\n",
    "Ver entrada sobre [cálculo matricial en Wikipedia](https://en.wikipedia.org/wiki/Matrix_calculus) para más detalles"
   ]
  }
 ],
 "metadata": {
  "language_info": {
   "name": "python"
  },
  "orig_nbformat": 4
 },
 "nbformat": 4,
 "nbformat_minor": 2
}
