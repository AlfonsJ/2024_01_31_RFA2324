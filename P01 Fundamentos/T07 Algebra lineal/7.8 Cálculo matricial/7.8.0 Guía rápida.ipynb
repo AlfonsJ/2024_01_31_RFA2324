{
 "cells": [
  {
   "cell_type": "markdown",
   "metadata": {},
   "source": [
    "# 7.8.0 Guía rápida\n",
    "\n",
    "**Cálculo vectorial:** $\\;$ análisis real multivariable de vectores en dos o más dimensiones\n",
    "\n",
    "**Cálculo matricial:** $\\;$ notación especializada para manejar derivadas parciales de una única función con respecto a muchas variables, o de una función multivariable con respecto a una única variable\n",
    "\n",
    "**Referencia:** $\\;$ [cálculo matricial en Wikipedia](https://en.wikipedia.org/wiki/Matrix_calculus)"
   ]
  },
  {
   "cell_type": "markdown",
   "metadata": {},
   "source": [
    "## Formatos de las derivadas matriciales\n",
    "\n",
    "**Numerador o Jacobiana:** $\\;$ primero el formato del numerador y luego el del denominador transpuesto, **si puede acodomarse en una matriz**\n",
    "\n",
    "<center>\n",
    "\n",
    "|Tipos|Escalar $\\,y\\in\\mathbb{R}^{1\\times 1}$|Vector $\\,\\boldsymbol{y}\\in\\mathbb{R}^{m\\times 1}$|Matriz $\\,\\mathbf{Y}\\in\\mathbb{R}^{m\\times n}$|\n",
    "|:-|:-:|:-:|:-:|\n",
    "|$x\\in\\mathbb{R}^{1\\times 1}$|$\\dfrac{\\partial y}{\\partial x}$|$\\dfrac{\\partial\\boldsymbol{y}}{\\partial x}=\\begin{bmatrix}\\dfrac{\\partial y_1}{\\partial x}\\\\[1mm]\\vdots\\\\\\dfrac{\\partial y_m}{\\partial x}\\end{bmatrix}$|$\\dfrac{\\partial\\mathbf{Y}}{\\partial x}=\\begin{bmatrix}\\dfrac{\\partial y_{11}}{\\partial x}&\\cdots&\\dfrac{\\partial y_{1n}}{\\partial x}\\\\[1mm]\\vdots&\\ddots&\\vdots\\\\\\dfrac{\\partial y_{m1}}{\\partial x}&\\cdots&\\dfrac{\\partial y_{mn}}{\\partial x}\\end{bmatrix}$|\n",
    "|$\\boldsymbol{x}\\in\\mathbb{R}^{n\\times 1}$|$\\dfrac{\\partial y}{\\partial\\boldsymbol{x}}=\\begin{bmatrix}\\dfrac{\\partial y}{\\partial x_1}&\\cdots&\\dfrac{\\partial y}{\\partial x_n}\\end{bmatrix}$|$\\dfrac{\\partial\\boldsymbol{y}}{\\partial\\boldsymbol{x}}=\\begin{bmatrix}\\dfrac{\\partial y_1}{\\partial\\boldsymbol{x}}\\\\[1mm]\\vdots\\\\\\dfrac{\\partial y_m}{\\partial\\boldsymbol{x}}\\end{bmatrix}=\\begin{bmatrix}\\dfrac{\\partial y_1}{\\partial x_1}&\\cdots&\\dfrac{\\partial y_1}{\\partial x_n}\\\\[1mm]\\vdots&\\ddots&\\vdots\\\\\\dfrac{\\partial y_m}{\\partial x_1}&\\cdots&\\dfrac{\\partial y_m}{\\partial x_n}\\end{bmatrix}$|$\\dfrac{\\partial\\mathbf{Y}}{\\partial\\boldsymbol{x}}=\\begin{bmatrix}\\dfrac{\\partial y_{11}}{\\partial\\boldsymbol{x}}&\\cdots&\\dfrac{\\partial y_{1n}}{\\partial\\boldsymbol{x}}\\\\[1mm]\\vdots&\\ddots&\\vdots\\\\\\dfrac{\\partial y_{m1}}{\\partial\\boldsymbol{x}}&\\cdots&\\dfrac{\\partial y_{mn}}{\\partial\\boldsymbol{x}}\\end{bmatrix}$ tensor|\n",
    "|$\\mathbf{X}\\in\\mathbb{R}^{p\\times q}$|$\\dfrac{\\partial y}{\\partial\\mathbf{X}}=\\begin{bmatrix}\\dfrac{\\partial y}{\\partial x_{11}}&\\cdots&\\dfrac{\\partial y}{\\partial x_{p1}}\\\\[1mm]\\vdots&\\ddots&\\vdots\\\\\\dfrac{\\partial y}{\\partial x_{1q}}&\\cdots&\\dfrac{\\partial y}{\\partial x_{pq}}\\end{bmatrix}$|$\\dfrac{\\partial\\boldsymbol{y}}{\\partial\\mathbf{X}}=\\begin{bmatrix}\\dfrac{\\partial y_1}{\\partial\\mathbf{X}}\\\\[1mm]\\vdots\\\\\\dfrac{\\partial y_m}{\\partial\\mathbf{X}}\\end{bmatrix}$ tensor|$\\dfrac{\\partial\\mathbf{Y}}{\\partial\\mathbf{X}}=\\begin{bmatrix}\\dfrac{\\partial y_{11}}{\\partial\\mathbf{X}}&\\cdots&\\dfrac{\\partial y_{1n}}{\\partial\\mathbf{X}}\\\\[1mm]\\vdots&\\ddots&\\vdots\\\\\\dfrac{\\partial y_{m1}}{\\partial\\mathbf{X}}&\\cdots&\\dfrac{\\partial y_{mn}}{\\partial\\mathbf{X}}\\end{bmatrix}$ tensor|\n",
    "\n",
    "</center>\n",
    "\n",
    "**Denominador, gradiente o Hessiana:** $\\;$ primero el formato del denominador y luego el del numerador transpuesto, si puede acodomarse en una matriz\n",
    "* El resultado es el mismo que en formato numerador, aunque transpuesto\n",
    "\n",
    "**Origen de los dos formatos:** $\\;$ se halla, sobre todo, en el formato que se da a $\\;\\dfrac{\\partial\\boldsymbol{y}}{\\partial\\boldsymbol{x}}$\n",
    "\n",
    "**Formato mixto:** $\\;$ consiste en escribir $\\;\\dfrac{\\partial\\boldsymbol{y}}{\\partial\\boldsymbol{x}^t}\\;$ y seguir el formato numerador"
   ]
  },
  {
   "cell_type": "markdown",
   "metadata": {},
   "source": [
    "## Identidades para escalares\n",
    "\n",
    "**Notación:** $\\;x\\in\\mathbb{R}^{1\\times 1},\\,$ $\\boldsymbol{x}\\in\\mathbb{R}^{n\\times 1}\\,$ y $\\,\\mathbf{X}\\in\\mathbb{R}^{p\\times q};\\;$ $a$ constante; $\\;u$ y $v$ funciones (escalares, vectoriales o matriciales)\n",
    "\n",
    "<center>\n",
    "\n",
    "|$y\\in\\mathbb{R}^{1\\times 1}$|$\\dfrac{\\partial y}{\\partial x}\\in\\mathbb{R}^{1\\times 1}$|$\\dfrac{\\partial y}{\\partial\\boldsymbol{x}}\\in\\mathbb{R}^{1\\times n}$|$\\dfrac{\\partial y}{\\partial\\mathbf{X}}\\in\\mathbb{R}^{q\\times p}$|\n",
    "|:-:|:-:|:-:|:-:|\n",
    "|$a$|$0$|$\\boldsymbol{0}$|$\\mathbf{0}$|\n",
    "|$au$|$a\\dfrac{\\partial u}{\\partial x}$|$a\\dfrac{\\partial u}{\\partial\\boldsymbol{x}}$|$a\\dfrac{\\partial u}{\\partial\\mathbf{X}}$|\n",
    "|$u+v$|$\\dfrac{\\partial u}{\\partial x}+\\dfrac{\\partial v}{\\partial x}$|$\\dfrac{\\partial u}{\\partial\\boldsymbol{x}}+\\dfrac{\\partial v}{\\partial\\boldsymbol{x}}$|$\\dfrac{\\partial u}{\\partial\\mathbf{X}}+\\dfrac{\\partial v}{\\partial\\mathbf{X}}$|\n",
    "|$uv$|$u\\dfrac{\\partial v}{\\partial x}+v\\dfrac{\\partial u}{\\partial x}$|$u\\dfrac{\\partial v}{\\partial\\boldsymbol{x}}+v\\dfrac{\\partial u}{\\partial\\boldsymbol{x}}$|$u\\dfrac{\\partial v}{\\partial\\mathbf{X}}+v\\dfrac{\\partial u}{\\partial\\mathbf{X}}$|\n",
    "|$g(u)$|$\\dfrac{\\partial g(u)}{\\partial u}\\dfrac{\\partial u}{\\partial x}$|$\\dfrac{\\partial g(u)}{\\partial u}\\dfrac{\\partial u}{\\partial\\boldsymbol{x}}$|$\\dfrac{\\partial g(u)}{\\partial u}\\dfrac{\\partial u}{\\partial\\mathbf{X}}$|\n",
    "|$f(g(u))$|$\\dfrac{\\partial f(g)}{\\partial g}\\dfrac{\\partial g(u)}{\\partial u}\\dfrac{\\partial u}{\\partial x}$|$\\dfrac{\\partial f(g)}{\\partial g}\\dfrac{\\partial g(u)}{\\partial u}\\dfrac{\\partial u}{\\partial\\boldsymbol{x}}$|$\\dfrac{\\partial f(g)}{\\partial g}\\dfrac{\\partial g(u)}{\\partial u}\\dfrac{\\partial u}{\\partial\\mathbf{X}}$|\n",
    "\n",
    "</center>"
   ]
  }
 ],
 "metadata": {
  "language_info": {
   "name": "python"
  },
  "orig_nbformat": 4
 },
 "nbformat": 4,
 "nbformat_minor": 2
}
