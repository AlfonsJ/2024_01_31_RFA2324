{
 "cells": [
  {
   "attachments": {},
   "cell_type": "markdown",
   "metadata": {},
   "source": [
    "# Pérdidas de clasificación\n",
    "\n",
    "**Aproximación básica:** $\\;$ si disponemos de datos etiquetados de C clases, ajustamos un modelo de clasificación con coste temporal $O(NC)$ y reutilizamos caracterı́sticas ocultas como función de embedding\n",
    "\n",
    "**Ventaja:** $\\;$ aproximación sencilla y escalable\n",
    "\n",
    "**Incovenientes:** $\\;$ solo vale para datos etiquetados y embebe ejemplos en el lado correcto de una frontera de decisión, lo que no garantiza que ejemplos similares estén cerca y diferentes lejos"
   ]
  }
 ],
 "metadata": {
  "kernelspec": {
   "display_name": "Python 3",
   "language": "python",
   "name": "python3"
  },
  "language_info": {
   "codemirror_mode": {
    "name": "ipython",
    "version": 3
   },
   "file_extension": ".py",
   "mimetype": "text/x-python",
   "name": "python",
   "nbconvert_exporter": "python",
   "pygments_lexer": "ipython3",
   "version": "3.10.6"
  },
  "orig_nbformat": 4,
  "vscode": {
   "interpreter": {
    "hash": "e7370f93d1d0cde622a1f8e1c04877d8463912d04d973331ad4851f04de6915a"
   }
  }
 },
 "nbformat": 4,
 "nbformat_minor": 2
}
