{
 "cells": [
  {
   "cell_type": "markdown",
   "metadata": {},
   "source": [
    "# 15.5.6 Transformers para imágenes\n",
    "\n",
    "**Vision Transformer (ViT):** $\\;$ para clasificación de imágenes interpretadas como secuencias de trozos de imagen (image patches)\n",
    "* Muy popular actualmente: ver [github de Google](https://github.com/google-research/vision_transformer) y [Transformers de Hugging Face](https://huggingface.co/docs/transformers)\n",
    "<div align=center><img src=\"Figure_15.28.png\" width=800></td></tr></div>"
   ]
  }
 ],
 "metadata": {
  "language_info": {
   "name": "python"
  },
  "orig_nbformat": 4
 },
 "nbformat": 4,
 "nbformat_minor": 2
}
