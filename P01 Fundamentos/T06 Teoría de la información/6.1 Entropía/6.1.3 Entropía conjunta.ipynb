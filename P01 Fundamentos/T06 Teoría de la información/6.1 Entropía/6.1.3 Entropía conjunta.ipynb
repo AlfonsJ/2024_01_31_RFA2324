{
 "cells": [
  {
   "attachments": {},
   "cell_type": "markdown",
   "metadata": {},
   "source": [
    "# Entropía conjunta"
   ]
  },
  {
   "attachments": {},
   "cell_type": "markdown",
   "metadata": {},
   "source": [
    "## Definición\n",
    "\n",
    "La **entropía conjunta** de dos variables aleatorias $X$ e $Y$ es:\n",
    "$$\\mathbb{H}(X,Y)=-\\sum_{x,y}p(x,y)\\log_2p(x,y)$$\n",
    "\n",
    "**Ejemplo:** $X(n)=1$ si $n$ es par, $Y(n)=1$ si $n$ es primo, $n$ de $1$ a $8$\n",
    "$$\\begin{array}{ccccccccc}\n",
    "n&1&2&3&4&5&6&7&8\\\\\\hline%\n",
    "X&0&1&0&1&0&1&0&1\\\\%\n",
    "Y&0&1&1&0&1&0&1&0%\n",
    "\\end{array}$$\n",
    "$$\\begin{array}{c|cc|c}\n",
    "p(X,Y)&Y=0&Y=1&p(Y)\\\\\\hline%\n",
    "X=0&1/8&3/8&1/2\\\\%\n",
    "X=1&3/8&1/8&1/2\\\\\\hline%\n",
    "p(X)&1/2&1/2%\n",
    "\\end{array}$$\n",
    "$$\\begin{align*}\n",
    "\\mathbb{H}(X,Y)%\n",
    "&=-2\\frac{1}{8}\\log_2\\frac{1}{8}-2\\frac{3}{8}\\log_2\\frac{3}{8}\\\\[2mm]%\n",
    "&=-0.25\\,(-3)-0.75\\,(-1.4150)=1.81 ~\\text{bits}%\n",
    "\\end{align*}$$"
   ]
  },
  {
   "attachments": {},
   "cell_type": "markdown",
   "metadata": {},
   "source": [
    "## Cota superior\n",
    "\n",
    "La entropía conjunta está acotada superiormente por la suma de las entropías marginales:\n",
    "$$\\mathbb{H}(X,Y)\\leq \\mathbb{H}(X)+\\mathbb{H}(Y)$$\n",
    "\n",
    "**Ejemplo (cont.):** $\\;1.81 = \\mathbb{H}(X,Y)\\leq \\mathbb{H}(X)+\\mathbb{H}(Y) = 2$\n",
    "\n",
    "Si $X$ e $Y$ son independientes, la entropía conjunta coincide con la suma de las entropías marginales:\n",
    "$$\\mathbb{H}(X,Y)=\\mathbb{H}(X)+\\mathbb{H}(Y)$$"
   ]
  },
  {
   "attachments": {},
   "cell_type": "markdown",
   "metadata": {},
   "source": [
    "## Cota inferior\n",
    "\n",
    "Si $X$ determina $Y$, $\\mathbb{H}(X,Y)=\\mathbb{H}(X)$, por lo que:\n",
    "$$\\mathbb{H}(X,Y)\\geq\\max(\\mathbb{H}(X),\\mathbb{H}(Y))\\geq 0$$\n",
    "\n",
    "Así pues, la combinación de variables no reduce la entropía. Esto es, no podemos reducir la incertidumbre añadiendo más variables al problema; debemos observar más datos."
   ]
  },
  {
   "attachments": {},
   "cell_type": "markdown",
   "metadata": {},
   "source": [
    "## Extensión a más variables\n",
    "\n",
    "La extensión a más variables es inmediata."
   ]
  }
 ],
 "metadata": {
  "kernelspec": {
   "display_name": "Python 3",
   "language": "python",
   "name": "python3"
  },
  "language_info": {
   "name": "python",
   "version": "3.10.6"
  },
  "orig_nbformat": 4
 },
 "nbformat": 4,
 "nbformat_minor": 2
}
