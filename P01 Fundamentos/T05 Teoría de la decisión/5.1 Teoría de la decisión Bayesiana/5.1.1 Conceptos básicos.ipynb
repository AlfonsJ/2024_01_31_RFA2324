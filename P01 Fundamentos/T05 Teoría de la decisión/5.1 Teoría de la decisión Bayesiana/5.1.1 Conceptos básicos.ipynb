{
 "cells": [
  {
   "attachments": {},
   "cell_type": "markdown",
   "metadata": {},
   "source": [
    "# Conceptos básicos\n",
    "\n",
    "Llamamos **inferencia Bayesiana** a la aplicación de la regla de Bayes para actualizar nuestras creencias sobre cantidades oculta $H$ a partir de datos observados $\\mathbf{X}=\\boldsymbol{x}$ mediante el cálculo de la **posterior** $p(H\\mid \\boldsymbol{x})$. La **teoría de la decisión Bayesiana** usa la inferencia para decidir cuál es la mejor de las posibles **acciones** a realizar. Veamos algunos conceptos básicos que introduce esta teoría:\n",
    "* **Agente:** debe escoger una acción de un conjunto $\\mathcal{A}$\n",
    "* **Estado de la naturaleza:** $h\\in\\mathcal{H}$, condiciona los costes y beneficios que se derivan de tomar cada acción posible"
   ]
  }
 ],
 "metadata": {
  "language_info": {
   "name": "python"
  },
  "orig_nbformat": 4
 },
 "nbformat": 4,
 "nbformat_minor": 2
}
