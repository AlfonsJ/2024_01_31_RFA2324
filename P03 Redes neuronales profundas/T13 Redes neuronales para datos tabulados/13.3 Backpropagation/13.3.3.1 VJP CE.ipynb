{
 "cells": [
  {
   "cell_type": "markdown",
   "metadata": {},
   "source": [
    "## 13.3.3.1 Capa de entropía cruzada"
   ]
  },
  {
   "cell_type": "markdown",
   "metadata": {},
   "source": [
    "**Capa de entropía cruzada:** $\\;$ toma logits $\\boldsymbol{x}$ y etiquetas (one-hot) $\\boldsymbol{y}\\in\\{0,1\\}^C$; devuelve un escalar\n",
    "$$z=\\operatorname{CrossEntropy}(\\boldsymbol{y},\\boldsymbol{x})=-\\sum_cy_c\\log p_c%\n",
    "\\qquad\\text{con}\\qquad%\n",
    "p_c=\\mathcal{S}(\\boldsymbol{x})_c=\\dfrac{\\exp(x_c)}{\\sum_{c'}\\exp(x_{c'})}$$\n",
    "\n",
    "**Jacobiana con respecto a $\\boldsymbol{x}$:** $\\quad\\displaystyle\\mathbf{J}=\\frac{\\partial z}{\\partial\\boldsymbol{x}}=(\\boldsymbol{p}-\\boldsymbol{y})^t\\in\\mathbb{R}^{1\\times C}$\n",
    "\n",
    "* Si $\\,\\boldsymbol{y}=\\operatorname{one-hot}(c):\\qquad\\displaystyle z=-\\log(p_c)=-\\log\\biggl[\\frac{\\exp(x_c)}{\\sum_j\\exp(x_j)}\\biggr]=\\log\\biggl[\\sum\\nolimits_j\\exp(x_j)\\biggr]-x_c$\n",
    "\n",
    "* Para todo $i:\\qquad\\displaystyle \\frac{\\partial z}{\\partial x_i}=\\frac{\\partial}{\\partial x_i}\\log\\sum_j\\exp(x_j)-\\frac{\\partial}{\\partial x_i}x_c=\\frac{\\exp(x_i)}{\\sum_j\\exp(x_j)}-\\mathbb{I}(i=c)=p_i-\\mathbb{I}(i=c)$"
   ]
  }
 ],
 "metadata": {
  "kernelspec": {
   "display_name": "Python 3",
   "language": "python",
   "name": "python3"
  },
  "language_info": {
   "codemirror_mode": {
    "name": "ipython",
    "version": 3
   },
   "file_extension": ".py",
   "mimetype": "text/x-python",
   "name": "python",
   "nbconvert_exporter": "python",
   "pygments_lexer": "ipython3",
   "version": "3.10.6"
  },
  "orig_nbformat": 4
 },
 "nbformat": 4,
 "nbformat_minor": 2
}
