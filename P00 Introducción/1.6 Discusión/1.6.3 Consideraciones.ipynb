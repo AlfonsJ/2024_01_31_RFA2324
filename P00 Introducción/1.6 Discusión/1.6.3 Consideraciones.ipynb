{
 "cells": [
  {
   "attachments": {},
   "cell_type": "markdown",
   "metadata": {},
   "source": [
    "# 1.6.3 Consideraciones\n",
    "\n",
    "Llamamos **pirateo de recompensas (reward hacking)** al problema que se plantea cuando, tras entrenar un sistema de ML con una función de recompensa dada, nos damos cuenta que dicha función no incluye varias restricciones o preferencias que debíamos haber especificado. El reward hacking es un ejemplo de un problema mucho mayor que se conoce como el **problema del alineamiento (alignment problem),** esto es, la discrepancia potencial entre lo que pedimos a nuestros algoritmos que optimicen y lo que en realidad queremos que hagan por nosotros. Este problema ha provocado gran preocupación en el contexto de la **ética y seguridad de la IA.** \n",
    "\n",
    "Con el fin de atacar el problema del alineamiento, el **aprendizaje por refuerzo inverso** propone no especificar una función de recompensa explícita; en lugar de ello, el sistema debe inferir la recompensa observando el comportamiento humano. Ahora bien, emular el comportamiento humano también puede conducir a sesgos no deseados.\n",
    "\n",
    "La visión dominante de la IA (ML), según la cual un sistema toma decisiones por su cuenta, sin intervención humana, se cree que conducirá a la **inteligencia artificial general (AGI, artificial general intelligence).** Alternativamente, la IA puede verse como **inteligencia aumentada (augmented intelligence),** esto es, herramientas inteligentes que mantienen el control humano en la toma de decisiones.\n",
    "\n",
    "Desde junio de 2023, el uso de la IA en la UE está regulado por la Ley de Inteligencia Artificial. Esta nueva normativa establece obligaciones para proveedores y usuarios en función del nivel de riesgo de la IA: inaceptable, alto y limitado."
   ]
  }
 ],
 "metadata": {
  "kernelspec": {
   "display_name": "Python 3",
   "language": "python",
   "name": "python3"
  },
  "language_info": {
   "codemirror_mode": {
    "name": "ipython",
    "version": 3
   },
   "file_extension": ".py",
   "mimetype": "text/x-python",
   "name": "python",
   "nbconvert_exporter": "python",
   "pygments_lexer": "ipython3",
   "version": "3.10.6"
  },
  "orig_nbformat": 4,
  "vscode": {
   "interpreter": {
    "hash": "e7370f93d1d0cde622a1f8e1c04877d8463912d04d973331ad4851f04de6915a"
   }
  }
 },
 "nbformat": 4,
 "nbformat_minor": 2
}
