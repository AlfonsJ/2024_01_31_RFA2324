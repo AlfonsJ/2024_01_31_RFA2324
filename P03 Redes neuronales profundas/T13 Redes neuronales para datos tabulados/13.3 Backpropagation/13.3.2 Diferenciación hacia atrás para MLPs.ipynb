{
 "cells": [
  {
   "cell_type": "markdown",
   "metadata": {},
   "source": [
    "# 13.3.2 Diferenciación hacia atrás para MLPs"
   ]
  },
  {
   "cell_type": "markdown",
   "metadata": {},
   "source": [
    "**MLP con una o más capas ocultas:** $\\;$ por ejemplo, con una capa oculta y pérdida cuadrática, $\\,m=1\\,$ y $\\,n=n_1\\geq 1$\n",
    "$$\\mathcal{L}((\\boldsymbol{x}, \\boldsymbol{y}),\\boldsymbol{\\theta})%\n",
    "=\\frac{1}{2}\\lVert\\boldsymbol{y}-\\mathbf{W}_2\\varphi(\\mathbf{W}_1\\boldsymbol{x})\\rVert^2$$\n",
    "\n",
    "**MLP como composición de $K$ capas:** $\\quad\\boldsymbol{f}_k(\\boldsymbol{x},\\boldsymbol{\\theta}_k),\\,\\boldsymbol{\\theta}_k\\in\\mathbb{R}^{D_k},\\,$ denota la función de la capa $k;\\,$ $K=4$ en el ejemplo\n",
    "$$\\begin{align*}\n",
    "\\boldsymbol{x}_2&=\\boldsymbol{f}_1(\\boldsymbol{x},\\boldsymbol{\\theta}_1)=\\mathbf{W}_1\\boldsymbol{x}\\in\\mathbb{R}^{n_2}\\\\%\n",
    "\\boldsymbol{x}_3&=\\boldsymbol{f}_2(\\boldsymbol{x}_2,\\emptyset)=\\varphi(\\boldsymbol{x}_2)\\in\\mathbb{R}^{n_3}\\\\%\n",
    "\\boldsymbol{x}_4&=\\boldsymbol{f}_3(\\boldsymbol{x}_3,\\boldsymbol{\\theta}_3)=\\mathbf{W}_2\\boldsymbol{x}_3\\in\\mathbb{R}^{n_4}\\\\%\n",
    "\\mathcal{L}&=\\boldsymbol{f}_4(\\boldsymbol{x}_4, \\boldsymbol{y})=\\frac{1}{2}\\lVert\\boldsymbol{x}_4-\\boldsymbol{y}\\rVert^2%\n",
    "\\end{align*}$$\n",
    "\n",
    "**Cálculo de gradientes:** $\\quad\\displaystyle\\frac{\\partial\\mathcal{L}}{\\partial\\boldsymbol{\\theta}_k}=(\\nabla_{\\boldsymbol{\\theta}_k}\\mathcal{L})^t\\in\\mathbb{R}^{1\\times D_k}\\;$ a partir de $\\,\\displaystyle\\frac{\\partial\\mathcal{L}}{\\partial\\boldsymbol{x}_K}\\,$ y las Jacobianas $\\,\\displaystyle\\frac{\\partial\\boldsymbol{x}_k}{\\partial\\boldsymbol{x}_{k-1}}=\\mathbf{J}_{\\boldsymbol{f}_{k-1}}(\\boldsymbol{x}_{k-1})\\in\\mathbb{R}^{n_k\\times n_{k-1}}$\n",
    "$$\\begin{align*}\n",
    "\\frac{\\partial\\mathcal{L}}{\\partial\\boldsymbol{\\theta}_3}%\n",
    "&=\\frac{\\partial\\mathcal{L}}{\\partial\\boldsymbol{x}_4}%\n",
    "\\frac{\\partial\\boldsymbol{x}_4}{\\partial\\boldsymbol{\\theta}_3}\\\\%\n",
    "\\frac{\\partial\\mathcal{L}}{\\partial\\boldsymbol{\\theta}_2}%\n",
    "&=\\frac{\\partial\\mathcal{L}}{\\partial\\boldsymbol{x}_4}%\n",
    "\\frac{\\partial\\boldsymbol{x}_4}{\\partial\\boldsymbol{x}_3}%\n",
    "\\frac{\\partial\\boldsymbol{x}_3}{\\partial\\boldsymbol{\\theta}_2}\\\\%\n",
    "\\frac{\\partial\\mathcal{L}}{\\partial\\boldsymbol{\\theta}_1}%\n",
    "&=\\frac{\\partial\\mathcal{L}}{\\partial\\boldsymbol{x}_4}%\n",
    "\\frac{\\partial\\boldsymbol{x}_4}{\\partial\\boldsymbol{x}_3}%\n",
    "\\frac{\\partial\\boldsymbol{x}_3}{\\partial\\boldsymbol{x}_2}%\n",
    "\\frac{\\partial\\boldsymbol{x}_2}{\\partial\\boldsymbol{\\theta}_1}%\n",
    "\\end{align*}$$\n",
    "\n",
    "**Algoritmo backprop:** $\\;$ para un MLP de $K$ capas\n",
    "\n",
    "*   **Paso forward:** $\\quad\\boldsymbol{x}_1=\\boldsymbol{x};\\qquad$**para** $\\;k=1:K:\\quad\\boldsymbol{x}_{k+1}=\\boldsymbol{f}_k(\\boldsymbol{x}_k,\\boldsymbol{\\theta}_k)$\n",
    "\n",
    "*   **Paso backward:** $\\quad\\boldsymbol{u}_{K+1}=\\boldsymbol{1};\\qquad$**para** $\\;k=K:1:\\quad\\boldsymbol{g}_k=\\boldsymbol{u}_{k+1}^t\\dfrac{\\partial\\boldsymbol{f}(\\boldsymbol{x}_k,\\boldsymbol{\\theta}_k)}{\\partial\\boldsymbol{\\theta}_k}\\quad\\boldsymbol{u}_k=\\boldsymbol{u}_{k+1}^t\\dfrac{\\partial\\boldsymbol{f}(\\boldsymbol{x}_k,\\boldsymbol{\\theta}_k)}{\\partial\\boldsymbol{x}_k}$\n",
    "\n",
    "*   **Retorna:** $\\quad\\mathcal{L}=\\boldsymbol{x}_{K+1}$ $\\quad\\boldsymbol{\\nabla}_{\\boldsymbol{x}}\\mathcal{L}=\\boldsymbol{u}_1$ $\\quad\\{\\boldsymbol{\\nabla}_{\\boldsymbol{\\theta}_k}\\mathcal{L}=\\boldsymbol{g}_k:k=1:K\\}$"
   ]
  }
 ],
 "metadata": {
  "kernelspec": {
   "display_name": "Python 3",
   "language": "python",
   "name": "python3"
  },
  "language_info": {
   "codemirror_mode": {
    "name": "ipython",
    "version": 3
   },
   "file_extension": ".py",
   "mimetype": "text/x-python",
   "name": "python",
   "nbconvert_exporter": "python",
   "pygments_lexer": "ipython3",
   "version": "3.11.4"
  },
  "orig_nbformat": 4
 },
 "nbformat": 4,
 "nbformat_minor": 2
}
