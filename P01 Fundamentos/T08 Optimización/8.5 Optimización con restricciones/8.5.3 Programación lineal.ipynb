{
 "cells": [
  {
   "cell_type": "markdown",
   "metadata": {},
   "source": [
    "# 8.5.3 Programación lineal\n",
    "\n",
    "**Forma estándar:** $\\;$ optimización de objetivo y restricciones lineales\n",
    "$$\\min_{\\boldsymbol{\\theta}}\\;\\boldsymbol{c}^t\\boldsymbol{\\theta}\\qquad\\text{sujeto a}\\quad\\mathbf{A}\\boldsymbol{\\theta}\\leq\\boldsymbol{b},\\quad\\boldsymbol{\\theta}\\geq\\boldsymbol{0}$$\n",
    "\n",
    "<div><table border-collapse: collapse><tr>\n",
    "<td style=\"border: none; text-align:left; vertical-align:top; padding:0; margin:0;\" width=500>\n",
    "\n",
    "**Ejemplo:**\n",
    "\n",
    "* La región factible es un poliedro convexo\n",
    "* El objetivo decrece hacia abajo a la derecha\n",
    "* Óptimo en un vértice\n",
    "\n",
    "</td>\n",
    "<td style=\"border: none; text-align:left; vertical-align:top; padding:0; margin:0;\" width=500>\n",
    "\n",
    "<center><img src=\"Figure_8.23.png\" width=500></center>\n",
    "\n",
    "</td></tr></table></div>"
   ]
  },
  {
   "cell_type": "markdown",
   "metadata": {},
   "source": [
    "## El algoritmo simplex\n",
    "\n",
    "**Algoritmo simplex:** $\\;$ resuelve problemas lineales moviéndose de vértice a vértice, siguiendo la arista que mejora más el objetivo\n",
    "\n",
    "* El simplex es muy eficiente en la práctica, si bien su complejidad temporal en el peor de los casos es exponencial con $D$\n",
    "\n",
    "* Se conocen algoritmos polinómicos en el peor de los casos, pero son más lentos que simplex en la práctica\n",
    "\n",
    "* Aplicaciones: $\\;$ en muchos campos; en ML se aplica en regresión lineal robusta y modelos gráficos"
   ]
  }
 ],
 "metadata": {
  "language_info": {
   "name": "python"
  },
  "orig_nbformat": 4
 },
 "nbformat": 4,
 "nbformat_minor": 2
}
