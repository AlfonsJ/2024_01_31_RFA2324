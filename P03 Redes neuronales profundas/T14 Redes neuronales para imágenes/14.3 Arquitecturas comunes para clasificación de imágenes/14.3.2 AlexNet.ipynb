{
 "cells": [
  {
   "cell_type": "markdown",
   "metadata": {},
   "source": [
    "# 14.3.2 AlexNet\n",
    "\n",
    "**AlexNet (2012):** $\\;$ CNN de Alex Krizhevsky para ImageNet con $15.3\\%$ de error en top-5 para 1000 clases\n",
    "<div align=\"center\">\n",
    "<table><tr>\n",
    "<td style=\"border: none;\"><img src=\"LeNetAlexNet.png\" width=800/></td>\n",
    "</tr></table>\n",
    "</div>"
   ]
  }
 ],
 "metadata": {
  "language_info": {
   "name": "python"
  },
  "orig_nbformat": 4
 },
 "nbformat": 4,
 "nbformat_minor": 2
}
