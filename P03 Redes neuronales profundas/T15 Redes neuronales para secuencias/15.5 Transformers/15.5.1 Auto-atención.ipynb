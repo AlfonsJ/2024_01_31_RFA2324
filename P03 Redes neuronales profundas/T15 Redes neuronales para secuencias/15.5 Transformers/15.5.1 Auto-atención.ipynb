{
 "cells": [
  {
   "cell_type": "markdown",
   "metadata": {},
   "source": [
    "# 15.5.1 Auto-atención\n",
    "\n",
    "**Auto-atención en el encoder:** $\\;$ dada un secuencia de tokens $\\boldsymbol{x}_1,\\dotsc,\\boldsymbol{x}_n\\in\\mathbb{R}^d$, auto-atención genera una secuencia de salida de la misma longitud\n",
    "$$\\boldsymbol{y}_i=\\operatorname{Attn}(\\boldsymbol{x}_i,(\\boldsymbol{x}_1,\\boldsymbol{x}_1),\\dotsc,(\\boldsymbol{x}_n,\\boldsymbol{x}_n))$$\n",
    "donde la consulta es $\\boldsymbol{x}_i$, y las claves y valores son todas las entradas (válidas) $\\boldsymbol{x}_1,\\dotsc,\\boldsymbol{x}_n$\n",
    "\n",
    "**Auto-atención en el decoder:** $\\;$ tomamos $\\boldsymbol{x}_i=\\boldsymbol{y}_{i-1}$ y $n=i-1$ para disponer de todas las salidas previamente generadas\n",
    "\n",
    "**Entrenamiento paralelizable:** $\\;$ ya que todas las salidas son conocidas en entrenamiento\n",
    "\n",
    "<div><table border-collapse: collapse><tr>\n",
    "<td style=\"border: none; text-align:left; vertical-align:top; padding:0; margin:0;\" width=500>\n",
    "\n",
    "**Ejemplo:** $\\;$ representación de contexto con auto-atención\n",
    "\n",
    "Se quiere traducir dos frases distintas al francés\n",
    "\n",
    "Resolución de correferencia: $\\;$ para una traducción correcta, se requiere saber si `it` se refiere a `animal` o `street`\n",
    "* Izq.: auto-atención resuelve que se refiere a `animal`\n",
    "* Dcha.: auto-atención resuelve que se refiere a `street`\n",
    "\n",
    "</td>\n",
    "<td style=\"border: none;\"><img src=\"Figure_15.23.png\" width=\"500\"/></td>\n",
    "</tr></table></div>"
   ]
  }
 ],
 "metadata": {
  "language_info": {
   "name": "python"
  },
  "orig_nbformat": 4
 },
 "nbformat": 4,
 "nbformat_minor": 2
}
