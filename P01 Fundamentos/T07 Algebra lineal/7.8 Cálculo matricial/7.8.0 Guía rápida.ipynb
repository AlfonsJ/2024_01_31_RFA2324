{
 "cells": [
  {
   "cell_type": "markdown",
   "metadata": {},
   "source": [
    "# 7.8.0 Guía rápida\n",
    "\n",
    "**Cálculo vectorial:** $\\;$ análisis real multivariable de vectores en dos o más dimensiones\n",
    "\n",
    "**Cálculo matricial:** $\\;$ notación especializada para manejar derivadas parciales de una única función con respecto a muchas variables, o de una función multivariable con respecto a una única variable\n",
    "\n",
    "**Referencia:** $\\;$ [cálculo matricial en Wikipedia](https://en.wikipedia.org/wiki/Matrix_calculus)"
   ]
  },
  {
   "cell_type": "markdown",
   "metadata": {},
   "source": [
    "## Formatos de las derivadas matriciales\n",
    "\n",
    "**Numerador o Jacobiana:** $\\;$ primero el formato del numerador y luego el de la transpuesta del denominador (si podemos acodomar el resultado en una matriz)\n",
    "\n",
    "<center>\n",
    "\n",
    "|Tipos|$y\\in\\mathbb{R}^{1\\times 1}$|$\\boldsymbol{y}\\in\\mathbb{R}^{m\\times 1}$|$\\mathbf{Y}\\in\\mathbb{R}^{m\\times n}$|\n",
    "|:-|:-:|:-:|:-:|\n",
    "|$x\\in\\mathbb{R}^{1\\times 1}$|$\\dfrac{\\partial y}{\\partial x}$|$\\dfrac{\\partial\\boldsymbol{y}}{\\partial x}=\\begin{bmatrix}\\dfrac{\\partial y_1}{\\partial x}\\\\[1mm]\\vdots\\\\\\dfrac{\\partial y_m}{\\partial x}\\end{bmatrix}$|$\\dfrac{\\partial\\mathbf{Y}}{\\partial x}=\\begin{bmatrix}\\dfrac{\\partial y_{11}}{\\partial x}&\\cdots&\\dfrac{\\partial y_{1n}}{\\partial x}\\\\[1mm]\\vdots&\\ddots&\\vdots\\\\\\dfrac{\\partial y_{m1}}{\\partial x}&\\cdots&\\dfrac{\\partial y_{mn}}{\\partial x}\\end{bmatrix}$|\n",
    "|$\\boldsymbol{x}\\in\\mathbb{R}^{n\\times 1}$|$\\dfrac{\\partial y}{\\partial\\boldsymbol{x}}=\\begin{bmatrix}\\dfrac{\\partial y}{\\partial x_1}&\\cdots&\\dfrac{\\partial y}{\\partial x_n}\\end{bmatrix}$|$\\dfrac{\\partial\\boldsymbol{y}}{\\partial\\boldsymbol{x}}=\\begin{bmatrix}\\dfrac{\\partial y_1}{\\partial\\boldsymbol{x}}\\\\[1mm]\\vdots\\\\\\dfrac{\\partial y_m}{\\partial\\boldsymbol{x}}\\end{bmatrix}=\\begin{bmatrix}\\dfrac{\\partial y_1}{\\partial x_1}&\\cdots&\\dfrac{\\partial y_1}{\\partial x_n}\\\\[1mm]\\vdots&\\ddots&\\vdots\\\\\\dfrac{\\partial y_m}{\\partial x_1}&\\cdots&\\dfrac{\\partial y_m}{\\partial x_n}\\end{bmatrix}$|$\\dfrac{\\partial\\mathbf{Y}}{\\partial\\boldsymbol{x}}=\\begin{bmatrix}\\dfrac{\\partial y_{11}}{\\partial\\boldsymbol{x}}&\\cdots&\\dfrac{\\partial y_{1n}}{\\partial\\boldsymbol{x}}\\\\[1mm]\\vdots&\\ddots&\\vdots\\\\\\dfrac{\\partial y_{m1}}{\\partial\\boldsymbol{x}}&\\cdots&\\dfrac{\\partial y_{mn}}{\\partial\\boldsymbol{x}}\\end{bmatrix}=$ tensor|\n",
    "|$\\mathbf{X}\\in\\mathbb{R}^{p\\times q}$|$\\dfrac{\\partial y}{\\partial\\mathbf{X}}=\\begin{bmatrix}\\dfrac{\\partial y}{\\partial x_{11}}&\\cdots&\\dfrac{\\partial y}{\\partial x_{p1}}\\\\[1mm]\\vdots&\\ddots&\\vdots\\\\\\dfrac{\\partial y}{\\partial x_{1q}}&\\cdots&\\dfrac{\\partial y}{\\partial x_{pq}}\\end{bmatrix}$|$\\dfrac{\\partial\\boldsymbol{y}}{\\partial\\mathbf{X}}=\\begin{bmatrix}\\dfrac{\\partial y_1}{\\partial\\mathbf{X}}\\\\[1mm]\\vdots\\\\\\dfrac{\\partial y_m}{\\partial\\mathbf{X}}\\end{bmatrix}=$ tensor|$\\dfrac{\\partial\\mathbf{Y}}{\\partial\\mathbf{X}}=\\begin{bmatrix}\\dfrac{\\partial y_{11}}{\\partial\\mathbf{X}}&\\cdots&\\dfrac{\\partial y_{1n}}{\\partial\\mathbf{X}}\\\\[1mm]\\vdots&\\ddots&\\vdots\\\\\\dfrac{\\partial y_{m1}}{\\partial\\mathbf{X}}&\\cdots&\\dfrac{\\partial y_{mn}}{\\partial\\mathbf{X}}\\end{bmatrix}=$ tensor|\n",
    "\n",
    "</center>\n",
    "\n",
    "**Denominador, gradiente o Hessiana:** $\\;$ primero el formato del denominador y luego el de la transpuesta del numerador (si podemos acodomar el resultado en una matriz); el resultado coincide con la transpuesta del resultado en formato numerador\n",
    "\n",
    "**Mixto:** $\\;$ el origen de los dos formatos básicos se halla, sobre todo, en el formato que se da a $\\;\\dfrac{\\partial\\boldsymbol{y}}{\\partial\\boldsymbol{x}};\\;$ el formato mixto consiste en escribir $\\;\\dfrac{\\partial\\boldsymbol{y}}{\\partial\\boldsymbol{x}^t}\\;$ y seguir el formato numerador"
   ]
  },
  {
   "cell_type": "markdown",
   "metadata": {},
   "source": [
    "## Identidades escalar-por-vector\n",
    "\n",
    "**Notación:** $\\;a$ no depende de $\\boldsymbol{x}$, $\\,u=u(\\boldsymbol{x})$, $\\,v=v(\\boldsymbol{x})$, $\\,\\boldsymbol{u}=\\boldsymbol{u}(\\boldsymbol{x})$, $\\,\\boldsymbol{v}=\\boldsymbol{v}(\\boldsymbol{x})$, $\\,\\mathbf{A}$ no depende de $\\boldsymbol{x}$\n",
    "\n",
    "<center>\n",
    "\n",
    "|$y$|$a$|$au$|$u+v$|$uv$|$g(u)$|$f(g(u))$|$\\boldsymbol{u}^t\\boldsymbol{v}$|$\\boldsymbol{u}^t\\mathbf{A}\\boldsymbol{v}$|\n",
    "|:-:|:-:|:-:|:-:|:-:|:-:|:-:|:-:|:-:|\n",
    "|$\\dfrac{\\partial y}{\\partial\\boldsymbol{x}}$|$\\boldsymbol{0}^t$|$a\\dfrac{\\partial u}{\\partial\\boldsymbol{x}}$|$\\dfrac{\\partial u}{\\partial\\boldsymbol{x}}+\\dfrac{\\partial v}{\\partial\\boldsymbol{x}}$|$u\\dfrac{\\partial v}{\\partial\\boldsymbol{x}}+v\\dfrac{\\partial u}{\\partial\\boldsymbol{x}}$|$\\dfrac{\\partial g(u)}{\\partial u}\\dfrac{\\partial u}{\\partial\\boldsymbol{x}}$|$\\dfrac{\\partial f(g)}{\\partial g}\\dfrac{\\partial g(u)}{\\partial u}\\dfrac{\\partial u}{\\partial\\boldsymbol{x}}$|$\\boldsymbol{u}^t\\dfrac{\\partial\\boldsymbol{v}}{\\partial\\boldsymbol{x}}+\\boldsymbol{v}^t\\dfrac{\\partial\\boldsymbol{u}}{\\partial\\boldsymbol{x}}$|$\\boldsymbol{u}^t\\mathbf{A}\\dfrac{\\partial\\boldsymbol{v}}{\\partial\\boldsymbol{x}}+\\boldsymbol{v}^t\\mathbf{A}^t\\dfrac{\\partial\\boldsymbol{u}}{\\partial\\boldsymbol{x}}$|\n",
    "\n",
    "</center>"
   ]
  }
 ],
 "metadata": {
  "language_info": {
   "name": "python"
  },
  "orig_nbformat": 4
 },
 "nbformat": 4,
 "nbformat_minor": 2
}
