{
 "cells": [
  {
   "cell_type": "markdown",
   "metadata": {},
   "source": [
    "# 13.2.6 La revolución del aprendizaje profundo\n",
    "\n",
    "**Gran popularidad a partir de los 2010:** $\\;$ aunque las ideas básicas tras las DNNs son conocidas durante varias décadas, su gran popularidad llega a partir de los 2010, desde el reconocimiento automático del habla (2011) y la clasificación de imágenes (2012)\n",
    "\n",
    "**GPUs y grandes conjuntos de datos supervisados:** $\\;$ son los principales factores que han contribuido al gran auge de las DNNs\n",
    "\n",
    "**Librerías de código abierto:** $\\;$ las grandes empresas tecnológicas han desarrollado librerías de código abierto que facilitan la aplicación de las DNNs a multitud de problemas; Tensorflow (Google) y PyTorch (Facebook) han sido especialmente populares"
   ]
  }
 ],
 "metadata": {
  "kernelspec": {
   "display_name": "Python 3",
   "language": "python",
   "name": "python3"
  },
  "language_info": {
   "codemirror_mode": {
    "name": "ipython",
    "version": 3
   },
   "file_extension": ".py",
   "mimetype": "text/x-python",
   "name": "python",
   "nbconvert_exporter": "python",
   "pygments_lexer": "ipython3",
   "version": "3.10.6"
  },
  "orig_nbformat": 4
 },
 "nbformat": 4,
 "nbformat_minor": 2
}
