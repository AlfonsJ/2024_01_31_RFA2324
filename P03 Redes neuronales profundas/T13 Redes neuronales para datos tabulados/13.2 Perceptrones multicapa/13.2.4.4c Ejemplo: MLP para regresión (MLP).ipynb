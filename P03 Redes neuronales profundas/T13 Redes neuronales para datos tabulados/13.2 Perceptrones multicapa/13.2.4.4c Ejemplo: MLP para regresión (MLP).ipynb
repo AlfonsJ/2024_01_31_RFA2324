{
 "cells": [
  {
   "cell_type": "markdown",
   "metadata": {},
   "source": [
    "# Ejemplo: MLP para regresión (MLP)"
   ]
  },
  {
   "cell_type": "code",
   "execution_count": null,
   "metadata": {},
   "outputs": [],
   "source": [
    "import warnings; warnings.filterwarnings('ignore'); import pandas as pd; import seaborn as sns\n",
    "import numpy as np; import tensorflow as tf; from tensorflow import keras\n",
    "url = 'http://archive.ics.uci.edu/ml/machine-learning-databases/auto-mpg/auto-mpg.data'\n",
    "column_names = ['MPG', 'Cylinders', 'Displacement', 'Horsepower', 'Weight', 'Acceleration', 'Model Year', 'Origin']\n",
    "data = pd.read_csv(url, names=column_names, na_values='?', comment='\\t', sep=' ', skipinitialspace=True)\n",
    "data = data.dropna(); data['Origin'] = data['Origin'].map({1: 'USA', 2: 'Europe', 3: 'Japan'})\n",
    "data = pd.get_dummies(data, columns=['Origin'], prefix='', prefix_sep='');"
   ]
  },
  {
   "cell_type": "code",
   "execution_count": null,
   "metadata": {},
   "outputs": [],
   "source": [
    "train = data.sample(frac=0.8, random_state=0); test = data.drop(train.index);\n",
    "sns.pairplot(train[['MPG', 'Cylinders', 'Displacement', 'Weight']], diag_kind='kde', height=1.5);"
   ]
  },
  {
   "cell_type": "code",
   "execution_count": null,
   "metadata": {},
   "outputs": [],
   "source": [
    "train.describe().transpose()"
   ]
  },
  {
   "cell_type": "code",
   "execution_count": null,
   "metadata": {},
   "outputs": [],
   "source": [
    "X_train = train.copy(); y_train = X_train.pop('MPG')\n",
    "X_test = test.copy(); y_test = X_test.pop('MPG')\n",
    "#X_train = np.array(X_train).astype(float); y_train = np.array(y_train).astype(float)\n",
    "#X_test = np.array(X_test).astype(float); y_test = np.array(y_test).astype(float)\n",
    "#normalizer = keras.layers.Normalization(axis=-1)\n",
    "#normalizer = normalizer.adapt(X_train)\n",
    "model = keras.Sequential([#normalizer,\n",
    "    keras.layers.Dense(64, activation=tf.nn.relu),\n",
    "    keras.layers.Dense(64, activation=tf.nn.relu),\n",
    "    keras.layers.Dense(1)])\n",
    "model.summary()"
   ]
  },
  {
   "cell_type": "code",
   "execution_count": null,
   "metadata": {},
   "outputs": [],
   "source": [
    "#model.compile(loss='mean_absolute_error', optimizer='adam')\n",
    "#model.fit(X_train, y_train, epochs=1, batch_size=512, validation_split=0.2, verbose=0)\n"
   ]
  },
  {
   "cell_type": "code",
   "execution_count": null,
   "metadata": {},
   "outputs": [],
   "source": [
    "import tensorflow as tf\n",
    "\n",
    "normalizer = tf.keras.layers.Normalization(axis=-1)\n",
    "x_train = tf.constant([[82.83, 31.04, 47., 151., 17.88, 0., 58.],\n",
    "                        [59.71, 19.01, 50., 141., 6.08, 0., 60.],\n",
    "                        [133.33, 62.68, 84., 279., 15.17, 0., 65.]])\n",
    "normalizer.adapt(x_train)\n",
    "norm_x = normalizer(x_train)\n",
    "print(tf.reduce_mean(norm_x), tf.math.reduce_std(norm_x))"
   ]
  }
 ],
 "metadata": {
  "kernelspec": {
   "display_name": "Python 3",
   "language": "python",
   "name": "python3"
  },
  "language_info": {
   "codemirror_mode": {
    "name": "ipython",
    "version": 3
   },
   "file_extension": ".py",
   "mimetype": "text/x-python",
   "name": "python",
   "nbconvert_exporter": "python",
   "pygments_lexer": "ipython3",
   "version": "3.11.2"
  },
  "orig_nbformat": 4
 },
 "nbformat": 4,
 "nbformat_minor": 2
}
