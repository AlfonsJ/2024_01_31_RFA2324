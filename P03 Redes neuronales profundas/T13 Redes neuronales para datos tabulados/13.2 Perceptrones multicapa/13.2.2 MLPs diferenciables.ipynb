{
 "cells": [
  {
   "cell_type": "markdown",
   "metadata": {},
   "source": [
    "# 13.2.2 MLPs diferenciables\n",
    "\n",
    "**Función de activación:** $\\;$ Heaviside no es diferenciable, por lo que se reemplaza por una función diferenciable, $\\,\\varphi:\\mathbb{R}\\to\\mathbb{R}$\n",
    "\n",
    "**Unidades ocultas de la capa $\\ell$, $\\boldsymbol{z}_{\\ell}$:** $\\;$ afinidad de las unidades ocultas de la capa $\\ell-1$ transformada elementalmente por $\\varphi$,\n",
    "$$\\boldsymbol{z}_{\\ell}=f_{\\ell}(\\boldsymbol{z}_{\\ell-1})=\\varphi_{\\ell}(\\boldsymbol{b}_{\\ell}+\\mathbf{W}_{\\ell}\\boldsymbol{z}_{\\ell-1})$$\n",
    "En forma escalar, la unidad $k$ de la capa $\\ell$ se define a partir de las $K_{\\ell-1}$ unidades ocultas de la capa $\\ell-1$ como:\n",
    "$$z_{k\\ell}=\\varphi_{\\ell}\\left(b_{k\\ell}+\\sum_{j=1}^{K_{\\ell-1}}w_{jk\\ell}z_{j\\ell-1}\\right)$$\n",
    "\n",
    "**Pre-activaciones de la capa $\\ell$:** $\\quad \\boldsymbol{a}_{\\ell}=\\boldsymbol{b}_{\\ell}+\\mathbf{W}_{\\ell}\\boldsymbol{z}_{\\ell-1},\\,$ por lo que $\\,\\boldsymbol{z}_{\\ell}=f_{\\ell}(\\boldsymbol{z}_{\\ell-1})=\\varphi_{\\ell}(\\boldsymbol{a}_{\\ell})$\n",
    "\n",
    "**MLPs diferenciables:** $\\;$ composiciones de capas con funciones diferenciables, mucho más usados que los MLPs históricos (con Heaviside)"
   ]
  }
 ],
 "metadata": {
  "language_info": {
   "name": "python"
  },
  "orig_nbformat": 4
 },
 "nbformat": 4,
 "nbformat_minor": 2
}
